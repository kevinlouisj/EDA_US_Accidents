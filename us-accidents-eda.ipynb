{
 "cells": [
  {
   "cell_type": "code",
   "execution_count": 1,
   "id": "8e1ddc7a",
   "metadata": {
    "_cell_guid": "b1076dfc-b9ad-4769-8c92-a6c4dae69d19",
    "_uuid": "8f2839f25d086af736a60e9eeb907d3b93b6e0e5",
    "execution": {
     "iopub.execute_input": "2022-04-18T18:11:34.446774Z",
     "iopub.status.busy": "2022-04-18T18:11:34.445726Z",
     "iopub.status.idle": "2022-04-18T18:11:35.853062Z",
     "shell.execute_reply": "2022-04-18T18:11:35.856318Z",
     "shell.execute_reply.started": "2022-04-18T17:47:32.524705Z"
    },
    "papermill": {
     "duration": 1.461713,
     "end_time": "2022-04-18T18:11:35.856641",
     "exception": false,
     "start_time": "2022-04-18T18:11:34.394928",
     "status": "completed"
    },
    "tags": []
   },
   "outputs": [
    {
     "name": "stdout",
     "output_type": "stream",
     "text": [
      "/kaggle/input/us-accidents/US_Accidents_Dec21_updated.csv\n"
     ]
    }
   ],
   "source": [
    "# This Python 3 environment comes with many helpful analytics libraries installed\n",
    "# It is defined by the kaggle/python Docker image: https://github.com/kaggle/docker-python\n",
    "# For example, here's several helpful packages to load\n",
    "\n",
    "import numpy as np # linear algebra\n",
    "import pandas as pd # data processing, CSV file I/O (e.g. pd.read_csv)\n",
    "import seaborn as sns\n",
    "import folium\n",
    "from folium.plugins import HeatMap\n",
    "\n",
    "# Input data files are available in the read-only \"../input/\" directory\n",
    "# For example, running this (by clicking run or pressing Shift+Enter) will list all files under the input directory\n",
    "\n",
    "import os\n",
    "for dirname, _, filenames in os.walk('/kaggle/input'):\n",
    "    for filename in filenames:\n",
    "        print(os.path.join(dirname, filename))\n",
    "\n",
    "# You can write up to 20GB to the current directory (/kaggle/working/) that gets preserved as output when you create a version using \"Save & Run All\" \n",
    "# You can also write temporary files to /kaggle/temp/, but they won't be saved outside of the current session"
   ]
  },
  {
   "cell_type": "markdown",
   "id": "17d71e10",
   "metadata": {
    "papermill": {
     "duration": 0.047803,
     "end_time": "2022-04-18T18:11:35.967776",
     "exception": false,
     "start_time": "2022-04-18T18:11:35.919973",
     "status": "completed"
    },
    "tags": []
   },
   "source": [
    "# Data Preparation and Cleaning\n",
    "\n",
    "- Load the dataset using Pandas\n",
    "- Look at some information about the data\n",
    "- Fix any incorrect or missing values\n"
   ]
  },
  {
   "cell_type": "code",
   "execution_count": 2,
   "id": "9da2eaf5",
   "metadata": {
    "execution": {
     "iopub.execute_input": "2022-04-18T18:11:36.058509Z",
     "iopub.status.busy": "2022-04-18T18:11:36.057868Z",
     "iopub.status.idle": "2022-04-18T18:12:14.667504Z",
     "shell.execute_reply": "2022-04-18T18:12:14.667977Z",
     "shell.execute_reply.started": "2022-04-18T15:54:58.168594Z"
    },
    "papermill": {
     "duration": 38.65612,
     "end_time": "2022-04-18T18:12:14.668143",
     "exception": false,
     "start_time": "2022-04-18T18:11:36.012023",
     "status": "completed"
    },
    "tags": []
   },
   "outputs": [
    {
     "data": {
      "text/html": [
       "<div>\n",
       "<style scoped>\n",
       "    .dataframe tbody tr th:only-of-type {\n",
       "        vertical-align: middle;\n",
       "    }\n",
       "\n",
       "    .dataframe tbody tr th {\n",
       "        vertical-align: top;\n",
       "    }\n",
       "\n",
       "    .dataframe thead th {\n",
       "        text-align: right;\n",
       "    }\n",
       "</style>\n",
       "<table border=\"1\" class=\"dataframe\">\n",
       "  <thead>\n",
       "    <tr style=\"text-align: right;\">\n",
       "      <th></th>\n",
       "      <th>ID</th>\n",
       "      <th>Severity</th>\n",
       "      <th>Start_Time</th>\n",
       "      <th>End_Time</th>\n",
       "      <th>Start_Lat</th>\n",
       "      <th>Start_Lng</th>\n",
       "      <th>End_Lat</th>\n",
       "      <th>End_Lng</th>\n",
       "      <th>Distance(mi)</th>\n",
       "      <th>Description</th>\n",
       "      <th>...</th>\n",
       "      <th>Roundabout</th>\n",
       "      <th>Station</th>\n",
       "      <th>Stop</th>\n",
       "      <th>Traffic_Calming</th>\n",
       "      <th>Traffic_Signal</th>\n",
       "      <th>Turning_Loop</th>\n",
       "      <th>Sunrise_Sunset</th>\n",
       "      <th>Civil_Twilight</th>\n",
       "      <th>Nautical_Twilight</th>\n",
       "      <th>Astronomical_Twilight</th>\n",
       "    </tr>\n",
       "  </thead>\n",
       "  <tbody>\n",
       "    <tr>\n",
       "      <th>0</th>\n",
       "      <td>A-1</td>\n",
       "      <td>3</td>\n",
       "      <td>2016-02-08 00:37:08</td>\n",
       "      <td>2016-02-08 06:37:08</td>\n",
       "      <td>40.108910</td>\n",
       "      <td>-83.092860</td>\n",
       "      <td>40.112060</td>\n",
       "      <td>-83.031870</td>\n",
       "      <td>3.230</td>\n",
       "      <td>Between Sawmill Rd/Exit 20 and OH-315/Olentang...</td>\n",
       "      <td>...</td>\n",
       "      <td>False</td>\n",
       "      <td>False</td>\n",
       "      <td>False</td>\n",
       "      <td>False</td>\n",
       "      <td>False</td>\n",
       "      <td>False</td>\n",
       "      <td>Night</td>\n",
       "      <td>Night</td>\n",
       "      <td>Night</td>\n",
       "      <td>Night</td>\n",
       "    </tr>\n",
       "    <tr>\n",
       "      <th>1</th>\n",
       "      <td>A-2</td>\n",
       "      <td>2</td>\n",
       "      <td>2016-02-08 05:56:20</td>\n",
       "      <td>2016-02-08 11:56:20</td>\n",
       "      <td>39.865420</td>\n",
       "      <td>-84.062800</td>\n",
       "      <td>39.865010</td>\n",
       "      <td>-84.048730</td>\n",
       "      <td>0.747</td>\n",
       "      <td>At OH-4/OH-235/Exit 41 - Accident.</td>\n",
       "      <td>...</td>\n",
       "      <td>False</td>\n",
       "      <td>False</td>\n",
       "      <td>False</td>\n",
       "      <td>False</td>\n",
       "      <td>False</td>\n",
       "      <td>False</td>\n",
       "      <td>Night</td>\n",
       "      <td>Night</td>\n",
       "      <td>Night</td>\n",
       "      <td>Night</td>\n",
       "    </tr>\n",
       "    <tr>\n",
       "      <th>2</th>\n",
       "      <td>A-3</td>\n",
       "      <td>2</td>\n",
       "      <td>2016-02-08 06:15:39</td>\n",
       "      <td>2016-02-08 12:15:39</td>\n",
       "      <td>39.102660</td>\n",
       "      <td>-84.524680</td>\n",
       "      <td>39.102090</td>\n",
       "      <td>-84.523960</td>\n",
       "      <td>0.055</td>\n",
       "      <td>At I-71/US-50/Exit 1 - Accident.</td>\n",
       "      <td>...</td>\n",
       "      <td>False</td>\n",
       "      <td>False</td>\n",
       "      <td>False</td>\n",
       "      <td>False</td>\n",
       "      <td>False</td>\n",
       "      <td>False</td>\n",
       "      <td>Night</td>\n",
       "      <td>Night</td>\n",
       "      <td>Night</td>\n",
       "      <td>Day</td>\n",
       "    </tr>\n",
       "    <tr>\n",
       "      <th>3</th>\n",
       "      <td>A-4</td>\n",
       "      <td>2</td>\n",
       "      <td>2016-02-08 06:51:45</td>\n",
       "      <td>2016-02-08 12:51:45</td>\n",
       "      <td>41.062130</td>\n",
       "      <td>-81.537840</td>\n",
       "      <td>41.062170</td>\n",
       "      <td>-81.535470</td>\n",
       "      <td>0.123</td>\n",
       "      <td>At Dart Ave/Exit 21 - Accident.</td>\n",
       "      <td>...</td>\n",
       "      <td>False</td>\n",
       "      <td>False</td>\n",
       "      <td>False</td>\n",
       "      <td>False</td>\n",
       "      <td>False</td>\n",
       "      <td>False</td>\n",
       "      <td>Night</td>\n",
       "      <td>Night</td>\n",
       "      <td>Day</td>\n",
       "      <td>Day</td>\n",
       "    </tr>\n",
       "    <tr>\n",
       "      <th>4</th>\n",
       "      <td>A-5</td>\n",
       "      <td>3</td>\n",
       "      <td>2016-02-08 07:53:43</td>\n",
       "      <td>2016-02-08 13:53:43</td>\n",
       "      <td>39.172393</td>\n",
       "      <td>-84.492792</td>\n",
       "      <td>39.170476</td>\n",
       "      <td>-84.501798</td>\n",
       "      <td>0.500</td>\n",
       "      <td>At Mitchell Ave/Exit 6 - Accident.</td>\n",
       "      <td>...</td>\n",
       "      <td>False</td>\n",
       "      <td>False</td>\n",
       "      <td>False</td>\n",
       "      <td>False</td>\n",
       "      <td>False</td>\n",
       "      <td>False</td>\n",
       "      <td>Day</td>\n",
       "      <td>Day</td>\n",
       "      <td>Day</td>\n",
       "      <td>Day</td>\n",
       "    </tr>\n",
       "    <tr>\n",
       "      <th>...</th>\n",
       "      <td>...</td>\n",
       "      <td>...</td>\n",
       "      <td>...</td>\n",
       "      <td>...</td>\n",
       "      <td>...</td>\n",
       "      <td>...</td>\n",
       "      <td>...</td>\n",
       "      <td>...</td>\n",
       "      <td>...</td>\n",
       "      <td>...</td>\n",
       "      <td>...</td>\n",
       "      <td>...</td>\n",
       "      <td>...</td>\n",
       "      <td>...</td>\n",
       "      <td>...</td>\n",
       "      <td>...</td>\n",
       "      <td>...</td>\n",
       "      <td>...</td>\n",
       "      <td>...</td>\n",
       "      <td>...</td>\n",
       "      <td>...</td>\n",
       "    </tr>\n",
       "    <tr>\n",
       "      <th>2845337</th>\n",
       "      <td>A-2845338</td>\n",
       "      <td>2</td>\n",
       "      <td>2019-08-23 18:03:25</td>\n",
       "      <td>2019-08-23 18:32:01</td>\n",
       "      <td>34.002480</td>\n",
       "      <td>-117.379360</td>\n",
       "      <td>33.998880</td>\n",
       "      <td>-117.370940</td>\n",
       "      <td>0.543</td>\n",
       "      <td>At Market St - Accident.</td>\n",
       "      <td>...</td>\n",
       "      <td>False</td>\n",
       "      <td>False</td>\n",
       "      <td>False</td>\n",
       "      <td>False</td>\n",
       "      <td>False</td>\n",
       "      <td>False</td>\n",
       "      <td>Day</td>\n",
       "      <td>Day</td>\n",
       "      <td>Day</td>\n",
       "      <td>Day</td>\n",
       "    </tr>\n",
       "    <tr>\n",
       "      <th>2845338</th>\n",
       "      <td>A-2845339</td>\n",
       "      <td>2</td>\n",
       "      <td>2019-08-23 19:11:30</td>\n",
       "      <td>2019-08-23 19:38:23</td>\n",
       "      <td>32.766960</td>\n",
       "      <td>-117.148060</td>\n",
       "      <td>32.765550</td>\n",
       "      <td>-117.153630</td>\n",
       "      <td>0.338</td>\n",
       "      <td>At Camino Del Rio/Mission Center Rd - Accident.</td>\n",
       "      <td>...</td>\n",
       "      <td>False</td>\n",
       "      <td>False</td>\n",
       "      <td>False</td>\n",
       "      <td>False</td>\n",
       "      <td>False</td>\n",
       "      <td>False</td>\n",
       "      <td>Day</td>\n",
       "      <td>Day</td>\n",
       "      <td>Day</td>\n",
       "      <td>Day</td>\n",
       "    </tr>\n",
       "    <tr>\n",
       "      <th>2845339</th>\n",
       "      <td>A-2845340</td>\n",
       "      <td>2</td>\n",
       "      <td>2019-08-23 19:00:21</td>\n",
       "      <td>2019-08-23 19:28:49</td>\n",
       "      <td>33.775450</td>\n",
       "      <td>-117.847790</td>\n",
       "      <td>33.777400</td>\n",
       "      <td>-117.857270</td>\n",
       "      <td>0.561</td>\n",
       "      <td>At Glassell St/Grand Ave - Accident. in the ri...</td>\n",
       "      <td>...</td>\n",
       "      <td>False</td>\n",
       "      <td>False</td>\n",
       "      <td>False</td>\n",
       "      <td>False</td>\n",
       "      <td>False</td>\n",
       "      <td>False</td>\n",
       "      <td>Day</td>\n",
       "      <td>Day</td>\n",
       "      <td>Day</td>\n",
       "      <td>Day</td>\n",
       "    </tr>\n",
       "    <tr>\n",
       "      <th>2845340</th>\n",
       "      <td>A-2845341</td>\n",
       "      <td>2</td>\n",
       "      <td>2019-08-23 19:00:21</td>\n",
       "      <td>2019-08-23 19:29:42</td>\n",
       "      <td>33.992460</td>\n",
       "      <td>-118.403020</td>\n",
       "      <td>33.983110</td>\n",
       "      <td>-118.395650</td>\n",
       "      <td>0.772</td>\n",
       "      <td>At CA-90/Marina Fwy/Jefferson Blvd - Accident.</td>\n",
       "      <td>...</td>\n",
       "      <td>False</td>\n",
       "      <td>False</td>\n",
       "      <td>False</td>\n",
       "      <td>False</td>\n",
       "      <td>False</td>\n",
       "      <td>False</td>\n",
       "      <td>Day</td>\n",
       "      <td>Day</td>\n",
       "      <td>Day</td>\n",
       "      <td>Day</td>\n",
       "    </tr>\n",
       "    <tr>\n",
       "      <th>2845341</th>\n",
       "      <td>A-2845342</td>\n",
       "      <td>2</td>\n",
       "      <td>2019-08-23 18:52:06</td>\n",
       "      <td>2019-08-23 19:21:31</td>\n",
       "      <td>34.133930</td>\n",
       "      <td>-117.230920</td>\n",
       "      <td>34.137360</td>\n",
       "      <td>-117.239340</td>\n",
       "      <td>0.537</td>\n",
       "      <td>At Highland Ave/Arden Ave - Accident.</td>\n",
       "      <td>...</td>\n",
       "      <td>False</td>\n",
       "      <td>False</td>\n",
       "      <td>False</td>\n",
       "      <td>False</td>\n",
       "      <td>False</td>\n",
       "      <td>False</td>\n",
       "      <td>Day</td>\n",
       "      <td>Day</td>\n",
       "      <td>Day</td>\n",
       "      <td>Day</td>\n",
       "    </tr>\n",
       "  </tbody>\n",
       "</table>\n",
       "<p>2845342 rows × 47 columns</p>\n",
       "</div>"
      ],
      "text/plain": [
       "                ID  Severity           Start_Time             End_Time  \\\n",
       "0              A-1         3  2016-02-08 00:37:08  2016-02-08 06:37:08   \n",
       "1              A-2         2  2016-02-08 05:56:20  2016-02-08 11:56:20   \n",
       "2              A-3         2  2016-02-08 06:15:39  2016-02-08 12:15:39   \n",
       "3              A-4         2  2016-02-08 06:51:45  2016-02-08 12:51:45   \n",
       "4              A-5         3  2016-02-08 07:53:43  2016-02-08 13:53:43   \n",
       "...            ...       ...                  ...                  ...   \n",
       "2845337  A-2845338         2  2019-08-23 18:03:25  2019-08-23 18:32:01   \n",
       "2845338  A-2845339         2  2019-08-23 19:11:30  2019-08-23 19:38:23   \n",
       "2845339  A-2845340         2  2019-08-23 19:00:21  2019-08-23 19:28:49   \n",
       "2845340  A-2845341         2  2019-08-23 19:00:21  2019-08-23 19:29:42   \n",
       "2845341  A-2845342         2  2019-08-23 18:52:06  2019-08-23 19:21:31   \n",
       "\n",
       "         Start_Lat   Start_Lng    End_Lat     End_Lng  Distance(mi)  \\\n",
       "0        40.108910  -83.092860  40.112060  -83.031870         3.230   \n",
       "1        39.865420  -84.062800  39.865010  -84.048730         0.747   \n",
       "2        39.102660  -84.524680  39.102090  -84.523960         0.055   \n",
       "3        41.062130  -81.537840  41.062170  -81.535470         0.123   \n",
       "4        39.172393  -84.492792  39.170476  -84.501798         0.500   \n",
       "...            ...         ...        ...         ...           ...   \n",
       "2845337  34.002480 -117.379360  33.998880 -117.370940         0.543   \n",
       "2845338  32.766960 -117.148060  32.765550 -117.153630         0.338   \n",
       "2845339  33.775450 -117.847790  33.777400 -117.857270         0.561   \n",
       "2845340  33.992460 -118.403020  33.983110 -118.395650         0.772   \n",
       "2845341  34.133930 -117.230920  34.137360 -117.239340         0.537   \n",
       "\n",
       "                                               Description  ...  Roundabout  \\\n",
       "0        Between Sawmill Rd/Exit 20 and OH-315/Olentang...  ...       False   \n",
       "1                       At OH-4/OH-235/Exit 41 - Accident.  ...       False   \n",
       "2                         At I-71/US-50/Exit 1 - Accident.  ...       False   \n",
       "3                          At Dart Ave/Exit 21 - Accident.  ...       False   \n",
       "4                       At Mitchell Ave/Exit 6 - Accident.  ...       False   \n",
       "...                                                    ...  ...         ...   \n",
       "2845337                           At Market St - Accident.  ...       False   \n",
       "2845338    At Camino Del Rio/Mission Center Rd - Accident.  ...       False   \n",
       "2845339  At Glassell St/Grand Ave - Accident. in the ri...  ...       False   \n",
       "2845340     At CA-90/Marina Fwy/Jefferson Blvd - Accident.  ...       False   \n",
       "2845341              At Highland Ave/Arden Ave - Accident.  ...       False   \n",
       "\n",
       "        Station   Stop Traffic_Calming Traffic_Signal Turning_Loop  \\\n",
       "0         False  False           False          False        False   \n",
       "1         False  False           False          False        False   \n",
       "2         False  False           False          False        False   \n",
       "3         False  False           False          False        False   \n",
       "4         False  False           False          False        False   \n",
       "...         ...    ...             ...            ...          ...   \n",
       "2845337   False  False           False          False        False   \n",
       "2845338   False  False           False          False        False   \n",
       "2845339   False  False           False          False        False   \n",
       "2845340   False  False           False          False        False   \n",
       "2845341   False  False           False          False        False   \n",
       "\n",
       "        Sunrise_Sunset Civil_Twilight Nautical_Twilight Astronomical_Twilight  \n",
       "0                Night          Night             Night                 Night  \n",
       "1                Night          Night             Night                 Night  \n",
       "2                Night          Night             Night                   Day  \n",
       "3                Night          Night               Day                   Day  \n",
       "4                  Day            Day               Day                   Day  \n",
       "...                ...            ...               ...                   ...  \n",
       "2845337            Day            Day               Day                   Day  \n",
       "2845338            Day            Day               Day                   Day  \n",
       "2845339            Day            Day               Day                   Day  \n",
       "2845340            Day            Day               Day                   Day  \n",
       "2845341            Day            Day               Day                   Day  \n",
       "\n",
       "[2845342 rows x 47 columns]"
      ]
     },
     "execution_count": 2,
     "metadata": {},
     "output_type": "execute_result"
    }
   ],
   "source": [
    "data_set = pd.read_csv(\"/kaggle/input/us-accidents/US_Accidents_Dec21_updated.csv\")\n",
    "data_set"
   ]
  },
  {
   "cell_type": "code",
   "execution_count": 3,
   "id": "10563ce6",
   "metadata": {
    "execution": {
     "iopub.execute_input": "2022-04-18T18:12:14.763456Z",
     "iopub.status.busy": "2022-04-18T18:12:14.762478Z",
     "iopub.status.idle": "2022-04-18T18:12:14.765850Z",
     "shell.execute_reply": "2022-04-18T18:12:14.766306Z",
     "shell.execute_reply.started": "2022-04-18T15:56:10.856359Z"
    },
    "papermill": {
     "duration": 0.053827,
     "end_time": "2022-04-18T18:12:14.766472",
     "exception": false,
     "start_time": "2022-04-18T18:12:14.712645",
     "status": "completed"
    },
    "tags": []
   },
   "outputs": [
    {
     "data": {
      "text/plain": [
       "Index(['ID', 'Severity', 'Start_Time', 'End_Time', 'Start_Lat', 'Start_Lng',\n",
       "       'End_Lat', 'End_Lng', 'Distance(mi)', 'Description', 'Number', 'Street',\n",
       "       'Side', 'City', 'County', 'State', 'Zipcode', 'Country', 'Timezone',\n",
       "       'Airport_Code', 'Weather_Timestamp', 'Temperature(F)', 'Wind_Chill(F)',\n",
       "       'Humidity(%)', 'Pressure(in)', 'Visibility(mi)', 'Wind_Direction',\n",
       "       'Wind_Speed(mph)', 'Precipitation(in)', 'Weather_Condition', 'Amenity',\n",
       "       'Bump', 'Crossing', 'Give_Way', 'Junction', 'No_Exit', 'Railway',\n",
       "       'Roundabout', 'Station', 'Stop', 'Traffic_Calming', 'Traffic_Signal',\n",
       "       'Turning_Loop', 'Sunrise_Sunset', 'Civil_Twilight', 'Nautical_Twilight',\n",
       "       'Astronomical_Twilight'],\n",
       "      dtype='object')"
      ]
     },
     "execution_count": 3,
     "metadata": {},
     "output_type": "execute_result"
    }
   ],
   "source": [
    "data_set.columns"
   ]
  },
  {
   "cell_type": "code",
   "execution_count": 4,
   "id": "db7c6153",
   "metadata": {
    "execution": {
     "iopub.execute_input": "2022-04-18T18:12:14.862297Z",
     "iopub.status.busy": "2022-04-18T18:12:14.859677Z",
     "iopub.status.idle": "2022-04-18T18:12:14.866075Z",
     "shell.execute_reply": "2022-04-18T18:12:14.865584Z",
     "shell.execute_reply.started": "2022-04-18T15:56:10.867995Z"
    },
    "papermill": {
     "duration": 0.054104,
     "end_time": "2022-04-18T18:12:14.866219",
     "exception": false,
     "start_time": "2022-04-18T18:12:14.812115",
     "status": "completed"
    },
    "tags": []
   },
   "outputs": [
    {
     "data": {
      "text/plain": [
       "2845342"
      ]
     },
     "execution_count": 4,
     "metadata": {},
     "output_type": "execute_result"
    }
   ],
   "source": [
    "len(data_set)"
   ]
  },
  {
   "cell_type": "code",
   "execution_count": 5,
   "id": "99ccd00e",
   "metadata": {
    "execution": {
     "iopub.execute_input": "2022-04-18T18:12:14.961477Z",
     "iopub.status.busy": "2022-04-18T18:12:14.960603Z",
     "iopub.status.idle": "2022-04-18T18:12:14.964015Z",
     "shell.execute_reply": "2022-04-18T18:12:14.964528Z",
     "shell.execute_reply.started": "2022-04-18T15:56:10.881879Z"
    },
    "papermill": {
     "duration": 0.053338,
     "end_time": "2022-04-18T18:12:14.964706",
     "exception": false,
     "start_time": "2022-04-18T18:12:14.911368",
     "status": "completed"
    },
    "tags": []
   },
   "outputs": [
    {
     "data": {
      "text/plain": [
       "47"
      ]
     },
     "execution_count": 5,
     "metadata": {},
     "output_type": "execute_result"
    }
   ],
   "source": [
    "len(data_set.columns)"
   ]
  },
  {
   "cell_type": "code",
   "execution_count": 6,
   "id": "006d7e05",
   "metadata": {
    "execution": {
     "iopub.execute_input": "2022-04-18T18:12:15.061909Z",
     "iopub.status.busy": "2022-04-18T18:12:15.060988Z",
     "iopub.status.idle": "2022-04-18T18:12:15.085199Z",
     "shell.execute_reply": "2022-04-18T18:12:15.085739Z",
     "shell.execute_reply.started": "2022-04-18T15:56:10.894841Z"
    },
    "papermill": {
     "duration": 0.074793,
     "end_time": "2022-04-18T18:12:15.085910",
     "exception": false,
     "start_time": "2022-04-18T18:12:15.011117",
     "status": "completed"
    },
    "tags": []
   },
   "outputs": [
    {
     "name": "stdout",
     "output_type": "stream",
     "text": [
      "<class 'pandas.core.frame.DataFrame'>\n",
      "RangeIndex: 2845342 entries, 0 to 2845341\n",
      "Data columns (total 47 columns):\n",
      " #   Column                 Dtype  \n",
      "---  ------                 -----  \n",
      " 0   ID                     object \n",
      " 1   Severity               int64  \n",
      " 2   Start_Time             object \n",
      " 3   End_Time               object \n",
      " 4   Start_Lat              float64\n",
      " 5   Start_Lng              float64\n",
      " 6   End_Lat                float64\n",
      " 7   End_Lng                float64\n",
      " 8   Distance(mi)           float64\n",
      " 9   Description            object \n",
      " 10  Number                 float64\n",
      " 11  Street                 object \n",
      " 12  Side                   object \n",
      " 13  City                   object \n",
      " 14  County                 object \n",
      " 15  State                  object \n",
      " 16  Zipcode                object \n",
      " 17  Country                object \n",
      " 18  Timezone               object \n",
      " 19  Airport_Code           object \n",
      " 20  Weather_Timestamp      object \n",
      " 21  Temperature(F)         float64\n",
      " 22  Wind_Chill(F)          float64\n",
      " 23  Humidity(%)            float64\n",
      " 24  Pressure(in)           float64\n",
      " 25  Visibility(mi)         float64\n",
      " 26  Wind_Direction         object \n",
      " 27  Wind_Speed(mph)        float64\n",
      " 28  Precipitation(in)      float64\n",
      " 29  Weather_Condition      object \n",
      " 30  Amenity                bool   \n",
      " 31  Bump                   bool   \n",
      " 32  Crossing               bool   \n",
      " 33  Give_Way               bool   \n",
      " 34  Junction               bool   \n",
      " 35  No_Exit                bool   \n",
      " 36  Railway                bool   \n",
      " 37  Roundabout             bool   \n",
      " 38  Station                bool   \n",
      " 39  Stop                   bool   \n",
      " 40  Traffic_Calming        bool   \n",
      " 41  Traffic_Signal         bool   \n",
      " 42  Turning_Loop           bool   \n",
      " 43  Sunrise_Sunset         object \n",
      " 44  Civil_Twilight         object \n",
      " 45  Nautical_Twilight      object \n",
      " 46  Astronomical_Twilight  object \n",
      "dtypes: bool(13), float64(13), int64(1), object(20)\n",
      "memory usage: 773.4+ MB\n"
     ]
    }
   ],
   "source": [
    "data_set.info()"
   ]
  },
  {
   "cell_type": "code",
   "execution_count": 7,
   "id": "2d380015",
   "metadata": {
    "execution": {
     "iopub.execute_input": "2022-04-18T18:12:15.201815Z",
     "iopub.status.busy": "2022-04-18T18:12:15.201108Z",
     "iopub.status.idle": "2022-04-18T18:12:15.203773Z",
     "shell.execute_reply": "2022-04-18T18:12:15.204218Z",
     "shell.execute_reply.started": "2022-04-18T15:56:10.933419Z"
    },
    "papermill": {
     "duration": 0.072638,
     "end_time": "2022-04-18T18:12:15.204410",
     "exception": false,
     "start_time": "2022-04-18T18:12:15.131772",
     "status": "completed"
    },
    "tags": []
   },
   "outputs": [
    {
     "data": {
      "text/html": [
       "<div>\n",
       "<style scoped>\n",
       "    .dataframe tbody tr th:only-of-type {\n",
       "        vertical-align: middle;\n",
       "    }\n",
       "\n",
       "    .dataframe tbody tr th {\n",
       "        vertical-align: top;\n",
       "    }\n",
       "\n",
       "    .dataframe thead th {\n",
       "        text-align: right;\n",
       "    }\n",
       "</style>\n",
       "<table border=\"1\" class=\"dataframe\">\n",
       "  <thead>\n",
       "    <tr style=\"text-align: right;\">\n",
       "      <th></th>\n",
       "      <th>ID</th>\n",
       "      <th>Severity</th>\n",
       "      <th>Start_Time</th>\n",
       "      <th>End_Time</th>\n",
       "      <th>Start_Lat</th>\n",
       "      <th>Start_Lng</th>\n",
       "      <th>End_Lat</th>\n",
       "      <th>End_Lng</th>\n",
       "      <th>Distance(mi)</th>\n",
       "      <th>Description</th>\n",
       "      <th>...</th>\n",
       "      <th>Roundabout</th>\n",
       "      <th>Station</th>\n",
       "      <th>Stop</th>\n",
       "      <th>Traffic_Calming</th>\n",
       "      <th>Traffic_Signal</th>\n",
       "      <th>Turning_Loop</th>\n",
       "      <th>Sunrise_Sunset</th>\n",
       "      <th>Civil_Twilight</th>\n",
       "      <th>Nautical_Twilight</th>\n",
       "      <th>Astronomical_Twilight</th>\n",
       "    </tr>\n",
       "  </thead>\n",
       "  <tbody>\n",
       "    <tr>\n",
       "      <th>0</th>\n",
       "      <td>A-1</td>\n",
       "      <td>3</td>\n",
       "      <td>2016-02-08 00:37:08</td>\n",
       "      <td>2016-02-08 06:37:08</td>\n",
       "      <td>40.108910</td>\n",
       "      <td>-83.092860</td>\n",
       "      <td>40.112060</td>\n",
       "      <td>-83.031870</td>\n",
       "      <td>3.230</td>\n",
       "      <td>Between Sawmill Rd/Exit 20 and OH-315/Olentang...</td>\n",
       "      <td>...</td>\n",
       "      <td>False</td>\n",
       "      <td>False</td>\n",
       "      <td>False</td>\n",
       "      <td>False</td>\n",
       "      <td>False</td>\n",
       "      <td>False</td>\n",
       "      <td>Night</td>\n",
       "      <td>Night</td>\n",
       "      <td>Night</td>\n",
       "      <td>Night</td>\n",
       "    </tr>\n",
       "    <tr>\n",
       "      <th>1</th>\n",
       "      <td>A-2</td>\n",
       "      <td>2</td>\n",
       "      <td>2016-02-08 05:56:20</td>\n",
       "      <td>2016-02-08 11:56:20</td>\n",
       "      <td>39.865420</td>\n",
       "      <td>-84.062800</td>\n",
       "      <td>39.865010</td>\n",
       "      <td>-84.048730</td>\n",
       "      <td>0.747</td>\n",
       "      <td>At OH-4/OH-235/Exit 41 - Accident.</td>\n",
       "      <td>...</td>\n",
       "      <td>False</td>\n",
       "      <td>False</td>\n",
       "      <td>False</td>\n",
       "      <td>False</td>\n",
       "      <td>False</td>\n",
       "      <td>False</td>\n",
       "      <td>Night</td>\n",
       "      <td>Night</td>\n",
       "      <td>Night</td>\n",
       "      <td>Night</td>\n",
       "    </tr>\n",
       "    <tr>\n",
       "      <th>2</th>\n",
       "      <td>A-3</td>\n",
       "      <td>2</td>\n",
       "      <td>2016-02-08 06:15:39</td>\n",
       "      <td>2016-02-08 12:15:39</td>\n",
       "      <td>39.102660</td>\n",
       "      <td>-84.524680</td>\n",
       "      <td>39.102090</td>\n",
       "      <td>-84.523960</td>\n",
       "      <td>0.055</td>\n",
       "      <td>At I-71/US-50/Exit 1 - Accident.</td>\n",
       "      <td>...</td>\n",
       "      <td>False</td>\n",
       "      <td>False</td>\n",
       "      <td>False</td>\n",
       "      <td>False</td>\n",
       "      <td>False</td>\n",
       "      <td>False</td>\n",
       "      <td>Night</td>\n",
       "      <td>Night</td>\n",
       "      <td>Night</td>\n",
       "      <td>Day</td>\n",
       "    </tr>\n",
       "    <tr>\n",
       "      <th>3</th>\n",
       "      <td>A-4</td>\n",
       "      <td>2</td>\n",
       "      <td>2016-02-08 06:51:45</td>\n",
       "      <td>2016-02-08 12:51:45</td>\n",
       "      <td>41.062130</td>\n",
       "      <td>-81.537840</td>\n",
       "      <td>41.062170</td>\n",
       "      <td>-81.535470</td>\n",
       "      <td>0.123</td>\n",
       "      <td>At Dart Ave/Exit 21 - Accident.</td>\n",
       "      <td>...</td>\n",
       "      <td>False</td>\n",
       "      <td>False</td>\n",
       "      <td>False</td>\n",
       "      <td>False</td>\n",
       "      <td>False</td>\n",
       "      <td>False</td>\n",
       "      <td>Night</td>\n",
       "      <td>Night</td>\n",
       "      <td>Day</td>\n",
       "      <td>Day</td>\n",
       "    </tr>\n",
       "    <tr>\n",
       "      <th>4</th>\n",
       "      <td>A-5</td>\n",
       "      <td>3</td>\n",
       "      <td>2016-02-08 07:53:43</td>\n",
       "      <td>2016-02-08 13:53:43</td>\n",
       "      <td>39.172393</td>\n",
       "      <td>-84.492792</td>\n",
       "      <td>39.170476</td>\n",
       "      <td>-84.501798</td>\n",
       "      <td>0.500</td>\n",
       "      <td>At Mitchell Ave/Exit 6 - Accident.</td>\n",
       "      <td>...</td>\n",
       "      <td>False</td>\n",
       "      <td>False</td>\n",
       "      <td>False</td>\n",
       "      <td>False</td>\n",
       "      <td>False</td>\n",
       "      <td>False</td>\n",
       "      <td>Day</td>\n",
       "      <td>Day</td>\n",
       "      <td>Day</td>\n",
       "      <td>Day</td>\n",
       "    </tr>\n",
       "  </tbody>\n",
       "</table>\n",
       "<p>5 rows × 47 columns</p>\n",
       "</div>"
      ],
      "text/plain": [
       "    ID  Severity           Start_Time             End_Time  Start_Lat  \\\n",
       "0  A-1         3  2016-02-08 00:37:08  2016-02-08 06:37:08  40.108910   \n",
       "1  A-2         2  2016-02-08 05:56:20  2016-02-08 11:56:20  39.865420   \n",
       "2  A-3         2  2016-02-08 06:15:39  2016-02-08 12:15:39  39.102660   \n",
       "3  A-4         2  2016-02-08 06:51:45  2016-02-08 12:51:45  41.062130   \n",
       "4  A-5         3  2016-02-08 07:53:43  2016-02-08 13:53:43  39.172393   \n",
       "\n",
       "   Start_Lng    End_Lat    End_Lng  Distance(mi)  \\\n",
       "0 -83.092860  40.112060 -83.031870         3.230   \n",
       "1 -84.062800  39.865010 -84.048730         0.747   \n",
       "2 -84.524680  39.102090 -84.523960         0.055   \n",
       "3 -81.537840  41.062170 -81.535470         0.123   \n",
       "4 -84.492792  39.170476 -84.501798         0.500   \n",
       "\n",
       "                                         Description  ...  Roundabout Station  \\\n",
       "0  Between Sawmill Rd/Exit 20 and OH-315/Olentang...  ...       False   False   \n",
       "1                 At OH-4/OH-235/Exit 41 - Accident.  ...       False   False   \n",
       "2                   At I-71/US-50/Exit 1 - Accident.  ...       False   False   \n",
       "3                    At Dart Ave/Exit 21 - Accident.  ...       False   False   \n",
       "4                 At Mitchell Ave/Exit 6 - Accident.  ...       False   False   \n",
       "\n",
       "    Stop Traffic_Calming Traffic_Signal Turning_Loop Sunrise_Sunset  \\\n",
       "0  False           False          False        False          Night   \n",
       "1  False           False          False        False          Night   \n",
       "2  False           False          False        False          Night   \n",
       "3  False           False          False        False          Night   \n",
       "4  False           False          False        False            Day   \n",
       "\n",
       "  Civil_Twilight Nautical_Twilight Astronomical_Twilight  \n",
       "0          Night             Night                 Night  \n",
       "1          Night             Night                 Night  \n",
       "2          Night             Night                   Day  \n",
       "3          Night               Day                   Day  \n",
       "4            Day               Day                   Day  \n",
       "\n",
       "[5 rows x 47 columns]"
      ]
     },
     "execution_count": 7,
     "metadata": {},
     "output_type": "execute_result"
    }
   ],
   "source": [
    "data_set.head()"
   ]
  },
  {
   "cell_type": "code",
   "execution_count": 8,
   "id": "047add6a",
   "metadata": {
    "execution": {
     "iopub.execute_input": "2022-04-18T18:12:15.301750Z",
     "iopub.status.busy": "2022-04-18T18:12:15.301062Z",
     "iopub.status.idle": "2022-04-18T18:12:15.322276Z",
     "shell.execute_reply": "2022-04-18T18:12:15.322762Z",
     "shell.execute_reply.started": "2022-04-18T15:56:10.964020Z"
    },
    "papermill": {
     "duration": 0.07132,
     "end_time": "2022-04-18T18:12:15.322925",
     "exception": false,
     "start_time": "2022-04-18T18:12:15.251605",
     "status": "completed"
    },
    "tags": []
   },
   "outputs": [
    {
     "data": {
      "text/html": [
       "<div>\n",
       "<style scoped>\n",
       "    .dataframe tbody tr th:only-of-type {\n",
       "        vertical-align: middle;\n",
       "    }\n",
       "\n",
       "    .dataframe tbody tr th {\n",
       "        vertical-align: top;\n",
       "    }\n",
       "\n",
       "    .dataframe thead th {\n",
       "        text-align: right;\n",
       "    }\n",
       "</style>\n",
       "<table border=\"1\" class=\"dataframe\">\n",
       "  <thead>\n",
       "    <tr style=\"text-align: right;\">\n",
       "      <th></th>\n",
       "      <th>ID</th>\n",
       "      <th>Severity</th>\n",
       "      <th>Start_Time</th>\n",
       "      <th>End_Time</th>\n",
       "      <th>Start_Lat</th>\n",
       "      <th>Start_Lng</th>\n",
       "      <th>End_Lat</th>\n",
       "      <th>End_Lng</th>\n",
       "      <th>Distance(mi)</th>\n",
       "      <th>Description</th>\n",
       "      <th>...</th>\n",
       "      <th>Roundabout</th>\n",
       "      <th>Station</th>\n",
       "      <th>Stop</th>\n",
       "      <th>Traffic_Calming</th>\n",
       "      <th>Traffic_Signal</th>\n",
       "      <th>Turning_Loop</th>\n",
       "      <th>Sunrise_Sunset</th>\n",
       "      <th>Civil_Twilight</th>\n",
       "      <th>Nautical_Twilight</th>\n",
       "      <th>Astronomical_Twilight</th>\n",
       "    </tr>\n",
       "  </thead>\n",
       "  <tbody>\n",
       "    <tr>\n",
       "      <th>2845337</th>\n",
       "      <td>A-2845338</td>\n",
       "      <td>2</td>\n",
       "      <td>2019-08-23 18:03:25</td>\n",
       "      <td>2019-08-23 18:32:01</td>\n",
       "      <td>34.00248</td>\n",
       "      <td>-117.37936</td>\n",
       "      <td>33.99888</td>\n",
       "      <td>-117.37094</td>\n",
       "      <td>0.543</td>\n",
       "      <td>At Market St - Accident.</td>\n",
       "      <td>...</td>\n",
       "      <td>False</td>\n",
       "      <td>False</td>\n",
       "      <td>False</td>\n",
       "      <td>False</td>\n",
       "      <td>False</td>\n",
       "      <td>False</td>\n",
       "      <td>Day</td>\n",
       "      <td>Day</td>\n",
       "      <td>Day</td>\n",
       "      <td>Day</td>\n",
       "    </tr>\n",
       "    <tr>\n",
       "      <th>2845338</th>\n",
       "      <td>A-2845339</td>\n",
       "      <td>2</td>\n",
       "      <td>2019-08-23 19:11:30</td>\n",
       "      <td>2019-08-23 19:38:23</td>\n",
       "      <td>32.76696</td>\n",
       "      <td>-117.14806</td>\n",
       "      <td>32.76555</td>\n",
       "      <td>-117.15363</td>\n",
       "      <td>0.338</td>\n",
       "      <td>At Camino Del Rio/Mission Center Rd - Accident.</td>\n",
       "      <td>...</td>\n",
       "      <td>False</td>\n",
       "      <td>False</td>\n",
       "      <td>False</td>\n",
       "      <td>False</td>\n",
       "      <td>False</td>\n",
       "      <td>False</td>\n",
       "      <td>Day</td>\n",
       "      <td>Day</td>\n",
       "      <td>Day</td>\n",
       "      <td>Day</td>\n",
       "    </tr>\n",
       "    <tr>\n",
       "      <th>2845339</th>\n",
       "      <td>A-2845340</td>\n",
       "      <td>2</td>\n",
       "      <td>2019-08-23 19:00:21</td>\n",
       "      <td>2019-08-23 19:28:49</td>\n",
       "      <td>33.77545</td>\n",
       "      <td>-117.84779</td>\n",
       "      <td>33.77740</td>\n",
       "      <td>-117.85727</td>\n",
       "      <td>0.561</td>\n",
       "      <td>At Glassell St/Grand Ave - Accident. in the ri...</td>\n",
       "      <td>...</td>\n",
       "      <td>False</td>\n",
       "      <td>False</td>\n",
       "      <td>False</td>\n",
       "      <td>False</td>\n",
       "      <td>False</td>\n",
       "      <td>False</td>\n",
       "      <td>Day</td>\n",
       "      <td>Day</td>\n",
       "      <td>Day</td>\n",
       "      <td>Day</td>\n",
       "    </tr>\n",
       "    <tr>\n",
       "      <th>2845340</th>\n",
       "      <td>A-2845341</td>\n",
       "      <td>2</td>\n",
       "      <td>2019-08-23 19:00:21</td>\n",
       "      <td>2019-08-23 19:29:42</td>\n",
       "      <td>33.99246</td>\n",
       "      <td>-118.40302</td>\n",
       "      <td>33.98311</td>\n",
       "      <td>-118.39565</td>\n",
       "      <td>0.772</td>\n",
       "      <td>At CA-90/Marina Fwy/Jefferson Blvd - Accident.</td>\n",
       "      <td>...</td>\n",
       "      <td>False</td>\n",
       "      <td>False</td>\n",
       "      <td>False</td>\n",
       "      <td>False</td>\n",
       "      <td>False</td>\n",
       "      <td>False</td>\n",
       "      <td>Day</td>\n",
       "      <td>Day</td>\n",
       "      <td>Day</td>\n",
       "      <td>Day</td>\n",
       "    </tr>\n",
       "    <tr>\n",
       "      <th>2845341</th>\n",
       "      <td>A-2845342</td>\n",
       "      <td>2</td>\n",
       "      <td>2019-08-23 18:52:06</td>\n",
       "      <td>2019-08-23 19:21:31</td>\n",
       "      <td>34.13393</td>\n",
       "      <td>-117.23092</td>\n",
       "      <td>34.13736</td>\n",
       "      <td>-117.23934</td>\n",
       "      <td>0.537</td>\n",
       "      <td>At Highland Ave/Arden Ave - Accident.</td>\n",
       "      <td>...</td>\n",
       "      <td>False</td>\n",
       "      <td>False</td>\n",
       "      <td>False</td>\n",
       "      <td>False</td>\n",
       "      <td>False</td>\n",
       "      <td>False</td>\n",
       "      <td>Day</td>\n",
       "      <td>Day</td>\n",
       "      <td>Day</td>\n",
       "      <td>Day</td>\n",
       "    </tr>\n",
       "  </tbody>\n",
       "</table>\n",
       "<p>5 rows × 47 columns</p>\n",
       "</div>"
      ],
      "text/plain": [
       "                ID  Severity           Start_Time             End_Time  \\\n",
       "2845337  A-2845338         2  2019-08-23 18:03:25  2019-08-23 18:32:01   \n",
       "2845338  A-2845339         2  2019-08-23 19:11:30  2019-08-23 19:38:23   \n",
       "2845339  A-2845340         2  2019-08-23 19:00:21  2019-08-23 19:28:49   \n",
       "2845340  A-2845341         2  2019-08-23 19:00:21  2019-08-23 19:29:42   \n",
       "2845341  A-2845342         2  2019-08-23 18:52:06  2019-08-23 19:21:31   \n",
       "\n",
       "         Start_Lat  Start_Lng   End_Lat    End_Lng  Distance(mi)  \\\n",
       "2845337   34.00248 -117.37936  33.99888 -117.37094         0.543   \n",
       "2845338   32.76696 -117.14806  32.76555 -117.15363         0.338   \n",
       "2845339   33.77545 -117.84779  33.77740 -117.85727         0.561   \n",
       "2845340   33.99246 -118.40302  33.98311 -118.39565         0.772   \n",
       "2845341   34.13393 -117.23092  34.13736 -117.23934         0.537   \n",
       "\n",
       "                                               Description  ...  Roundabout  \\\n",
       "2845337                           At Market St - Accident.  ...       False   \n",
       "2845338    At Camino Del Rio/Mission Center Rd - Accident.  ...       False   \n",
       "2845339  At Glassell St/Grand Ave - Accident. in the ri...  ...       False   \n",
       "2845340     At CA-90/Marina Fwy/Jefferson Blvd - Accident.  ...       False   \n",
       "2845341              At Highland Ave/Arden Ave - Accident.  ...       False   \n",
       "\n",
       "        Station   Stop Traffic_Calming Traffic_Signal Turning_Loop  \\\n",
       "2845337   False  False           False          False        False   \n",
       "2845338   False  False           False          False        False   \n",
       "2845339   False  False           False          False        False   \n",
       "2845340   False  False           False          False        False   \n",
       "2845341   False  False           False          False        False   \n",
       "\n",
       "        Sunrise_Sunset Civil_Twilight Nautical_Twilight Astronomical_Twilight  \n",
       "2845337            Day            Day               Day                   Day  \n",
       "2845338            Day            Day               Day                   Day  \n",
       "2845339            Day            Day               Day                   Day  \n",
       "2845340            Day            Day               Day                   Day  \n",
       "2845341            Day            Day               Day                   Day  \n",
       "\n",
       "[5 rows x 47 columns]"
      ]
     },
     "execution_count": 8,
     "metadata": {},
     "output_type": "execute_result"
    }
   ],
   "source": [
    "data_set.tail()"
   ]
  },
  {
   "cell_type": "code",
   "execution_count": 9,
   "id": "fe9bac54",
   "metadata": {
    "execution": {
     "iopub.execute_input": "2022-04-18T18:12:15.422042Z",
     "iopub.status.busy": "2022-04-18T18:12:15.421048Z",
     "iopub.status.idle": "2022-04-18T18:12:16.877052Z",
     "shell.execute_reply": "2022-04-18T18:12:16.877520Z",
     "shell.execute_reply.started": "2022-04-18T15:56:10.996107Z"
    },
    "papermill": {
     "duration": 1.507202,
     "end_time": "2022-04-18T18:12:16.877685",
     "exception": false,
     "start_time": "2022-04-18T18:12:15.370483",
     "status": "completed"
    },
    "tags": []
   },
   "outputs": [
    {
     "data": {
      "text/html": [
       "<div>\n",
       "<style scoped>\n",
       "    .dataframe tbody tr th:only-of-type {\n",
       "        vertical-align: middle;\n",
       "    }\n",
       "\n",
       "    .dataframe tbody tr th {\n",
       "        vertical-align: top;\n",
       "    }\n",
       "\n",
       "    .dataframe thead th {\n",
       "        text-align: right;\n",
       "    }\n",
       "</style>\n",
       "<table border=\"1\" class=\"dataframe\">\n",
       "  <thead>\n",
       "    <tr style=\"text-align: right;\">\n",
       "      <th></th>\n",
       "      <th>Severity</th>\n",
       "      <th>Start_Lat</th>\n",
       "      <th>Start_Lng</th>\n",
       "      <th>End_Lat</th>\n",
       "      <th>End_Lng</th>\n",
       "      <th>Distance(mi)</th>\n",
       "      <th>Number</th>\n",
       "      <th>Temperature(F)</th>\n",
       "      <th>Wind_Chill(F)</th>\n",
       "      <th>Humidity(%)</th>\n",
       "      <th>Pressure(in)</th>\n",
       "      <th>Visibility(mi)</th>\n",
       "      <th>Wind_Speed(mph)</th>\n",
       "      <th>Precipitation(in)</th>\n",
       "    </tr>\n",
       "  </thead>\n",
       "  <tbody>\n",
       "    <tr>\n",
       "      <th>count</th>\n",
       "      <td>2.845342e+06</td>\n",
       "      <td>2.845342e+06</td>\n",
       "      <td>2.845342e+06</td>\n",
       "      <td>2.845342e+06</td>\n",
       "      <td>2.845342e+06</td>\n",
       "      <td>2.845342e+06</td>\n",
       "      <td>1.101431e+06</td>\n",
       "      <td>2.776068e+06</td>\n",
       "      <td>2.375699e+06</td>\n",
       "      <td>2.772250e+06</td>\n",
       "      <td>2.786142e+06</td>\n",
       "      <td>2.774796e+06</td>\n",
       "      <td>2.687398e+06</td>\n",
       "      <td>2.295884e+06</td>\n",
       "    </tr>\n",
       "    <tr>\n",
       "      <th>mean</th>\n",
       "      <td>2.137572e+00</td>\n",
       "      <td>3.624520e+01</td>\n",
       "      <td>-9.711463e+01</td>\n",
       "      <td>3.624532e+01</td>\n",
       "      <td>-9.711439e+01</td>\n",
       "      <td>7.026779e-01</td>\n",
       "      <td>8.089408e+03</td>\n",
       "      <td>6.179356e+01</td>\n",
       "      <td>5.965823e+01</td>\n",
       "      <td>6.436545e+01</td>\n",
       "      <td>2.947234e+01</td>\n",
       "      <td>9.099391e+00</td>\n",
       "      <td>7.395044e+00</td>\n",
       "      <td>7.016940e-03</td>\n",
       "    </tr>\n",
       "    <tr>\n",
       "      <th>std</th>\n",
       "      <td>4.787216e-01</td>\n",
       "      <td>5.363797e+00</td>\n",
       "      <td>1.831782e+01</td>\n",
       "      <td>5.363873e+00</td>\n",
       "      <td>1.831763e+01</td>\n",
       "      <td>1.560361e+00</td>\n",
       "      <td>1.836009e+04</td>\n",
       "      <td>1.862263e+01</td>\n",
       "      <td>2.116097e+01</td>\n",
       "      <td>2.287457e+01</td>\n",
       "      <td>1.045286e+00</td>\n",
       "      <td>2.717546e+00</td>\n",
       "      <td>5.527454e+00</td>\n",
       "      <td>9.348831e-02</td>\n",
       "    </tr>\n",
       "    <tr>\n",
       "      <th>min</th>\n",
       "      <td>1.000000e+00</td>\n",
       "      <td>2.456603e+01</td>\n",
       "      <td>-1.245481e+02</td>\n",
       "      <td>2.456601e+01</td>\n",
       "      <td>-1.245457e+02</td>\n",
       "      <td>0.000000e+00</td>\n",
       "      <td>0.000000e+00</td>\n",
       "      <td>-8.900000e+01</td>\n",
       "      <td>-8.900000e+01</td>\n",
       "      <td>1.000000e+00</td>\n",
       "      <td>0.000000e+00</td>\n",
       "      <td>0.000000e+00</td>\n",
       "      <td>0.000000e+00</td>\n",
       "      <td>0.000000e+00</td>\n",
       "    </tr>\n",
       "    <tr>\n",
       "      <th>25%</th>\n",
       "      <td>2.000000e+00</td>\n",
       "      <td>3.344517e+01</td>\n",
       "      <td>-1.180331e+02</td>\n",
       "      <td>3.344628e+01</td>\n",
       "      <td>-1.180333e+02</td>\n",
       "      <td>5.200000e-02</td>\n",
       "      <td>1.270000e+03</td>\n",
       "      <td>5.000000e+01</td>\n",
       "      <td>4.600000e+01</td>\n",
       "      <td>4.800000e+01</td>\n",
       "      <td>2.931000e+01</td>\n",
       "      <td>1.000000e+01</td>\n",
       "      <td>3.500000e+00</td>\n",
       "      <td>0.000000e+00</td>\n",
       "    </tr>\n",
       "    <tr>\n",
       "      <th>50%</th>\n",
       "      <td>2.000000e+00</td>\n",
       "      <td>3.609861e+01</td>\n",
       "      <td>-9.241808e+01</td>\n",
       "      <td>3.609799e+01</td>\n",
       "      <td>-9.241772e+01</td>\n",
       "      <td>2.440000e-01</td>\n",
       "      <td>4.007000e+03</td>\n",
       "      <td>6.400000e+01</td>\n",
       "      <td>6.300000e+01</td>\n",
       "      <td>6.700000e+01</td>\n",
       "      <td>2.982000e+01</td>\n",
       "      <td>1.000000e+01</td>\n",
       "      <td>7.000000e+00</td>\n",
       "      <td>0.000000e+00</td>\n",
       "    </tr>\n",
       "    <tr>\n",
       "      <th>75%</th>\n",
       "      <td>2.000000e+00</td>\n",
       "      <td>4.016024e+01</td>\n",
       "      <td>-8.037243e+01</td>\n",
       "      <td>4.016105e+01</td>\n",
       "      <td>-8.037338e+01</td>\n",
       "      <td>7.640000e-01</td>\n",
       "      <td>9.567000e+03</td>\n",
       "      <td>7.600000e+01</td>\n",
       "      <td>7.600000e+01</td>\n",
       "      <td>8.300000e+01</td>\n",
       "      <td>3.001000e+01</td>\n",
       "      <td>1.000000e+01</td>\n",
       "      <td>1.000000e+01</td>\n",
       "      <td>0.000000e+00</td>\n",
       "    </tr>\n",
       "    <tr>\n",
       "      <th>max</th>\n",
       "      <td>4.000000e+00</td>\n",
       "      <td>4.900058e+01</td>\n",
       "      <td>-6.711317e+01</td>\n",
       "      <td>4.907500e+01</td>\n",
       "      <td>-6.710924e+01</td>\n",
       "      <td>1.551860e+02</td>\n",
       "      <td>9.999997e+06</td>\n",
       "      <td>1.960000e+02</td>\n",
       "      <td>1.960000e+02</td>\n",
       "      <td>1.000000e+02</td>\n",
       "      <td>5.890000e+01</td>\n",
       "      <td>1.400000e+02</td>\n",
       "      <td>1.087000e+03</td>\n",
       "      <td>2.400000e+01</td>\n",
       "    </tr>\n",
       "  </tbody>\n",
       "</table>\n",
       "</div>"
      ],
      "text/plain": [
       "           Severity     Start_Lat     Start_Lng       End_Lat       End_Lng  \\\n",
       "count  2.845342e+06  2.845342e+06  2.845342e+06  2.845342e+06  2.845342e+06   \n",
       "mean   2.137572e+00  3.624520e+01 -9.711463e+01  3.624532e+01 -9.711439e+01   \n",
       "std    4.787216e-01  5.363797e+00  1.831782e+01  5.363873e+00  1.831763e+01   \n",
       "min    1.000000e+00  2.456603e+01 -1.245481e+02  2.456601e+01 -1.245457e+02   \n",
       "25%    2.000000e+00  3.344517e+01 -1.180331e+02  3.344628e+01 -1.180333e+02   \n",
       "50%    2.000000e+00  3.609861e+01 -9.241808e+01  3.609799e+01 -9.241772e+01   \n",
       "75%    2.000000e+00  4.016024e+01 -8.037243e+01  4.016105e+01 -8.037338e+01   \n",
       "max    4.000000e+00  4.900058e+01 -6.711317e+01  4.907500e+01 -6.710924e+01   \n",
       "\n",
       "       Distance(mi)        Number  Temperature(F)  Wind_Chill(F)  \\\n",
       "count  2.845342e+06  1.101431e+06    2.776068e+06   2.375699e+06   \n",
       "mean   7.026779e-01  8.089408e+03    6.179356e+01   5.965823e+01   \n",
       "std    1.560361e+00  1.836009e+04    1.862263e+01   2.116097e+01   \n",
       "min    0.000000e+00  0.000000e+00   -8.900000e+01  -8.900000e+01   \n",
       "25%    5.200000e-02  1.270000e+03    5.000000e+01   4.600000e+01   \n",
       "50%    2.440000e-01  4.007000e+03    6.400000e+01   6.300000e+01   \n",
       "75%    7.640000e-01  9.567000e+03    7.600000e+01   7.600000e+01   \n",
       "max    1.551860e+02  9.999997e+06    1.960000e+02   1.960000e+02   \n",
       "\n",
       "        Humidity(%)  Pressure(in)  Visibility(mi)  Wind_Speed(mph)  \\\n",
       "count  2.772250e+06  2.786142e+06    2.774796e+06     2.687398e+06   \n",
       "mean   6.436545e+01  2.947234e+01    9.099391e+00     7.395044e+00   \n",
       "std    2.287457e+01  1.045286e+00    2.717546e+00     5.527454e+00   \n",
       "min    1.000000e+00  0.000000e+00    0.000000e+00     0.000000e+00   \n",
       "25%    4.800000e+01  2.931000e+01    1.000000e+01     3.500000e+00   \n",
       "50%    6.700000e+01  2.982000e+01    1.000000e+01     7.000000e+00   \n",
       "75%    8.300000e+01  3.001000e+01    1.000000e+01     1.000000e+01   \n",
       "max    1.000000e+02  5.890000e+01    1.400000e+02     1.087000e+03   \n",
       "\n",
       "       Precipitation(in)  \n",
       "count       2.295884e+06  \n",
       "mean        7.016940e-03  \n",
       "std         9.348831e-02  \n",
       "min         0.000000e+00  \n",
       "25%         0.000000e+00  \n",
       "50%         0.000000e+00  \n",
       "75%         0.000000e+00  \n",
       "max         2.400000e+01  "
      ]
     },
     "execution_count": 9,
     "metadata": {},
     "output_type": "execute_result"
    }
   ],
   "source": [
    "data_set.describe()"
   ]
  },
  {
   "cell_type": "code",
   "execution_count": 10,
   "id": "a3603b3e",
   "metadata": {
    "execution": {
     "iopub.execute_input": "2022-04-18T18:12:17.090990Z",
     "iopub.status.busy": "2022-04-18T18:12:17.090339Z",
     "iopub.status.idle": "2022-04-18T18:12:17.093810Z",
     "shell.execute_reply": "2022-04-18T18:12:17.093233Z",
     "shell.execute_reply.started": "2022-04-18T15:56:12.690038Z"
    },
    "papermill": {
     "duration": 0.16806,
     "end_time": "2022-04-18T18:12:17.093942",
     "exception": false,
     "start_time": "2022-04-18T18:12:16.925882",
     "status": "completed"
    },
    "tags": []
   },
   "outputs": [
    {
     "data": {
      "text/plain": [
       "14"
      ]
     },
     "execution_count": 10,
     "metadata": {},
     "output_type": "execute_result"
    }
   ],
   "source": [
    "numerics = ['int16', 'int32', 'int64', 'float16', 'float32', 'float64']\n",
    "numeric_ds = data_set.select_dtypes(include=numerics)\n",
    "len(numeric_ds.columns)"
   ]
  },
  {
   "cell_type": "code",
   "execution_count": 11,
   "id": "8ceb9bed",
   "metadata": {
    "execution": {
     "iopub.execute_input": "2022-04-18T18:12:17.778795Z",
     "iopub.status.busy": "2022-04-18T18:12:17.778137Z",
     "iopub.status.idle": "2022-04-18T18:12:17.784071Z",
     "shell.execute_reply": "2022-04-18T18:12:17.784644Z",
     "shell.execute_reply.started": "2022-04-18T15:56:12.878065Z"
    },
    "papermill": {
     "duration": 0.643474,
     "end_time": "2022-04-18T18:12:17.784816",
     "exception": false,
     "start_time": "2022-04-18T18:12:17.141342",
     "status": "completed"
    },
    "tags": []
   },
   "outputs": [
    {
     "data": {
      "text/plain": [
       "33"
      ]
     },
     "execution_count": 11,
     "metadata": {},
     "output_type": "execute_result"
    }
   ],
   "source": [
    "numerics = ['int16', 'int32', 'int64', 'float16', 'float32', 'float64']\n",
    "numeric_ds = data_set.select_dtypes(exclude=numerics)\n",
    "len(numeric_ds.columns)"
   ]
  },
  {
   "cell_type": "markdown",
   "id": "5cb17f0d",
   "metadata": {
    "papermill": {
     "duration": 0.047547,
     "end_time": "2022-04-18T18:12:17.880000",
     "exception": false,
     "start_time": "2022-04-18T18:12:17.832453",
     "status": "completed"
    },
    "tags": []
   },
   "source": [
    "Percentage of missing values per column"
   ]
  },
  {
   "cell_type": "code",
   "execution_count": 12,
   "id": "fea5704d",
   "metadata": {
    "execution": {
     "iopub.execute_input": "2022-04-18T18:12:17.980401Z",
     "iopub.status.busy": "2022-04-18T18:12:17.979393Z",
     "iopub.status.idle": "2022-04-18T18:12:20.462548Z",
     "shell.execute_reply": "2022-04-18T18:12:20.462069Z",
     "shell.execute_reply.started": "2022-04-18T15:56:13.561676Z"
    },
    "papermill": {
     "duration": 2.534194,
     "end_time": "2022-04-18T18:12:20.462686",
     "exception": false,
     "start_time": "2022-04-18T18:12:17.928492",
     "status": "completed"
    },
    "tags": []
   },
   "outputs": [
    {
     "data": {
      "text/plain": [
       "Number                   1743911\n",
       "Precipitation(in)         549458\n",
       "Wind_Chill(F)             469643\n",
       "Wind_Speed(mph)           157944\n",
       "Wind_Direction             73775\n",
       "Humidity(%)                73092\n",
       "Weather_Condition          70636\n",
       "Visibility(mi)             70546\n",
       "Temperature(F)             69274\n",
       "Pressure(in)               59200\n",
       "Weather_Timestamp          50736\n",
       "Airport_Code                9549\n",
       "Timezone                    3659\n",
       "Nautical_Twilight           2867\n",
       "Civil_Twilight              2867\n",
       "Sunrise_Sunset              2867\n",
       "Astronomical_Twilight       2867\n",
       "Zipcode                     1319\n",
       "City                         137\n",
       "Street                         2\n",
       "Country                        0\n",
       "Junction                       0\n",
       "Start_Time                     0\n",
       "End_Time                       0\n",
       "Start_Lat                      0\n",
       "Turning_Loop                   0\n",
       "Traffic_Signal                 0\n",
       "Traffic_Calming                0\n",
       "Stop                           0\n",
       "Station                        0\n",
       "Roundabout                     0\n",
       "Railway                        0\n",
       "No_Exit                        0\n",
       "Crossing                       0\n",
       "Give_Way                       0\n",
       "Bump                           0\n",
       "Amenity                        0\n",
       "Start_Lng                      0\n",
       "End_Lat                        0\n",
       "End_Lng                        0\n",
       "Distance(mi)                   0\n",
       "Description                    0\n",
       "Severity                       0\n",
       "Side                           0\n",
       "County                         0\n",
       "State                          0\n",
       "ID                             0\n",
       "dtype: int64"
      ]
     },
     "execution_count": 12,
     "metadata": {},
     "output_type": "execute_result"
    }
   ],
   "source": [
    "data_set.isna().sum().sort_values(ascending=False)"
   ]
  },
  {
   "cell_type": "code",
   "execution_count": 13,
   "id": "214a98ed",
   "metadata": {
    "execution": {
     "iopub.execute_input": "2022-04-18T18:12:20.563076Z",
     "iopub.status.busy": "2022-04-18T18:12:20.562177Z",
     "iopub.status.idle": "2022-04-18T18:12:23.011741Z",
     "shell.execute_reply": "2022-04-18T18:12:23.012218Z",
     "shell.execute_reply.started": "2022-04-18T15:56:19.850681Z"
    },
    "papermill": {
     "duration": 2.501284,
     "end_time": "2022-04-18T18:12:23.012421",
     "exception": false,
     "start_time": "2022-04-18T18:12:20.511137",
     "status": "completed"
    },
    "tags": []
   },
   "outputs": [
    {
     "data": {
      "text/plain": [
       "Number                   6.129003e-01\n",
       "Precipitation(in)        1.931079e-01\n",
       "Wind_Chill(F)            1.650568e-01\n",
       "Wind_Speed(mph)          5.550967e-02\n",
       "Wind_Direction           2.592834e-02\n",
       "Humidity(%)              2.568830e-02\n",
       "Weather_Condition        2.482514e-02\n",
       "Visibility(mi)           2.479350e-02\n",
       "Temperature(F)           2.434646e-02\n",
       "Pressure(in)             2.080593e-02\n",
       "Weather_Timestamp        1.783125e-02\n",
       "Airport_Code             3.356011e-03\n",
       "Timezone                 1.285961e-03\n",
       "Nautical_Twilight        1.007612e-03\n",
       "Civil_Twilight           1.007612e-03\n",
       "Sunrise_Sunset           1.007612e-03\n",
       "Astronomical_Twilight    1.007612e-03\n",
       "Zipcode                  4.635647e-04\n",
       "City                     4.814887e-05\n",
       "Street                   7.029032e-07\n",
       "Country                  0.000000e+00\n",
       "Junction                 0.000000e+00\n",
       "Start_Time               0.000000e+00\n",
       "End_Time                 0.000000e+00\n",
       "Start_Lat                0.000000e+00\n",
       "Turning_Loop             0.000000e+00\n",
       "Traffic_Signal           0.000000e+00\n",
       "Traffic_Calming          0.000000e+00\n",
       "Stop                     0.000000e+00\n",
       "Station                  0.000000e+00\n",
       "Roundabout               0.000000e+00\n",
       "Railway                  0.000000e+00\n",
       "No_Exit                  0.000000e+00\n",
       "Crossing                 0.000000e+00\n",
       "Give_Way                 0.000000e+00\n",
       "Bump                     0.000000e+00\n",
       "Amenity                  0.000000e+00\n",
       "Start_Lng                0.000000e+00\n",
       "End_Lat                  0.000000e+00\n",
       "End_Lng                  0.000000e+00\n",
       "Distance(mi)             0.000000e+00\n",
       "Description              0.000000e+00\n",
       "Severity                 0.000000e+00\n",
       "Side                     0.000000e+00\n",
       "County                   0.000000e+00\n",
       "State                    0.000000e+00\n",
       "ID                       0.000000e+00\n",
       "dtype: float64"
      ]
     },
     "execution_count": 13,
     "metadata": {},
     "output_type": "execute_result"
    }
   ],
   "source": [
    "missing_percentages = data_set.isna().sum().sort_values(ascending=False)/len(data_set)\n",
    "missing_percentages"
   ]
  },
  {
   "cell_type": "code",
   "execution_count": 14,
   "id": "0eebe8b6",
   "metadata": {
    "execution": {
     "iopub.execute_input": "2022-04-18T18:12:23.113799Z",
     "iopub.status.busy": "2022-04-18T18:12:23.112880Z",
     "iopub.status.idle": "2022-04-18T18:12:23.119762Z",
     "shell.execute_reply": "2022-04-18T18:12:23.120149Z",
     "shell.execute_reply.started": "2022-04-18T15:56:26.143964Z"
    },
    "papermill": {
     "duration": 0.059538,
     "end_time": "2022-04-18T18:12:23.120332",
     "exception": false,
     "start_time": "2022-04-18T18:12:23.060794",
     "status": "completed"
    },
    "tags": []
   },
   "outputs": [
    {
     "data": {
      "text/plain": [
       "Number                   6.129003e-01\n",
       "Precipitation(in)        1.931079e-01\n",
       "Wind_Chill(F)            1.650568e-01\n",
       "Wind_Speed(mph)          5.550967e-02\n",
       "Wind_Direction           2.592834e-02\n",
       "Humidity(%)              2.568830e-02\n",
       "Weather_Condition        2.482514e-02\n",
       "Visibility(mi)           2.479350e-02\n",
       "Temperature(F)           2.434646e-02\n",
       "Pressure(in)             2.080593e-02\n",
       "Weather_Timestamp        1.783125e-02\n",
       "Airport_Code             3.356011e-03\n",
       "Timezone                 1.285961e-03\n",
       "Nautical_Twilight        1.007612e-03\n",
       "Civil_Twilight           1.007612e-03\n",
       "Sunrise_Sunset           1.007612e-03\n",
       "Astronomical_Twilight    1.007612e-03\n",
       "Zipcode                  4.635647e-04\n",
       "City                     4.814887e-05\n",
       "Street                   7.029032e-07\n",
       "dtype: float64"
      ]
     },
     "execution_count": 14,
     "metadata": {},
     "output_type": "execute_result"
    }
   ],
   "source": [
    "missing_percentages[missing_percentages !=0]"
   ]
  },
  {
   "cell_type": "code",
   "execution_count": 15,
   "id": "27e9bc84",
   "metadata": {
    "execution": {
     "iopub.execute_input": "2022-04-18T18:12:23.222303Z",
     "iopub.status.busy": "2022-04-18T18:12:23.221429Z",
     "iopub.status.idle": "2022-04-18T18:12:23.572459Z",
     "shell.execute_reply": "2022-04-18T18:12:23.571583Z",
     "shell.execute_reply.started": "2022-04-18T15:56:26.159574Z"
    },
    "papermill": {
     "duration": 0.403003,
     "end_time": "2022-04-18T18:12:23.572663",
     "exception": false,
     "start_time": "2022-04-18T18:12:23.169660",
     "status": "completed"
    },
    "tags": []
   },
   "outputs": [
    {
     "data": {
      "text/plain": [
       "<AxesSubplot:>"
      ]
     },
     "execution_count": 15,
     "metadata": {},
     "output_type": "execute_result"
    },
    {
     "data": {
      "image/png": "[encoded data removed]",
      "text/plain": [
       "<Figure size 432x288 with 1 Axes>"
      ]
     },
     "metadata": {
      "needs_background": "light"
     },
     "output_type": "display_data"
    }
   ],
   "source": [
    "missing_percentages[missing_percentages !=0].plot(kind='barh')"
   ]
  },
  {
   "cell_type": "markdown",
   "id": "7254d0cf",
   "metadata": {
    "papermill": {
     "duration": 0.054176,
     "end_time": "2022-04-18T18:12:23.686510",
     "exception": false,
     "start_time": "2022-04-18T18:12:23.632334",
     "status": "completed"
    },
    "tags": []
   },
   "source": [
    "# Exploratory Analysis and Visualization\n",
    "* City\n",
    "* Start time\n",
    "* Start lat, start long\n",
    "* Temperature\n",
    "* Weather condition"
   ]
  },
  {
   "cell_type": "code",
   "execution_count": 16,
   "id": "a03d9d3f",
   "metadata": {
    "execution": {
     "iopub.execute_input": "2022-04-18T18:12:23.802997Z",
     "iopub.status.busy": "2022-04-18T18:12:23.799118Z",
     "iopub.status.idle": "2022-04-18T18:12:23.805849Z",
     "shell.execute_reply": "2022-04-18T18:12:23.806358Z",
     "shell.execute_reply.started": "2022-04-18T15:56:26.583026Z"
    },
    "papermill": {
     "duration": 0.064278,
     "end_time": "2022-04-18T18:12:23.806527",
     "exception": false,
     "start_time": "2022-04-18T18:12:23.742249",
     "status": "completed"
    },
    "tags": []
   },
   "outputs": [
    {
     "data": {
      "text/plain": [
       "Index(['ID', 'Severity', 'Start_Time', 'End_Time', 'Start_Lat', 'Start_Lng',\n",
       "       'End_Lat', 'End_Lng', 'Distance(mi)', 'Description', 'Number', 'Street',\n",
       "       'Side', 'City', 'County', 'State', 'Zipcode', 'Country', 'Timezone',\n",
       "       'Airport_Code', 'Weather_Timestamp', 'Temperature(F)', 'Wind_Chill(F)',\n",
       "       'Humidity(%)', 'Pressure(in)', 'Visibility(mi)', 'Wind_Direction',\n",
       "       'Wind_Speed(mph)', 'Precipitation(in)', 'Weather_Condition', 'Amenity',\n",
       "       'Bump', 'Crossing', 'Give_Way', 'Junction', 'No_Exit', 'Railway',\n",
       "       'Roundabout', 'Station', 'Stop', 'Traffic_Calming', 'Traffic_Signal',\n",
       "       'Turning_Loop', 'Sunrise_Sunset', 'Civil_Twilight', 'Nautical_Twilight',\n",
       "       'Astronomical_Twilight'],\n",
       "      dtype='object')"
      ]
     },
     "execution_count": 16,
     "metadata": {},
     "output_type": "execute_result"
    }
   ],
   "source": [
    "data_set.columns"
   ]
  },
  {
   "cell_type": "markdown",
   "id": "f7264ad3",
   "metadata": {
    "papermill": {
     "duration": 0.05293,
     "end_time": "2022-04-18T18:12:23.921156",
     "exception": false,
     "start_time": "2022-04-18T18:12:23.868226",
     "status": "completed"
    },
    "tags": []
   },
   "source": [
    "# Cities"
   ]
  },
  {
   "cell_type": "code",
   "execution_count": 17,
   "id": "81c61641",
   "metadata": {
    "execution": {
     "iopub.execute_input": "2022-04-18T18:12:24.038239Z",
     "iopub.status.busy": "2022-04-18T18:12:24.037328Z",
     "iopub.status.idle": "2022-04-18T18:12:24.302778Z",
     "shell.execute_reply": "2022-04-18T18:12:24.302261Z",
     "shell.execute_reply.started": "2022-04-18T15:56:26.592675Z"
    },
    "papermill": {
     "duration": 0.324716,
     "end_time": "2022-04-18T18:12:24.302918",
     "exception": false,
     "start_time": "2022-04-18T18:12:23.978202",
     "status": "completed"
    },
    "tags": []
   },
   "outputs": [
    {
     "data": {
      "text/plain": [
       "11682"
      ]
     },
     "execution_count": 17,
     "metadata": {},
     "output_type": "execute_result"
    }
   ],
   "source": [
    "cities = data_set.City.unique()\n",
    "len(cities)"
   ]
  },
  {
   "cell_type": "code",
   "execution_count": 18,
   "id": "f162833e",
   "metadata": {
    "execution": {
     "iopub.execute_input": "2022-04-18T18:12:24.710428Z",
     "iopub.status.busy": "2022-04-18T18:12:24.709490Z",
     "iopub.status.idle": "2022-04-18T18:12:24.720097Z",
     "shell.execute_reply": "2022-04-18T18:12:24.719551Z",
     "shell.execute_reply.started": "2022-04-18T15:56:27.015883Z"
    },
    "papermill": {
     "duration": 0.36184,
     "end_time": "2022-04-18T18:12:24.720236",
     "exception": false,
     "start_time": "2022-04-18T18:12:24.358396",
     "status": "completed"
    },
    "tags": []
   },
   "outputs": [
    {
     "data": {
      "text/plain": [
       "Miami                           106966\n",
       "Los Angeles                      68956\n",
       "Orlando                          54691\n",
       "Dallas                           41979\n",
       "Houston                          39448\n",
       "                                 ...  \n",
       "De Graff                             1\n",
       "Township 9                           1\n",
       "Elida                                1\n",
       "Old Tappan                           1\n",
       "American Fork-Pleasant Grove         1\n",
       "Name: City, Length: 11681, dtype: int64"
      ]
     },
     "execution_count": 18,
     "metadata": {},
     "output_type": "execute_result"
    }
   ],
   "source": [
    "cities_by_accident = data_set.City.value_counts().sort_values(ascending=False)\n",
    "cities_by_accident"
   ]
  },
  {
   "cell_type": "code",
   "execution_count": 19,
   "id": "dabd9be2",
   "metadata": {
    "execution": {
     "iopub.execute_input": "2022-04-18T18:12:24.838506Z",
     "iopub.status.busy": "2022-04-18T18:12:24.837432Z",
     "iopub.status.idle": "2022-04-18T18:12:24.842123Z",
     "shell.execute_reply": "2022-04-18T18:12:24.841484Z",
     "shell.execute_reply.started": "2022-04-18T15:56:27.612525Z"
    },
    "papermill": {
     "duration": 0.066821,
     "end_time": "2022-04-18T18:12:24.842261",
     "exception": false,
     "start_time": "2022-04-18T18:12:24.775440",
     "status": "completed"
    },
    "tags": []
   },
   "outputs": [
    {
     "data": {
      "text/plain": [
       "Miami              106966\n",
       "Los Angeles         68956\n",
       "Orlando             54691\n",
       "Dallas              41979\n",
       "Houston             39448\n",
       "Charlotte           33152\n",
       "Sacramento          32559\n",
       "San Diego           26627\n",
       "Raleigh             22840\n",
       "Minneapolis         22768\n",
       "Portland            20944\n",
       "Nashville           20267\n",
       "Austin              18301\n",
       "Baton Rouge         18182\n",
       "Phoenix             17143\n",
       "Saint Paul          16869\n",
       "New Orleans         16251\n",
       "Atlanta             15622\n",
       "Jacksonville        14967\n",
       "Richmond            14349\n",
       "Tucson              13799\n",
       "San Jose            13377\n",
       "Riverside           13310\n",
       "Kansas City         13298\n",
       "Bakersfield         12044\n",
       "San Bernardino      11249\n",
       "Chicago             11188\n",
       "Tampa               10984\n",
       "Salt Lake City      10709\n",
       "Ontario             10538\n",
       "Anaheim             10502\n",
       "Hialeah             10398\n",
       "Fort Lauderdale     10345\n",
       "Oakland             10051\n",
       "Columbia             9885\n",
       "Corona               9763\n",
       "Washington           9624\n",
       "Bronx                9453\n",
       "Rochester            9335\n",
       "Chattanooga          9205\n",
       "Fresno               9025\n",
       "Long Beach           8898\n",
       "Seattle              8896\n",
       "Indianapolis         8328\n",
       "Denver               7960\n",
       "Philadelphia         7555\n",
       "Springfield          7543\n",
       "Greenville           7361\n",
       "Detroit              7344\n",
       "Whittier             7184\n",
       "Name: City, dtype: int64"
      ]
     },
     "execution_count": 19,
     "metadata": {},
     "output_type": "execute_result"
    }
   ],
   "source": [
    "cities_by_accident[:50]"
   ]
  },
  {
   "cell_type": "code",
   "execution_count": 20,
   "id": "29860449",
   "metadata": {
    "execution": {
     "iopub.execute_input": "2022-04-18T18:12:24.957638Z",
     "iopub.status.busy": "2022-04-18T18:12:24.956728Z",
     "iopub.status.idle": "2022-04-18T18:12:24.962234Z",
     "shell.execute_reply": "2022-04-18T18:12:24.962801Z",
     "shell.execute_reply.started": "2022-04-18T15:56:27.625791Z"
    },
    "papermill": {
     "duration": 0.065054,
     "end_time": "2022-04-18T18:12:24.962964",
     "exception": false,
     "start_time": "2022-04-18T18:12:24.897910",
     "status": "completed"
    },
    "tags": []
   },
   "outputs": [
    {
     "data": {
      "text/plain": [
       "False"
      ]
     },
     "execution_count": 20,
     "metadata": {},
     "output_type": "execute_result"
    }
   ],
   "source": [
    "'New york' in data_set.City"
   ]
  },
  {
   "cell_type": "code",
   "execution_count": 21,
   "id": "7544e32f",
   "metadata": {
    "execution": {
     "iopub.execute_input": "2022-04-18T18:12:25.079357Z",
     "iopub.status.busy": "2022-04-18T18:12:25.078588Z",
     "iopub.status.idle": "2022-04-18T18:12:25.081626Z",
     "shell.execute_reply": "2022-04-18T18:12:25.082103Z",
     "shell.execute_reply.started": "2022-04-18T15:56:27.638359Z"
    },
    "papermill": {
     "duration": 0.06436,
     "end_time": "2022-04-18T18:12:25.082266",
     "exception": false,
     "start_time": "2022-04-18T18:12:25.017906",
     "status": "completed"
    },
    "tags": []
   },
   "outputs": [
    {
     "data": {
      "text/plain": [
       "False"
      ]
     },
     "execution_count": 21,
     "metadata": {},
     "output_type": "execute_result"
    }
   ],
   "source": [
    "'NY' in data_set.State"
   ]
  },
  {
   "cell_type": "code",
   "execution_count": 22,
   "id": "8d022aaf",
   "metadata": {
    "execution": {
     "iopub.execute_input": "2022-04-18T18:12:25.201761Z",
     "iopub.status.busy": "2022-04-18T18:12:25.201081Z",
     "iopub.status.idle": "2022-04-18T18:12:25.480829Z",
     "shell.execute_reply": "2022-04-18T18:12:25.480300Z",
     "shell.execute_reply.started": "2022-04-18T15:56:27.655203Z"
    },
    "papermill": {
     "duration": 0.343261,
     "end_time": "2022-04-18T18:12:25.481036",
     "exception": false,
     "start_time": "2022-04-18T18:12:25.137775",
     "status": "completed"
    },
    "tags": []
   },
   "outputs": [
    {
     "data": {
      "text/plain": [
       "<AxesSubplot:>"
      ]
     },
     "execution_count": 22,
     "metadata": {},
     "output_type": "execute_result"
    },
    {
     "data": {
      "image/png": "[encoded data removed]",
      "text/plain": [
       "<Figure size 432x288 with 1 Axes>"
      ]
     },
     "metadata": {
      "needs_background": "light"
     },
     "output_type": "display_data"
    }
   ],
   "source": [
    "cities_by_accident[:20].plot(kind='barh')"
   ]
  },
  {
   "cell_type": "code",
   "execution_count": 23,
   "id": "20bd0f13",
   "metadata": {
    "execution": {
     "iopub.execute_input": "2022-04-18T18:12:25.593992Z",
     "iopub.status.busy": "2022-04-18T18:12:25.592969Z",
     "iopub.status.idle": "2022-04-18T18:12:25.595178Z",
     "shell.execute_reply": "2022-04-18T18:12:25.595602Z",
     "shell.execute_reply.started": "2022-04-18T15:56:27.976157Z"
    },
    "papermill": {
     "duration": 0.060785,
     "end_time": "2022-04-18T18:12:25.595786",
     "exception": false,
     "start_time": "2022-04-18T18:12:25.535001",
     "status": "completed"
    },
    "tags": []
   },
   "outputs": [],
   "source": [
    "sns.set_style(\"darkgrid\")"
   ]
  },
  {
   "cell_type": "code",
   "execution_count": 24,
   "id": "30d26ce4",
   "metadata": {
    "execution": {
     "iopub.execute_input": "2022-04-18T18:12:25.707745Z",
     "iopub.status.busy": "2022-04-18T18:12:25.707073Z",
     "iopub.status.idle": "2022-04-18T18:12:26.153030Z",
     "shell.execute_reply": "2022-04-18T18:12:26.153471Z",
     "shell.execute_reply.started": "2022-04-18T15:56:27.984432Z"
    },
    "papermill": {
     "duration": 0.503577,
     "end_time": "2022-04-18T18:12:26.153656",
     "exception": false,
     "start_time": "2022-04-18T18:12:25.650079",
     "status": "completed"
    },
    "tags": []
   },
   "outputs": [
    {
     "name": "stderr",
     "output_type": "stream",
     "text": [
      "/opt/conda/lib/python3.7/site-packages/seaborn/distributions.py:2619: FutureWarning: `distplot` is a deprecated function and will be removed in a future version. Please adapt your code to use either `displot` (a figure-level function with similar flexibility) or `histplot` (an axes-level function for histograms).\n",
      "  warnings.warn(msg, FutureWarning)\n"
     ]
    },
    {
     "data": {
      "text/plain": [
       "<AxesSubplot:xlabel='City', ylabel='Density'>"
      ]
     },
     "execution_count": 24,
     "metadata": {},
     "output_type": "execute_result"
    },
    {
     "data": {
      "image/png": "[encoded data removed]",
      "text/plain": [
       "<Figure size 432x288 with 1 Axes>"
      ]
     },
     "metadata": {},
     "output_type": "display_data"
    }
   ],
   "source": [
    "sns.distplot(cities_by_accident)"
   ]
  },
  {
   "cell_type": "code",
   "execution_count": 25,
   "id": "8ab28cf2",
   "metadata": {
    "execution": {
     "iopub.execute_input": "2022-04-18T18:12:26.267021Z",
     "iopub.status.busy": "2022-04-18T18:12:26.266478Z",
     "iopub.status.idle": "2022-04-18T18:12:26.271735Z",
     "shell.execute_reply": "2022-04-18T18:12:26.271060Z",
     "shell.execute_reply.started": "2022-04-18T15:56:28.525320Z"
    },
    "papermill": {
     "duration": 0.063087,
     "end_time": "2022-04-18T18:12:26.271907",
     "exception": false,
     "start_time": "2022-04-18T18:12:26.208820",
     "status": "completed"
    },
    "tags": []
   },
   "outputs": [],
   "source": [
    "high_accident_cities = cities_by_accident[cities_by_accident > 1000]\n",
    "low_accident_cities = cities_by_accident[cities_by_accident < 1000]"
   ]
  },
  {
   "cell_type": "code",
   "execution_count": 26,
   "id": "efe1b1e3",
   "metadata": {
    "execution": {
     "iopub.execute_input": "2022-04-18T18:12:26.386726Z",
     "iopub.status.busy": "2022-04-18T18:12:26.386034Z",
     "iopub.status.idle": "2022-04-18T18:12:26.390231Z",
     "shell.execute_reply": "2022-04-18T18:12:26.390680Z",
     "shell.execute_reply.started": "2022-04-18T15:56:28.535070Z"
    },
    "papermill": {
     "duration": 0.062392,
     "end_time": "2022-04-18T18:12:26.390848",
     "exception": false,
     "start_time": "2022-04-18T18:12:26.328456",
     "status": "completed"
    },
    "tags": []
   },
   "outputs": [
    {
     "data": {
      "text/plain": [
       "0.042290899751733585"
      ]
     },
     "execution_count": 26,
     "metadata": {},
     "output_type": "execute_result"
    }
   ],
   "source": [
    "len(high_accident_cities)/len(cities_by_accident)"
   ]
  },
  {
   "cell_type": "code",
   "execution_count": 27,
   "id": "797d9856",
   "metadata": {
    "execution": {
     "iopub.execute_input": "2022-04-18T18:12:26.504174Z",
     "iopub.status.busy": "2022-04-18T18:12:26.503265Z",
     "iopub.status.idle": "2022-04-18T18:12:26.508035Z",
     "shell.execute_reply": "2022-04-18T18:12:26.508437Z",
     "shell.execute_reply.started": "2022-04-18T15:56:28.550513Z"
    },
    "papermill": {
     "duration": 0.062586,
     "end_time": "2022-04-18T18:12:26.508598",
     "exception": false,
     "start_time": "2022-04-18T18:12:26.446012",
     "status": "completed"
    },
    "tags": []
   },
   "outputs": [
    {
     "data": {
      "text/plain": [
       "11185"
      ]
     },
     "execution_count": 27,
     "metadata": {},
     "output_type": "execute_result"
    }
   ],
   "source": [
    "len(low_accident_cities)"
   ]
  },
  {
   "cell_type": "code",
   "execution_count": 28,
   "id": "e325a726",
   "metadata": {
    "execution": {
     "iopub.execute_input": "2022-04-18T18:12:26.622368Z",
     "iopub.status.busy": "2022-04-18T18:12:26.621410Z",
     "iopub.status.idle": "2022-04-18T18:12:26.939827Z",
     "shell.execute_reply": "2022-04-18T18:12:26.939214Z",
     "shell.execute_reply.started": "2022-04-18T15:56:28.570994Z"
    },
    "papermill": {
     "duration": 0.376513,
     "end_time": "2022-04-18T18:12:26.939999",
     "exception": false,
     "start_time": "2022-04-18T18:12:26.563486",
     "status": "completed"
    },
    "tags": []
   },
   "outputs": [
    {
     "name": "stderr",
     "output_type": "stream",
     "text": [
      "/opt/conda/lib/python3.7/site-packages/seaborn/distributions.py:2619: FutureWarning: `distplot` is a deprecated function and will be removed in a future version. Please adapt your code to use either `displot` (a figure-level function with similar flexibility) or `histplot` (an axes-level function for histograms).\n",
      "  warnings.warn(msg, FutureWarning)\n"
     ]
    },
    {
     "data": {
      "text/plain": [
       "<AxesSubplot:xlabel='City', ylabel='Density'>"
      ]
     },
     "execution_count": 28,
     "metadata": {},
     "output_type": "execute_result"
    },
    {
     "data": {
      "image/png": "[encoded data removed]",
      "text/plain": [
       "<Figure size 432x288 with 1 Axes>"
      ]
     },
     "metadata": {},
     "output_type": "display_data"
    }
   ],
   "source": [
    "sns.distplot(high_accident_cities)"
   ]
  },
  {
   "cell_type": "code",
   "execution_count": 29,
   "id": "6afb9af9",
   "metadata": {
    "execution": {
     "iopub.execute_input": "2022-04-18T18:12:27.059749Z",
     "iopub.status.busy": "2022-04-18T18:12:27.058776Z",
     "iopub.status.idle": "2022-04-18T18:12:27.475600Z",
     "shell.execute_reply": "2022-04-18T18:12:27.476045Z",
     "shell.execute_reply.started": "2022-04-18T15:56:28.990802Z"
    },
    "papermill": {
     "duration": 0.479065,
     "end_time": "2022-04-18T18:12:27.476221",
     "exception": false,
     "start_time": "2022-04-18T18:12:26.997156",
     "status": "completed"
    },
    "tags": []
   },
   "outputs": [
    {
     "name": "stderr",
     "output_type": "stream",
     "text": [
      "/opt/conda/lib/python3.7/site-packages/seaborn/distributions.py:2619: FutureWarning: `distplot` is a deprecated function and will be removed in a future version. Please adapt your code to use either `displot` (a figure-level function with similar flexibility) or `histplot` (an axes-level function for histograms).\n",
      "  warnings.warn(msg, FutureWarning)\n"
     ]
    },
    {
     "data": {
      "text/plain": [
       "<AxesSubplot:xlabel='City', ylabel='Density'>"
      ]
     },
     "execution_count": 29,
     "metadata": {},
     "output_type": "execute_result"
    },
    {
     "data": {
      "image/png": "[encoded data removed]",
      "text/plain": [
       "<Figure size 432x288 with 1 Axes>"
      ]
     },
     "metadata": {},
     "output_type": "display_data"
    }
   ],
   "source": [
    "sns.distplot(low_accident_cities)"
   ]
  },
  {
   "cell_type": "code",
   "execution_count": 30,
   "id": "d99bb3dc",
   "metadata": {
    "execution": {
     "iopub.execute_input": "2022-04-18T18:12:27.600840Z",
     "iopub.status.busy": "2022-04-18T18:12:27.599967Z",
     "iopub.status.idle": "2022-04-18T18:12:28.833182Z",
     "shell.execute_reply": "2022-04-18T18:12:28.833754Z",
     "shell.execute_reply.started": "2022-04-18T15:56:29.493759Z"
    },
    "papermill": {
     "duration": 1.300036,
     "end_time": "2022-04-18T18:12:28.833928",
     "exception": false,
     "start_time": "2022-04-18T18:12:27.533892",
     "status": "completed"
    },
    "tags": []
   },
   "outputs": [
    {
     "data": {
      "text/plain": [
       "<AxesSubplot:xlabel='City', ylabel='Count'>"
      ]
     },
     "execution_count": 30,
     "metadata": {},
     "output_type": "execute_result"
    },
    {
     "data": {
      "image/png": "[encoded data removed]",
      "text/plain": [
       "<Figure size 432x288 with 1 Axes>"
      ]
     },
     "metadata": {},
     "output_type": "display_data"
    }
   ],
   "source": [
    "sns.histplot(cities_by_accident, log_scale=True)"
   ]
  },
  {
   "cell_type": "code",
   "execution_count": 31,
   "id": "88d0acc3",
   "metadata": {
    "execution": {
     "iopub.execute_input": "2022-04-18T18:12:28.959568Z",
     "iopub.status.busy": "2022-04-18T18:12:28.958666Z",
     "iopub.status.idle": "2022-04-18T18:12:28.966405Z",
     "shell.execute_reply": "2022-04-18T18:12:28.966849Z",
     "shell.execute_reply.started": "2022-04-18T15:56:31.233778Z"
    },
    "papermill": {
     "duration": 0.072449,
     "end_time": "2022-04-18T18:12:28.967007",
     "exception": false,
     "start_time": "2022-04-18T18:12:28.894558",
     "status": "completed"
    },
    "tags": []
   },
   "outputs": [
    {
     "data": {
      "text/plain": [
       "Wyandotte                       1\n",
       "Ponca                           1\n",
       "Cedar                           1\n",
       "Inchelium                       1\n",
       "Gerlach                         1\n",
       "                               ..\n",
       "De Graff                        1\n",
       "Township 9                      1\n",
       "Elida                           1\n",
       "Old Tappan                      1\n",
       "American Fork-Pleasant Grove    1\n",
       "Name: City, Length: 1110, dtype: int64"
      ]
     },
     "execution_count": 31,
     "metadata": {},
     "output_type": "execute_result"
    }
   ],
   "source": [
    "cities_by_accident[cities_by_accident == 1]"
   ]
  },
  {
   "cell_type": "markdown",
   "id": "322c8a1a",
   "metadata": {
    "papermill": {
     "duration": 0.058779,
     "end_time": "2022-04-18T18:12:29.088051",
     "exception": false,
     "start_time": "2022-04-18T18:12:29.029272",
     "status": "completed"
    },
    "tags": []
   },
   "source": [
    "# Start Time"
   ]
  },
  {
   "cell_type": "code",
   "execution_count": 32,
   "id": "0b9b2efe",
   "metadata": {
    "execution": {
     "iopub.execute_input": "2022-04-18T18:12:29.211747Z",
     "iopub.status.busy": "2022-04-18T18:12:29.210792Z",
     "iopub.status.idle": "2022-04-18T18:12:29.217619Z",
     "shell.execute_reply": "2022-04-18T18:12:29.218020Z",
     "shell.execute_reply.started": "2022-04-18T15:56:31.246619Z"
    },
    "papermill": {
     "duration": 0.070096,
     "end_time": "2022-04-18T18:12:29.218189",
     "exception": false,
     "start_time": "2022-04-18T18:12:29.148093",
     "status": "completed"
    },
    "tags": []
   },
   "outputs": [
    {
     "data": {
      "text/plain": [
       "0          2016-02-08 00:37:08\n",
       "1          2016-02-08 05:56:20\n",
       "2          2016-02-08 06:15:39\n",
       "3          2016-02-08 06:51:45\n",
       "4          2016-02-08 07:53:43\n",
       "                  ...         \n",
       "2845337    2019-08-23 18:03:25\n",
       "2845338    2019-08-23 19:11:30\n",
       "2845339    2019-08-23 19:00:21\n",
       "2845340    2019-08-23 19:00:21\n",
       "2845341    2019-08-23 18:52:06\n",
       "Name: Start_Time, Length: 2845342, dtype: object"
      ]
     },
     "execution_count": 32,
     "metadata": {},
     "output_type": "execute_result"
    }
   ],
   "source": [
    "data_set.Start_Time"
   ]
  },
  {
   "cell_type": "code",
   "execution_count": 33,
   "id": "2966e731",
   "metadata": {
    "execution": {
     "iopub.execute_input": "2022-04-18T18:12:29.342117Z",
     "iopub.status.busy": "2022-04-18T18:12:29.341210Z",
     "iopub.status.idle": "2022-04-18T18:12:30.631930Z",
     "shell.execute_reply": "2022-04-18T18:12:30.631397Z",
     "shell.execute_reply.started": "2022-04-18T15:56:31.263685Z"
    },
    "papermill": {
     "duration": 1.353848,
     "end_time": "2022-04-18T18:12:30.632099",
     "exception": false,
     "start_time": "2022-04-18T18:12:29.278251",
     "status": "completed"
    },
    "tags": []
   },
   "outputs": [],
   "source": [
    "#to convert to date time formaṭ\n",
    "data_set.Start_Time = pd.to_datetime(data_set.Start_Time)"
   ]
  },
  {
   "cell_type": "code",
   "execution_count": 34,
   "id": "9e447e88",
   "metadata": {
    "execution": {
     "iopub.execute_input": "2022-04-18T18:12:30.759222Z",
     "iopub.status.busy": "2022-04-18T18:12:30.758545Z",
     "iopub.status.idle": "2022-04-18T18:12:30.761076Z",
     "shell.execute_reply": "2022-04-18T18:12:30.761548Z",
     "shell.execute_reply.started": "2022-04-18T15:56:33.326800Z"
    },
    "papermill": {
     "duration": 0.068723,
     "end_time": "2022-04-18T18:12:30.761712",
     "exception": false,
     "start_time": "2022-04-18T18:12:30.692989",
     "status": "completed"
    },
    "tags": []
   },
   "outputs": [
    {
     "data": {
      "text/plain": [
       "Timestamp('2016-02-08 00:37:08')"
      ]
     },
     "execution_count": 34,
     "metadata": {},
     "output_type": "execute_result"
    }
   ],
   "source": [
    "data_set.Start_Time[0]"
   ]
  },
  {
   "cell_type": "code",
   "execution_count": 35,
   "id": "10147880",
   "metadata": {
    "execution": {
     "iopub.execute_input": "2022-04-18T18:12:30.918069Z",
     "iopub.status.busy": "2022-04-18T18:12:30.916233Z",
     "iopub.status.idle": "2022-04-18T18:12:30.923574Z",
     "shell.execute_reply": "2022-04-18T18:12:30.922873Z",
     "shell.execute_reply.started": "2022-04-18T15:56:33.339189Z"
    },
    "papermill": {
     "duration": 0.096389,
     "end_time": "2022-04-18T18:12:30.923737",
     "exception": false,
     "start_time": "2022-04-18T18:12:30.827348",
     "status": "completed"
    },
    "tags": []
   },
   "outputs": [
    {
     "data": {
      "text/plain": [
       "5"
      ]
     },
     "execution_count": 35,
     "metadata": {},
     "output_type": "execute_result"
    }
   ],
   "source": [
    "data_set.Start_Time[1].hour\n",
    "#we cannot use this data to obtain hours for the entire column "
   ]
  },
  {
   "cell_type": "code",
   "execution_count": 36,
   "id": "6d0bdaad",
   "metadata": {
    "execution": {
     "iopub.execute_input": "2022-04-18T18:12:31.050444Z",
     "iopub.status.busy": "2022-04-18T18:12:31.048187Z",
     "iopub.status.idle": "2022-04-18T18:12:31.681462Z",
     "shell.execute_reply": "2022-04-18T18:12:31.680841Z",
     "shell.execute_reply.started": "2022-04-18T15:56:33.352467Z"
    },
    "papermill": {
     "duration": 0.696877,
     "end_time": "2022-04-18T18:12:31.681602",
     "exception": false,
     "start_time": "2022-04-18T18:12:30.984725",
     "status": "completed"
    },
    "tags": []
   },
   "outputs": [
    {
     "name": "stderr",
     "output_type": "stream",
     "text": [
      "/opt/conda/lib/python3.7/site-packages/seaborn/distributions.py:2619: FutureWarning: `distplot` is a deprecated function and will be removed in a future version. Please adapt your code to use either `displot` (a figure-level function with similar flexibility) or `histplot` (an axes-level function for histograms).\n",
      "  warnings.warn(msg, FutureWarning)\n"
     ]
    },
    {
     "data": {
      "text/plain": [
       "<AxesSubplot:xlabel='Start_Time'>"
      ]
     },
     "execution_count": 36,
     "metadata": {},
     "output_type": "execute_result"
    },
    {
     "data": {
      "image/png": "[encoded data removed]",
      "text/plain": [
       "<Figure size 432x288 with 1 Axes>"
      ]
     },
     "metadata": {},
     "output_type": "display_data"
    }
   ],
   "source": [
    "sns.distplot(data_set.Start_Time.dt.hour, bins=24, kde=False, norm_hist=True)"
   ]
  },
  {
   "cell_type": "markdown",
   "id": "311677cd",
   "metadata": {
    "papermill": {
     "duration": 0.064115,
     "end_time": "2022-04-18T18:12:31.809817",
     "exception": false,
     "start_time": "2022-04-18T18:12:31.745702",
     "status": "completed"
    },
    "tags": []
   },
   "source": [
    "Hight percentage of accidents occur between 4pm to 5pm "
   ]
  },
  {
   "cell_type": "code",
   "execution_count": 37,
   "id": "20a2e5f0",
   "metadata": {
    "execution": {
     "iopub.execute_input": "2022-04-18T18:12:31.939967Z",
     "iopub.status.busy": "2022-04-18T18:12:31.939217Z",
     "iopub.status.idle": "2022-04-18T18:12:32.547723Z",
     "shell.execute_reply": "2022-04-18T18:12:32.548175Z",
     "shell.execute_reply.started": "2022-04-18T15:56:34.106859Z"
    },
    "papermill": {
     "duration": 0.676712,
     "end_time": "2022-04-18T18:12:32.548378",
     "exception": false,
     "start_time": "2022-04-18T18:12:31.871666",
     "status": "completed"
    },
    "tags": []
   },
   "outputs": [
    {
     "data": {
      "text/plain": [
       "<AxesSubplot:xlabel='Start_Time'>"
      ]
     },
     "execution_count": 37,
     "metadata": {},
     "output_type": "execute_result"
    },
    {
     "data": {
      "image/png": "[encoded data removed]",
      "text/plain": [
       "<Figure size 432x288 with 1 Axes>"
      ]
     },
     "metadata": {},
     "output_type": "display_data"
    }
   ],
   "source": [
    "sns.distplot(data_set.Start_Time.dt.dayofweek, bins=7, kde=False, norm_hist=True)"
   ]
  },
  {
   "cell_type": "markdown",
   "id": "2726146a",
   "metadata": {
    "papermill": {
     "duration": 0.062728,
     "end_time": "2022-04-18T18:12:32.675450",
     "exception": false,
     "start_time": "2022-04-18T18:12:32.612722",
     "status": "completed"
    },
    "tags": []
   },
   "source": [
    "Is distribution of accident by hour the same on weekends as on weekdays"
   ]
  },
  {
   "cell_type": "code",
   "execution_count": 38,
   "id": "7e848599",
   "metadata": {
    "execution": {
     "iopub.execute_input": "2022-04-18T18:12:32.805031Z",
     "iopub.status.busy": "2022-04-18T18:12:32.804121Z",
     "iopub.status.idle": "2022-04-18T18:12:33.391920Z",
     "shell.execute_reply": "2022-04-18T18:12:33.391393Z",
     "shell.execute_reply.started": "2022-04-18T15:56:34.845097Z"
    },
    "papermill": {
     "duration": 0.654273,
     "end_time": "2022-04-18T18:12:33.392066",
     "exception": false,
     "start_time": "2022-04-18T18:12:32.737793",
     "status": "completed"
    },
    "tags": []
   },
   "outputs": [
    {
     "data": {
      "text/plain": [
       "<AxesSubplot:xlabel='Start_Time'>"
      ]
     },
     "execution_count": 38,
     "metadata": {},
     "output_type": "execute_result"
    },
    {
     "data": {
      "image/png": "[encoded data removed]",
      "text/plain": [
       "<Figure size 432x288 with 1 Axes>"
      ]
     },
     "metadata": {},
     "output_type": "display_data"
    }
   ],
   "source": [
    "sunday_start_time = data_set.Start_Time[data_set.Start_Time.dt.dayofweek == 6]\n",
    "sns.distplot(sunday_start_time.dt.hour, bins=24, kde=False, norm_hist=True)"
   ]
  },
  {
   "cell_type": "code",
   "execution_count": 39,
   "id": "2d66350c",
   "metadata": {
    "execution": {
     "iopub.execute_input": "2022-04-18T18:12:33.524452Z",
     "iopub.status.busy": "2022-04-18T18:12:33.523810Z",
     "iopub.status.idle": "2022-04-18T18:12:34.145379Z",
     "shell.execute_reply": "2022-04-18T18:12:34.146027Z",
     "shell.execute_reply.started": "2022-04-18T15:56:35.561440Z"
    },
    "papermill": {
     "duration": 0.690575,
     "end_time": "2022-04-18T18:12:34.146219",
     "exception": false,
     "start_time": "2022-04-18T18:12:33.455644",
     "status": "completed"
    },
    "tags": []
   },
   "outputs": [
    {
     "data": {
      "text/plain": [
       "<AxesSubplot:xlabel='Start_Time'>"
      ]
     },
     "execution_count": 39,
     "metadata": {},
     "output_type": "execute_result"
    },
    {
     "data": {
      "image/png": "[encoded data removed]",
      "text/plain": [
       "<Figure size 432x288 with 1 Axes>"
      ]
     },
     "metadata": {},
     "output_type": "display_data"
    }
   ],
   "source": [
    "monday_start_time = data_set.Start_Time[data_set.Start_Time.dt.dayofweek == 0]\n",
    "sns.distplot(monday_start_time.dt.hour, bins=24, kde=False, norm_hist=True)"
   ]
  },
  {
   "cell_type": "code",
   "execution_count": 40,
   "id": "9f47d294",
   "metadata": {
    "execution": {
     "iopub.execute_input": "2022-04-18T18:12:34.284954Z",
     "iopub.status.busy": "2022-04-18T18:12:34.284117Z",
     "iopub.status.idle": "2022-04-18T18:12:34.867385Z",
     "shell.execute_reply": "2022-04-18T18:12:34.867823Z",
     "shell.execute_reply.started": "2022-04-18T15:56:36.305790Z"
    },
    "papermill": {
     "duration": 0.654192,
     "end_time": "2022-04-18T18:12:34.867997",
     "exception": false,
     "start_time": "2022-04-18T18:12:34.213805",
     "status": "completed"
    },
    "tags": []
   },
   "outputs": [
    {
     "data": {
      "text/plain": [
       "<AxesSubplot:xlabel='Start_Time'>"
      ]
     },
     "execution_count": 40,
     "metadata": {},
     "output_type": "execute_result"
    },
    {
     "data": {
      "image/png": "[encoded data removed]",
      "text/plain": [
       "<Figure size 432x288 with 1 Axes>"
      ]
     },
     "metadata": {},
     "output_type": "display_data"
    }
   ],
   "source": [
    "sns.distplot(data_set.Start_Time.dt.month, bins=12, kde=False, norm_hist=True)"
   ]
  },
  {
   "cell_type": "markdown",
   "id": "9aad4166",
   "metadata": {
    "papermill": {
     "duration": 0.067814,
     "end_time": "2022-04-18T18:12:35.003136",
     "exception": false,
     "start_time": "2022-04-18T18:12:34.935322",
     "status": "completed"
    },
    "tags": []
   },
   "source": [
    "Data for the year 2016 and 2019"
   ]
  },
  {
   "cell_type": "code",
   "execution_count": 41,
   "id": "56f9886e",
   "metadata": {
    "execution": {
     "iopub.execute_input": "2022-04-18T18:12:35.138234Z",
     "iopub.status.busy": "2022-04-18T18:12:35.137661Z",
     "iopub.status.idle": "2022-04-18T18:12:35.430008Z",
     "shell.execute_reply": "2022-04-18T18:12:35.430521Z",
     "shell.execute_reply.started": "2022-04-18T16:06:27.037004Z"
    },
    "papermill": {
     "duration": 0.361322,
     "end_time": "2022-04-18T18:12:35.430690",
     "exception": false,
     "start_time": "2022-04-18T18:12:35.069368",
     "status": "completed"
    },
    "tags": []
   },
   "outputs": [
    {
     "data": {
      "text/plain": [
       "0          2016\n",
       "1          2016\n",
       "2          2016\n",
       "3          2016\n",
       "4          2016\n",
       "           ... \n",
       "2845337    2019\n",
       "2845338    2019\n",
       "2845339    2019\n",
       "2845340    2019\n",
       "2845341    2019\n",
       "Name: Start_Time, Length: 2845342, dtype: int64"
      ]
     },
     "execution_count": 41,
     "metadata": {},
     "output_type": "execute_result"
    }
   ],
   "source": [
    "data_set.Start_Time.dt.year"
   ]
  },
  {
   "cell_type": "code",
   "execution_count": 42,
   "id": "aefc5a38",
   "metadata": {
    "execution": {
     "iopub.execute_input": "2022-04-18T18:12:35.565430Z",
     "iopub.status.busy": "2022-04-18T18:12:35.564763Z",
     "iopub.status.idle": "2022-04-18T18:12:36.093834Z",
     "shell.execute_reply": "2022-04-18T18:12:36.094482Z",
     "shell.execute_reply.started": "2022-04-18T16:11:38.594134Z"
    },
    "papermill": {
     "duration": 0.597989,
     "end_time": "2022-04-18T18:12:36.094651",
     "exception": false,
     "start_time": "2022-04-18T18:12:35.496662",
     "status": "completed"
    },
    "tags": []
   },
   "outputs": [
    {
     "data": {
      "text/plain": [
       "<AxesSubplot:xlabel='Start_Time'>"
      ]
     },
     "execution_count": 42,
     "metadata": {},
     "output_type": "execute_result"
    },
    {
     "data": {
      "image/png": "[encoded data removed]",
      "text/plain": [
       "<Figure size 432x288 with 1 Axes>"
      ]
     },
     "metadata": {},
     "output_type": "display_data"
    }
   ],
   "source": [
    "data_set_2016 = data_set.Start_Time[data_set.Start_Time.dt.year == 2016]\n",
    "sns.distplot(data_set_2016.dt.month, bins=12, kde=False, norm_hist=True)"
   ]
  },
  {
   "cell_type": "code",
   "execution_count": 43,
   "id": "3414231c",
   "metadata": {
    "execution": {
     "iopub.execute_input": "2022-04-18T18:12:36.236498Z",
     "iopub.status.busy": "2022-04-18T18:12:36.235667Z",
     "iopub.status.idle": "2022-04-18T18:12:36.773389Z",
     "shell.execute_reply": "2022-04-18T18:12:36.772728Z",
     "shell.execute_reply.started": "2022-04-18T16:11:02.899799Z"
    },
    "papermill": {
     "duration": 0.610286,
     "end_time": "2022-04-18T18:12:36.773538",
     "exception": false,
     "start_time": "2022-04-18T18:12:36.163252",
     "status": "completed"
    },
    "tags": []
   },
   "outputs": [
    {
     "data": {
      "text/plain": [
       "<AxesSubplot:xlabel='Start_Time'>"
      ]
     },
     "execution_count": 43,
     "metadata": {},
     "output_type": "execute_result"
    },
    {
     "data": {
      "image/png": "[encoded data removed]",
      "text/plain": [
       "<Figure size 432x288 with 1 Axes>"
      ]
     },
     "metadata": {},
     "output_type": "display_data"
    }
   ],
   "source": [
    "data_set_2019 = data_set.Start_Time[data_set.Start_Time.dt.year == 2019]\n",
    "sns.distplot(data_set_2019.dt.month, bins=12, kde=False, norm_hist=True)"
   ]
  },
  {
   "cell_type": "markdown",
   "id": "d4a1efd2",
   "metadata": {
    "papermill": {
     "duration": 0.068484,
     "end_time": "2022-04-18T18:12:36.912719",
     "exception": false,
     "start_time": "2022-04-18T18:12:36.844235",
     "status": "completed"
    },
    "tags": []
   },
   "source": [
    "We can see that the data provided might not be complete during 2016\n"
   ]
  },
  {
   "cell_type": "markdown",
   "id": "f7c00bbe",
   "metadata": {
    "papermill": {
     "duration": 0.067585,
     "end_time": "2022-04-18T18:12:37.050363",
     "exception": false,
     "start_time": "2022-04-18T18:12:36.982778",
     "status": "completed"
    },
    "tags": []
   },
   "source": [
    "# Start lattitude and longitude"
   ]
  },
  {
   "cell_type": "code",
   "execution_count": 44,
   "id": "b2e9e736",
   "metadata": {
    "execution": {
     "iopub.execute_input": "2022-04-18T18:12:37.195088Z",
     "iopub.status.busy": "2022-04-18T18:12:37.194202Z",
     "iopub.status.idle": "2022-04-18T18:12:37.200852Z",
     "shell.execute_reply": "2022-04-18T18:12:37.201388Z",
     "shell.execute_reply.started": "2022-04-18T16:37:10.875253Z"
    },
    "papermill": {
     "duration": 0.079343,
     "end_time": "2022-04-18T18:12:37.201546",
     "exception": false,
     "start_time": "2022-04-18T18:12:37.122203",
     "status": "completed"
    },
    "tags": []
   },
   "outputs": [
    {
     "data": {
      "text/plain": [
       "0          40.108910\n",
       "1          39.865420\n",
       "2          39.102660\n",
       "3          41.062130\n",
       "4          39.172393\n",
       "             ...    \n",
       "2845337    34.002480\n",
       "2845338    32.766960\n",
       "2845339    33.775450\n",
       "2845340    33.992460\n",
       "2845341    34.133930\n",
       "Name: Start_Lat, Length: 2845342, dtype: float64"
      ]
     },
     "execution_count": 44,
     "metadata": {},
     "output_type": "execute_result"
    }
   ],
   "source": [
    "data_set.Start_Lat"
   ]
  },
  {
   "cell_type": "code",
   "execution_count": 45,
   "id": "f1719c93",
   "metadata": {
    "execution": {
     "iopub.execute_input": "2022-04-18T18:12:37.342991Z",
     "iopub.status.busy": "2022-04-18T18:12:37.342340Z",
     "iopub.status.idle": "2022-04-18T18:12:37.346173Z",
     "shell.execute_reply": "2022-04-18T18:12:37.346718Z",
     "shell.execute_reply.started": "2022-04-18T16:37:47.591819Z"
    },
    "papermill": {
     "duration": 0.077066,
     "end_time": "2022-04-18T18:12:37.346879",
     "exception": false,
     "start_time": "2022-04-18T18:12:37.269813",
     "status": "completed"
    },
    "tags": []
   },
   "outputs": [
    {
     "data": {
      "text/plain": [
       "0          -83.092860\n",
       "1          -84.062800\n",
       "2          -84.524680\n",
       "3          -81.537840\n",
       "4          -84.492792\n",
       "              ...    \n",
       "2845337   -117.379360\n",
       "2845338   -117.148060\n",
       "2845339   -117.847790\n",
       "2845340   -118.403020\n",
       "2845341   -117.230920\n",
       "Name: Start_Lng, Length: 2845342, dtype: float64"
      ]
     },
     "execution_count": 45,
     "metadata": {},
     "output_type": "execute_result"
    }
   ],
   "source": [
    "data_set.Start_Lng"
   ]
  },
  {
   "cell_type": "code",
   "execution_count": 46,
   "id": "6a1911e5",
   "metadata": {
    "execution": {
     "iopub.execute_input": "2022-04-18T18:12:37.486958Z",
     "iopub.status.busy": "2022-04-18T18:12:37.486367Z",
     "iopub.status.idle": "2022-04-18T18:12:47.498053Z",
     "shell.execute_reply": "2022-04-18T18:12:47.498522Z",
     "shell.execute_reply.started": "2022-04-18T16:39:32.048139Z"
    },
    "papermill": {
     "duration": 10.082634,
     "end_time": "2022-04-18T18:12:47.498682",
     "exception": false,
     "start_time": "2022-04-18T18:12:37.416048",
     "status": "completed"
    },
    "tags": []
   },
   "outputs": [
    {
     "data": {
      "text/plain": [
       "<AxesSubplot:xlabel='Start_Lng', ylabel='Start_Lat'>"
      ]
     },
     "execution_count": 46,
     "metadata": {},
     "output_type": "execute_result"
    },
    {
     "data": {
      "image/png": "[encoded data removed]",
      "text/plain": [
       "<Figure size 432x288 with 1 Axes>"
      ]
     },
     "metadata": {},
     "output_type": "display_data"
    }
   ],
   "source": [
    "sns.scatterplot(x=data_set.Start_Lng, y=data_set.Start_Lat)"
   ]
  },
  {
   "cell_type": "markdown",
   "id": "c3365707",
   "metadata": {
    "papermill": {
     "duration": 0.072087,
     "end_time": "2022-04-18T18:12:47.644208",
     "exception": false,
     "start_time": "2022-04-18T18:12:47.572121",
     "status": "completed"
    },
    "tags": []
   },
   "source": [
    "Reducing point size"
   ]
  },
  {
   "cell_type": "code",
   "execution_count": 47,
   "id": "fd882858",
   "metadata": {
    "execution": {
     "iopub.execute_input": "2022-04-18T18:12:47.795982Z",
     "iopub.status.busy": "2022-04-18T18:12:47.794928Z",
     "iopub.status.idle": "2022-04-18T18:12:57.837074Z",
     "shell.execute_reply": "2022-04-18T18:12:57.837534Z",
     "shell.execute_reply.started": "2022-04-18T16:43:56.437829Z"
    },
    "papermill": {
     "duration": 10.120775,
     "end_time": "2022-04-18T18:12:57.837699",
     "exception": false,
     "start_time": "2022-04-18T18:12:47.716924",
     "status": "completed"
    },
    "tags": []
   },
   "outputs": [
    {
     "data": {
      "text/plain": [
       "<AxesSubplot:xlabel='Start_Lng', ylabel='Start_Lat'>"
      ]
     },
     "execution_count": 47,
     "metadata": {},
     "output_type": "execute_result"
    },
    {
     "data": {
      "image/png": "[encoded data removed]",
      "text/plain": [
       "<Figure size 432x288 with 1 Axes>"
      ]
     },
     "metadata": {},
     "output_type": "display_data"
    }
   ],
   "source": [
    "sample_data_set = data_set.sample(int(0.1*len(data_set)))\n",
    "sns.scatterplot(x=sample_data_set.Start_Lng, y=sample_data_set.Start_Lat, size = 0.001)"
   ]
  },
  {
   "cell_type": "code",
   "execution_count": 48,
   "id": "c650dbb3",
   "metadata": {
    "execution": {
     "iopub.execute_input": "2022-04-18T18:12:57.994369Z",
     "iopub.status.busy": "2022-04-18T18:12:57.993718Z",
     "iopub.status.idle": "2022-04-18T18:12:57.998265Z",
     "shell.execute_reply": "2022-04-18T18:12:57.998800Z",
     "shell.execute_reply.started": "2022-04-18T16:56:24.329526Z"
    },
    "papermill": {
     "duration": 0.084834,
     "end_time": "2022-04-18T18:12:57.998953",
     "exception": false,
     "start_time": "2022-04-18T18:12:57.914119",
     "status": "completed"
    },
    "tags": []
   },
   "outputs": [
    {
     "data": {
      "text/plain": [
       "(40.10891, -83.09286)"
      ]
     },
     "execution_count": 48,
     "metadata": {},
     "output_type": "execute_result"
    }
   ],
   "source": [
    "lat, lng = data_set.Start_Lat[0], data_set.Start_Lng[0]\n",
    "lat, lng"
   ]
  },
  {
   "cell_type": "code",
   "execution_count": 49,
   "id": "43042e05",
   "metadata": {
    "execution": {
     "iopub.execute_input": "2022-04-18T18:12:58.158088Z",
     "iopub.status.busy": "2022-04-18T18:12:58.157442Z",
     "iopub.status.idle": "2022-04-18T18:12:58.177768Z",
     "shell.execute_reply": "2022-04-18T18:12:58.177145Z",
     "shell.execute_reply.started": "2022-04-18T17:44:20.072000Z"
    },
    "papermill": {
     "duration": 0.101795,
     "end_time": "2022-04-18T18:12:58.177901",
     "exception": false,
     "start_time": "2022-04-18T18:12:58.076106",
     "status": "completed"
    },
    "tags": []
   },
   "outputs": [
    {
     "data": {
      "text/html": [
       "<div style=\"width:100%;\"><div style=\"position:relative;width:100%;height:0;padding-bottom:60%;\"><span style=\"color:#565656\">Make this Notebook Trusted to load map: File -> Trust Notebook</span><iframe src=\"about:blank\" style=\"position:absolute;width:100%;height:100%;left:0;top:0;border:none !important;\" data-html=%3C%21DOCTYPE%20html%3E%0A%3Chead%3E%20%20%20%20%0A%20%20%20%20%3Cmeta%20http-equiv%3D%22content-type%22%20content%3D%22text/html%3B%20charset%3DUTF-8%22%20/%3E%0A%20%20%20%20%0A%20%20%20%20%20%20%20%20%3Cscript%3E%0A%20%20%20%20%20%20%20%20%20%20%20%20L_NO_TOUCH%20%3D%20false%3B%0A%20%20%20%20%20%20%20%20%20%20%20%20L_DISABLE_3D%20%3D%20false%3B%0A%20%20%20%20%20%20%20%20%3C/script%3E%0A%20%20%20%20%0A%20%20%20%20%3Cstyle%3Ehtml%2C%20body%20%7Bwidth%3A%20100%25%3Bheight%3A%20100%25%3Bmargin%3A%200%3Bpadding%3A%200%3B%7D%3C/style%3E%0A%20%20%20%20%3Cstyle%3E%23map%20%7Bposition%3Aabsolute%3Btop%3A0%3Bbottom%3A0%3Bright%3A0%3Bleft%3A0%3B%7D%3C/style%3E%0A%20%20%20%20%3Cscript%20src%3D%22https%3A//cdn.jsdelivr.net/npm/leaflet%401.6.0/dist/leaflet.js%22%3E%3C/script%3E%0A%20%20%20%20%3Cscript%20src%3D%22https%3A//code.jquery.com/jquery-1.12.4.min.js%22%3E%3C/script%3E%0A%20%20%20%20%3Cscript%20src%3D%22https%3A//maxcdn.bootstrapcdn.com/bootstrap/3.2.0/js/bootstrap.min.js%22%3E%3C/script%3E%0A%20%20%20%20%3Cscript%20src%3D%22https%3A//cdnjs.cloudflare.com/ajax/libs/Leaflet.awesome-markers/2.0.2/leaflet.awesome-markers.js%22%3E%3C/script%3E%0A%20%20%20%20%3Clink%20rel%3D%22stylesheet%22%20href%3D%22https%3A//cdn.jsdelivr.net/npm/leaflet%401.6.0/dist/leaflet.css%22/%3E%0A%20%20%20%20%3Clink%20rel%3D%22stylesheet%22%20href%3D%22https%3A//maxcdn.bootstrapcdn.com/bootstrap/3.2.0/css/bootstrap.min.css%22/%3E%0A%20%20%20%20%3Clink%20rel%3D%22stylesheet%22%20href%3D%22https%3A//maxcdn.bootstrapcdn.com/bootstrap/3.2.0/css/bootstrap-theme.min.css%22/%3E%0A%20%20%20%20%3Clink%20rel%3D%22stylesheet%22%20href%3D%22https%3A//maxcdn.bootstrapcdn.com/font-awesome/4.6.3/css/font-awesome.min.css%22/%3E%0A%20%20%20%20%3Clink%20rel%3D%22stylesheet%22%20href%3D%22https%3A//cdnjs.cloudflare.com/ajax/libs/Leaflet.awesome-markers/2.0.2/leaflet.awesome-markers.css%22/%3E%0A%20%20%20%20%3Clink%20rel%3D%22stylesheet%22%20href%3D%22https%3A//cdn.jsdelivr.net/gh/python-visualization/folium/folium/templates/leaflet.awesome.rotate.min.css%22/%3E%0A%20%20%20%20%0A%20%20%20%20%20%20%20%20%20%20%20%20%3Cmeta%20name%3D%22viewport%22%20content%3D%22width%3Ddevice-width%2C%0A%20%20%20%20%20%20%20%20%20%20%20%20%20%20%20%20initial-scale%3D1.0%2C%20maximum-scale%3D1.0%2C%20user-scalable%3Dno%22%20/%3E%0A%20%20%20%20%20%20%20%20%20%20%20%20%3Cstyle%3E%0A%20%20%20%20%20%20%20%20%20%20%20%20%20%20%20%20%23map_fa676d22d2d3469287363e0564880276%20%7B%0A%20%20%20%20%20%20%20%20%20%20%20%20%20%20%20%20%20%20%20%20position%3A%20relative%3B%0A%20%20%20%20%20%20%20%20%20%20%20%20%20%20%20%20%20%20%20%20width%3A%20100.0%25%3B%0A%20%20%20%20%20%20%20%20%20%20%20%20%20%20%20%20%20%20%20%20height%3A%20100.0%25%3B%0A%20%20%20%20%20%20%20%20%20%20%20%20%20%20%20%20%20%20%20%20left%3A%200.0%25%3B%0A%20%20%20%20%20%20%20%20%20%20%20%20%20%20%20%20%20%20%20%20top%3A%200.0%25%3B%0A%20%20%20%20%20%20%20%20%20%20%20%20%20%20%20%20%7D%0A%20%20%20%20%20%20%20%20%20%20%20%20%3C/style%3E%0A%20%20%20%20%20%20%20%20%0A%3C/head%3E%0A%3Cbody%3E%20%20%20%20%0A%20%20%20%20%0A%20%20%20%20%20%20%20%20%20%20%20%20%3Cdiv%20class%3D%22folium-map%22%20id%3D%22map_fa676d22d2d3469287363e0564880276%22%20%3E%3C/div%3E%0A%20%20%20%20%20%20%20%20%0A%3C/body%3E%0A%3Cscript%3E%20%20%20%20%0A%20%20%20%20%0A%20%20%20%20%20%20%20%20%20%20%20%20var%20map_fa676d22d2d3469287363e0564880276%20%3D%20L.map%28%0A%20%20%20%20%20%20%20%20%20%20%20%20%20%20%20%20%22map_fa676d22d2d3469287363e0564880276%22%2C%0A%20%20%20%20%20%20%20%20%20%20%20%20%20%20%20%20%7B%0A%20%20%20%20%20%20%20%20%20%20%20%20%20%20%20%20%20%20%20%20center%3A%20%5B40.10891%2C%20-83.09286%5D%2C%0A%20%20%20%20%20%20%20%20%20%20%20%20%20%20%20%20%20%20%20%20crs%3A%20L.CRS.EPSG3857%2C%0A%20%20%20%20%20%20%20%20%20%20%20%20%20%20%20%20%20%20%20%20zoom%3A%2010%2C%0A%20%20%20%20%20%20%20%20%20%20%20%20%20%20%20%20%20%20%20%20zoomControl%3A%20true%2C%0A%20%20%20%20%20%20%20%20%20%20%20%20%20%20%20%20%20%20%20%20preferCanvas%3A%20false%2C%0A%20%20%20%20%20%20%20%20%20%20%20%20%20%20%20%20%7D%0A%20%20%20%20%20%20%20%20%20%20%20%20%29%3B%0A%0A%20%20%20%20%20%20%20%20%20%20%20%20%0A%0A%20%20%20%20%20%20%20%20%0A%20%20%20%20%0A%20%20%20%20%20%20%20%20%20%20%20%20var%20tile_layer_99d7acbd5aa047fb83d9e637851e6264%20%3D%20L.tileLayer%28%0A%20%20%20%20%20%20%20%20%20%20%20%20%20%20%20%20%22https%3A//%7Bs%7D.tile.openstreetmap.org/%7Bz%7D/%7Bx%7D/%7By%7D.png%22%2C%0A%20%20%20%20%20%20%20%20%20%20%20%20%20%20%20%20%7B%22attribution%22%3A%20%22Data%20by%20%5Cu0026copy%3B%20%5Cu003ca%20href%3D%5C%22http%3A//openstreetmap.org%5C%22%5Cu003eOpenStreetMap%5Cu003c/a%5Cu003e%2C%20under%20%5Cu003ca%20href%3D%5C%22http%3A//www.openstreetmap.org/copyright%5C%22%5Cu003eODbL%5Cu003c/a%5Cu003e.%22%2C%20%22detectRetina%22%3A%20false%2C%20%22maxNativeZoom%22%3A%2018%2C%20%22maxZoom%22%3A%2018%2C%20%22minZoom%22%3A%200%2C%20%22noWrap%22%3A%20false%2C%20%22opacity%22%3A%201%2C%20%22subdomains%22%3A%20%22abc%22%2C%20%22tms%22%3A%20false%7D%0A%20%20%20%20%20%20%20%20%20%20%20%20%29.addTo%28map_fa676d22d2d3469287363e0564880276%29%3B%0A%20%20%20%20%20%20%20%20%0A%3C/script%3E onload=\"this.contentDocument.open();this.contentDocument.write(    decodeURIComponent(this.getAttribute('data-html')));this.contentDocument.close();\" allowfullscreen webkitallowfullscreen mozallowfullscreen></iframe></div></div>"
      ],
      "text/plain": [
       "<folium.folium.Map at 0x7f55d87e2450>"
      ]
     },
     "execution_count": 49,
     "metadata": {},
     "output_type": "execute_result"
    }
   ],
   "source": [
    "folium.Map((lat, lng))"
   ]
  },
  {
   "cell_type": "code",
   "execution_count": 50,
   "id": "1cac6ad4",
   "metadata": {
    "execution": {
     "iopub.execute_input": "2022-04-18T18:12:58.336900Z",
     "iopub.status.busy": "2022-04-18T18:12:58.336343Z",
     "iopub.status.idle": "2022-04-18T18:12:58.348115Z",
     "shell.execute_reply": "2022-04-18T18:12:58.348662Z",
     "shell.execute_reply.started": "2022-04-18T17:44:56.299220Z"
    },
    "papermill": {
     "duration": 0.092851,
     "end_time": "2022-04-18T18:12:58.348831",
     "exception": false,
     "start_time": "2022-04-18T18:12:58.255980",
     "status": "completed"
    },
    "tags": []
   },
   "outputs": [
    {
     "data": {
      "text/html": [
       "<div style=\"width:100%;\"><div style=\"position:relative;width:100%;height:0;padding-bottom:60%;\"><span style=\"color:#565656\">Make this Notebook Trusted to load map: File -> Trust Notebook</span><iframe src=\"about:blank\" style=\"position:absolute;width:100%;height:100%;left:0;top:0;border:none !important;\" data-html=%3C%21DOCTYPE%20html%3E%0A%3Chead%3E%20%20%20%20%0A%20%20%20%20%3Cmeta%20http-equiv%3D%22content-type%22%20content%3D%22text/html%3B%20charset%3DUTF-8%22%20/%3E%0A%20%20%20%20%0A%20%20%20%20%20%20%20%20%3Cscript%3E%0A%20%20%20%20%20%20%20%20%20%20%20%20L_NO_TOUCH%20%3D%20false%3B%0A%20%20%20%20%20%20%20%20%20%20%20%20L_DISABLE_3D%20%3D%20false%3B%0A%20%20%20%20%20%20%20%20%3C/script%3E%0A%20%20%20%20%0A%20%20%20%20%3Cstyle%3Ehtml%2C%20body%20%7Bwidth%3A%20100%25%3Bheight%3A%20100%25%3Bmargin%3A%200%3Bpadding%3A%200%3B%7D%3C/style%3E%0A%20%20%20%20%3Cstyle%3E%23map%20%7Bposition%3Aabsolute%3Btop%3A0%3Bbottom%3A0%3Bright%3A0%3Bleft%3A0%3B%7D%3C/style%3E%0A%20%20%20%20%3Cscript%20src%3D%22https%3A//cdn.jsdelivr.net/npm/leaflet%401.6.0/dist/leaflet.js%22%3E%3C/script%3E%0A%20%20%20%20%3Cscript%20src%3D%22https%3A//code.jquery.com/jquery-1.12.4.min.js%22%3E%3C/script%3E%0A%20%20%20%20%3Cscript%20src%3D%22https%3A//maxcdn.bootstrapcdn.com/bootstrap/3.2.0/js/bootstrap.min.js%22%3E%3C/script%3E%0A%20%20%20%20%3Cscript%20src%3D%22https%3A//cdnjs.cloudflare.com/ajax/libs/Leaflet.awesome-markers/2.0.2/leaflet.awesome-markers.js%22%3E%3C/script%3E%0A%20%20%20%20%3Clink%20rel%3D%22stylesheet%22%20href%3D%22https%3A//cdn.jsdelivr.net/npm/leaflet%401.6.0/dist/leaflet.css%22/%3E%0A%20%20%20%20%3Clink%20rel%3D%22stylesheet%22%20href%3D%22https%3A//maxcdn.bootstrapcdn.com/bootstrap/3.2.0/css/bootstrap.min.css%22/%3E%0A%20%20%20%20%3Clink%20rel%3D%22stylesheet%22%20href%3D%22https%3A//maxcdn.bootstrapcdn.com/bootstrap/3.2.0/css/bootstrap-theme.min.css%22/%3E%0A%20%20%20%20%3Clink%20rel%3D%22stylesheet%22%20href%3D%22https%3A//maxcdn.bootstrapcdn.com/font-awesome/4.6.3/css/font-awesome.min.css%22/%3E%0A%20%20%20%20%3Clink%20rel%3D%22stylesheet%22%20href%3D%22https%3A//cdnjs.cloudflare.com/ajax/libs/Leaflet.awesome-markers/2.0.2/leaflet.awesome-markers.css%22/%3E%0A%20%20%20%20%3Clink%20rel%3D%22stylesheet%22%20href%3D%22https%3A//cdn.jsdelivr.net/gh/python-visualization/folium/folium/templates/leaflet.awesome.rotate.min.css%22/%3E%0A%20%20%20%20%0A%20%20%20%20%20%20%20%20%20%20%20%20%3Cmeta%20name%3D%22viewport%22%20content%3D%22width%3Ddevice-width%2C%0A%20%20%20%20%20%20%20%20%20%20%20%20%20%20%20%20initial-scale%3D1.0%2C%20maximum-scale%3D1.0%2C%20user-scalable%3Dno%22%20/%3E%0A%20%20%20%20%20%20%20%20%20%20%20%20%3Cstyle%3E%0A%20%20%20%20%20%20%20%20%20%20%20%20%20%20%20%20%23map_87092e87031847d8add47b5f684ffff8%20%7B%0A%20%20%20%20%20%20%20%20%20%20%20%20%20%20%20%20%20%20%20%20position%3A%20relative%3B%0A%20%20%20%20%20%20%20%20%20%20%20%20%20%20%20%20%20%20%20%20width%3A%20100.0%25%3B%0A%20%20%20%20%20%20%20%20%20%20%20%20%20%20%20%20%20%20%20%20height%3A%20100.0%25%3B%0A%20%20%20%20%20%20%20%20%20%20%20%20%20%20%20%20%20%20%20%20left%3A%200.0%25%3B%0A%20%20%20%20%20%20%20%20%20%20%20%20%20%20%20%20%20%20%20%20top%3A%200.0%25%3B%0A%20%20%20%20%20%20%20%20%20%20%20%20%20%20%20%20%7D%0A%20%20%20%20%20%20%20%20%20%20%20%20%3C/style%3E%0A%20%20%20%20%20%20%20%20%0A%3C/head%3E%0A%3Cbody%3E%20%20%20%20%0A%20%20%20%20%0A%20%20%20%20%20%20%20%20%20%20%20%20%3Cdiv%20class%3D%22folium-map%22%20id%3D%22map_87092e87031847d8add47b5f684ffff8%22%20%3E%3C/div%3E%0A%20%20%20%20%20%20%20%20%0A%3C/body%3E%0A%3Cscript%3E%20%20%20%20%0A%20%20%20%20%0A%20%20%20%20%20%20%20%20%20%20%20%20var%20map_87092e87031847d8add47b5f684ffff8%20%3D%20L.map%28%0A%20%20%20%20%20%20%20%20%20%20%20%20%20%20%20%20%22map_87092e87031847d8add47b5f684ffff8%22%2C%0A%20%20%20%20%20%20%20%20%20%20%20%20%20%20%20%20%7B%0A%20%20%20%20%20%20%20%20%20%20%20%20%20%20%20%20%20%20%20%20center%3A%20%5B0%2C%200%5D%2C%0A%20%20%20%20%20%20%20%20%20%20%20%20%20%20%20%20%20%20%20%20crs%3A%20L.CRS.EPSG3857%2C%0A%20%20%20%20%20%20%20%20%20%20%20%20%20%20%20%20%20%20%20%20zoom%3A%201%2C%0A%20%20%20%20%20%20%20%20%20%20%20%20%20%20%20%20%20%20%20%20zoomControl%3A%20true%2C%0A%20%20%20%20%20%20%20%20%20%20%20%20%20%20%20%20%20%20%20%20preferCanvas%3A%20false%2C%0A%20%20%20%20%20%20%20%20%20%20%20%20%20%20%20%20%7D%0A%20%20%20%20%20%20%20%20%20%20%20%20%29%3B%0A%0A%20%20%20%20%20%20%20%20%20%20%20%20%0A%0A%20%20%20%20%20%20%20%20%0A%20%20%20%20%0A%20%20%20%20%20%20%20%20%20%20%20%20var%20tile_layer_c0cba330e49e463da6f47e9df4da103d%20%3D%20L.tileLayer%28%0A%20%20%20%20%20%20%20%20%20%20%20%20%20%20%20%20%22https%3A//%7Bs%7D.tile.openstreetmap.org/%7Bz%7D/%7Bx%7D/%7By%7D.png%22%2C%0A%20%20%20%20%20%20%20%20%20%20%20%20%20%20%20%20%7B%22attribution%22%3A%20%22Data%20by%20%5Cu0026copy%3B%20%5Cu003ca%20href%3D%5C%22http%3A//openstreetmap.org%5C%22%5Cu003eOpenStreetMap%5Cu003c/a%5Cu003e%2C%20under%20%5Cu003ca%20href%3D%5C%22http%3A//www.openstreetmap.org/copyright%5C%22%5Cu003eODbL%5Cu003c/a%5Cu003e.%22%2C%20%22detectRetina%22%3A%20false%2C%20%22maxNativeZoom%22%3A%2018%2C%20%22maxZoom%22%3A%2018%2C%20%22minZoom%22%3A%200%2C%20%22noWrap%22%3A%20false%2C%20%22opacity%22%3A%201%2C%20%22subdomains%22%3A%20%22abc%22%2C%20%22tms%22%3A%20false%7D%0A%20%20%20%20%20%20%20%20%20%20%20%20%29.addTo%28map_87092e87031847d8add47b5f684ffff8%29%3B%0A%20%20%20%20%20%20%20%20%0A%20%20%20%20%0A%20%20%20%20%20%20%20%20%20%20%20%20var%20marker_1d77c0b1bd984da5bd90b9cb9041aefa%20%3D%20L.marker%28%0A%20%20%20%20%20%20%20%20%20%20%20%20%20%20%20%20%5B40.10891%2C%20-83.09286%5D%2C%0A%20%20%20%20%20%20%20%20%20%20%20%20%20%20%20%20%7B%7D%0A%20%20%20%20%20%20%20%20%20%20%20%20%29.addTo%28map_87092e87031847d8add47b5f684ffff8%29%3B%0A%20%20%20%20%20%20%20%20%0A%3C/script%3E onload=\"this.contentDocument.open();this.contentDocument.write(    decodeURIComponent(this.getAttribute('data-html')));this.contentDocument.close();\" allowfullscreen webkitallowfullscreen mozallowfullscreen></iframe></div></div>"
      ],
      "text/plain": [
       "<folium.folium.Map at 0x7f55d87a07d0>"
      ]
     },
     "execution_count": 50,
     "metadata": {},
     "output_type": "execute_result"
    }
   ],
   "source": [
    "map = folium.Map()\n",
    "marker = folium.Marker((lat,lng))\n",
    "marker.add_to(map)\n",
    "map"
   ]
  },
  {
   "cell_type": "markdown",
   "id": "669ea055",
   "metadata": {
    "papermill": {
     "duration": 0.077379,
     "end_time": "2022-04-18T18:12:58.506655",
     "exception": false,
     "start_time": "2022-04-18T18:12:58.429276",
     "status": "completed"
    },
    "tags": []
   },
   "source": [
    "converting lat and lngs into a list"
   ]
  },
  {
   "cell_type": "code",
   "execution_count": 51,
   "id": "95f3b27f",
   "metadata": {
    "execution": {
     "iopub.execute_input": "2022-04-18T18:12:58.665146Z",
     "iopub.status.busy": "2022-04-18T18:12:58.664562Z",
     "iopub.status.idle": "2022-04-18T18:12:58.812331Z",
     "shell.execute_reply": "2022-04-18T18:12:58.811765Z",
     "shell.execute_reply.started": "2022-04-18T17:58:00.504613Z"
    },
    "papermill": {
     "duration": 0.227871,
     "end_time": "2022-04-18T18:12:58.812478",
     "exception": false,
     "start_time": "2022-04-18T18:12:58.584607",
     "status": "completed"
    },
    "tags": []
   },
   "outputs": [],
   "source": [
    "sample_df= data_set.sample(int(0.001 * len(data_set)))\n",
    "lat_lng_pairs = list(zip(list(sample_df.Start_Lat), list(sample_df.Start_Lng)))"
   ]
  },
  {
   "cell_type": "code",
   "execution_count": 52,
   "id": "2feb85b7",
   "metadata": {
    "execution": {
     "iopub.execute_input": "2022-04-18T18:12:58.977121Z",
     "iopub.status.busy": "2022-04-18T18:12:58.976504Z",
     "iopub.status.idle": "2022-04-18T18:12:59.016268Z",
     "shell.execute_reply": "2022-04-18T18:12:59.016768Z",
     "shell.execute_reply.started": "2022-04-18T17:58:58.228902Z"
    },
    "papermill": {
     "duration": 0.125628,
     "end_time": "2022-04-18T18:12:59.016933",
     "exception": false,
     "start_time": "2022-04-18T18:12:58.891305",
     "status": "completed"
    },
    "tags": []
   },
   "outputs": [
    {
     "data": {
      "text/html": [
       "<div style=\"width:100%;\"><div style=\"position:relative;width:100%;height:0;padding-bottom:60%;\"><span style=\"color:#565656\">Make this Notebook Trusted to load map: File -> Trust Notebook</span><iframe src=\"about:blank\" style=\"position:absolute;width:100%;height:100%;left:0;top:0;border:none !important;\" data-html=%3C%21DOCTYPE%20html%3E%0A%3Chead%3E%20%20%20%20%0A%20%20%20%20%3Cmeta%20http-equiv%3D%22content-type%22%20content%3D%22text/html%3B%20charset%3DUTF-8%22%20/%3E%0A%20%20%20%20%0A%20%20%20%20%20%20%20%20%3Cscript%3E%0A%20%20%20%20%20%20%20%20%20%20%20%20L_NO_TOUCH%20%3D%20false%3B%0A%20%20%20%20%20%20%20%20%20%20%20%20L_DISABLE_3D%20%3D%20false%3B%0A%20%20%20%20%20%20%20%20%3C/script%3E%0A%20%20%20%20%0A%20%20%20%20%3Cstyle%3Ehtml%2C%20body%20%7Bwidth%3A%20100%25%3Bheight%3A%20100%25%3Bmargin%3A%200%3Bpadding%3A%200%3B%7D%3C/style%3E%0A%20%20%20%20%3Cstyle%3E%23map%20%7Bposition%3Aabsolute%3Btop%3A0%3Bbottom%3A0%3Bright%3A0%3Bleft%3A0%3B%7D%3C/style%3E%0A%20%20%20%20%3Cscript%20src%3D%22https%3A//cdn.jsdelivr.net/npm/leaflet%401.6.0/dist/leaflet.js%22%3E%3C/script%3E%0A%20%20%20%20%3Cscript%20src%3D%22https%3A//code.jquery.com/jquery-1.12.4.min.js%22%3E%3C/script%3E%0A%20%20%20%20%3Cscript%20src%3D%22https%3A//maxcdn.bootstrapcdn.com/bootstrap/3.2.0/js/bootstrap.min.js%22%3E%3C/script%3E%0A%20%20%20%20%3Cscript%20src%3D%22https%3A//cdnjs.cloudflare.com/ajax/libs/Leaflet.awesome-markers/2.0.2/leaflet.awesome-markers.js%22%3E%3C/script%3E%0A%20%20%20%20%3Clink%20rel%3D%22stylesheet%22%20href%3D%22https%3A//cdn.jsdelivr.net/npm/leaflet%401.6.0/dist/leaflet.css%22/%3E%0A%20%20%20%20%3Clink%20rel%3D%22stylesheet%22%20href%3D%22https%3A//maxcdn.bootstrapcdn.com/bootstrap/3.2.0/css/bootstrap.min.css%22/%3E%0A%20%20%20%20%3Clink%20rel%3D%22stylesheet%22%20href%3D%22https%3A//maxcdn.bootstrapcdn.com/bootstrap/3.2.0/css/bootstrap-theme.min.css%22/%3E%0A%20%20%20%20%3Clink%20rel%3D%22stylesheet%22%20href%3D%22https%3A//maxcdn.bootstrapcdn.com/font-awesome/4.6.3/css/font-awesome.min.css%22/%3E%0A%20%20%20%20%3Clink%20rel%3D%22stylesheet%22%20href%3D%22https%3A//cdnjs.cloudflare.com/ajax/libs/Leaflet.awesome-markers/2.0.2/leaflet.awesome-markers.css%22/%3E%0A%20%20%20%20%3Clink%20rel%3D%22stylesheet%22%20href%3D%22https%3A//cdn.jsdelivr.net/gh/python-visualization/folium/folium/templates/leaflet.awesome.rotate.min.css%22/%3E%0A%20%20%20%20%0A%20%20%20%20%20%20%20%20%20%20%20%20%3Cmeta%20name%3D%22viewport%22%20content%3D%22width%3Ddevice-width%2C%0A%20%20%20%20%20%20%20%20%20%20%20%20%20%20%20%20initial-scale%3D1.0%2C%20maximum-scale%3D1.0%2C%20user-scalable%3Dno%22%20/%3E%0A%20%20%20%20%20%20%20%20%20%20%20%20%3Cstyle%3E%0A%20%20%20%20%20%20%20%20%20%20%20%20%20%20%20%20%23map_c54bd5f58d4543b49419f20fbfde863c%20%7B%0A%20%20%20%20%20%20%20%20%20%20%20%20%20%20%20%20%20%20%20%20position%3A%20relative%3B%0A%20%20%20%20%20%20%20%20%20%20%20%20%20%20%20%20%20%20%20%20width%3A%20100.0%25%3B%0A%20%20%20%20%20%20%20%20%20%20%20%20%20%20%20%20%20%20%20%20height%3A%20100.0%25%3B%0A%20%20%20%20%20%20%20%20%20%20%20%20%20%20%20%20%20%20%20%20left%3A%200.0%25%3B%0A%20%20%20%20%20%20%20%20%20%20%20%20%20%20%20%20%20%20%20%20top%3A%200.0%25%3B%0A%20%20%20%20%20%20%20%20%20%20%20%20%20%20%20%20%7D%0A%20%20%20%20%20%20%20%20%20%20%20%20%3C/style%3E%0A%20%20%20%20%20%20%20%20%0A%20%20%20%20%3Cscript%20src%3D%22https%3A//cdn.jsdelivr.net/gh/python-visualization/folium%40master/folium/templates/leaflet_heat.min.js%22%3E%3C/script%3E%0A%3C/head%3E%0A%3Cbody%3E%20%20%20%20%0A%20%20%20%20%0A%20%20%20%20%20%20%20%20%20%20%20%20%3Cdiv%20class%3D%22folium-map%22%20id%3D%22map_c54bd5f58d4543b49419f20fbfde863c%22%20%3E%3C/div%3E%0A%20%20%20%20%20%20%20%20%0A%3C/body%3E%0A%3Cscript%3E%20%20%20%20%0A%20%20%20%20%0A%20%20%20%20%20%20%20%20%20%20%20%20var%20map_c54bd5f58d4543b49419f20fbfde863c%20%3D%20L.map%28%0A%20%20%20%20%20%20%20%20%20%20%20%20%20%20%20%20%22map_c54bd5f58d4543b49419f20fbfde863c%22%2C%0A%20%20%20%20%20%20%20%20%20%20%20%20%20%20%20%20%7B%0A%20%20%20%20%20%20%20%20%20%20%20%20%20%20%20%20%20%20%20%20center%3A%20%5B0%2C%200%5D%2C%0A%20%20%20%20%20%20%20%20%20%20%20%20%20%20%20%20%20%20%20%20crs%3A%20L.CRS.EPSG3857%2C%0A%20%20%20%20%20%20%20%20%20%20%20%20%20%20%20%20%20%20%20%20zoom%3A%201%2C%0A%20%20%20%20%20%20%20%20%20%20%20%20%20%20%20%20%20%20%20%20zoomControl%3A%20true%2C%0A%20%20%20%20%20%20%20%20%20%20%20%20%20%20%20%20%20%20%20%20preferCanvas%3A%20false%2C%0A%20%20%20%20%20%20%20%20%20%20%20%20%20%20%20%20%7D%0A%20%20%20%20%20%20%20%20%20%20%20%20%29%3B%0A%0A%20%20%20%20%20%20%20%20%20%20%20%20%0A%0A%20%20%20%20%20%20%20%20%0A%20%20%20%20%0A%20%20%20%20%20%20%20%20%20%20%20%20var%20tile_layer_af7d27c30abe49b58d28c0926fd5549d%20%3D%20L.tileLayer%28%0A%20%20%20%20%20%20%20%20%20%20%20%20%20%20%20%20%22https%3A//%7Bs%7D.tile.openstreetmap.org/%7Bz%7D/%7Bx%7D/%7By%7D.png%22%2C%0A%20%20%20%20%20%20%20%20%20%20%20%20%20%20%20%20%7B%22attribution%22%3A%20%22Data%20by%20%5Cu0026copy%3B%20%5Cu003ca%20href%3D%5C%22http%3A//openstreetmap.org%5C%22%5Cu003eOpenStreetMap%5Cu003c/a%5Cu003e%2C%20under%20%5Cu003ca%20href%3D%5C%22http%3A//www.openstreetmap.org/copyright%5C%22%5Cu003eODbL%5Cu003c/a%5Cu003e.%22%2C%20%22detectRetina%22%3A%20false%2C%20%22maxNativeZoom%22%3A%2018%2C%20%22maxZoom%22%3A%2018%2C%20%22minZoom%22%3A%200%2C%20%22noWrap%22%3A%20false%2C%20%22opacity%22%3A%201%2C%20%22subdomains%22%3A%20%22abc%22%2C%20%22tms%22%3A%20false%7D%0A%20%20%20%20%20%20%20%20%20%20%20%20%29.addTo%28map_c54bd5f58d4543b49419f20fbfde863c%29%3B%0A%20%20%20%20%20%20%20%20%0A%20%20%20%20%0A%20%20%20%20%20%20%20%20%20%20%20%20var%20heat_map_4a47d3db0c134f1e93ccb59af7ea24b0%20%3D%20L.heatLayer%28%0A%20%20%20%20%20%20%20%20%20%20%20%20%20%20%20%20%5B%5B34.145733%2C%20-117.296444%5D%2C%20%5B33.927937%2C%20-118.271995%5D%2C%20%5B35.709791%2C%20-118.443578%5D%2C%20%5B30.126987%2C%20-95.443076%5D%2C%20%5B30.288526%2C%20-97.578949%5D%2C%20%5B41.057876%2C%20-73.836667%5D%2C%20%5B37.62412%2C%20-122.40088%5D%2C%20%5B37.185491%2C%20-120.325623%5D%2C%20%5B33.827539%2C%20-117.485986%5D%2C%20%5B27.939241%2C%20-82.32382199999998%5D%2C%20%5B34.13625%2C%20-117.57071%5D%2C%20%5B45.070587%2C%20-93.305434%5D%2C%20%5B37.71122%2C%20-122.16472%5D%2C%20%5B35.166556%2C%20-81.447362%5D%2C%20%5B38.7145%2C%20-121.493672%5D%2C%20%5B35.668755%2C%20-78.694822%5D%2C%20%5B37.377552%2C%20-77.40864300000001%5D%2C%20%5B40.996373%2C%20-73.657285%5D%2C%20%5B33.996386%2C%20-117.870175%5D%2C%20%5B27.859557%2C%20-82.326536%5D%2C%20%5B33.76774%2C%20-84.38901%5D%2C%20%5B30.02693%2C%20-89.96884%5D%2C%20%5B46.351944%2C%20-94.151726%5D%2C%20%5B32.718089%2C%20-117.108646%5D%2C%20%5B40.038373%2C%20-76.35511899999999%5D%2C%20%5B32.44612%2C%20-93.745987%5D%2C%20%5B25.6887%2C%20-80.47794%5D%2C%20%5B35.824817%2C%20-78.621522%5D%2C%20%5B33.57694%2C%20-111.88948%5D%2C%20%5B35.315841%2C%20-78.57588100000002%5D%2C%20%5B38.038501%2C%20-78.838234%5D%2C%20%5B28.421988%2C%20-82.64575%5D%2C%20%5B38.631257%2C%20-121.267646%5D%2C%20%5B42.887781%2C%20-85.48199%5D%2C%20%5B38.46869%2C%20-77.40587%5D%2C%20%5B36.838754%2C%20-76.15950500000002%5D%2C%20%5B34.12057%2C%20-117.8255%5D%2C%20%5B25.623158%2C%20-80.382099%5D%2C%20%5B25.684325%2C%20-80.41642900000002%5D%2C%20%5B25.733831%2C%20-80.335894%5D%2C%20%5B37.660328%2C%20-120.875326%5D%2C%20%5B34.046147999999995%2C%20-118.269335%5D%2C%20%5B28.56977%2C%20-81.237015%5D%2C%20%5B39.273592%2C%20-120.717401%5D%2C%20%5B34.412387%2C%20-119.700819%5D%2C%20%5B33.693431%2C%20-111.88967%5D%2C%20%5B34.345078%2C%20-92.392884%5D%2C%20%5B45.003207%2C%20-93.282498%5D%2C%20%5B37.071439%2C%20-121.589648%5D%2C%20%5B44.871071%2C%20-122.899922%5D%2C%20%5B42.059756%2C%20-88.046821%5D%2C%20%5B28.43162%2C%20-81.369361%5D%2C%20%5B34.026761%2C%20-118.430138%5D%2C%20%5B39.927373%2C%20-120.833955%5D%2C%20%5B38.061671%2C%20-78.93969399999997%5D%2C%20%5B42.294505%2C%20-73.874804%5D%2C%20%5B39.873064%2C%20-75.101863%5D%2C%20%5B40.386997%2C%20-78.766318%5D%2C%20%5B34.07181%2C%20-117.88365%5D%2C%20%5B25.890378%2C%20-80.184467%5D%2C%20%5B34.139057%2C%20-118.362045%5D%2C%20%5B34.018905%2C%20-118.173178%5D%2C%20%5B46.648035%2C%20-113.118376%5D%2C%20%5B34.030441%2C%20-117.672103%5D%2C%20%5B34.07377%2C%20-117.75221%5D%2C%20%5B36.093583%2C%20-79.76567%5D%2C%20%5B40.048086%2C%20-74.999551%5D%2C%20%5B37.854799%2C%20-118.474684%5D%2C%20%5B38.320586%2C%20-121.465656%5D%2C%20%5B25.661875%2C%20-80.393714%5D%2C%20%5B33.41452%2C%20-111.97833%5D%2C%20%5B35.228957%2C%20-80.75064300000003%5D%2C%20%5B33.673285%2C%20-78.907485%5D%2C%20%5B28.182094%2C%20-82.726586%5D%2C%20%5B29.83158%2C%20-95.38293%5D%2C%20%5B35.052749%2C%20-85.302661%5D%2C%20%5B39.807593%2C%20-76.678942%5D%2C%20%5B33.916431%2C%20-118.285618%5D%2C%20%5B45.581591%2C%20-118.615522%5D%2C%20%5B33.948702000000004%2C%20-98.665832%5D%2C%20%5B39.05637%2C%20-94.48403%5D%2C%20%5B33.974723%2C%20-118.234305%5D%2C%20%5B44.987678%2C%20-93.288825%5D%2C%20%5B36.17426%2C%20-115.15511%5D%2C%20%5B44.08772%2C%20-123.07293%5D%2C%20%5B41.330555%2C%20-73.81787800000002%5D%2C%20%5B35.636719%2C%20-114.431136%5D%2C%20%5B36.874109%2C%20-76.433328%5D%2C%20%5B35.26681%2C%20-90.230015%5D%2C%20%5B40.748995%2C%20-74.212438%5D%2C%20%5B47.354816%2C%20-93.574387%5D%2C%20%5B43.051404%2C%20-87.925409%5D%2C%20%5B36.759366%2C%20-76.31781600000002%5D%2C%20%5B26.498924%2C%20-81.85346%5D%2C%20%5B28.394385%2C%20-81.326192%5D%2C%20%5B39.50678%2C%20-74.518947%5D%2C%20%5B38.08624%2C%20-122.2141%5D%2C%20%5B25.589838%2C%20-80.36308100000002%5D%2C%20%5B34.11786%2C%20-118.150245%5D%2C%20%5B46.86157100000001%2C%20-101.516493%5D%2C%20%5B35.165888%2C%20-80.876153%5D%2C%20%5B42.757791%2C%20-73.941088%5D%2C%20%5B44.95136%2C%20-93.02522%5D%2C%20%5B34.49850900000001%2C%20-117.738068%5D%2C%20%5B40.659572%2C%20-74.287089%5D%2C%20%5B40.478492%2C%20-123.778678%5D%2C%20%5B28.69027%2C%20-81.227062%5D%2C%20%5B40.833657%2C%20-73.935257%5D%2C%20%5B39.86259%2C%20-75.10028%5D%2C%20%5B40.111819%2C%20-75.053613%5D%2C%20%5B37.60577%2C%20-77.51831999999997%5D%2C%20%5B30.417584%2C%20-91.090642%5D%2C%20%5B39.701611%2C%20-86.26088399999998%5D%2C%20%5B36.73721%2C%20-78.63624%5D%2C%20%5B37.302662%2C%20-120.541035%5D%2C%20%5B40.748314%2C%20-74.168504%5D%2C%20%5B32.766409%2C%20-96.914306%5D%2C%20%5B34.045442%2C%20-118.317722%5D%2C%20%5B34.66805%2C%20-118.76413%5D%2C%20%5B25.684943%2C%20-80.35309000000002%5D%2C%20%5B26.71536%2C%20-80.08528000000003%5D%2C%20%5B38.751862%2C%20-121.33128700000002%5D%2C%20%5B28.35942600000001%2C%20-81.42115600000002%5D%2C%20%5B37.58149%2C%20-77.49339%5D%2C%20%5B34.068963000000004%2C%20-118.044291%5D%2C%20%5B38.252704%2C%20-122.402442%5D%2C%20%5B34.442422%2C%20-119.789228%5D%2C%20%5B34.20221%2C%20-118.34031%5D%2C%20%5B25.769377%2C%20-80.343816%5D%2C%20%5B33.713017%2C%20-117.785464%5D%2C%20%5B33.398276%2C%20-117.594813%5D%2C%20%5B34.13925%2C%20-118.71423%5D%2C%20%5B28.119154%2C%20-82.73984%5D%2C%20%5B30.179242%2C%20-97.7699%5D%2C%20%5B41.22295%2C%20-96.08848%5D%2C%20%5B38.905817%2C%20-77.013334%5D%2C%20%5B36.262427%2C%20-121.210071%5D%2C%20%5B34.156433%2C%20-118.254987%5D%2C%20%5B34.20120900000001%2C%20-118.400017%5D%2C%20%5B40.491281%2C%20-80.010198%5D%2C%20%5B25.913339%2C%20-80.340947%5D%2C%20%5B40.627255%2C%20-74.303916%5D%2C%20%5B43.15875%2C%20-124.17764%5D%2C%20%5B37.66786%2C%20-122.39473%5D%2C%20%5B45.066674%2C%20-93.19185%5D%2C%20%5B30.458113%2C%20-88.459733%5D%2C%20%5B28.542853000000004%2C%20-81.204839%5D%2C%20%5B41.83743%2C%20-87.66932%5D%2C%20%5B37.881911%2C%20-122.308246%5D%2C%20%5B40.89281%2C%20-74.076075%5D%2C%20%5B34.11568%2C%20-117.97691%5D%2C%20%5B45.359923%2C%20-118.008309%5D%2C%20%5B45.040444%2C%20-93.096902%5D%2C%20%5B30.763635%2C%20-86.665543%5D%2C%20%5B45.51538%2C%20-122.69263%5D%2C%20%5B35.43522%2C%20-97.54826%5D%2C%20%5B40.69975%2C%20-111.90548%5D%2C%20%5B29.67941%2C%20-95.44912%5D%2C%20%5B47.607482%2C%20-122.329598%5D%2C%20%5B32.158717%2C%20-81.048237%5D%2C%20%5B40.276409%2C%20-75.260086%5D%2C%20%5B43.430339%2C%20-94.934266%5D%2C%20%5B40.65691%2C%20-74.287122%5D%2C%20%5B44.05265%2C%20-123.28669%5D%2C%20%5B41.711879%2C%20-72.587496%5D%2C%20%5B26.781641%2C%20-81.437477%5D%2C%20%5B37.51641%2C%20-77.47415%5D%2C%20%5B34.06752%2C%20-117.5549%5D%2C%20%5B35.23535%2C%20-80.8206%5D%2C%20%5B35.054439%2C%20-120.595732%5D%2C%20%5B37.781331%2C%20-122.238609%5D%2C%20%5B27.833172%2C%20-82.637833%5D%2C%20%5B32.894677%2C%20-96.897958%5D%2C%20%5B32.76709%2C%20-96.83693%5D%2C%20%5B32.924993%2C%20-96.838444%5D%2C%20%5B37.72885%2C%20-121.94449%5D%2C%20%5B38.58732%2C%20-121.503414%5D%2C%20%5B36.10266%2C%20-80.30861999999998%5D%2C%20%5B37.550516%2C%20-120.909902%5D%2C%20%5B38.549142%2C%20-104.950262%5D%2C%20%5B36.272071%2C%20-86.687488%5D%2C%20%5B34.625446999999994%2C%20-79.768576%5D%2C%20%5B39.025423%2C%20-84.561688%5D%2C%20%5B41.120429%2C%20-73.323317%5D%2C%20%5B33.637336%2C%20-111.921207%5D%2C%20%5B47.878793%2C%20-122.10976399999998%5D%2C%20%5B37.98672%2C%20-122.314041%5D%2C%20%5B35.364954%2C%20-118.967613%5D%2C%20%5B38.007276%2C%20-121.352249%5D%2C%20%5B25.645441%2C%20-80.333492%5D%2C%20%5B33.706142%2C%20-80.918104%5D%2C%20%5B34.00315%2C%20-117.83135%5D%2C%20%5B43.467084%2C%20-121.69186299999998%5D%2C%20%5B41.100238%2C%20-73.797107%5D%2C%20%5B40.70121500000001%2C%20-73.987381%5D%2C%20%5B44.740225%2C%20-93.588034%5D%2C%20%5B39.590784%2C%20-84.162176%5D%2C%20%5B29.100939%2C%20-82.234957%5D%2C%20%5B33.771217%2C%20-117.992102%5D%2C%20%5B30.267197%2C%20-81.61920699999997%5D%2C%20%5B39.943953%2C%20-75.197572%5D%2C%20%5B34.062294%2C%20-118.161746%5D%2C%20%5B26.03921%2C%20-80.16368%5D%2C%20%5B35.059498%2C%20-80.81270699999997%5D%2C%20%5B32.206959000000005%2C%20-110.929288%5D%2C%20%5B45.48067%2C%20-122.68027%5D%2C%20%5B32.85995%2C%20-96.77017%5D%2C%20%5B32.778688%2C%20-96.873894%5D%2C%20%5B40.483556%2C%20-112.745486%5D%2C%20%5B33.645582%2C%20-84.013974%5D%2C%20%5B28.613763%2C%20-81.477337%5D%2C%20%5B34.272247%2C%20-118.55627%5D%2C%20%5B33.462361%2C%20-117.136215%5D%2C%20%5B34.140066999999995%2C%20-118.760898%5D%2C%20%5B42.01785%2C%20-87.93954000000002%5D%2C%20%5B34.29598%2C%20-117.45508%5D%2C%20%5B37.70125%2C%20-122.037235%5D%2C%20%5B33.939181%2C%20-117.173856%5D%2C%20%5B30.489066%2C%20-84.02029300000002%5D%2C%20%5B45.10696%2C%20-93.18823%5D%2C%20%5B38.515836%2C%20-121.462705%5D%2C%20%5B28.449924%2C%20-81.479136%5D%2C%20%5B34.75122%2C%20-82.29444000000002%5D%2C%20%5B28.436917%2C%20-81.404464%5D%2C%20%5B38.607468%2C%20-121.270248%5D%2C%20%5B42.2065%2C%20-85.88639%5D%2C%20%5B39.349261%2C%20-76.501547%5D%2C%20%5B42.686748%2C%20-73.80653199999998%5D%2C%20%5B44.10673%2C%20-123.04447%5D%2C%20%5B28.509866%2C%20-81.417271%5D%2C%20%5B26.651109%2C%20-81.878128%5D%2C%20%5B41.88801%2C%20-88.034161%5D%2C%20%5B37.848232%2C%20-80.72720600000002%5D%2C%20%5B34.07584%2C%20-117.62046%5D%2C%20%5B33.596739%2C%20-117.246093%5D%2C%20%5B39.040411%2C%20-86.71579200000002%5D%2C%20%5B34.132464%2C%20-117.951128%5D%2C%20%5B35.20144600000001%2C%20-80.78013100000003%5D%2C%20%5B41.09994%2C%20-112.00054%5D%2C%20%5B37.936454%2C%20-122.060091%5D%2C%20%5B33.6548%2C%20-112.11461%5D%2C%20%5B40.43826%2C%20-85.01523%5D%2C%20%5B33.53157%2C%20-112.26916%5D%2C%20%5B39.90432%2C%20-78.792103%5D%2C%20%5B41.471532%2C%20-87.323938%5D%2C%20%5B39.172021%2C%20-76.846393%5D%2C%20%5B37.581466%2C%20-77.469564%5D%2C%20%5B39.77111%2C%20-104.81129%5D%2C%20%5B41.85159%2C%20-71.41003%5D%2C%20%5B43.171601%2C%20-77.646579%5D%2C%20%5B26.059259%2C%20-80.21524699999998%5D%2C%20%5B47.57948%2C%20-122.197183%5D%2C%20%5B40.824095%2C%20-73.874179%5D%2C%20%5B38.791317%2C%20-77.17580600000002%5D%2C%20%5B38.588093%2C%20-121.554955%5D%2C%20%5B40.989402%2C%20-73.664816%5D%2C%20%5B33.22788%2C%20-87.53299%5D%2C%20%5B34.061809000000004%2C%20-118.457189%5D%2C%20%5B40.78229%2C%20-74.20124100000002%5D%2C%20%5B28.280447%2C%20-82.697726%5D%2C%20%5B40.888396%2C%20-73.99662%5D%2C%20%5B40.856789%2C%20-111.900201%5D%2C%20%5B42.97778%2C%20-85.63985%5D%2C%20%5B38.671368%2C%20-77.24806%5D%2C%20%5B36.976473%2C%20-121.985231%5D%2C%20%5B35.053946999999994%2C%20-81.7436%5D%2C%20%5B25.685169%2C%20-80.446102%5D%2C%20%5B30.662785%2C%20-87.859332%5D%2C%20%5B37.988276%2C%20-122.313646%5D%2C%20%5B39.782963%2C%20-86.146491%5D%2C%20%5B38.91695%2C%20-121.06212%5D%2C%20%5B37.672722%2C%20-77.448088%5D%2C%20%5B34.981394%2C%20-85.46316800000002%5D%2C%20%5B30.382776%2C%20-81.67276700000002%5D%2C%20%5B33.214003000000005%2C%20-117.389621%5D%2C%20%5B33.873753%2C%20-118.22162%5D%2C%20%5B35.21614%2C%20-80.88372%5D%2C%20%5B26.385991%2C%20-81.808702%5D%2C%20%5B45.212634%2C%20-111.247676%5D%2C%20%5B39.512983%2C%20-76.206682%5D%2C%20%5B32.757378%2C%20-117.218574%5D%2C%20%5B39.656513%2C%20-78.053687%5D%2C%20%5B42.8077%2C%20-84.610287%5D%2C%20%5B34.085254%2C%20-80.027725%5D%2C%20%5B35.84627800000001%2C%20-78.565908%5D%2C%20%5B35.25209%2C%20-80.972553%5D%2C%20%5B42.454937%2C%20-83.095768%5D%2C%20%5B28.205878%2C%20-82.667709%5D%2C%20%5B40.76301%2C%20-73.69278%5D%2C%20%5B33.876356%2C%20-118.08236%5D%2C%20%5B41.19132000000001%2C%20-74.181878%5D%2C%20%5B36.780886%2C%20-121.31285%5D%2C%20%5B40.76100200000001%2C%20-73.778251%5D%2C%20%5B43.06065200000001%2C%20-83.733063%5D%2C%20%5B41.87346%2C%20-71.38358000000002%5D%2C%20%5B41.57432%2C%20-87.47536%5D%2C%20%5B40.495683%2C%20-79.90925899999998%5D%2C%20%5B33.717223%2C%20-117.968798%5D%2C%20%5B27.77007%2C%20-82.69983%5D%2C%20%5B29.25117%2C%20-82.115994%5D%2C%20%5B40.934295%2C%20-124.106553%5D%2C%20%5B35.722162%2C%20-78.82828%5D%2C%20%5B39.70639%2C%20-111.81876%5D%2C%20%5B43.049506%2C%20-83.492553%5D%2C%20%5B34.819363%2C%20-82.26929%5D%2C%20%5B34.078171999999995%2C%20-81.15284799999998%5D%2C%20%5B37.83735%2C%20-122.29622%5D%2C%20%5B43.312924%2C%20-122.835432%5D%2C%20%5B45.71939%2C%20-120.21235%5D%2C%20%5B25.94166%2C%20-80.4394%5D%2C%20%5B45.89056%2C%20-94.8875%5D%2C%20%5B34.072896%2C%20-117.787482%5D%2C%20%5B34.137729%2C%20-112.14834%5D%2C%20%5B33.34912%2C%20-111.9457%5D%2C%20%5B41.016365%2C%20-73.724688%5D%2C%20%5B33.047007%2C%20-117.217972%5D%2C%20%5B40.08178%2C%20-78.885906%5D%2C%20%5B36.910429%2C%20-81.295767%5D%2C%20%5B37.012623%2C%20-76.44723%5D%2C%20%5B29.959135%2C%20-90.092922%5D%2C%20%5B33.962956%2C%20-118.118911%5D%2C%20%5B29.84054%2C%20-95.318025%5D%2C%20%5B37.908665%2C%20-122.320973%5D%2C%20%5B36.753457%2C%20-121.7639%5D%2C%20%5B38.95096%2C%20-77.17737%5D%2C%20%5B28.088132%2C%20-82.454903%5D%2C%20%5B37.731946%2C%20-122.420703%5D%2C%20%5B46.07562%2C%20-123.91696%5D%2C%20%5B37.50303%2C%20-77.64899%5D%2C%20%5B38.230643%2C%20-78.974419%5D%2C%20%5B25.714006%2C%20-80.44628900000002%5D%2C%20%5B39.68359%2C%20-104.94067%5D%2C%20%5B38.939081%2C%20-94.554914%5D%2C%20%5B41.06537%2C%20-73.86457%5D%2C%20%5B30.233057%2C%20-97.875118%5D%2C%20%5B40.962717%2C%20-80.13493100000002%5D%2C%20%5B39.953219%2C%20-82.996257%5D%2C%20%5B32.894496999999994%2C%20-96.711806%5D%2C%20%5B33.80608400000001%2C%20-117.880329%5D%2C%20%5B45.38268%2C%20-122.75267%5D%2C%20%5B29.02543%2C%20-82.15763000000003%5D%2C%20%5B35.131226%2C%20-118.565755%5D%2C%20%5B33.633216%2C%20-117.697185%5D%2C%20%5B39.197555%2C%20-123.746598%5D%2C%20%5B37.056445%2C%20-120.926528%5D%2C%20%5B47.19846%2C%20-122.28106%5D%2C%20%5B35.292589%2C%20-80.915409%5D%2C%20%5B41.302939%2C%20-112.027662%5D%2C%20%5B38.89975%2C%20-77.26746%5D%2C%20%5B37.680372%2C%20-107.789047%5D%2C%20%5B31.46143%2C%20-83.61478000000002%5D%2C%20%5B33.93796%2C%20-117.29099%5D%2C%20%5B34.03326%2C%20-118.13007%5D%2C%20%5B27.047399%2C%20-82.27039599999998%5D%2C%20%5B33.80744%2C%20-79.0185%5D%2C%20%5B29.73215%2C%20-95.38909%5D%2C%20%5B37.558474%2C%20-77.451612%5D%2C%20%5B26.602331%2C%20-80.06890600000001%5D%2C%20%5B35.13886%2C%20-80.73894%5D%2C%20%5B37.896126%2C%20-122.077921%5D%2C%20%5B35.26215999999999%2C%20-80.77322%5D%2C%20%5B34.09799%2C%20-118.34788%5D%2C%20%5B47.498692%2C%20-112.221747%5D%2C%20%5B33.677731%2C%20-117.881264%5D%2C%20%5B35.85805%2C%20-86.5863%5D%2C%20%5B33.75412%2C%20-84.37841999999998%5D%2C%20%5B39.329584%2C%20-76.484788%5D%2C%20%5B35.146393%2C%20-80.924829%5D%2C%20%5B26.04269%2C%20-80.16289%5D%2C%20%5B30.50173%2C%20-87.26574000000002%5D%2C%20%5B42.4917%2C%20-83.50695999999998%5D%2C%20%5B34.239167%2C%20-119.180833%5D%2C%20%5B33.929075%2C%20-118.23358600000002%5D%2C%20%5B33.82595%2C%20-118.2126%5D%2C%20%5B35.367057%2C%20-120.83881%5D%2C%20%5B37.555911%2C%20-77.409547%5D%2C%20%5B45.244306%2C%20-94.076753%5D%2C%20%5B38.211569%2C%20-122.26259%5D%2C%20%5B27.870769%2C%20-82.326741%5D%2C%20%5B39.41547%2C%20-76.62557%5D%2C%20%5B30.270640000000004%2C%20-97.791118%5D%2C%20%5B40.691156%2C%20-111.796861%5D%2C%20%5B36.324455%2C%20-86.703126%5D%2C%20%5B37.220518%2C%20-75.97108%5D%2C%20%5B32.357909%2C%20-90.012212%5D%2C%20%5B37.368704%2C%20-77.41756%5D%2C%20%5B32.78429000000001%2C%20-96.785392%5D%2C%20%5B41.571701%2C%20-78.881305%5D%2C%20%5B34.067840999999994%2C%20-117.517179%5D%2C%20%5B30.783154%2C%20-85.48380999999998%5D%2C%20%5B26.528056%2C%20-81.869772%5D%2C%20%5B40.429066%2C%20-79.95621700000002%5D%2C%20%5B40.377748%2C%20-74.581728%5D%2C%20%5B30.537743%2C%20-91.110763%5D%2C%20%5B28.450233%2C%20-81.428382%5D%2C%20%5B32.36374%2C%20-96.85676%5D%2C%20%5B30.41119500000001%2C%20-91.050611%5D%2C%20%5B33.477712%2C%20-117.11181%5D%2C%20%5B40.856019%2C%20-73.972202%5D%2C%20%5B42.22238%2C%20-71.74448000000002%5D%2C%20%5B38.593192%2C%20-121.504485%5D%2C%20%5B32.735753%2C%20-96.863528%5D%2C%20%5B38.67108%2C%20-121.59607%5D%2C%20%5B26.43968%2C%20-80.07121%5D%2C%20%5B39.79071%2C%20-84.24443000000002%5D%2C%20%5B35.91055%2C%20-78.97967%5D%2C%20%5B33.901609%2C%20-117.467397%5D%2C%20%5B44.28189%2C%20-92.91961%5D%2C%20%5B39.409516%2C%20-76.579734%5D%2C%20%5B33.98915%2C%20-118.280163%5D%2C%20%5B44.704853%2C%20-122.199676%5D%2C%20%5B40.82204%2C%20-97.106%5D%2C%20%5B26.265832%2C%20-80.29732299999998%5D%2C%20%5B46.89601%2C%20-103.29999%5D%2C%20%5B29.598856%2C%20-90.716211%5D%2C%20%5B33.978698%2C%20-117.549041%5D%2C%20%5B33.944625%2C%20-118.094753%5D%2C%20%5B43.106845%2C%20-76.28930799999998%5D%2C%20%5B45.539841%2C%20-122.457781%5D%2C%20%5B38.114959000000006%2C%20-77.517769%5D%2C%20%5B33.61051%2C%20-112.31402%5D%2C%20%5B37.40083900000001%2C%20-122.035397%5D%2C%20%5B38.55951%2C%20-121.4544%5D%2C%20%5B39.732551%2C%20-84.12198000000002%5D%2C%20%5B33.651163000000004%2C%20-117.862049%5D%2C%20%5B40.501271%2C%20-74.301192%5D%2C%20%5B37.192829%2C%20-80.273376%5D%2C%20%5B43.62156%2C%20-89.80373%5D%2C%20%5B39.747224%2C%20-105.4005%5D%2C%20%5B45.42449600000001%2C%20-122.569008%5D%2C%20%5B39.318662%2C%20-76.45667900000002%5D%2C%20%5B33.768424%2C%20-117.867487%5D%2C%20%5B38.063218%2C%20-103.744722%5D%2C%20%5B39.118205%2C%20-121.634699%5D%2C%20%5B36.320076%2C%20-119.271892%5D%2C%20%5B32.70449%2C%20-96.58003%5D%2C%20%5B35.289371%2C%20-80.864956%5D%2C%20%5B26.715048%2C%20-81.806686%5D%2C%20%5B39.12765%2C%20-121.55557%5D%2C%20%5B30.71668%2C%20-81.66885%5D%2C%20%5B42.15744%2C%20-71.96039%5D%2C%20%5B36.106705%2C%20-80.046446%5D%2C%20%5B34.121033000000004%2C%20-117.884623%5D%2C%20%5B33.874277%2C%20-118.195741%5D%2C%20%5B35.793008%2C%20-110.501664%5D%2C%20%5B39.058392%2C%20-94.488707%5D%2C%20%5B37.316342%2C%20-121.956806%5D%2C%20%5B40.80861%2C%20-73.22180999999998%5D%2C%20%5B33.45644%2C%20-117.65166%5D%2C%20%5B45.83569%2C%20-122.8393%5D%2C%20%5B38.632038%2C%20-90.150471%5D%2C%20%5B34.15446%2C%20-118.312777%5D%2C%20%5B41.25022%2C%20-73.00339%5D%2C%20%5B33.984349%2C%20-118.162219%5D%2C%20%5B36.764931%2C%20-119.781546%5D%2C%20%5B35.233828%2C%20-80.93334300000002%5D%2C%20%5B33.91219%2C%20-84.38374%5D%2C%20%5B27.811285%2C%20-82.62423000000003%5D%2C%20%5B40.36997%2C%20-76.68589200000002%5D%2C%20%5B37.034226%2C%20-76.360326%5D%2C%20%5B34.629863%2C%20-118.725891%5D%2C%20%5B33.743196000000005%2C%20-117.12781%5D%2C%20%5B40.65955%2C%20-74.28711%5D%2C%20%5B45.828832%2C%20-93.430162%5D%2C%20%5B33.567404%2C%20-112.228616%5D%2C%20%5B38.68296%2C%20-90.23569%5D%2C%20%5B25.878037%2C%20-80.354511%5D%2C%20%5B39.66395%2C%20-104.92307%5D%2C%20%5B25.890186%2C%20-80.324145%5D%2C%20%5B37.765971%2C%20-122.404861%5D%2C%20%5B38.79422%2C%20-77.56465%5D%2C%20%5B42.931182%2C%20-85.665594%5D%2C%20%5B33.758691%2C%20-117.920152%5D%2C%20%5B37.706039%2C%20-122.118195%5D%2C%20%5B42.97267%2C%20-85.69676%5D%2C%20%5B37.26173%2C%20-121.80026%5D%2C%20%5B29.652689%2C%20-95.251029%5D%2C%20%5B34.024537%2C%20-118.23924%5D%2C%20%5B33.534918%2C%20-117.171463%5D%2C%20%5B36.385351%2C%20-119.444366%5D%2C%20%5B39.91843%2C%20-75.088874%5D%2C%20%5B38.676563%2C%20-77.236125%5D%2C%20%5B37.80213%2C%20-122.282958%5D%2C%20%5B33.324282000000004%2C%20-117.158116%5D%2C%20%5B27.845885%2C%20-82.38154200000002%5D%2C%20%5B40.576146%2C%20-77.363923%5D%2C%20%5B42.87548%2C%20-78.86303000000002%5D%2C%20%5B28.962%2C%20-81.59391%5D%2C%20%5B38.84831%2C%20-76.953402%5D%2C%20%5B28.564318%2C%20-81.207224%5D%2C%20%5B40.759723%2C%20-73.713099%5D%2C%20%5B42.74822%2C%20-84.460072%5D%2C%20%5B41.74484%2C%20-87.83849000000002%5D%2C%20%5B25.872554%2C%20-80.121534%5D%2C%20%5B40.06986%2C%20-75.150672%5D%2C%20%5B39.30657%2C%20-123.793408%5D%2C%20%5B35.38612600000001%2C%20-118.986139%5D%2C%20%5B27.894853%2C%20-82.729023%5D%2C%20%5B39.418163%2C%20-76.63297%5D%2C%20%5B33.924735%2C%20-118.210026%5D%2C%20%5B39.029879%2C%20-94.689389%5D%2C%20%5B30.287343%2C%20-97.673642%5D%2C%20%5B35.884773%2C%20-78.58266400000002%5D%2C%20%5B38.597537%2C%20-121.401428%5D%2C%20%5B38.825706%2C%20-77.221142%5D%2C%20%5B45.22928%2C%20-93.55229%5D%2C%20%5B35.837348%2C%20-78.300794%5D%2C%20%5B26.351016%2C%20-80.17048299999998%5D%2C%20%5B25.971836%2C%20-80.205978%5D%2C%20%5B37.739737%2C%20-121.39824%5D%2C%20%5B40.18257%2C%20-111.045476%5D%2C%20%5B32.850977%2C%20-96.767651%5D%2C%20%5B28.554781%2C%20-81.413975%5D%2C%20%5B37.48467%2C%20-77.57630999999998%5D%2C%20%5B33.555505%2C%20-117.14003999999998%5D%2C%20%5B34.17877%2C%20-81.32545999999998%5D%2C%20%5B30.387503%2C%20-97.649666%5D%2C%20%5B40.480939%2C%20-74.402879%5D%2C%20%5B37.69081%2C%20-122.129334%5D%2C%20%5B40.640369%2C%20-75.275176%5D%2C%20%5B34.06743%2C%20-117.41752%5D%2C%20%5B41.15833%2C%20-73.24458800000002%5D%2C%20%5B28.569205%2C%20-81.229187%5D%2C%20%5B33.96745%2C%20-118.252021%5D%2C%20%5B35.69526%2C%20-118.464424%5D%2C%20%5B41.511127%2C%20-120.495693%5D%2C%20%5B35.151903999999995%2C%20-120.657273%5D%2C%20%5B44.123326%2C%20-122.632687%5D%2C%20%5B38.865571%2C%20-77.053934%5D%2C%20%5B26.20987%2C%20-98.18156%5D%2C%20%5B37.80981%2C%20-122.2464%5D%2C%20%5B32.727538%2C%20-96.992638%5D%2C%20%5B35.654866%2C%20-78.832942%5D%2C%20%5B45.22622%2C%20-122.81427%5D%2C%20%5B41.897163%2C%20-87.617082%5D%2C%20%5B34.148308%2C%20-118.469593%5D%2C%20%5B44.572826%2C%20-122.915116%5D%2C%20%5B32.711654%2C%20-117.118814%5D%2C%20%5B30.870808%2C%20-97.119679%5D%2C%20%5B40.98337%2C%20-74.071573%5D%2C%20%5B25.807454%2C%20-80.290467%5D%2C%20%5B29.74216%2C%20-95.35743%5D%2C%20%5B25.918639%2C%20-80.292875%5D%2C%20%5B25.628101%2C%20-80.377388%5D%2C%20%5B38.814815%2C%20-120.0839%5D%2C%20%5B37.27978%2C%20-122.01109%5D%2C%20%5B35.81635900000001%2C%20-78.62568900000002%5D%2C%20%5B25.686453%2C%20-80.38453299999998%5D%2C%20%5B34.988819%2C%20-85.184875%5D%2C%20%5B28.449837%2C%20-81.472306%5D%2C%20%5B40.81806%2C%20-74.116097%5D%2C%20%5B32.73041%2C%20-97.06262%5D%2C%20%5B36.092984%2C%20-95.86861%5D%2C%20%5B42.66385%2C%20-84.581549%5D%2C%20%5B32.811058%2C%20-96.627674%5D%2C%20%5B30.427253000000004%2C%20-87.241966%5D%2C%20%5B33.703233000000004%2C%20-84.175111%5D%2C%20%5B40.614277%2C%20-74.311534%5D%2C%20%5B25.671776%2C%20-80.384134%5D%2C%20%5B35.801813%2C%20-78.56017%5D%2C%20%5B34.035486%2C%20-118.170142%5D%2C%20%5B25.734897%2C%20-80.30295%5D%2C%20%5B34.06642%2C%20-81.02226999999998%5D%2C%20%5B44.827234%2C%20-94.274368%5D%2C%20%5B37.686721%2C%20-122.130109%5D%2C%20%5B34.616525%2C%20-117.86249%5D%2C%20%5B40.69987%2C%20-111.87346%5D%2C%20%5B34.119486%2C%20-117.76161%5D%2C%20%5B40.010246%2C%20-76.188064%5D%2C%20%5B30.645616%2C%20-87.05445999999998%5D%2C%20%5B33.945509%2C%20-118.28935%5D%2C%20%5B28.449924%2C%20-81.479136%5D%2C%20%5B39.218477%2C%20-76.726895%5D%2C%20%5B39.77998%2C%20-84.18557%5D%2C%20%5B34.063398%2C%20-81.221002%5D%2C%20%5B33.44101%2C%20-86.72811%5D%2C%20%5B39.98186%2C%20-75.10165%5D%2C%20%5B45.56397%2C%20-122.92584%5D%2C%20%5B34.019508%2C%20-117.550097%5D%2C%20%5B37.327992%2C%20-121.940876%5D%2C%20%5B34.071347%2C%20-117.759428%5D%2C%20%5B38.563388%2C%20-121.491621%5D%2C%20%5B40.040669%2C%20-76.692297%5D%2C%20%5B32.717274%2C%20-83.729671%5D%2C%20%5B36.844855%2C%20-76.170516%5D%2C%20%5B43.16934000000001%2C%20-76.36295%5D%2C%20%5B40.76469%2C%20-73.95254%5D%2C%20%5B34.121955%2C%20-81.21070300000002%5D%2C%20%5B41.21108%2C%20-73.26236999999998%5D%2C%20%5B41.664512%2C%20-78.784725%5D%2C%20%5B44.983045%2C%20-93.400403%5D%2C%20%5B40.73411%2C%20-111.49245%5D%2C%20%5B25.715772%2C%20-80.334812%5D%2C%20%5B40.094211%2C%20-75.28661%5D%2C%20%5B37.55267%2C%20-122.30437%5D%2C%20%5B30.467571000000003%2C%20-91.002989%5D%2C%20%5B25.782305%2C%20-80.23074%5D%2C%20%5B42.980715%2C%20-78.91019200000002%5D%2C%20%5B25.628105%2C%20-80.341342%5D%2C%20%5B27.364888%2C%20-81.465819%5D%2C%20%5B41.418488%2C%20-73.42445500000002%5D%2C%20%5B47.56074%2C%20-122.28701%5D%2C%20%5B37.667008%2C%20-121.030194%5D%2C%20%5B35.170539%2C%20-80.903255%5D%2C%20%5B40.071591%2C%20-75.436989%5D%2C%20%5B39.94215%2C%20-75.197282%5D%2C%20%5B38.93934%2C%20-76.062637%5D%2C%20%5B35.22000999999999%2C%20-112.27911%5D%2C%20%5B37.93277%2C%20-122.40959%5D%2C%20%5B43.092235%2C%20-75.243208%5D%2C%20%5B34.852634%2C%20-120.524343%5D%2C%20%5B25.97273%2C%20-80.20685%5D%2C%20%5B40.903534%2C%20-124.09037%5D%2C%20%5B44.306386%2C%20-121.663679%5D%2C%20%5B32.737917%2C%20-96.888167%5D%2C%20%5B36.047513%2C%20-118.937031%5D%2C%20%5B34.17374%2C%20-118.39114%5D%2C%20%5B25.760888%2C%20-80.39667299999998%5D%2C%20%5B27.388213%2C%20-82.47227%5D%2C%20%5B34.397223%2C%20-119.29963%5D%2C%20%5B40.849%2C%20-73.92371%5D%2C%20%5B32.736843%2C%20-117.085953%5D%2C%20%5B33.960151%2C%20-118.27292%5D%2C%20%5B25.703367%2C%20-80.33425%5D%2C%20%5B40.785%2C%20-73.94091%5D%2C%20%5B36.072374%2C%20-80.333737%5D%2C%20%5B45.497534%2C%20-122.619536%5D%2C%20%5B34.780305%2C%20-82.47367%5D%2C%20%5B34.12145%2C%20-117.30255%5D%2C%20%5B35.98197000000001%2C%20-88.66077%5D%2C%20%5B34.0368%2C%20-118.377555%5D%2C%20%5B36.98666400000001%2C%20-119.686871%5D%2C%20%5B42.005364%2C%20-122.615593%5D%2C%20%5B43.03614%2C%20-122.363823%5D%2C%20%5B36.906601%2C%20-79.388765%5D%2C%20%5B37.530049%2C%20-77.429898%5D%2C%20%5B28.214438%2C%20-82.460625%5D%2C%20%5B41.340072%2C%20-75.313997%5D%2C%20%5B45.25117%2C%20-92.909%5D%2C%20%5B44.94961%2C%20-92.861925%5D%2C%20%5B43.214281%2C%20-123.355554%5D%2C%20%5B38.269911%2C%20-122.418854%5D%2C%20%5B47.588235%2C%20-115.363236%5D%2C%20%5B32.7783%2C%20-117.100685%5D%2C%20%5B35.3115%2C%20-80.71053%5D%2C%20%5B33.85606%2C%20-117.98707%5D%2C%20%5B35.040051%2C%20-81.826707%5D%2C%20%5B37.994608%2C%20-122.069433%5D%2C%20%5B35.067793%2C%20-85.31837800000002%5D%2C%20%5B33.914491%2C%20-117.88268%5D%2C%20%5B38.588389%2C%20-121.291479%5D%2C%20%5B25.867266%2C%20-80.211861%5D%2C%20%5B29.949246%2C%20-90.068742%5D%2C%20%5B40.246042%2C%20-76.300574%5D%2C%20%5B35.798295%2C%20-78.503702%5D%2C%20%5B40.608594%2C%20-74.03859399999997%5D%2C%20%5B28.553159%2C%20-81.372515%5D%2C%20%5B36.131876%2C%20-86.897488%5D%2C%20%5B41.720248%2C%20-88.033651%5D%2C%20%5B26.11431%2C%20-80.31453%5D%2C%20%5B25.808788%2C%20-80.337282%5D%2C%20%5B30.254475%2C%20-97.747883%5D%2C%20%5B47.190452%2C%20-114.886747%5D%2C%20%5B32.90153%2C%20-96.8979%5D%2C%20%5B40.522873%2C%20-111.984306%5D%2C%20%5B35.06266%2C%20-85.30854000000002%5D%2C%20%5B40.00882%2C%20-79.094462%5D%2C%20%5B34.0724%2C%20-118.07292%5D%2C%20%5B41.342571%2C%20-72.972837%5D%2C%20%5B25.670188%2C%20-80.361825%5D%2C%20%5B39.997619%2C%20-82.929292%5D%2C%20%5B25.96375%2C%20-80.147421%5D%2C%20%5B34.30836%2C%20-117.310134%5D%2C%20%5B43.04822%2C%20-77.585567%5D%2C%20%5B41.207438%2C%20-73.09914%5D%2C%20%5B40.737366%2C%20-121.955348%5D%2C%20%5B41.58453%2C%20-93.77781%5D%2C%20%5B45.460678%2C%20-122.703972%5D%2C%20%5B25.95566%2C%20-80.205559%5D%2C%20%5B35.90208900000001%2C%20-84.11833299999998%5D%2C%20%5B25.598134%2C%20-80.368027%5D%2C%20%5B36.588479%2C%20-119.331773%5D%2C%20%5B29.77074600000001%2C%20-95.45625%5D%2C%20%5B33.122756%2C%20-117.103059%5D%2C%20%5B32.316534999999995%2C%20-90.882864%5D%2C%20%5B33.94047800000001%2C%20-118.097112%5D%2C%20%5B33.482927000000004%2C%20-80.757654%5D%2C%20%5B35.124313%2C%20-118.481644%5D%2C%20%5B25.768133%2C%20-80.20029699999998%5D%2C%20%5B37.615007%2C%20-77.50845100000002%5D%2C%20%5B38.32669600000001%2C%20-85.548015%5D%2C%20%5B37.81913%2C%20-121.99312%5D%2C%20%5B34.803771000000005%2C%20-82.228303%5D%2C%20%5B34.22414000000001%2C%20-118.239942%5D%2C%20%5B39.65575%2C%20-84.15728%5D%2C%20%5B39.40042%2C%20-74.55963%5D%2C%20%5B25.608743%2C%20-80.503135%5D%2C%20%5B41.73538%2C%20-88.0628%5D%2C%20%5B33.86927%2C%20-117.54393%5D%2C%20%5B39.378832%2C%20-123.691047%5D%2C%20%5B34.118567%2C%20-117.865458%5D%2C%20%5B37.461072%2C%20-77.42540699999998%5D%2C%20%5B27.268183%2C%20-82.464486%5D%2C%20%5B25.901329%2C%20-80.23992199999998%5D%2C%20%5B38.681402%2C%20-122.591422%5D%2C%20%5B37.0368%2C%20-121.30932%5D%2C%20%5B25.843559%2C%20-80.225325%5D%2C%20%5B33.84463%2C%20-112.51618%5D%2C%20%5B41.664636%2C%20-78.78155500000003%5D%2C%20%5B37.979848%2C%20-122.317102%5D%2C%20%5B33.850876%2C%20-117.889165%5D%2C%20%5B43.180109%2C%20-77.624318%5D%2C%20%5B37.289105%2C%20-77.403865%5D%2C%20%5B35.28957%2C%20-120.65995%5D%2C%20%5B30.019729%2C%20-90.016995%5D%2C%20%5B37.36408%2C%20-122.1243%5D%2C%20%5B37.83843%2C%20-122.22202%5D%2C%20%5B34.077488%2C%20-118.395204%5D%2C%20%5B40.336743%2C%20-74.631596%5D%2C%20%5B34.140702000000005%2C%20-80.90747900000002%5D%2C%20%5B40.69979%2C%20-111.90214%5D%2C%20%5B34.087552%2C%20-81.162412%5D%2C%20%5B32.19216%2C%20-110.8752%5D%2C%20%5B25.671853%2C%20-80.41650899999998%5D%2C%20%5B34.03067%2C%20-117.6067%5D%2C%20%5B26.5316%2C%20-81.825546%5D%2C%20%5B27.641466%2C%20-82.670748%5D%2C%20%5B39.85268%2C%20-75.36068900000002%5D%2C%20%5B40.699054%2C%20-73.996718%5D%2C%20%5B39.234377%2C%20-120.755099%5D%2C%20%5B36.119798%2C%20-119.324335%5D%2C%20%5B45.89486%2C%20-108.280102%5D%2C%20%5B37.486027%2C%20-121.030894%5D%2C%20%5B39.140777%2C%20-121.056671%5D%2C%20%5B28.46022%2C%20-81.311385%5D%2C%20%5B37.36256%2C%20-121.887828%5D%2C%20%5B34.015549%2C%20-117.739201%5D%2C%20%5B42.791439%2C%20-73.76106%5D%2C%20%5B34.030359999999995%2C%20-117.63626%5D%2C%20%5B47.021645%2C%20-114.362858%5D%2C%20%5B44.962686%2C%20-93.269232%5D%2C%20%5B28.53998%2C%20-81.31928%5D%2C%20%5B26.48028%2C%20-81.79320200000002%5D%2C%20%5B35.91139000000001%2C%20-84.12175%5D%2C%20%5B30.235778000000003%2C%20-93.208509%5D%2C%20%5B34.93809%2C%20-82.43434%5D%2C%20%5B34.145395%2C%20-117.290853%5D%2C%20%5B33.938662%2C%20-117.134727%5D%2C%20%5B37.380362%2C%20-121.958545%5D%2C%20%5B36.869677%2C%20-121.815408%5D%2C%20%5B30.27107100000001%2C%20-97.793708%5D%2C%20%5B29.597629%2C%20-95.195857%5D%2C%20%5B34.620956%2C%20-120.080109%5D%2C%20%5B28.441711%2C%20-81.403326%5D%2C%20%5B40.788835%2C%20-112.828613%5D%2C%20%5B33.320319%2C%20-80.410793%5D%2C%20%5B34.134735%2C%20-117.625225%5D%2C%20%5B30.416931%2C%20-91.144342%5D%2C%20%5B38.50242%2C%20-90.33614%5D%2C%20%5B38.810644%2C%20-84.716319%5D%2C%20%5B45.539074%2C%20-122.57892%5D%2C%20%5B39.873508%2C%20-75.094881%5D%2C%20%5B28.673087%2C%20-81.47635799999998%5D%2C%20%5B41.736813%2C%20-93.577755%5D%2C%20%5B40.043352%2C%20-76.300188%5D%2C%20%5B33.916149%2C%20-118.300394%5D%2C%20%5B28.334042%2C%20-81.479736%5D%2C%20%5B37.148699%2C%20-119.503075%5D%2C%20%5B27.447749%2C%20-82.573666%5D%2C%20%5B36.04265%2C%20-86.78211%5D%2C%20%5B41.738656%2C%20-72.664411%5D%2C%20%5B37.570573%2C%20-122.045385%5D%2C%20%5B25.891627%2C%20-80.163146%5D%2C%20%5B43.23505%2C%20-121.78974%5D%2C%20%5B32.779394%2C%20-117.101415%5D%2C%20%5B39.768025%2C%20-76.82479599999998%5D%2C%20%5B34.172699%2C%20-118.568463%5D%2C%20%5B34.03181%2C%20-118.1884%5D%2C%20%5B33.982316%2C%20-118.394718%5D%2C%20%5B37.783506%2C%20-121.226083%5D%2C%20%5B40.787354%2C%20-73.525947%5D%2C%20%5B39.285382%2C%20-85.03528399999998%5D%2C%20%5B33.76773%2C%20-117.977215%5D%2C%20%5B37.637625%2C%20-121.206203%5D%2C%20%5B39.53405%2C%20-119.760579%5D%2C%20%5B32.87607%2C%20-97.31697%5D%2C%20%5B35.941441%2C%20-119.91933799999998%5D%2C%20%5B40.483002%2C%20-75.845529%5D%2C%20%5B38.9515%2C%20-94.530905%5D%2C%20%5B28.753699%2C%20-81.936796%5D%2C%20%5B25.729937%2C%20-80.367654%5D%2C%20%5B39.433511%2C%20-74.608572%5D%2C%20%5B35.769585%2C%20-78.725913%5D%2C%20%5B34.71877%2C%20-118.169998%5D%2C%20%5B37.299383%2C%20-76.680581%5D%2C%20%5B36.590223%2C%20-119.521136%5D%2C%20%5B28.405779%2C%20-81.455956%5D%2C%20%5B33.91332%2C%20-117.28508%5D%2C%20%5B40.736821%2C%20-111.744597%5D%2C%20%5B32.275107%2C%20-90.205759%5D%2C%20%5B41.582136%2C%20-73.908709%5D%2C%20%5B34.02826%2C%20-118.22993%5D%2C%20%5B42.265962%2C%20-122.806766%5D%2C%20%5B38.594427%2C%20-121.41543%5D%2C%20%5B33.650618%2C%20-84.44125%5D%2C%20%5B33.789833%2C%20-118.207746%5D%2C%20%5B46.086305%2C%20-107.540606%5D%2C%20%5B34.087397%2C%20-117.67549%5D%2C%20%5B29.754427000000003%2C%20-82.397599%5D%2C%20%5B39.310422%2C%20-76.502662%5D%2C%20%5B40.174031%2C%20-75.558379%5D%2C%20%5B37.665983%2C%20-122.107585%5D%2C%20%5B38.27635%2C%20-104.66267%5D%2C%20%5B34.403268%2C%20-118.946863%5D%2C%20%5B45.45361%2C%20-122.7173%5D%2C%20%5B26.08481%2C%20-80.19353000000002%5D%2C%20%5B42.77275%2C%20-71.49318000000002%5D%2C%20%5B34.018732%2C%20-118.423806%5D%2C%20%5B34.029947%2C%20-118.442112%5D%2C%20%5B46.095949%2C%20-123.022129%5D%2C%20%5B33.918271999999995%2C%20-118.239009%5D%2C%20%5B29.705649%2C%20-95.482552%5D%2C%20%5B37.076228%2C%20-113.584696%5D%2C%20%5B35.80734%2C%20-121.04099%5D%2C%20%5B35.83359%2C%20-77.97863000000002%5D%2C%20%5B44.795654%2C%20-92.893828%5D%2C%20%5B30.213662%2C%20-81.76016800000002%5D%2C%20%5B32.6434%2C%20-96.973849%5D%2C%20%5B33.888728%2C%20-118.190739%5D%2C%20%5B37.77957%2C%20-122.39807%5D%2C%20%5B38.882342%2C%20-77.027048%5D%2C%20%5B25.881766%2C%20-80.268621%5D%2C%20%5B27.870685%2C%20-82.326589%5D%2C%20%5B38.72059%2C%20-90.31395%5D%2C%20%5B36.160484%2C%20-86.77681%5D%2C%20%5B40.119896%2C%20-75.280603%5D%2C%20%5B27.87637%2C%20-82.66041%5D%2C%20%5B25.923052%2C%20-80.309213%5D%2C%20%5B38.866578%2C%20-77.14174799999998%5D%2C%20%5B33.91191%2C%20-118.17487%5D%2C%20%5B42.73893%2C%20-73.69893%5D%2C%20%5B33.995713%2C%20-118.395476%5D%2C%20%5B40.735782%2C%20-77.883116%5D%2C%20%5B39.271048%2C%20-76.72180999999998%5D%2C%20%5B35.61799600000001%2C%20-119.689709%5D%2C%20%5B42.00445%2C%20-88.18708000000002%5D%2C%20%5B42.7537%2C%20-73.9332%5D%2C%20%5B32.280625%2C%20-95.297378%5D%2C%20%5B41.81153%2C%20-72.24956999999998%5D%2C%20%5B39.531434%2C%20-122.329778%5D%2C%20%5B44.0978%2C%20-123.15507%5D%2C%20%5B38.60843%2C%20-121.416959%5D%2C%20%5B44.853829%2C%20-93.395147%5D%2C%20%5B26.934622%2C%20-80.150364%5D%2C%20%5B30.28672000000001%2C%20-97.763224%5D%2C%20%5B45.534588%2C%20-118.452977%5D%2C%20%5B36.917957%2C%20-81.252189%5D%2C%20%5B38.850943%2C%20-76.958261%5D%2C%20%5B32.721025%2C%20-117.117043%5D%2C%20%5B37.37596%2C%20-77.50841%5D%2C%20%5B39.98232700000001%2C%20-76.71043%5D%2C%20%5B40.878809%2C%20-76.785472%5D%2C%20%5B37.55364%2C%20-113.194617%5D%2C%20%5B38.64485%2C%20-121.257404%5D%2C%20%5B33.470512%2C%20-112.112374%5D%2C%20%5B30.004759000000004%2C%20-90.034334%5D%2C%20%5B40.547987%2C%20-74.291004%5D%2C%20%5B32.902497%2C%20-96.721347%5D%2C%20%5B41.347%2C%20-74.22446%5D%2C%20%5B33.554102%2C%20-112.037726%5D%2C%20%5B36.06737800000001%2C%20-95.886322%5D%2C%20%5B28.432299%2C%20-81.40471%5D%2C%20%5B27.000432%2C%20-82.182384%5D%2C%20%5B33.820125%2C%20-87.28313299999998%5D%2C%20%5B38.65844%2C%20-90.44844%5D%2C%20%5B38.558051%2C%20-121.437079%5D%2C%20%5B42.437521%2C%20-123.279361%5D%2C%20%5B40.428714%2C%20-79.929183%5D%2C%20%5B33.880037%2C%20-80.34272%5D%2C%20%5B45.087257%2C%20-123.066734%5D%2C%20%5B34.036696%2C%20-118.293714%5D%2C%20%5B34.54753400000001%2C%20-92.627544%5D%2C%20%5B32.875586%2C%20-96.684922%5D%2C%20%5B38.670813%2C%20-77.25195699999998%5D%2C%20%5B33.0388%2C%20-80.145356%5D%2C%20%5B33.662797%2C%20-112.125883%5D%2C%20%5B39.846822%2C%20-74.224373%5D%2C%20%5B44.89147%2C%20-122.99371%5D%2C%20%5B41.755265%2C%20-87.944909%5D%2C%20%5B42.927537%2C%20-83.630083%5D%2C%20%5B32.68836%2C%20-117.16371%5D%2C%20%5B33.026392%2C%20-117.274681%5D%2C%20%5B36.844571%2C%20-76.434363%5D%2C%20%5B45.49741%2C%20-122.57874%5D%2C%20%5B33.77688%2C%20-117.83118%5D%2C%20%5B32.895893%2C%20-96.712743%5D%2C%20%5B36.183182%2C%20-86.761018%5D%2C%20%5B39.860245%2C%20-104.9877%5D%2C%20%5B39.36605%2C%20-77.388127%5D%2C%20%5B38.83506%2C%20-77.31178%5D%2C%20%5B34.004369%2C%20-117.403968%5D%2C%20%5B42.15422%2C%20-88.13542%5D%2C%20%5B34.095632%2C%20-118.243825%5D%2C%20%5B25.815773%2C%20-80.32128%5D%2C%20%5B25.927304%2C%20-80.218292%5D%2C%20%5B42.174121%2C%20-122.658452%5D%2C%20%5B41.92695%2C%20-86.57030999999998%5D%2C%20%5B33.859%2C%20-118.201599%5D%2C%20%5B42.041919%2C%20-88.291451%5D%2C%20%5B42.45073%2C%20-82.91723%5D%2C%20%5B38.644692%2C%20-121.272006%5D%2C%20%5B32.823196%2C%20-113.4526%5D%2C%20%5B47.55598%2C%20-117.34801000000002%5D%2C%20%5B39.119578%2C%20-77.080625%5D%2C%20%5B44.768596%2C%20-93.034434%5D%2C%20%5B37.878895%2C%20-121.278301%5D%2C%20%5B38.863803%2C%20-76.99578100000002%5D%2C%20%5B42.49472%2C%20-71.18204%5D%2C%20%5B39.00122800000001%2C%20-76.986083%5D%2C%20%5B35.317643%2C%20-119.003101%5D%2C%20%5B40.140234%2C%20-79.845446%5D%2C%20%5B39.38930300000001%2C%20-77.44064200000003%5D%2C%20%5B27.343157%2C%20-82.44645899999998%5D%2C%20%5B25.747513%2C%20-80.33807900000002%5D%2C%20%5B31.26211%2C%20-89.33894000000002%5D%2C%20%5B33.024033%2C%20-117.078498%5D%2C%20%5B28.492947%2C%20-81.396759%5D%2C%20%5B36.11147%2C%20-86.7455%5D%2C%20%5B38.742798%2C%20-123.498524%5D%2C%20%5B33.973815%2C%20-118.221206%5D%2C%20%5B40.02239%2C%20-76.361554%5D%2C%20%5B45.21242700000001%2C%20-93.412987%5D%2C%20%5B34.171515%2C%20-118.387816%5D%2C%20%5B40.31177%2C%20-111.72491%5D%2C%20%5B32.812345%2C%20-96.791188%5D%2C%20%5B38.500653%2C%20-121.517683%5D%2C%20%5B42.38537%2C%20-83.0234%5D%2C%20%5B35.82129000000001%2C%20-78.318214%5D%2C%20%5B37.556138%2C%20-122.298596%5D%2C%20%5B30.306964%2C%20-97.661325%5D%2C%20%5B39.12074000000001%2C%20-77.18238000000002%5D%2C%20%5B32.88%2C%20-96.77118%5D%2C%20%5B43.06291%2C%20-88.05341999999996%5D%2C%20%5B38.674786%2C%20-119.615798%5D%2C%20%5B25.734914%2C%20-80.33587299999998%5D%2C%20%5B36.06718%2C%20-79.50195%5D%2C%20%5B38.692119%2C%20-121.078622%5D%2C%20%5B38.827847%2C%20-77.455587%5D%2C%20%5B41.87065%2C%20-87.76884%5D%2C%20%5B33.74081%2C%20-117.83381%5D%2C%20%5B25.929465%2C%20-80.188313%5D%2C%20%5B38.62725800000001%2C%20-121.53961%5D%2C%20%5B33.098478%2C%20-80.122263%5D%2C%20%5B44.625641%2C%20-123.06186%5D%2C%20%5B39.307655%2C%20-76.76352299999998%5D%2C%20%5B38.521644%2C%20-121.458319%5D%2C%20%5B34.1651%2C%20-118.4893%5D%2C%20%5B39.27815%2C%20-76.553303%5D%2C%20%5B30.008745%2C%20-90.050753%5D%2C%20%5B25.938008%2C%20-80.18865100000002%5D%2C%20%5B40.334076%2C%20-74.098872%5D%2C%20%5B26.522754%2C%20-80.172493%5D%2C%20%5B27.450829%2C%20-81.450296%5D%2C%20%5B40.923337%2C%20-73.82324799999998%5D%2C%20%5B29.95218%2C%20-90.17988%5D%2C%20%5B47.83877%2C%20-122.01649%5D%2C%20%5B41.8326%2C%20-88.02986999999996%5D%2C%20%5B45.297526%2C%20-93.794718%5D%2C%20%5B27.088390000000004%2C%20-80.25410699999998%5D%2C%20%5B35.882609%2C%20-78.56966899999998%5D%2C%20%5B45.66864%2C%20-122.868698%5D%2C%20%5B33.91048%2C%20-118.07056%5D%2C%20%5B33.58017%2C%20-117.6716%5D%2C%20%5B32.968522%2C%20-117.093218%5D%2C%20%5B33.827290000000005%2C%20-118.08229%5D%2C%20%5B39.61976%2C%20-104.8994%5D%2C%20%5B39.22285%2C%20-76.652589%5D%2C%20%5B38.960802%2C%20-77.036325%5D%2C%20%5B42.810942%2C%20-83.795411%5D%2C%20%5B33.846027%2C%20-84.305316%5D%2C%20%5B34.999368%2C%20-85.256328%5D%2C%20%5B29.74078%2C%20-95.45813%5D%2C%20%5B28.570287%2C%20-81.365718%5D%2C%20%5B45.467%2C%20-123.757395%5D%2C%20%5B42.924598%2C%20-78.898905%5D%2C%20%5B33.780559000000004%2C%20-117.210931%5D%2C%20%5B40.80934%2C%20-74.18125%5D%2C%20%5B28.357505%2C%20-81.499578%5D%2C%20%5B41.363708%2C%20-72.090868%5D%2C%20%5B34.06375%2C%20-117.28753%5D%2C%20%5B28.871977%2C%20-82.08688000000002%5D%2C%20%5B38.12863%2C%20-77.51318%5D%2C%20%5B39.021216%2C%20-77.10594499999998%5D%2C%20%5B40.32507%2C%20-75.41865200000002%5D%2C%20%5B38.45616%2C%20-81.938158%5D%2C%20%5B25.51363%2C%20-80.47776999999998%5D%2C%20%5B38.55043%2C%20-121.47405%5D%2C%20%5B45.791491%2C%20-119.369807%5D%2C%20%5B25.613293%2C%20-80.34745600000002%5D%2C%20%5B34.043524%2C%20-117.396343%5D%2C%20%5B33.989323%2C%20-118.249943%5D%2C%20%5B36.621064%2C%20-79.332815%5D%2C%20%5B33.614681%2C%20-117.707783%5D%2C%20%5B40.891294%2C%20-72.439797%5D%2C%20%5B40.890188%2C%20-76.800227%5D%2C%20%5B39.772306%2C%20-75.482802%5D%2C%20%5B32.54911%2C%20-84.045077%5D%2C%20%5B44.94833%2C%20-92.98585%5D%2C%20%5B25.97203%2C%20-80.25575400000002%5D%2C%20%5B37.085841%2C%20-121.606889%5D%2C%20%5B44.756571%2C%20-122.426612%5D%2C%20%5B32.87283%2C%20-117.10697%5D%2C%20%5B30.168928%2C%20-81.596253%5D%2C%20%5B34.136501%2C%20-117.500011%5D%2C%20%5B32.290861%2C%20-95.260374%5D%2C%20%5B44.52347%2C%20-121.99438%5D%2C%20%5B39.82292%2C%20-86.19954%5D%2C%20%5B39.763287%2C%20-84.199873%5D%2C%20%5B42.414102%2C%20-82.941823%5D%2C%20%5B41.57114%2C%20-87.43828%5D%2C%20%5B35.20273800000001%2C%20-80.757515%5D%2C%20%5B40.83311%2C%20-73.93158100000002%5D%2C%20%5B39.66241%2C%20-75.66445%5D%2C%20%5B29.73073%2C%20-95.41928%5D%2C%20%5B35.64222%2C%20-119.21881%5D%2C%20%5B38.855329%2C%20-76.957532%5D%2C%20%5B34.04857%2C%20-118.2144%5D%2C%20%5B28.757861%2C%20-82.09833%5D%2C%20%5B40.65464%2C%20-112.28938%5D%2C%20%5B33.97544%2C%20-117.85823700000002%5D%2C%20%5B33.70343%2C%20-84.14107%5D%2C%20%5B41.322046%2C%20-72.885756%5D%2C%20%5B32.844257%2C%20-117.175932%5D%2C%20%5B28.408511%2C%20-81.446512%5D%2C%20%5B41.833929%2C%20-122.62016%5D%2C%20%5B38.69643%2C%20-90.46123%5D%2C%20%5B29.8346%2C%20-95.38534%5D%2C%20%5B37.514514%2C%20-77.235916%5D%2C%20%5B38.511897%2C%20-90.367194%5D%2C%20%5B36.677695%2C%20-119.57439%5D%2C%20%5B45.583882%2C%20-122.679168%5D%2C%20%5B38.474401%2C%20-121.41895900000002%5D%2C%20%5B45.251618%2C%20-118.020796%5D%2C%20%5B29.930446000000003%2C%20-90.112418%5D%2C%20%5B38.269643%2C%20-77.537118%5D%2C%20%5B35.85616%2C%20-78.641302%5D%2C%20%5B37.993501%2C%20-122.329607%5D%2C%20%5B29.7705%2C%20-95.17783%5D%2C%20%5B44.25386%2C%20-93.95915%5D%2C%20%5B44.873861%2C%20-93.163386%5D%2C%20%5B39.649942%2C%20-104.916474%5D%2C%20%5B40.80567%2C%20-73.92144%5D%2C%20%5B27.29379%2C%20-82.448021%5D%2C%20%5B43.247138%2C%20-122.389979%5D%2C%20%5B28.815484%2C%20-81.937003%5D%2C%20%5B39.134878%2C%20-77.92626700000002%5D%2C%20%5B39.006918%2C%20-94.693587%5D%2C%20%5B39.950205%2C%20-77.125557%5D%2C%20%5B32.22143%2C%20-110.90089%5D%2C%20%5B32.757893%2C%20-83.553267%5D%2C%20%5B34.917169%2C%20-82.36233299999998%5D%2C%20%5B33.888927%2C%20-117.883697%5D%2C%20%5B41.05679%2C%20-73.51451%5D%2C%20%5B25.702074%2C%20-80.338318%5D%2C%20%5B37.71857%2C%20-121.66273%5D%2C%20%5B40.42566400000001%2C%20-74.439593%5D%2C%20%5B37.096328%2C%20-80.160768%5D%2C%20%5B40.068624%2C%20-75.340616%5D%2C%20%5B41.498912%2C%20-95.456417%5D%2C%20%5B37.808321%2C%20-122.36702%5D%2C%20%5B25.925946%2C%20-80.160415%5D%2C%20%5B43.510995%2C%20-123.508053%5D%2C%20%5B28.480574%2C%20-81.458689%5D%2C%20%5B40.471442%2C%20-74.44989699999998%5D%2C%20%5B34.084924%2C%20-81.140987%5D%2C%20%5B38.167269%2C%20-79.01118199999998%5D%2C%20%5B29.938168%2C%20-95.407461%5D%2C%20%5B37.99011%2C%20-122.528857%5D%2C%20%5B43.648437%2C%20-116.33442%5D%2C%20%5B34.24924%2C%20-82.547523%5D%2C%20%5B25.767744%2C%20-80.33628399999998%5D%2C%20%5B35.320883%2C%20-119.036875%5D%2C%20%5B43.66495%2C%20-93.02179%5D%2C%20%5B44.77922%2C%20-93.28853%5D%2C%20%5B38.606404%2C%20-121.44734%5D%2C%20%5B39.144769%2C%20-77.699443%5D%2C%20%5B36.184446%2C%20-86.798071%5D%2C%20%5B35.528637%2C%20-81.971451%5D%2C%20%5B39.951545%2C%20-75.18258399999998%5D%2C%20%5B33.191212%2C%20-117.12242%5D%2C%20%5B33.851225%2C%20-117.837888%5D%2C%20%5B34.066175%2C%20-117.488772%5D%2C%20%5B42.377038%2C%20-76.489985%5D%2C%20%5B26.195452%2C%20-80.15074200000002%5D%2C%20%5B46.568158%2C%20-92.588471%5D%2C%20%5B39.141452%2C%20-121.688897%5D%2C%20%5B34.136527%2C%20-117.521148%5D%2C%20%5B28.551439%2C%20-81.413873%5D%2C%20%5B44.772988%2C%20-123.043431%5D%2C%20%5B32.837497%2C%20-96.663492%5D%2C%20%5B30.028842%2C%20-90.045737%5D%2C%20%5B44.948383%2C%20-92.990609%5D%2C%20%5B39.690994%2C%20-121.335823%5D%2C%20%5B38.539444%2C%20-121.453005%5D%2C%20%5B41.030741%2C%20-111.94755%5D%2C%20%5B37.879669%2C%20-122.048045%5D%2C%20%5B31.467386%2C%20-106.055413%5D%2C%20%5B26.202575%2C%20-80.13255500000002%5D%2C%20%5B25.76972%2C%20-80.333946%5D%2C%20%5B30.453153000000004%2C%20-91.093502%5D%2C%20%5B29.223422%2C%20-82.193813%5D%2C%20%5B45.11649%2C%20-93.39072%5D%2C%20%5B37.221573%2C%20-122.40614%5D%2C%20%5B45.416894%2C%20-122.743775%5D%2C%20%5B26.136928%2C%20-80.343861%5D%2C%20%5B40.607711%2C%20-78.30941999999997%5D%2C%20%5B29.953914%2C%20-90.084924%5D%2C%20%5B33.01316%2C%20-117.26766%5D%2C%20%5B37.875576%2C%20-122.045796%5D%2C%20%5B38.652944%2C%20-77.28734200000002%5D%2C%20%5B34.066238%2C%20-81.02696800000002%5D%2C%20%5B44.371241%2C%20-117.296358%5D%2C%20%5B40.168658%2C%20-74.91933399999998%5D%2C%20%5B40.89069%2C%20-74.41542%5D%2C%20%5B38.266283%2C%20-78.939501%5D%2C%20%5B27.8175%2C%20-82.66455%5D%2C%20%5B33.774432%2C%20-118.044711%5D%2C%20%5B32.744911%2C%20-96.813915%5D%2C%20%5B33.876575%2C%20-118.073388%5D%2C%20%5B39.64024000000001%2C%20-75.79718000000003%5D%2C%20%5B38.389065%2C%20-120.527285%5D%2C%20%5B32.746803%2C%20-97.31938%5D%2C%20%5B25.889284%2C%20-80.167194%5D%2C%20%5B36.575715%2C%20-82.506541%5D%2C%20%5B25.889389%2C%20-80.157085%5D%2C%20%5B40.724963%2C%20-74.22823299999997%5D%2C%20%5B40.85804%2C%20-74.36373%5D%2C%20%5B40.256876%2C%20-75.580275%5D%2C%20%5B38.78533%2C%20-77.513242%5D%2C%20%5B38.55244%2C%20-121.43402%5D%2C%20%5B34.138415%2C%20-117.242582%5D%2C%20%5B40.730361%2C%20-73.875897%5D%2C%20%5B34.273058%2C%20-118.427019%5D%2C%20%5B40.051105%2C%20-75.66109399999998%5D%2C%20%5B31.775652%2C%20-106.467242%5D%2C%20%5B39.03758%2C%20-77.05969%5D%2C%20%5B28.451637%2C%20-81.470822%5D%2C%20%5B42.970564%2C%20-85.677931%5D%2C%20%5B34.803689%2C%20-91.922296%5D%2C%20%5B33.963578000000005%2C%20-118.370024%5D%2C%20%5B28.65827100000001%2C%20-82.552084%5D%2C%20%5B37.16010900000001%2C%20-93.316225%5D%2C%20%5B28.072308000000003%2C%20-82.45125%5D%2C%20%5B26.142514%2C%20-80.169736%5D%2C%20%5B42.49445%2C%20-83.1172%5D%2C%20%5B34.723972%2C%20-81.659873%5D%2C%20%5B34.150609%2C%20-117.348585%5D%2C%20%5B36.150361%2C%20-86.69780899999998%5D%2C%20%5B42.324051%2C%20-88.164591%5D%2C%20%5B39.67402%2C%20-77.45477%5D%2C%20%5B42.22869%2C%20-83.41986%5D%2C%20%5B32.998164%2C%20-80.16154499999998%5D%2C%20%5B37.996465%2C%20-122.110326%5D%2C%20%5B33.96669%2C%20-118.08066%5D%2C%20%5B35.127677%2C%20-90.076141%5D%2C%20%5B29.217681%2C%20-82.208575%5D%2C%20%5B40.17345%2C%20-77.86290699999998%5D%2C%20%5B33.85595%2C%20-118.00244%5D%2C%20%5B39.980031%2C%20-76.311131%5D%2C%20%5B27.443612%2C%20-82.50536899999999%5D%2C%20%5B28.578137%2C%20-81.415727%5D%2C%20%5B40.0361%2C%20-75.19395899999998%5D%2C%20%5B38.560477%2C%20-121.458932%5D%2C%20%5B30.48915%2C%20-86.121932%5D%2C%20%5B25.939448%2C%20-80.29120999999998%5D%2C%20%5B33.974728000000006%2C%20-118.236829%5D%2C%20%5B26.14379%2C%20-80.169852%5D%2C%20%5B41.602%2C%20-87.16649%5D%2C%20%5B38.917103%2C%20-94.766813%5D%2C%20%5B39.510801%2C%20-119.656839%5D%2C%20%5B35.389677%2C%20-119.044429%5D%2C%20%5B39.02305%2C%20-76.47270999999998%5D%2C%20%5B35.76450999999999%2C%20-78.57451999999998%5D%2C%20%5B39.594053%2C%20-77.809439%5D%2C%20%5B39.381699%2C%20-76.738087%5D%2C%20%5B33.614512%2C%20-117.707622%5D%2C%20%5B25.719495%2C%20-80.335099%5D%2C%20%5B33.772031%2C%20-117.909179%5D%2C%20%5B30.423457%2C%20-91.144633%5D%2C%20%5B33.674887%2C%20-117.8384%5D%2C%20%5B38.204852%2C%20-120.697365%5D%2C%20%5B36.808437%2C%20-76.054755%5D%2C%20%5B29.523222%2C%20-95.121572%5D%2C%20%5B38.847629%2C%20-77.775306%5D%2C%20%5B34.027644%2C%20-118.274874%5D%2C%20%5B30.47909000000001%2C%20-90.41069%5D%2C%20%5B38.742696%2C%20-76.991683%5D%2C%20%5B32.91211%2C%20-96.73633%5D%2C%20%5B37.972224%2C%20-122.520679%5D%2C%20%5B41.87065%2C%20-87.76884%5D%2C%20%5B41.706513%2C%20-93.774989%5D%2C%20%5B34.04514%2C%20-118.93493%5D%2C%20%5B37.015269%2C%20-121.959947%5D%2C%20%5B34.00354%2C%20-117.93046499999998%5D%2C%20%5B35.332827%2C%20-80.797899%5D%2C%20%5B37.238371%2C%20-121.994677%5D%2C%20%5B34.030965%2C%20-118.030988%5D%2C%20%5B41.80347%2C%20-87.63167%5D%2C%20%5B34.02395300000001%2C%20-118.240732%5D%2C%20%5B41.64615%2C%20-93.57556%5D%2C%20%5B36.975463%2C%20-121.889308%5D%2C%20%5B36.75759%2C%20-76.289068%5D%2C%20%5B45.35531%2C%20-122.6215%5D%2C%20%5B31.291674%2C%20-81.491922%5D%2C%20%5B34.148315000000004%2C%20-118.46957%5D%2C%20%5B34.305347999999995%2C%20-117.467028%5D%2C%20%5B41.259294%2C%20-121.987327%5D%2C%20%5B45.03636%2C%20-93.452657%5D%2C%20%5B25.096593%2C%20-80.438181%5D%2C%20%5B44.1925%2C%20-95.12123%5D%2C%20%5B37.52204%2C%20-77.96236%5D%2C%20%5B38.916975%2C%20-77.046076%5D%2C%20%5B40.182398%2C%20-74.620653%5D%2C%20%5B30.47046%2C%20-97.67074%5D%2C%20%5B42.46677%2C%20-87.94675%5D%2C%20%5B41.107825%2C%20-76.895338%5D%2C%20%5B34.067366%2C%20-117.563705%5D%2C%20%5B35.94519000000001%2C%20-78.552718%5D%2C%20%5B41.524881%2C%20-72.77593399999998%5D%2C%20%5B38.019658%2C%20-120.24668%5D%2C%20%5B37.624619%2C%20-122.401316%5D%2C%20%5B33.715191%2C%20-117.189242%5D%2C%20%5B35.46680100000001%2C%20-119.074684%5D%2C%20%5B33.91183%2C%20-84.37395%5D%2C%20%5B33.792481%2C%20-117.87956%5D%2C%20%5B33.534981%2C%20-80.900739%5D%2C%20%5B25.672699%2C%20-80.36467900000002%5D%2C%20%5B40.748645%2C%20-111.704961%5D%2C%20%5B34.958442%2C%20-82.058504%5D%2C%20%5B40.120173%2C%20-75.350195%5D%2C%20%5B28.186091%2C%20-82.437162%5D%2C%20%5B37.88178%2C%20-122.30826%5D%2C%20%5B39.19585%2C%20-104.853%5D%2C%20%5B27.916578%2C%20-82.790813%5D%2C%20%5B38.318071%2C%20-122.104601%5D%2C%20%5B27.460754%2C%20-82.587665%5D%2C%20%5B30.496051%2C%20-87.263101%5D%2C%20%5B37.169518%2C%20-93.438971%5D%2C%20%5B33.92485%2C%20-118.33502%5D%2C%20%5B27.389%2C%20-82.50599%5D%2C%20%5B33.825759000000005%2C%20-118.241783%5D%2C%20%5B47.24101%2C%20-122.38043%5D%2C%20%5B34.087394%2C%20-117.662948%5D%2C%20%5B34.479026%2C%20-118.167285%5D%2C%20%5B28.138032%2C%20-82.500734%5D%2C%20%5B36.161522%2C%20-86.77390600000004%5D%2C%20%5B42.262544%2C%20-88.154457%5D%2C%20%5B33.390876%2C%20-86.792326%5D%2C%20%5B33.873314%2C%20-118.248765%5D%2C%20%5B37.897673%2C%20-122.09113%5D%2C%20%5B41.80109%2C%20-87.79448000000002%5D%2C%20%5B39.151473%2C%20-121.486319%5D%2C%20%5B32.231586%2C%20-110.977917%5D%2C%20%5B30.439737%2C%20-91.20012%5D%2C%20%5B37.344102%2C%20-121.84708700000002%5D%2C%20%5B45.303008%2C%20-122.76909%5D%2C%20%5B40.785988%2C%20-73.82437%5D%2C%20%5B28.59766500000001%2C%20-81.20867%5D%2C%20%5B38.959977%2C%20-92.249624%5D%2C%20%5B33.936291%2C%20-98.518405%5D%2C%20%5B35.207322%2C%20-80.797375%5D%2C%20%5B28.149544%2C%20-82.697353%5D%2C%20%5B38.644801%2C%20-121.26371%5D%2C%20%5B35.734713%2C%20-78.659926%5D%2C%20%5B33.736994%2C%20-117.076373%5D%2C%20%5B39.828411%2C%20-86.033796%5D%2C%20%5B32.18268%2C%20-110.95607%5D%2C%20%5B41.791485%2C%20-124.179502%5D%2C%20%5B42.70568%2C%20-71.6724%5D%2C%20%5B33.55738%2C%20-117.68115%5D%2C%20%5B29.79%2C%20-95.3719%5D%2C%20%5B39.592334%2C%20-79.979647%5D%2C%20%5B28.451596%2C%20-81.22013199999998%5D%2C%20%5B40.106536%2C%20-75.31581899999998%5D%2C%20%5B37.817133%2C%20-120.129654%5D%2C%20%5B34.04755%2C%20-117.30748%5D%2C%20%5B33.77688%2C%20-84.61074%5D%2C%20%5B33.904243%2C%20-84.239228%5D%2C%20%5B25.732841%2C%20-80.349118%5D%2C%20%5B25.936606%2C%20-80.29379%5D%2C%20%5B27.29877%2C%20-82.45149%5D%2C%20%5B32.796717%2C%20-117.209618%5D%2C%20%5B35.174945%2C%20-92.744366%5D%2C%20%5B35.086275%2C%20-85.191785%5D%2C%20%5B41.271729%2C%20-73.685222%5D%2C%20%5B25.93244%2C%20-80.203611%5D%2C%20%5B29.427651%2C%20-81.510254%5D%2C%20%5B33.98153%2C%20-118.07489%5D%2C%20%5B39.42323%2C%20-88.38269%5D%2C%20%5B38.923142%2C%20-94.526377%5D%2C%20%5B36.027552%2C%20-86.784134%5D%2C%20%5B25.949326%2C%20-80.148812%5D%2C%20%5B34.755425%2C%20-120.357169%5D%2C%20%5B39.62894%2C%20-75.96224000000002%5D%2C%20%5B37.489954%2C%20-121.944812%5D%2C%20%5B36.733871%2C%20-76.240342%5D%2C%20%5B36.747432%2C%20-119.802764%5D%2C%20%5B33.62952%2C%20-79.03473000000002%5D%2C%20%5B38.588911%2C%20-121.415262%5D%2C%20%5B29.943306%2C%20-90.09282%5D%2C%20%5B41.037585%2C%20-85.891327%5D%2C%20%5B34.836004%2C%20-80.807887%5D%2C%20%5B45.070708%2C%20-123.723586%5D%2C%20%5B33.88325%2C%20-117.54282%5D%2C%20%5B47.789428%2C%20-121.506459%5D%2C%20%5B37.85443%2C%20-122.21998%5D%2C%20%5B41.04648%2C%20-73.54593%5D%2C%20%5B40.90768900000001%2C%20-123.733452%5D%2C%20%5B33.876096000000004%2C%20-118.16814%5D%2C%20%5B37.71887%2C%20-121.66159%5D%2C%20%5B34.147236%2C%20-81.241017%5D%2C%20%5B30.3408%2C%20-81.76088%5D%2C%20%5B36.999416%2C%20-76.31734399999998%5D%2C%20%5B33.610079%2C%20-112.007449%5D%2C%20%5B40.298119%2C%20-86.716622%5D%2C%20%5B32.768637%2C%20-117.129669%5D%2C%20%5B35.13496%2C%20-89.86786%5D%2C%20%5B42.47215%2C%20-83.11028%5D%2C%20%5B34.511245%2C%20-82.98561%5D%2C%20%5B33.931961%2C%20-118.326546%5D%2C%20%5B41.002677%2C%20-76.45053399999998%5D%2C%20%5B38.891264%2C%20-104.75709%5D%2C%20%5B37.70201%2C%20-121.91683%5D%2C%20%5B38.108476%2C%20-120.59906200000002%5D%2C%20%5B25.9079%2C%20-80.251635%5D%2C%20%5B38.093408%2C%20-122.230314%5D%2C%20%5B39.013921%2C%20-77.042216%5D%2C%20%5B34.130342%2C%20-118.703557%5D%2C%20%5B41.81148%2C%20-72.52084%5D%2C%20%5B33.560422%2C%20-80.825701%5D%2C%20%5B41.588498%2C%20-73.907779%5D%2C%20%5B34.143784000000004%2C%20-117.320286%5D%2C%20%5B35.804733%2C%20-80.861338%5D%2C%20%5B34.15205%2C%20-118.12751000000002%5D%2C%20%5B41.98737%2C%20-87.75135999999998%5D%2C%20%5B38.8688%2C%20-77.047%5D%2C%20%5B40.543152%2C%20-79.550282%5D%2C%20%5B40.73225%2C%20-73.99635%5D%2C%20%5B32.819415%2C%20-96.629149%5D%2C%20%5B35.61333%2C%20-119.651316%5D%2C%20%5B30.518057%2C%20-87.312802%5D%2C%20%5B30.44345%2C%20-91.182558%5D%2C%20%5B34.081252%2C%20-117.298286%5D%2C%20%5B34.0368%2C%20-118.02375%5D%2C%20%5B33.861897%2C%20-117.773732%5D%2C%20%5B48.829894%2C%20-122.229949%5D%2C%20%5B25.62749%2C%20-80.37989%5D%2C%20%5B35.863448%2C%20-78.637523%5D%2C%20%5B30.53512000000001%2C%20-91.17307%5D%2C%20%5B42.20906%2C%20-87.99163%5D%2C%20%5B34.017702%2C%20-118.175493%5D%2C%20%5B40.530592%2C%20-74.35149100000002%5D%2C%20%5B38.56015%2C%20-121.46287%5D%2C%20%5B38.90176%2C%20-104.74209%5D%2C%20%5B29.41548%2C%20-81.737122%5D%2C%20%5B36.058744%2C%20-86.719337%5D%2C%20%5B35.384263%2C%20-118.940733%5D%2C%20%5B34.952404%2C%20-82.18056700000002%5D%2C%20%5B42.320779%2C%20-122.861978%5D%2C%20%5B45.74434%2C%20-119.097252%5D%2C%20%5B25.888278%2C%20-80.164008%5D%2C%20%5B42.045883%2C%20-124.254382%5D%2C%20%5B44.976664%2C%20-93.343201%5D%2C%20%5B35.125007000000004%2C%20-81.5625%5D%2C%20%5B25.794477%2C%20-80.368876%5D%2C%20%5B45.177787%2C%20-122.853702%5D%2C%20%5B35.84213%2C%20-78.575092%5D%2C%20%5B37.66896%2C%20-122.1094%5D%2C%20%5B28.444626%2C%20-81.471971%5D%2C%20%5B32.236109%2C%20-110.901159%5D%2C%20%5B36.08995%2C%20-95.99377%5D%2C%20%5B33.586303%2C%20-117.671514%5D%2C%20%5B41.83459600000001%2C%20-72.66558%5D%2C%20%5B34.017802%2C%20-118.165779%5D%2C%20%5B38.16384%2C%20-78.41486%5D%2C%20%5B41.43869%2C%20-81.80554000000002%5D%2C%20%5B34.172275%2C%20-118.514198%5D%2C%20%5B30.407318%2C%20-87.274518%5D%2C%20%5B33.990819%2C%20-117.934726%5D%2C%20%5B35.218025%2C%20-80.84239699999998%5D%2C%20%5B32.367925%2C%20-86.132812%5D%2C%20%5B32.851128%2C%20-96.778978%5D%2C%20%5B38.510187%2C%20-122.769872%5D%2C%20%5B33.80682%2C%20-118.15017%5D%2C%20%5B33.958559%2C%20-118.231222%5D%2C%20%5B39.93025%2C%20-75.1983%5D%2C%20%5B40.91986%2C%20-73.958211%5D%2C%20%5B36.758802%2C%20-76.339662%5D%2C%20%5B39.069483%2C%20-121.73619%5D%2C%20%5B43.91456%2C%20-91.59157%5D%2C%20%5B43.66193%2C%20-123.34239%5D%2C%20%5B34.102925%2C%20-118.194952%5D%2C%20%5B45.52643%2C%20-122.68692%5D%2C%20%5B34.102222999999995%2C%20-118.317107%5D%2C%20%5B33.735373%2C%20-117.285799%5D%2C%20%5B34.056907%2C%20-118.24243%5D%2C%20%5B28.448092%2C%20-81.263921%5D%2C%20%5B33.929778000000006%2C%20-117.41567%5D%2C%20%5B26.357644%2C%20-80.11928%5D%2C%20%5B30.408922%2C%20-81.657503%5D%2C%20%5B25.916765%2C%20-80.276338%5D%2C%20%5B39.367136%2C%20-76.650741%5D%2C%20%5B35.441404%2C%20-119.092171%5D%2C%20%5B41.557105%2C%20-72.894576%5D%2C%20%5B35.825022%2C%20-78.705844%5D%2C%20%5B42.43622%2C%20-83.09506999999998%5D%2C%20%5B38.315792%2C%20-77.495892%5D%2C%20%5B40.81064%2C%20-74.06145%5D%2C%20%5B36.719698%2C%20-119.00018500000002%5D%2C%20%5B25.603575%2C%20-80.351962%5D%2C%20%5B39.865358%2C%20-75.10093499999998%5D%2C%20%5B33.846724%2C%20-118.231659%5D%2C%20%5B37.021907%2C%20-120.13248%5D%2C%20%5B38.691119%2C%20-120.614452%5D%2C%20%5B39.35926%2C%20-78.04930999999998%5D%2C%20%5B45.599354%2C%20-122.78627%5D%2C%20%5B32.270214%2C%20-95.307019%5D%2C%20%5B32.524091%2C%20-96.822284%5D%2C%20%5B47.1767%2C%20-122.46625%5D%2C%20%5B33.183062%2C%20-117.296453%5D%2C%20%5B30.532073%2C%20-91.088477%5D%2C%20%5B32.713713%2C%20-117.140281%5D%2C%20%5B29.449851%2C%20-82.220206%5D%2C%20%5B35.43292299999999%2C%20-120.614356%5D%2C%20%5B35.060925%2C%20-80.956326%5D%2C%20%5B36.147458%2C%20-86.776687%5D%2C%20%5B45.068759%2C%20-93.271578%5D%2C%20%5B32.987812%2C%20-87.78632900000002%5D%2C%20%5B33.871461%2C%20-117.739609%5D%2C%20%5B35.616039%2C%20-119.689769%5D%2C%20%5B25.640917%2C%20-80.335406%5D%2C%20%5B42.575962%2C%20-114.060402%5D%2C%20%5B40.64846%2C%20-111.90251%5D%2C%20%5B37.40303%2C%20-122.046902%5D%2C%20%5B25.625744%2C%20-80.38219000000002%5D%2C%20%5B29.966319%2C%20-90.110849%5D%2C%20%5B39.636472%2C%20-75.94873299999998%5D%2C%20%5B32.898994%2C%20-96.718252%5D%2C%20%5B38.81583%2C%20-77.32135%5D%2C%20%5B33.91219%2C%20-84.38374%5D%2C%20%5B33.829043%2C%20-118.253466%5D%2C%20%5B30.828808%2C%20-85.95515999999998%5D%2C%20%5B30.424083000000003%2C%20-91.150856%5D%2C%20%5B33.76685%2C%20-117.97599%5D%2C%20%5B29.940622%2C%20-90.100815%5D%2C%20%5B33.043757%2C%20-111.987923%5D%2C%20%5B35.032508%2C%20-82.501085%5D%2C%20%5B38.74424000000001%2C%20-77.149955%5D%2C%20%5B24.706425%2C%20-81.127872%5D%2C%20%5B47.45389%2C%20-122.26468%5D%2C%20%5B38.702355%2C%20-112.601655%5D%2C%20%5B39.030829%2C%20-94.361218%5D%2C%20%5B43.64149000000001%2C%20-122.18095%5D%2C%20%5B33.766163%2C%20-117.937693%5D%2C%20%5B32.847825%2C%20-97.339032%5D%2C%20%5B46.89318%2C%20-94.50187%5D%2C%20%5B38.621331%2C%20-77.296017%5D%2C%20%5B44.408412%2C%20-123.898011%5D%2C%20%5B41.666664%2C%20-71.494361%5D%2C%20%5B34.222623%2C%20-118.370559%5D%2C%20%5B34.14672%2C%20-117.907367%5D%2C%20%5B25.656691%2C%20-80.391865%5D%2C%20%5B30.732454%2C%20-86.345855%5D%2C%20%5B29.938244%2C%20-90.096347%5D%2C%20%5B36.713857%2C%20-119.583102%5D%2C%20%5B26.656394%2C%20-81.793127%5D%2C%20%5B40.71837%2C%20-111.879631%5D%2C%20%5B44.044615%2C%20-123.542787%5D%2C%20%5B41.053056%2C%20-111.597797%5D%2C%20%5B40.038425%2C%20-76.299246%5D%2C%20%5B34.06446%2C%20-118.00388%5D%2C%20%5B25.76696%2C%20-80.238979%5D%2C%20%5B25.778655%2C%20-80.265541%5D%2C%20%5B25.717003%2C%20-80.36699399999998%5D%2C%20%5B33.932036%2C%20-118.090184%5D%2C%20%5B45.281137%2C%20-122.340432%5D%2C%20%5B41.294469%2C%20-72.789301%5D%2C%20%5B43.580371%2C%20-116.25358500000002%5D%2C%20%5B33.039386%2C%20-117.283419%5D%2C%20%5B38.743114%2C%20-90.528419%5D%2C%20%5B33.854113%2C%20-117.919862%5D%2C%20%5B37.74392%2C%20-122.40563%5D%2C%20%5B34.23905%2C%20-118.47314%5D%2C%20%5B36.804143%2C%20-121.652037%5D%2C%20%5B45.1279%2C%20-93.48602%5D%2C%20%5B38.74396%2C%20-90.41271%5D%2C%20%5B28.42136%2C%20-81.40471%5D%2C%20%5B34.13445%2C%20-80.764852%5D%2C%20%5B40.770788%2C%20-73.994663%5D%2C%20%5B36.067406%2C%20-79.502871%5D%2C%20%5B30.385221%2C%20-83.83101500000002%5D%2C%20%5B41.687997%2C%20-91.634892%5D%2C%20%5B45.225347%2C%20-123.187413%5D%2C%20%5B28.067317%2C%20-82.736496%5D%2C%20%5B33.918775%2C%20-84.48328599999998%5D%2C%20%5B33.997203000000006%2C%20-117.932063%5D%2C%20%5B30.183768%2C%20-81.739325%5D%2C%20%5B39.77751%2C%20-75.51285%5D%2C%20%5B40.708771%2C%20-74.164575%5D%2C%20%5B40.53756%2C%20-74.34183%5D%2C%20%5B34.1684%2C%20-118.38449%5D%2C%20%5B33.135933%2C%20-80.311033%5D%2C%20%5B32.572516%2C%20-96.822375%5D%2C%20%5B33.994382%2C%20-117.869906%5D%2C%20%5B26.622641%2C%20-81.94068100000001%5D%2C%20%5B29.800233%2C%20-95.513305%5D%2C%20%5B33.820274%2C%20-118.193161%5D%2C%20%5B35.056718%2C%20-85.13529799999998%5D%2C%20%5B39.924579%2C%20-86.97439200000002%5D%2C%20%5B35.37133%2C%20-119.04328999999998%5D%2C%20%5B33.030234%2C%20-117.078605%5D%2C%20%5B42.984856%2C%20-85.67719%5D%2C%20%5B45.597375%2C%20-122.684419%5D%2C%20%5B36.871992%2C%20-76.195881%5D%2C%20%5B32.342372999999995%2C%20-88.931234%5D%2C%20%5B39.30343%2C%20-74.61820999999998%5D%2C%20%5B37.78599000000001%2C%20-79.58974%5D%2C%20%5B25.84292%2C%20-80.322475%5D%2C%20%5B33.878369%2C%20-117.266683%5D%2C%20%5B39.4494%2C%20-87.13226999999998%5D%2C%20%5B32.838921%2C%20-96.814766%5D%2C%20%5B33.768440000000005%2C%20-84.49486%5D%2C%20%5B25.898611%2C%20-80.202057%5D%2C%20%5B37.378977%2C%20-79.12686%5D%2C%20%5B39.65322000000001%2C%20-104.91692%5D%2C%20%5B27.383044%2C%20-81.465747%5D%2C%20%5B33.127459%2C%20-117.104762%5D%2C%20%5B33.53835%2C%20-112.20306%5D%2C%20%5B37.13549%2C%20-121.63616%5D%2C%20%5B39.31558%2C%20-76.62856%5D%2C%20%5B27.712628%2C%20-82.330678%5D%2C%20%5B44.41204000000001%2C%20-117.30828%5D%2C%20%5B29.89322%2C%20-95.31653%5D%2C%20%5B36.0379%2C%20-86.64690999999998%5D%2C%20%5B28.604883%2C%20-81.28703900000002%5D%2C%20%5B32.489568%2C%20-93.772426%5D%2C%20%5B39.050588%2C%20-77.152245%5D%2C%20%5B29.734199%2C%20-95.353306%5D%2C%20%5B40.49504%2C%20-79.90653%5D%2C%20%5B34.072821999999995%2C%20-117.545016%5D%2C%20%5B42.193223%2C%20-72.93236%5D%2C%20%5B27.461905%2C%20-82.575405%5D%2C%20%5B34.923766%2C%20-81.971815%5D%2C%20%5B45.245904%2C%20-123.12304%5D%2C%20%5B37.502264%2C%20-77.520114%5D%2C%20%5B45.532859%2C%20-122.564522%5D%2C%20%5B39.86227%2C%20-84.28477600000002%5D%2C%20%5B44.633519%2C%20-121.129565%5D%2C%20%5B34.689370000000004%2C%20-118.15991499999998%5D%2C%20%5B45.535379%2C%20-122.691439%5D%2C%20%5B25.577061%2C%20-80.371183%5D%2C%20%5B37.316878%2C%20-121.91926399999998%5D%2C%20%5B29.70625%2C%20-95.24219%5D%2C%20%5B25.954963%2C%20-80.25990999999998%5D%2C%20%5B33.800758%2C%20-84.389046%5D%2C%20%5B28.452287%2C%20-81.47081800000002%5D%2C%20%5B40.64507%2C%20-74.01745%5D%2C%20%5B42.84726%2C%20-78.79151%5D%2C%20%5B25.808804%2C%20-80.24979%5D%2C%20%5B44.951582%2C%20-93.166955%5D%2C%20%5B29.771152%2C%20-95.296183%5D%2C%20%5B26.202575%2C%20-80.13255500000002%5D%2C%20%5B37.701387%2C%20-121.769828%5D%2C%20%5B39.69308%2C%20-104.8288%5D%2C%20%5B29.03743%2C%20-81.213291%5D%2C%20%5B36.252357%2C%20-86.647588%5D%2C%20%5B39.87921%2C%20-104.8922%5D%2C%20%5B38.360528%2C%20-78.925434%5D%2C%20%5B25.587562%2C%20-80.34818299999998%5D%2C%20%5B38.562118%2C%20-109.54846299999998%5D%2C%20%5B45.06866%2C%20-93.26732%5D%2C%20%5B33.807369%2C%20-84.395163%5D%2C%20%5B36.940938%2C%20-76.26607%5D%2C%20%5B37.813697%2C%20-122.361552%5D%2C%20%5B30.30871%2C%20-97.710954%5D%2C%20%5B30.243312%2C%20-81.76301099999998%5D%2C%20%5B33.871761%2C%20-118.267084%5D%2C%20%5B33.895%2C%20-117.558399%5D%2C%20%5B34.208775%2C%20-80.984269%5D%2C%20%5B38.822184%2C%20-77.089005%5D%2C%20%5B47.248108%2C%20-122.116082%5D%2C%20%5B40.66764000000001%2C%20-73.99632%5D%2C%20%5B32.717939%2C%20-117.113281%5D%2C%20%5B37.648415%2C%20-77.59448%5D%2C%20%5B29.748198%2C%20-95.386506%5D%2C%20%5B25.799536%2C%20-80.35320899999998%5D%2C%20%5B41.62941%2C%20-93.69781%5D%2C%20%5B33.609124%2C%20-117.699497%5D%2C%20%5B33.893054%2C%20-117.503871%5D%2C%20%5B26.432024%2C%20-81.810775%5D%2C%20%5B34.022954%2C%20-117.336246%5D%2C%20%5B39.56658%2C%20-78.8552%5D%2C%20%5B33.536421000000004%2C%20-84.263838%5D%2C%20%5B39.014135%2C%20-76.612998%5D%2C%20%5B38.988643%2C%20-76.883236%5D%2C%20%5B45.190705%2C%20-93.545097%5D%2C%20%5B27.941391%2C%20-82.329196%5D%2C%20%5B34.036885%2C%20-118.297102%5D%2C%20%5B34.20603%2C%20-117.812984%5D%2C%20%5B37.464637%2C%20-77.42541999999997%5D%2C%20%5B39.18705%2C%20-86.55528000000002%5D%2C%20%5B47.580138%2C%20-122.176706%5D%2C%20%5B34.029555%2C%20-118.013619%5D%2C%20%5B29.63853%2C%20-95.38691%5D%2C%20%5B25.731971%2C%20-80.384713%5D%2C%20%5B39.93492%2C%20-74.96594%5D%2C%20%5B26.4541%2C%20-81.954153%5D%2C%20%5B40.72235%2C%20-111.90468%5D%2C%20%5B37.259433%2C%20-121.952967%5D%2C%20%5B34.557862%2C%20-118.132302%5D%2C%20%5B34.15288%2C%20-118.09334%5D%2C%20%5B37.651974%2C%20-77.421142%5D%2C%20%5B25.702455%2C%20-80.332105%5D%2C%20%5B33.054390000000005%2C%20-84.087%5D%2C%20%5B38.66258300000001%2C%20-76.60857299999998%5D%2C%20%5B38.79675%2C%20-77.19149300000002%5D%2C%20%5B36.46669%2C%20-77.85061999999998%5D%2C%20%5B46.445723%2C%20-94.301686%5D%2C%20%5B33.918997999999995%2C%20-118.196151%5D%2C%20%5B36.03691%2C%20-86.645477%5D%2C%20%5B34.068574%2C%20-117.974744%5D%2C%20%5B30.586555%2C%20-87.115838%5D%2C%20%5B38.53752%2C%20-121.73848%5D%2C%20%5B29.997576%2C%20-90.161263%5D%2C%20%5B28.449892%2C%20-81.48461%5D%2C%20%5B47.28591%2C%20-94.625403%5D%2C%20%5B45.613142%2C%20-122.599428%5D%2C%20%5B34.068613%2C%20-118.216737%5D%2C%20%5B39.180143%2C%20-119.724414%5D%2C%20%5B41.107611%2C%20-73.799497%5D%2C%20%5B34.071490000000004%2C%20-117.9488%5D%2C%20%5B37.522593%2C%20-77.556911%5D%2C%20%5B40.325306%2C%20-75.980297%5D%2C%20%5B25.904482%2C%20-80.235685%5D%2C%20%5B37.53201%2C%20-122.00654%5D%2C%20%5B35.24548%2C%20-80.84891%5D%2C%20%5B40.35112%2C%20-76.72673%5D%2C%20%5B39.106661%2C%20-94.580665%5D%2C%20%5B25.944301%2C%20-80.18695%5D%2C%20%5B28.523215000000004%2C%20-81.309322%5D%2C%20%5B35.47123%2C%20-82.8856%5D%2C%20%5B34.078012%2C%20-118.2859%5D%2C%20%5B36.060639%2C%20-95.977114%5D%2C%20%5B33.927572%2C%20-118.254293%5D%2C%20%5B45.49734%2C%20-122.67329%5D%2C%20%5B33.848131%2C%20-84.36766999999998%5D%2C%20%5B26.302503%2C%20-80.183662%5D%2C%20%5B37.742721%2C%20-121.561525%5D%2C%20%5B33.947981%2C%20-117.60013%5D%2C%20%5B35.99595700000001%2C%20-86.690809%5D%2C%20%5B32.742442%2C%20-96.817819%5D%2C%20%5B40.290056%2C%20-79.017174%5D%2C%20%5B39.090149%2C%20-94.542229%5D%2C%20%5B34.15457%2C%20-118.31387%5D%2C%20%5B45.541878%2C%20-122.294764%5D%2C%20%5B40.8648%2C%20-74.42228%5D%2C%20%5B36.172657%2C%20-86.793867%5D%2C%20%5B34.102925%2C%20-118.194952%5D%2C%20%5B28.445563%2C%20-81.364985%5D%2C%20%5B32.977041%2C%20-86.686323%5D%2C%20%5B40.170318%2C%20-74.09948100000003%5D%2C%20%5B30.337854%2C%20-81.668876%5D%2C%20%5B30.530463%2C%20-87.394203%5D%2C%20%5B33.092869%2C%20-87.672797%5D%2C%20%5B33.924564000000004%2C%20-117.226287%5D%2C%20%5B35.072326000000004%2C%20-90.014505%5D%2C%20%5B36.497262%2C%20-84.518477%5D%2C%20%5B38.65296%2C%20-77.281662%5D%2C%20%5B25.81769%2C%20-80.264946%5D%2C%20%5B44.836374%2C%20-117.588483%5D%2C%20%5B28.613988%2C%20-81.386901%5D%2C%20%5B33.938064000000004%2C%20-118.094424%5D%2C%20%5B37.552525%2C%20-77.47882800000002%5D%2C%20%5B34.267522%2C%20-118.47226%5D%2C%20%5B34.1139%2C%20-84.73423000000003%5D%2C%20%5B42.86919%2C%20-85.62539%5D%2C%20%5B33.844703%2C%20-86.826249%5D%2C%20%5B34.74617%2C%20-86.45088%5D%2C%20%5B34.001853999999994%2C%20-117.834566%5D%2C%20%5B25.947835%2C%20-80.148723%5D%2C%20%5B44.665283%2C%20-123.222207%5D%2C%20%5B33.928926000000004%2C%20-118.284449%5D%2C%20%5B32.87601%2C%20-117.19985%5D%2C%20%5B30.478466%2C%20-84.357715%5D%2C%20%5B32.925819%2C%20-96.804696%5D%2C%20%5B40.595618%2C%20-75.35265799999998%5D%2C%20%5B35.010648%2C%20-120.494569%5D%2C%20%5B34.166515000000004%2C%20-118.29931100000002%5D%2C%20%5B34.664133%2C%20-79.65730400000002%5D%2C%20%5B28.57993%2C%20-81.37505999999998%5D%2C%20%5B41.56481%2C%20-73.05792%5D%2C%20%5B25.763159%2C%20-80.301901%5D%2C%20%5B36.107506%2C%20-86.67615699999998%5D%2C%20%5B39.62765200000001%2C%20-84.187539%5D%2C%20%5B43.954528%2C%20-92.344776%5D%2C%20%5B38.106327%2C%20-121.260163%5D%2C%20%5B37.74695%2C%20-121.72601%5D%2C%20%5B29.980391%2C%20-81.458483%5D%2C%20%5B29.926485%2C%20-90.101149%5D%2C%20%5B41.266527%2C%20-121.88373500000002%5D%2C%20%5B34.776284000000004%2C%20-82.368643%5D%2C%20%5B38.53041500000001%2C%20-75.249098%5D%2C%20%5B44.55153%2C%20-123.06163%5D%2C%20%5B39.012847%2C%20-122.057009%5D%2C%20%5B33.685551000000004%2C%20-117.872732%5D%2C%20%5B39.95679000000001%2C%20-75.15435%5D%2C%20%5B28.52405%2C%20-81.31049%5D%2C%20%5B32.698051%2C%20-116.861941%5D%2C%20%5B39.675958%2C%20-86.350638%5D%2C%20%5B45.598893%2C%20-122.68438%5D%2C%20%5B34.067411%2C%20-117.534893%5D%2C%20%5B34.027372%2C%20-84.05147099999998%5D%2C%20%5B33.13217%2C%20-117.121382%5D%2C%20%5B37.41062%2C%20-121.99274%5D%2C%20%5B41.87391%2C%20-87.71079%5D%2C%20%5B39.096832%2C%20-94.547352%5D%2C%20%5B28.001856%2C%20-82.505167%5D%2C%20%5B41.29144%2C%20-96.07374%5D%2C%20%5B38.218249%2C%20-85.65809300000002%5D%2C%20%5B33.432286%2C%20-84.756199%5D%2C%20%5B40.72829%2C%20-74.10223%5D%2C%20%5B40.70146%2C%20-74.102461%5D%2C%20%5B34.986977%2C%20-81.97870400000002%5D%2C%20%5B39.07892%2C%20-94.53871%5D%2C%20%5B39.09668%2C%20-94.65318%5D%2C%20%5B40.50349%2C%20-79.68009%5D%2C%20%5B36.24554000000001%2C%20-86.74592%5D%2C%20%5B40.749672%2C%20-73.61585600000002%5D%2C%20%5B37.76959%2C%20-122.416952%5D%2C%20%5B28.150255%2C%20-82.461566%5D%2C%20%5B39.191503%2C%20-121.005415%5D%2C%20%5B33.92694%2C%20-118.2809%5D%2C%20%5B30.396359000000004%2C%20-97.66748%5D%2C%20%5B42.156611%2C%20-75.898178%5D%2C%20%5B30.461111%2C%20-87.259248%5D%2C%20%5B37.86612%2C%20-122.206946%5D%2C%20%5B38.93554%2C%20-94.7506%5D%2C%20%5B33.881814%2C%20-117.547053%5D%2C%20%5B27.839251%2C%20-82.753867%5D%2C%20%5B39.95341%2C%20-82.95891%5D%2C%20%5B37.327047%2C%20-121.937184%5D%2C%20%5B25.787337%2C%20-80.19726899999998%5D%2C%20%5B34.005720000000004%2C%20-117.96019%5D%2C%20%5B44.86267%2C%20-93.20964%5D%2C%20%5B34.028681%2C%20-118.227642%5D%2C%20%5B33.98181%2C%20-118.07486000000002%5D%2C%20%5B36.76828%2C%20-121.762493%5D%2C%20%5B39.099166%2C%20-75.960611%5D%2C%20%5B38.878495%2C%20-121.121843%5D%2C%20%5B47.69421%2C%20-122.32951%5D%2C%20%5B29.927363%2C%20-90.104528%5D%2C%20%5B38.43635%2C%20-78.85361999999998%5D%2C%20%5B34.2182%2C%20-118.229675%5D%2C%20%5B27.69552%2C%20-80.89496%5D%2C%20%5B35.08462100000001%2C%20-85.063477%5D%2C%20%5B38.939358%2C%20-76.91802%5D%2C%20%5B32.28049%2C%20-86.30726999999996%5D%2C%20%5B41.93317%2C%20-71.46454%5D%2C%20%5B34.342274%2C%20-118.505506%5D%2C%20%5B25.816358%2C%20-80.206283%5D%2C%20%5B42.604532%2C%20-83.169013%5D%2C%20%5B35.779847%2C%20-78.62229%5D%2C%20%5B38.731086%2C%20-77.424151%5D%2C%20%5B37.739785%2C%20-121.590682%5D%2C%20%5B37.890128%2C%20-122.071403%5D%2C%20%5B38.62179%2C%20-90.12353%5D%2C%20%5B37.795688%2C%20-120.996514%5D%2C%20%5B32.84872%2C%20-96.573804%5D%2C%20%5B35.412244%2C%20-119.058817%5D%2C%20%5B39.094367%2C%20-94.543843%5D%2C%20%5B39.09875%2C%20-94.59292%5D%2C%20%5B41.76093%2C%20-87.87301%5D%2C%20%5B33.895896%2C%20-117.497722%5D%2C%20%5B40.381475%2C%20-74.460163%5D%2C%20%5B37.930204%2C%20-122.385023%5D%2C%20%5B41.23778%2C%20-73.16089000000002%5D%2C%20%5B41.044875%2C%20-73.551218%5D%2C%20%5B37.552988%2C%20-77.48010699999998%5D%2C%20%5B34.147642%2C%20-118.279162%5D%2C%20%5B38.898082%2C%20-121.077229%5D%2C%20%5B33.946155%2C%20-118.170479%5D%2C%20%5B40.80527%2C%20-73.93214%5D%2C%20%5B32.817074%2C%20-96.867908%5D%2C%20%5B34.117517%2C%20-118.26971100000002%5D%2C%20%5B27.44775%2C%20-82.573809%5D%2C%20%5B39.3513%2C%20-123.554059%5D%2C%20%5B46.877599%2C%20-113.989945%5D%2C%20%5B27.955353%2C%20-82.787522%5D%2C%20%5B33.606221999999995%2C%20-84.48590300000002%5D%2C%20%5B41.220794%2C%20-103.489419%5D%2C%20%5B39.13153%2C%20-85.95782%5D%2C%20%5B34.406273%2C%20-117.396485%5D%2C%20%5B29.77113%2C%20-96.035565%5D%2C%20%5B27.96661%2C%20-82.45345400000002%5D%2C%20%5B43.54578%2C%20-123.28829%5D%2C%20%5B32.81794%2C%20-97.05946%5D%2C%20%5B44.855169%2C%20-93.12857%5D%2C%20%5B35.53686%2C%20-97.51648%5D%2C%20%5B26.213289000000003%2C%20-81.800576%5D%2C%20%5B39.415158%2C%20-85.961676%5D%2C%20%5B44.097821%2C%20-123.150149%5D%2C%20%5B38.559524%2C%20-121.373107%5D%2C%20%5B38.524757%2C%20-121.46745%5D%2C%20%5B42.539031%2C%20-124.397924%5D%2C%20%5B36.70486%2C%20-77.54808%5D%2C%20%5B26.325%2C%20-80.11683000000002%5D%2C%20%5B41.350961%2C%20-124.023402%5D%2C%20%5B32.7708%2C%20-96.77821%5D%2C%20%5B34.117490000000004%2C%20-117.863428%5D%2C%20%5B44.636276%2C%20-124.042719%5D%2C%20%5B27.857181%2C%20-82.325609%5D%2C%20%5B34.160958%2C%20-117.338819%5D%2C%20%5B28.00283%2C%20-82.320438%5D%2C%20%5B38.287986%2C%20-85.832093%5D%2C%20%5B38.820949%2C%20-76.89139300000002%5D%2C%20%5B33.978484%2C%20-118.078265%5D%2C%20%5B45.292374%2C%20-118.03458700000002%5D%2C%20%5B40.42982%2C%20-79.95693%5D%2C%20%5B48.925176%2C%20-122.641807%5D%2C%20%5B40.79674%2C%20-73.47131%5D%2C%20%5B36.411527%2C%20-121.320052%5D%2C%20%5B41.51834%2C%20-81.6743%5D%2C%20%5B29.252395%2C%20-82.18997900000002%5D%2C%20%5B35.23703%2C%20-85.133071%5D%2C%20%5B30.00925%2C%20-90.24421%5D%2C%20%5B29.73641%2C%20-95.58871%5D%2C%20%5B38.93256%2C%20-77.21095%5D%2C%20%5B42.61149%2C%20-71.32734%5D%2C%20%5B33.590903000000004%2C%20-117.101046%5D%2C%20%5B45.821689%2C%20-111.851924%5D%2C%20%5B32.70009%2C%20-117.12068%5D%2C%20%5B34.937392%2C%20-120.373796%5D%2C%20%5B35.393363%2C%20-118.99248%5D%2C%20%5B37.632801%2C%20-122.109162%5D%2C%20%5B40.095306%2C%20-75.092229%5D%2C%20%5B42.104925%2C%20-122.610807%5D%2C%20%5B33.86934%2C%20-117.672178%5D%2C%20%5B39.54491%2C%20-77.71996999999998%5D%2C%20%5B44.89594500000001%2C%20-122.935266%5D%2C%20%5B33.960558%2C%20-98.513791%5D%2C%20%5B39.93296%2C%20-82.85458%5D%2C%20%5B33.764923%2C%20-111.494032%5D%2C%20%5B30.484863%2C%20-91.1583%5D%2C%20%5B42.12213%2C%20-71.22919%5D%2C%20%5B36.753993%2C%20-119.214102%5D%2C%20%5B33.021861%2C%20-117.273214%5D%2C%20%5B33.932545000000005%2C%20-118.017762%5D%2C%20%5B32.664262%2C%20-97.242621%5D%2C%20%5B42.613361%2C%20-76.180885%5D%2C%20%5B30.478833%2C%20-91.141546%5D%2C%20%5B44.84797%2C%20-93.2981%5D%2C%20%5B26.05793%2C%20-80.16251%5D%2C%20%5B37.585205%2C%20-77.44751099999998%5D%2C%20%5B37.70078%2C%20-122.02652%5D%2C%20%5B28.71684%2C%20-81.58946999999998%5D%2C%20%5B41.818846%2C%20-89.47316%5D%2C%20%5B27.945066%2C%20-82.457746%5D%2C%20%5B43.207577%2C%20-77.469409%5D%2C%20%5B32.1779%2C%20-110.9264%5D%2C%20%5B41.44604%2C%20-73.815797%5D%2C%20%5B46.505384%2C%20-122.876774%5D%2C%20%5B33.934090000000005%2C%20-117.55589%5D%2C%20%5B33.564055%2C%20-117.663748%5D%2C%20%5B34.172864000000004%2C%20-118.757063%5D%2C%20%5B34.205349%2C%20-79.768728%5D%2C%20%5B25.793369%2C%20-80.270499%5D%2C%20%5B38.754466%2C%20-77.276012%5D%2C%20%5B35.24743400000001%2C%20-78.630166%5D%2C%20%5B40.051533%2C%20-75.296987%5D%2C%20%5B33.446824%2C%20-117.634298%5D%2C%20%5B34.277976%2C%20-118.470178%5D%2C%20%5B38.902738%2C%20-76.061696%5D%2C%20%5B34.02888%2C%20-118.00291%5D%2C%20%5B30.000157%2C%20-90.115025%5D%2C%20%5B26.769007%2C%20-80.09485500000002%5D%2C%20%5B36.906476%2C%20-121.752546%5D%2C%20%5B44.000428%2C%20-91.468457%5D%2C%20%5B37.5995%2C%20-122.37551%5D%2C%20%5B30.372144%2C%20-81.760909%5D%2C%20%5B37.668957%2C%20-122.109386%5D%2C%20%5B38.660756%2C%20-121.331288%5D%2C%20%5B32.834990999999995%2C%20-117.233272%5D%2C%20%5B33.87605%2C%20-84.27490999999998%5D%2C%20%5B30.69147700000001%2C%20-86.114369%5D%2C%20%5B41.106666%2C%20-73.418787%5D%2C%20%5B32.922907%2C%20-97.078354%5D%2C%20%5B40.631743%2C%20-111.833986%5D%2C%20%5B34.756492%2C%20-86.71824000000002%5D%2C%20%5B34.024728%2C%20-118.428216%5D%2C%20%5B40.431376%2C%20-79.958711%5D%2C%20%5B45.018571%2C%20-93.282326%5D%2C%20%5B36.059237%2C%20-79.666984%5D%2C%20%5B34.64018%2C%20-78.75806999999998%5D%2C%20%5B38.021108%2C%20-121.254611%5D%2C%20%5B40.21755200000001%2C%20-76.115092%5D%2C%20%5B37.882479%2C%20-122.30814%5D%2C%20%5B40.31481%2C%20-79.67562%5D%2C%20%5B38.514801%2C%20-76.70397%5D%2C%20%5B38.882342%2C%20-77.019213%5D%2C%20%5B40.715777%2C%20-111.88826%5D%2C%20%5B37.14878%2C%20-121.64821%5D%2C%20%5B34.278475%2C%20-117.451457%5D%2C%20%5B37.33358%2C%20-121.86163%5D%2C%20%5B40.382105%2C%20-120.595432%5D%2C%20%5B34.12534%2C%20-118.47652%5D%2C%20%5B42.69258%2C%20-73.82511600000002%5D%2C%20%5B43.229807%2C%20-77.646654%5D%2C%20%5B38.891783%2C%20-77.06504699999998%5D%2C%20%5B39.798794%2C%20-120.521533%5D%2C%20%5B45.351616%2C%20-93.909426%5D%2C%20%5B34.753671000000004%2C%20-92.26255%5D%2C%20%5B36.912693%2C%20-121.395693%5D%2C%20%5B45.308571%2C%20-93.585648%5D%2C%20%5B29.753055%2C%20-95.375653%5D%2C%20%5B33.676951%2C%20-117.757278%5D%2C%20%5B33.87189%2C%20-117.70107%5D%2C%20%5B40.08671%2C%20-75.12795%5D%2C%20%5B33.63843%2C%20-84.378722%5D%2C%20%5B34.02834%2C%20-118.230192%5D%2C%20%5B36.047493%2C%20-119.311289%5D%2C%20%5B39.80676%2C%20-86.27521999999998%5D%2C%20%5B35.77862899999999%2C%20-81.396398%5D%2C%20%5B39.021588%2C%20-76.95207099999998%5D%2C%20%5B33.81225%2C%20-118.28748%5D%2C%20%5B33.458659999999995%2C%20-112.15184%5D%2C%20%5B40.04597%2C%20-76.309943%5D%2C%20%5B46.93263%2C%20-122.9079%5D%2C%20%5B38.079589%2C%20-122.54636399999998%5D%2C%20%5B33.357293%2C%20-80.52815799999998%5D%2C%20%5B28.450333%2C%20-81.409695%5D%2C%20%5B46.800363%2C%20-92.127385%5D%2C%20%5B39.6116%2C%20-86.48567%5D%2C%20%5B45.49476%2C%20-120.708686%5D%2C%20%5B33.58297%2C%20-112.23731%5D%2C%20%5B33.86116%2C%20-118.28538%5D%2C%20%5B44.862123%2C%20-93.258%5D%2C%20%5B33.729749%2C%20-84.39257099999998%5D%2C%20%5B39.439641%2C%20-94.333087%5D%2C%20%5B34.004220000000004%2C%20-117.404035%5D%2C%20%5B40.852225%2C%20-73.956065%5D%2C%20%5B38.588911%2C%20-121.415262%5D%2C%20%5B30.419421000000003%2C%20-91.094549%5D%2C%20%5B35.762876%2C%20-78.648849%5D%2C%20%5B25.733082%2C%20-80.33340799999998%5D%2C%20%5B26.442517%2C%20-80.089383%5D%2C%20%5B37.572373%2C%20-77.456756%5D%2C%20%5B33.79996%2C%20-118.11183%5D%2C%20%5B34.030965%2C%20-118.030988%5D%2C%20%5B47.77188%2C%20-122.32031%5D%2C%20%5B36.325401%2C%20-119.081234%5D%2C%20%5B40.773317%2C%20-124.184391%5D%2C%20%5B32.306162%2C%20-84.000555%5D%2C%20%5B34.009377%2C%20-117.824019%5D%2C%20%5B34.16496%2C%20-118.29745%5D%2C%20%5B33.945361%2C%20-79.024411%5D%2C%20%5B32.134045%2C%20-110.93678%5D%2C%20%5B35.14693%2C%20-80.92612%5D%2C%20%5B35.2437%2C%20-81.308966%5D%2C%20%5B28.423899%2C%20-81.404781%5D%2C%20%5B40.851585%2C%20-74.177386%5D%2C%20%5B34.6647%2C%20-83.90179%5D%2C%20%5B30.638451%2C%20-81.45846999999998%5D%2C%20%5B45.298574%2C%20-93.5601%5D%2C%20%5B32.272116%2C%20-110.992853%5D%2C%20%5B31.77885%2C%20-106.41867%5D%2C%20%5B35.242688%2C%20-80.983903%5D%2C%20%5B25.684604%2C%20-80.400559%5D%2C%20%5B34.113267%2C%20-93.095945%5D%2C%20%5B30.366469%2C%20-83.784113%5D%2C%20%5B41.173914%2C%20-77.328783%5D%2C%20%5B25.9131%2C%20-80.21024%5D%2C%20%5B33.843984000000006%2C%20-117.717044%5D%2C%20%5B26.898812%2C%20-82.00574%5D%2C%20%5B44.96499%2C%20-93.28723%5D%2C%20%5B43.127194%2C%20-92.795212%5D%2C%20%5B35.052657%2C%20-82.18956999999997%5D%2C%20%5B39.172719%2C%20-77.261971%5D%2C%20%5B45.623545%2C%20-123.375955%5D%2C%20%5B45.390037%2C%20-122.436384%5D%2C%20%5B37.93096%2C%20-122.3247%5D%2C%20%5B34.043128%2C%20-117.550442%5D%2C%20%5B45.53161%2C%20-122.25303999999998%5D%2C%20%5B40.26811%2C%20-74.51024%5D%2C%20%5B30.40976%2C%20-86.830394%5D%2C%20%5B35.623197%2C%20-82.224199%5D%2C%20%5B41.583198%2C%20-73.942763%5D%2C%20%5B29.96455%2C%20-90.121813%5D%2C%20%5B43.09465%2C%20-75.74297%5D%2C%20%5B40.71857%2C%20-112.05689%5D%2C%20%5B34.070685%2C%20-117.936806%5D%2C%20%5B25.908594%2C%20-80.209866%5D%2C%20%5B38.348668%2C%20-85.732398%5D%2C%20%5B25.810097%2C%20-80.33891899999998%5D%2C%20%5B45.450313%2C%20-122.727827%5D%2C%20%5B40.536174%2C%20-74.296446%5D%2C%20%5B45.53855%2C%20-122.37633999999998%5D%2C%20%5B42.57746%2C%20-123.374052%5D%2C%20%5B32.728713%2C%20-96.874338%5D%2C%20%5B38.812933%2C%20-120.031267%5D%2C%20%5B36.52526%2C%20-121.467858%5D%2C%20%5B33.916956%2C%20-118.137625%5D%2C%20%5B32.69158%2C%20-97.058566%5D%2C%20%5B39.603624%2C%20-84.22864100000002%5D%2C%20%5B39.04519000000001%2C%20-76.93303%5D%2C%20%5B40.402075%2C%20-79.604826%5D%2C%20%5B38.88988%2C%20-76.968458%5D%2C%20%5B41.69985%2C%20-88.03007%5D%2C%20%5B32.782548%2C%20-96.809817%5D%2C%20%5B34.053294%2C%20-118.258298%5D%2C%20%5B39.95348%2C%20-82.99894%5D%2C%20%5B40.5837%2C%20-77.611525%5D%2C%20%5B30.308972%2C%20-81.770457%5D%2C%20%5B44.1101%2C%20-122.427712%5D%2C%20%5B27.33470100000001%2C%20-82.447226%5D%2C%20%5B33.95783%2C%20-118.11184%5D%2C%20%5B30.563675%2C%20-81.829766%5D%2C%20%5B37.79841%2C%20-122.27487%5D%2C%20%5B40.20596%2C%20-75.22457%5D%2C%20%5B27.04169000000001%2C%20-82.29997%5D%2C%20%5B39.573857%2C%20-106.245596%5D%2C%20%5B28.011134%2C%20-82.732962%5D%2C%20%5B43.66381%2C%20-94.73905%5D%2C%20%5B46.147282%2C%20-123.917508%5D%2C%20%5B39.121283%2C%20-120.161449%5D%2C%20%5B37.124422%2C%20-119.736953%5D%2C%20%5B40.35045%2C%20-75.58428%5D%2C%20%5B40.56854600000001%2C%20-112.295645%5D%2C%20%5B27.83918%2C%20-82.68768100000001%5D%2C%20%5B34.08085%2C%20-117.99767%5D%2C%20%5B39.53662%2C%20-119.80668%5D%2C%20%5B42.633551%2C%20-78.99140899999998%5D%2C%20%5B34.7697%2C%20-118.801871%5D%2C%20%5B35.782825%2C%20-78.665465%5D%2C%20%5B27.04357700000001%2C%20-82.23606099999998%5D%2C%20%5B40.805937%2C%20-76.885017%5D%2C%20%5B44.890304%2C%20-93.287114%5D%2C%20%5B32.983090000000004%2C%20-80.07857%5D%2C%20%5B38.788723%2C%20-77.448634%5D%2C%20%5B42.407348%2C%20-123.43808%5D%2C%20%5B34.066814%2C%20-117.803232%5D%2C%20%5B25.878221%2C%20-80.35475500000003%5D%2C%20%5B34.134596%2C%20-117.674463%5D%2C%20%5B33.76978%2C%20-84.390067%5D%2C%20%5B40.127119%2C%20-75.52178%5D%2C%20%5B42.934674%2C%20-85.65606899999999%5D%2C%20%5B28.60632%2C%20-81.29916%5D%2C%20%5B28.097998%2C%20-81.951497%5D%2C%20%5B40.5522%2C%20-74.488023%5D%2C%20%5B43.864234%2C%20-117.578676%5D%2C%20%5B26.330542%2C%20-81.806865%5D%2C%20%5B38.078817%2C%20-121.732551%5D%2C%20%5B38.849013%2C%20-76.965663%5D%2C%20%5B38.242732%2C%20-77.501775%5D%2C%20%5B37.12285%2C%20-113.62376%5D%2C%20%5B26.345494%2C%20-81.784235%5D%2C%20%5B38.07596%2C%20-122.18901%5D%2C%20%5B37.866056%2C%20-121.219107%5D%2C%20%5B38.657407%2C%20-121.382913%5D%2C%20%5B32.67685%2C%20-96.69312%5D%2C%20%5B41.540174%2C%20-72.808409%5D%2C%20%5B28.342634000000004%2C%20-81.470158%5D%2C%20%5B40.732187%2C%20-74.12942199999998%5D%2C%20%5B29.57958%2C%20-98.31549%5D%2C%20%5B26.03921%2C%20-80.16368%5D%2C%20%5B28.474201%2C%20-81.396745%5D%2C%20%5B39.909175%2C%20-77.649067%5D%2C%20%5B28.92048%2C%20-98.43519%5D%2C%20%5B32.429412%2C%20-111.32326%5D%2C%20%5B27.290724%2C%20-80.368206%5D%2C%20%5B34.060908000000005%2C%20-117.804728%5D%2C%20%5B32.772420000000004%2C%20-117.12853%5D%2C%20%5B34.321791999999995%2C%20-118.446836%5D%2C%20%5B34.193918%2C%20-118.47143%5D%2C%20%5B34.47829%2C%20-117.27731%5D%2C%20%5B41.533115%2C%20-78.682286%5D%2C%20%5B40.022964%2C%20-121.062429%5D%2C%20%5B37.59075%2C%20-121.87003%5D%2C%20%5B26.218166%2C%20-80.13620999999998%5D%2C%20%5B44.778181%2C%20-93.217073%5D%2C%20%5B34.019742%2C%20-118.049901%5D%2C%20%5B34.061945%2C%20-81.149105%5D%2C%20%5B37.373352%2C%20-121.925731%5D%2C%20%5B33.356992%2C%20-112.192114%5D%2C%20%5B39.15312%2C%20-76.82338%5D%2C%20%5B33.048841%2C%20-80.241731%5D%2C%20%5B29.804155%2C%20-95.450738%5D%2C%20%5B45.580869%2C%20-118.585921%5D%2C%20%5B41.067254%2C%20-81.5742%5D%2C%20%5B38.904107%2C%20-77.018215%5D%2C%20%5B34.976581%2C%20-81.803561%5D%2C%20%5B33.650627%2C%20-117.39178400000002%5D%2C%20%5B42.694291%2C%20-73.830899%5D%2C%20%5B34.437563%2C%20-118.272425%5D%2C%20%5B42.074385%2C%20-75.800954%5D%2C%20%5B33.94398%2C%20-118.368535%5D%2C%20%5B33.092869%2C%20-87.672797%5D%2C%20%5B27.998893%2C%20-82.505115%5D%2C%20%5B41.22248%2C%20-95.98515%5D%2C%20%5B33.859788%2C%20-117.79031299999998%5D%2C%20%5B37.990102%2C%20-122.528841%5D%2C%20%5B42.993236%2C%20-123.325155%5D%2C%20%5B37.654641%2C%20-77.451027%5D%2C%20%5B30.031985%2C%20-89.98891400000002%5D%2C%20%5B35.772643%2C%20-80.863068%5D%2C%20%5B41.83990900000001%2C%20-73.232843%5D%2C%20%5B36.22493%2C%20-80.16955%5D%2C%20%5B35.798624%2C%20-78.564963%5D%2C%20%5B28.426939%2C%20-80.805527%5D%2C%20%5B36.3275%2C%20-119.322074%5D%2C%20%5B27.727636%2C%20-82.383245%5D%2C%20%5B37.827292%2C%20-122.296452%5D%2C%20%5B40.851838%2C%20-124.163856%5D%2C%20%5B40.63035%2C%20-74.08885%5D%2C%20%5B25.974265%2C%20-80.166001%5D%2C%20%5B42.261139%2C%20-74.398173%5D%2C%20%5B38.88704%2C%20-76.061379%5D%2C%20%5B32.73016%2C%20-117.10803%5D%2C%20%5B39.3521%2C%20-77.61542299999998%5D%2C%20%5B36.067505%2C%20-86.770484%5D%2C%20%5B39.420887%2C%20-76.644369%5D%2C%20%5B33.6876%2C%20-117.87818%5D%2C%20%5B33.70543%2C%20-117.855026%5D%2C%20%5B29.78447%2C%20-95.58767%5D%2C%20%5B42.21981%2C%20-88.06681%5D%2C%20%5B32.839929999999995%2C%20-97.25235%5D%2C%20%5B33.533996%2C%20-83.27519699999998%5D%2C%20%5B32.691246%2C%20-96.887794%5D%2C%20%5B35.48161%2C%20-80.87472%5D%2C%20%5B37.581778%2C%20-77.423098%5D%2C%20%5B34.097669%2C%20-118.246125%5D%2C%20%5B35.16245%2C%20-80.96988%5D%2C%20%5B36.99832%2C%20-76.40907%5D%2C%20%5B37.781835%2C%20-121.311993%5D%2C%20%5B36.01985%2C%20-83.92003000000003%5D%2C%20%5B39.68912%2C%20-74.917222%5D%2C%20%5B38.651111%2C%20-76.883255%5D%2C%20%5B38.437521%2C%20-77.414592%5D%2C%20%5B25.895549%2C%20-80.211073%5D%2C%20%5B44.964991%2C%20-93.28224%5D%2C%20%5B31.783690000000004%2C%20-106.455357%5D%2C%20%5B38.263295%2C%20-121.523689%5D%2C%20%5B34.67642%2C%20-82.53336%5D%2C%20%5B33.538521%2C%20-112.185877%5D%2C%20%5B25.936059%2C%20-80.2049%5D%2C%20%5B40.7416%2C%20-73.83748%5D%2C%20%5B39.74964%2C%20-105.01731%5D%2C%20%5B39.013251%2C%20-77.13325%5D%2C%20%5B35.40625%2C%20-97.53021%5D%2C%20%5B37.73920800000001%2C%20-121.46407%5D%2C%20%5B44.05487%2C%20-121.24929%5D%2C%20%5B27.205507%2C%20-81.852979%5D%2C%20%5B41.94327%2C%20-87.71621%5D%2C%20%5B25.88937300000001%2C%20-80.16444200000002%5D%2C%20%5B30.008929%2C%20-90.235809%5D%2C%20%5B42.304858%2C%20-121.936563%5D%2C%20%5B29.716088%2C%20-95.538889%5D%2C%20%5B46.580251%2C%20-112.897708%5D%2C%20%5B33.589721000000004%2C%20-81.75756%5D%2C%20%5B33.91588%2C%20-118.274%5D%2C%20%5B40.03142800000001%2C%20-74.254079%5D%2C%20%5B38.99062%2C%20-94.70035%5D%2C%20%5B25.627895%2C%20-80.414635%5D%2C%20%5B41.32268%2C%20-72.88465%5D%2C%20%5B41.12052%2C%20-73.372272%5D%2C%20%5B38.97197%2C%20-77.17917%5D%2C%20%5B35.234988%2C%20-80.838078%5D%2C%20%5B34.068028000000005%2C%20-117.60353%5D%2C%20%5B47.155474%2C%20-122.489806%5D%2C%20%5B26.567488%2C%20-81.67815999999998%5D%2C%20%5B39.950136%2C%20-75.28064%5D%2C%20%5B40.962092%2C%20-80.132866%5D%2C%20%5B34.002666%2C%20-118.410373%5D%2C%20%5B32.77956%2C%20-97.06116%5D%2C%20%5B37.65362%2C%20-104.7895%5D%2C%20%5B31.783637%2C%20-106.441999%5D%2C%20%5B25.98034%2C%20-80.1657%5D%2C%20%5B33.03304%2C%20-96.82935%5D%2C%20%5B35.050681%2C%20-82.51571700000002%5D%2C%20%5B38.962788%2C%20-121.606736%5D%2C%20%5B26.962022%2C%20-82.338192%5D%2C%20%5B39.21895%2C%20-76.6584%5D%2C%20%5B40.154747%2C%20-75.067662%5D%2C%20%5B33.530085%2C%20-81.789992%5D%2C%20%5B44.059027%2C%20-123.049503%5D%2C%20%5B33.461459999999995%2C%20-112.073693%5D%2C%20%5B38.595486%2C%20-121.412245%5D%2C%20%5B29.703576%2C%20-95.591809%5D%2C%20%5B32.764176%2C%20-96.851325%5D%2C%20%5B42.746369%2C%20-74.16781%5D%2C%20%5B26.00348%2C%20-80.21613%5D%2C%20%5B34.100172%2C%20-118.201979%5D%2C%20%5B40.906054%2C%20-76.415913%5D%2C%20%5B38.41096%2C%20-122.20308%5D%2C%20%5B37.926521%2C%20-122.051056%5D%2C%20%5B39.153546%2C%20-76.649712%5D%2C%20%5B37.384756%2C%20-121.812078%5D%2C%20%5B34.020596999999995%2C%20-118.19389%5D%2C%20%5B32.955539%2C%20-117.244622%5D%2C%20%5B37.55789%2C%20-77.41346999999998%5D%2C%20%5B38.07923%2C%20-120.553995%5D%2C%20%5B38.511373%2C%20-90.335749%5D%2C%20%5B37.119294%2C%20-121.626065%5D%2C%20%5B28.416055%2C%20-81.474365%5D%2C%20%5B38.42243%2C%20-121.48642%5D%2C%20%5B47.654033%2C%20-117.374203%5D%2C%20%5B34.173317%2C%20-118.535821%5D%2C%20%5B36.306379%2C%20-86.699696%5D%2C%20%5B44.873535%2C%20-93.434968%5D%2C%20%5B25.769985%2C%20-80.320054%5D%2C%20%5B37.50575900000001%2C%20-77.426518%5D%2C%20%5B34.426232%2C%20-117.619279%5D%2C%20%5B37.424516%2C%20-77.43838199999998%5D%2C%20%5B25.84071%2C%20-80.314054%5D%2C%20%5B27.10077%2C%20-80.25729799999998%5D%2C%20%5B29.694773%2C%20-95.428518%5D%2C%20%5B33.649364%2C%20-112.013548%5D%2C%20%5B35.642794%2C%20-105.956278%5D%2C%20%5B33.876686%2C%20-118.172464%5D%2C%20%5B38.58309000000001%2C%20-77.122275%5D%2C%20%5B34.074157%2C%20-118.271893%5D%2C%20%5B37.399872%2C%20-77.43170500000002%5D%2C%20%5B44.950828%2C%20-93.112647%5D%2C%20%5B33.976859999999995%2C%20-84.08933%5D%2C%20%5B25.618589%2C%20-80.422626%5D%2C%20%5B44.004845%2C%20-92.352331%5D%2C%20%5B30.285722%2C%20-85.63716099999998%5D%2C%20%5B40.13363%2C%20-75.451316%5D%2C%20%5B26.300789%2C%20-80.120566%5D%2C%20%5B29.98296400000001%2C%20-90.09146%5D%2C%20%5B42.55746%2C%20-122.810564%5D%2C%20%5B39.29851%2C%20-76.59089%5D%2C%20%5B33.176703%2C%20-117.351881%5D%2C%20%5B26.713963%2C%20-81.70088%5D%2C%20%5B37.86948%2C%20-122.30474%5D%2C%20%5B38.709398%2C%20-76.878165%5D%2C%20%5B33.128718%2C%20-117.113367%5D%2C%20%5B38.432674%2C%20-122.716078%5D%2C%20%5B25.840547%2C%20-80.24972199999998%5D%2C%20%5B26.54875800000001%2C%20-81.839259%5D%2C%20%5B38.877342%2C%20-77.275439%5D%2C%20%5B39.776259%2C%20-84.243748%5D%2C%20%5B29.95761%2C%20-90.081512%5D%2C%20%5B33.805779%2C%20-117.233766%5D%2C%20%5B39.86883%2C%20-75.30744%5D%2C%20%5B39.186612%2C%20-123.029354%5D%2C%20%5B36.15649000000001%2C%20-86.848798%5D%2C%20%5B47.112406%2C%20-122.434731%5D%2C%20%5B29.65166%2C%20-95.25098%5D%2C%20%5B40.072902%2C%20-77.194902%5D%2C%20%5B25.697959%2C%20-80.414378%5D%2C%20%5B28.469578%2C%20-80.80423%5D%2C%20%5B36.544176%2C%20-119.228414%5D%2C%20%5B44.113451%2C%20-121.292571%5D%2C%20%5B41.517987%2C%20-73.981976%5D%2C%20%5B34.195485999999995%2C%20-79.802376%5D%2C%20%5B37.48793%2C%20-121.931566%5D%2C%20%5B39.233019%2C%20-76.81311%5D%2C%20%5B45.499217%2C%20-122.644173%5D%2C%20%5B40.961905%2C%20-77.67140699999999%5D%2C%20%5B41.79963%2C%20-88.05669%5D%2C%20%5B26.543108%2C%20-80.07182399999998%5D%2C%20%5B33.91685%2C%20-117.287415%5D%2C%20%5B42.277425%2C%20-87.92591800000002%5D%2C%20%5B40.00911%2C%20-85.77014%5D%2C%20%5B25.979964%2C%20-80.165963%5D%2C%20%5B32.814864%2C%20-96.687743%5D%2C%20%5B33.916677%2C%20-78.836939%5D%2C%20%5B45.50512%2C%20-122.68205%5D%2C%20%5B39.404772%2C%20-77.388199%5D%2C%20%5B34.067639%2C%20-117.575945%5D%2C%20%5B34.831752%2C%20-81.700222%5D%2C%20%5B43.03142%2C%20-88.04731%5D%2C%20%5B48.374695%2C%20-115.545764%5D%2C%20%5B38.973529%2C%20-77.401832%5D%2C%20%5B28.351577%2C%20-80.700142%5D%2C%20%5B33.858683%2C%20-118.033957%5D%2C%20%5B33.987568%2C%20-118.366824%5D%2C%20%5B43.13982%2C%20-77.66875999999998%5D%2C%20%5B33.876656%2C%20-117.615632%5D%2C%20%5B42.149851%2C%20-123.652548%5D%2C%20%5B34.087081%2C%20-117.641445%5D%2C%20%5B45.005831%2C%20-93.208529%5D%2C%20%5B40.765795%2C%20-77.883873%5D%2C%20%5B33.011520000000004%2C%20-84.465272%5D%2C%20%5B37.55761%2C%20-77.412875%5D%2C%20%5B38.57131500000001%2C%20-121.578426%5D%2C%20%5B40.701292%2C%20-111.871212%5D%2C%20%5B38.03461%2C%20-121.187332%5D%2C%20%5B30.381102%2C%20-97.684982%5D%2C%20%5B41.417841%2C%20-73.290708%5D%2C%20%5B37.823621%2C%20-122.31917%5D%2C%20%5B40.798056%2C%20-74.26724399999998%5D%2C%20%5B28.0791%2C%20-82.74744%5D%2C%20%5B27.98192%2C%20-82.326169%5D%2C%20%5B39.76127%2C%20-111.836582%5D%2C%20%5B28.42075800000001%2C%20-81.369831%5D%2C%20%5B28.41032%2C%20-81.47555%5D%2C%20%5B29.965163%2C%20-90.098104%5D%2C%20%5B34.233397%2C%20-80.994864%5D%2C%20%5B37.34519%2C%20-121.8444%5D%2C%20%5B32.76781%2C%20-117.16219%5D%2C%20%5B37.437512%2C%20-120.782249%5D%2C%20%5B37.595847%2C%20-122.059017%5D%2C%20%5B34.011891%2C%20-117.891229%5D%2C%20%5B34.893359999999994%2C%20-80.95315%5D%2C%20%5B38.385595%2C%20-122.561065%5D%2C%20%5B36.137425%2C%20-86.795567%5D%2C%20%5B33.921586%2C%20-118.202794%5D%2C%20%5B40.18547%2C%20-74.69575999999998%5D%2C%20%5B41.305885%2C%20-111.968717%5D%2C%20%5B34.098208%2C%20-117.301773%5D%2C%20%5B38.631273%2C%20-121.504832%5D%2C%20%5B40.98848%2C%20-73.666365%5D%2C%20%5B33.830318%2C%20-117.930188%5D%2C%20%5B27.937663%2C%20-82.16830300000002%5D%2C%20%5B25.7307%2C%20-80.317718%5D%2C%20%5B39.77848%2C%20-104.90063%5D%2C%20%5B33.841463%2C%20-118.265343%5D%2C%20%5B29.64251%2C%20-95.536616%5D%2C%20%5B25.712548%2C%20-80.382427%5D%2C%20%5B33.875479%2C%20-117.265416%5D%2C%20%5B46.980213%2C%20-121.536041%5D%2C%20%5B38.858417%2C%20-77.836428%5D%2C%20%5B35.269014%2C%20-119.226353%5D%2C%20%5B42.419%2C%20-82.93413000000002%5D%2C%20%5B48.96385%2C%20-122.30993%5D%2C%20%5B43.65947%2C%20-93.72232%5D%2C%20%5B34.134916%2C%20-117.598311%5D%2C%20%5B29.92607000000001%2C%20-90.023156%5D%2C%20%5B38.971164%2C%20-77.179063%5D%2C%20%5B40.068501%2C%20-75.311418%5D%2C%20%5B41.05437%2C%20-81.60871999999998%5D%2C%20%5B40.547399%2C%20-77.367046%5D%2C%20%5B36.807947%2C%20-119.785423%5D%2C%20%5B44.43418%2C%20-121.95097%5D%2C%20%5B28.16026%2C%20-82.40203000000002%5D%2C%20%5B32.7978%2C%20-96.68412%5D%2C%20%5B34.134972999999995%2C%20-117.630594%5D%2C%20%5B40.72558%2C%20-111.95244%5D%2C%20%5B40.507149%2C%20-111.891%5D%2C%20%5B40.644118%2C%20-74.66770799999998%5D%2C%20%5B33.697375%2C%20-84.415544%5D%2C%20%5B37.995351%2C%20-122.285608%5D%2C%20%5B40.826836%2C%20-74.123414%5D%2C%20%5B33.896678%2C%20-118.254401%5D%2C%20%5B39.87363%2C%20-75.09527%5D%2C%20%5B44.89147%2C%20-122.99371%5D%2C%20%5B37.08346%2C%20-120.455292%5D%2C%20%5B38.244248%2C%20-122.082717%5D%2C%20%5B27.45836%2C%20-82.57535%5D%2C%20%5B32.770193%2C%20-96.801854%5D%2C%20%5B37.171758%2C%20-81.139966%5D%2C%20%5B39.033039%2C%20-76.944133%5D%2C%20%5B36.86766%2C%20-76.432689%5D%2C%20%5B43.75375%2C%20-124.12631%5D%2C%20%5B34.233558%2C%20-118.472957%5D%2C%20%5B33.837356%2C%20-117.266937%5D%2C%20%5B39.724589%2C%20-105.012409%5D%2C%20%5B45.530569%2C%20-122.635094%5D%2C%20%5B37.79945%2C%20-122.22143%5D%2C%20%5B34.012219%2C%20-118.418573%5D%2C%20%5B25.701496%2C%20-80.414688%5D%2C%20%5B28.658316%2C%20-81.38868000000002%5D%2C%20%5B36.325811%2C%20-86.705828%5D%2C%20%5B34.455046%2C%20-82.478065%5D%2C%20%5B30.338947%2C%20-97.700098%5D%2C%20%5B28.23445%2C%20-81.189688%5D%2C%20%5B37.144145%2C%20-122.331974%5D%2C%20%5B44.33049000000001%2C%20-88.6025%5D%2C%20%5B25.791467%2C%20-80.205291%5D%2C%20%5B34.929281%2C%20-91.110938%5D%2C%20%5B36.928769%2C%20-81.19570999999998%5D%2C%20%5B30.549555%2C%20-87.195135%5D%2C%20%5B39.996199%2C%20-122.205051%5D%2C%20%5B38.935171%2C%20-94.715913%5D%2C%20%5B43.617669%2C%20-95.174378%5D%2C%20%5B33.960012%2C%20-118.281863%5D%2C%20%5B39.040769%2C%20-122.77298600000002%5D%2C%20%5B48.88993%2C%20-122.59325%5D%2C%20%5B43.022197%2C%20-123.299215%5D%2C%20%5B28.24465%2C%20-81.65701%5D%2C%20%5B38.274221%2C%20-122.672934%5D%2C%20%5B40.531545%2C%20-80.17399999999998%5D%2C%20%5B36.150474%2C%20-86.749127%5D%2C%20%5B33.94866%2C%20-117.30088%5D%2C%20%5B37.765976%2C%20-81.035156%5D%2C%20%5B38.917204%2C%20-76.851754%5D%2C%20%5B25.810617%2C%20-80.14191600000002%5D%2C%20%5B29.14092%2C%20-82.058113%5D%2C%20%5B31.713593%2C%20-106.273217%5D%2C%20%5B25.869554%2C%20-80.197717%5D%2C%20%5B41.78827%2C%20-71.43564%5D%2C%20%5B25.75485%2C%20-80.38499%5D%2C%20%5B33.072763%2C%20-112.271802%5D%2C%20%5B28.834937%2C%20-82.04142399999998%5D%2C%20%5B35.022532%2C%20-82.41427%5D%2C%20%5B38.549067%2C%20-112.607529%5D%2C%20%5B29.72523%2C%20-95.46022%5D%2C%20%5B44.29356%2C%20-121.34587%5D%2C%20%5B39.863461%2C%20-123.713183%5D%2C%20%5B46.868115%2C%20-114.03956200000002%5D%2C%20%5B41.553351%2C%20-112.068488%5D%2C%20%5B33.916227%2C%20-118.223012%5D%2C%20%5B27.80345800000001%2C%20-82.679445%5D%2C%20%5B43.85516%2C%20-123.01879%5D%2C%20%5B35.902444%2C%20-78.60445899999998%5D%2C%20%5B34.24641%2C%20-118.472956%5D%2C%20%5B45.722855%2C%20-92.992218%5D%2C%20%5B27.937942%2C%20-82.244564%5D%2C%20%5B37.422189%2C%20-121.93042%5D%2C%20%5B32.79575%2C%20-96.6922%5D%2C%20%5B29.730063%2C%20-95.457629%5D%2C%20%5B33.39324000000001%2C%20-112.02908%5D%2C%20%5B44.85907%2C%20-93.35548%5D%2C%20%5B31.87243%2C%20-106.40582%5D%2C%20%5B36.011256%2C%20-83.864827%5D%2C%20%5B33.38661%2C%20-111.74289%5D%2C%20%5B46.873866%2C%20-97.215281%5D%2C%20%5B39.01045%2C%20-77.1508%5D%2C%20%5B33.610261%2C%20-117.577099%5D%2C%20%5B37.167255%2C%20-93.271706%5D%2C%20%5B34.042224%2C%20-118.055652%5D%2C%20%5B39.24739%2C%20-76.68415999999998%5D%2C%20%5B30.48016%2C%20-97.80196%5D%2C%20%5B33.898769%2C%20-78.675558%5D%2C%20%5B36.01515300000001%2C%20-86.620284%5D%2C%20%5B37.50477%2C%20-77.615269%5D%2C%20%5B29.59192%2C%20-95.38609%5D%2C%20%5B41.362194%2C%20-120.564063%5D%2C%20%5B39.72532%2C%20-105.01752%5D%2C%20%5B30.436441%2C%20-97.68516%5D%2C%20%5B38.223098%2C%20-85.505486%5D%2C%20%5B33.960123%2C%20-117.856477%5D%2C%20%5B42.36926%2C%20-71.27114%5D%2C%20%5B40.467471%2C%20-78.060047%5D%2C%20%5B34.11293%2C%20-118.17703%5D%2C%20%5B33.85422%2C%20-117.79064%5D%2C%20%5B35.84287%2C%20-78.57361999999998%5D%2C%20%5B30.247153000000004%2C%20-92.079157%5D%2C%20%5B38.74026%2C%20-77.5241%5D%2C%20%5B44.90736%2C%20-93.27504%5D%2C%20%5B38.564093%2C%20-121.495323%5D%2C%20%5B38.578966%2C%20-121.465532%5D%2C%20%5B38.93884%2C%20-76.91194%5D%2C%20%5B39.014693%2C%20-76.07556899999999%5D%2C%20%5B45.23533%2C%20-123.06416000000002%5D%2C%20%5B32.774965%2C%20-117.124851%5D%2C%20%5B34.224940000000004%2C%20-118.47327%5D%2C%20%5B29.65218%2C%20-95.38712%5D%2C%20%5B37.804352%2C%20-77.460178%5D%2C%20%5B40.55673%2C%20-75.61339%5D%2C%20%5B38.193444%2C%20-85.50849000000002%5D%2C%20%5B28.273657%2C%20-82.18811%5D%2C%20%5B32.907539%2C%20-96.729608%5D%2C%20%5B43.22122%2C%20-121.78545%5D%2C%20%5B40.079019%2C%20-75.40595400000002%5D%2C%20%5B32.525841%2C%20-93.69652%5D%2C%20%5B40.083374%2C%20-75.418756%5D%2C%20%5B33.93935%2C%20-117.2218%5D%2C%20%5B28.07351%2C%20-81.988118%5D%2C%20%5B44.94604%2C%20-93.40047%5D%2C%20%5B38.526831%2C%20-121.95308%5D%2C%20%5B38.157438%2C%20-84.877905%5D%2C%20%5B33.66917%2C%20-112.05912%5D%2C%20%5B40.81888%2C%20-73.0625%5D%2C%20%5B33.486793%2C%20-81.696297%5D%2C%20%5B40.993133%2C%20-73.677803%5D%2C%20%5B37.745942%2C%20-122.200952%5D%2C%20%5B36.572832%2C%20-119.625423%5D%2C%20%5B31.783508%2C%20-106.407299%5D%2C%20%5B28.550596%2C%20-81.364424%5D%2C%20%5B29.597972%2C%20-95.3643%5D%2C%20%5B30.431174%2C%20-91.052058%5D%2C%20%5B42.902343%2C%20-78.900669%5D%2C%20%5B34.072734000000004%2C%20-118.090699%5D%2C%20%5B32.133937%2C%20-110.96261%5D%2C%20%5B29.739122%2C%20-95.476886%5D%2C%20%5B40.716588%2C%20-111.88825%5D%2C%20%5B27.96545%2C%20-82.41317%5D%2C%20%5B33.942021999999994%2C%20-118.028914%5D%2C%20%5B41.111701%2C%20-73.396749%5D%2C%20%5B25.942301%2C%20-80.31118599999998%5D%2C%20%5B37.138233%2C%20-93.309881%5D%2C%20%5B40.671483%2C%20-124.201716%5D%2C%20%5B44.80149%2C%20-123.953934%5D%2C%20%5B36.825939%2C%20-76.28273100000001%5D%2C%20%5B32.809901%2C%20-96.627532%5D%2C%20%5B34.121206%2C%20-118.479512%5D%2C%20%5B41.175481%2C%20-111.810618%5D%2C%20%5B29.704724%2C%20-95.571327%5D%2C%20%5B34.73692%2C%20-82.304108%5D%2C%20%5B37.372335%2C%20-120.95515%5D%2C%20%5B34.272749%2C%20-118.347849%5D%2C%20%5B37.357728%2C%20-121.81681100000002%5D%2C%20%5B27.951446%2C%20-82.51167099999998%5D%2C%20%5B29.93348300000001%2C%20-90.014705%5D%2C%20%5B26.54629000000001%2C%20-81.853352%5D%2C%20%5B38.03262%2C%20-78.86484%5D%2C%20%5B25.718193%2C%20-80.307934%5D%2C%20%5B38.81384%2C%20-77.14299%5D%2C%20%5B38.18454000000001%2C%20-90.440131%5D%2C%20%5B32.720514%2C%20-97.479811%5D%2C%20%5B40.792976%2C%20-73.82382199999998%5D%2C%20%5B40.570318%2C%20-111.977255%5D%2C%20%5B33.981612%2C%20-118.241181%5D%2C%20%5B45.5575%2C%20-122.18058%5D%2C%20%5B29.65434%2C%20-95.566781%5D%2C%20%5B33.856072999999995%2C%20-118.012058%5D%2C%20%5B34.004534%2C%20-118.063792%5D%2C%20%5B34.691707%2C%20-83.035104%5D%2C%20%5B33.987744%2C%20-118.066197%5D%2C%20%5B35.85028%2C%20-78.52318000000002%5D%2C%20%5B38.601169%2C%20-121.505447%5D%2C%20%5B40.90256%2C%20-74.12217%5D%2C%20%5B26.35056%2C%20-80.12871%5D%2C%20%5B36.854232%2C%20-76.318802%5D%2C%20%5B40.692115%2C%20-78.435362%5D%2C%20%5B39.867461%2C%20-120.168332%5D%2C%20%5B33.887303%2C%20-118.3629%5D%2C%20%5B27.394698%2C%20-82.450257%5D%2C%20%5B33.87976%2C%20-118.020692%5D%2C%20%5B33.86674%2C%20-118.2852%5D%2C%20%5B32.77669%2C%20-117.13566000000002%5D%2C%20%5B42.414378%2C%20-88.124266%5D%2C%20%5B34.0567%2C%20-117.298129%5D%2C%20%5B37.6524%2C%20-122.09887%5D%2C%20%5B33.462140999999995%2C%20-112.02298799999998%5D%2C%20%5B33.871225%2C%20-117.880307%5D%2C%20%5B40.14916%2C%20-102.926992%5D%2C%20%5B33.985297%2C%20-118.45323700000002%5D%2C%20%5B45.708536%2C%20-122.55271%5D%2C%20%5B40.30149%2C%20-76.87231%5D%2C%20%5B32.927040000000005%2C%20-96.76204%5D%2C%20%5B28.356856%2C%20-80.70123199999998%5D%2C%20%5B34.266779%2C%20-118.64176%5D%2C%20%5B40.245797%2C%20-76.882026%5D%2C%20%5B45.56342%2C%20-122.67874%5D%2C%20%5B36.728657%2C%20-119.796477%5D%2C%20%5B41.415169%2C%20-87.321549%5D%2C%20%5B28.047867%2C%20-82.709088%5D%2C%20%5B38.67161%2C%20-77.24869%5D%2C%20%5B37.760013%2C%20-120.995573%5D%2C%20%5B41.688957%2C%20-72.648767%5D%2C%20%5B30.11336%2C%20-81.51216%5D%2C%20%5B39.575039%2C%20-76.13176700000002%5D%2C%20%5B33.958261%2C%20-118.282707%5D%2C%20%5B45.535269%2C%20-122.564291%5D%2C%20%5B39.526042%2C%20-110.572778%5D%2C%20%5B39.407604%2C%20-76.66820799999998%5D%2C%20%5B32.221107%2C%20-110.978745%5D%2C%20%5B33.368002000000004%2C%20-117.250547%5D%2C%20%5B40.683657%2C%20-111.938883%5D%2C%20%5B38.02182%2C%20-121.9607%5D%2C%20%5B44.408801%2C%20-92.096463%5D%2C%20%5B37.698167%2C%20-122.480313%5D%2C%20%5B35.06681%2C%20-89.84359%5D%2C%20%5B44.960335%2C%20-93.269194%5D%2C%20%5B34.010932000000004%2C%20-118.491512%5D%2C%20%5B34.078893%2C%20-117.296786%5D%2C%20%5B38.878287%2C%20-77.009128%5D%2C%20%5B40.445847%2C%20-122.436558%5D%2C%20%5B37.74219%2C%20-121.52587%5D%2C%20%5B30.305405%2C%20-81.832092%5D%2C%20%5B42.21721%2C%20-87.84489%5D%2C%20%5B44.53867%2C%20-117.414354%5D%2C%20%5B46.820138%2C%20-94.507711%5D%2C%20%5B44.919706%2C%20-120.508127%5D%2C%20%5B36.08189%2C%20-86.727026%5D%2C%20%5B40.666262%2C%20-73.801629%5D%2C%20%5B40.8931%2C%20-74.22556%5D%2C%20%5B40.73905300000001%2C%20-74.068247%5D%2C%20%5B37.728503%2C%20-122.185629%5D%2C%20%5B28.801654%2C%20-81.588924%5D%2C%20%5B33.848240000000004%2C%20-117.534216%5D%2C%20%5B45.07297%2C%20-93.31388%5D%2C%20%5B34.484128000000005%2C%20-82.563199%5D%2C%20%5B37.065555%2C%20-93.555057%5D%2C%20%5B33.989019%2C%20-118.33298899999998%5D%2C%20%5B28.486838%2C%20-81.418423%5D%2C%20%5B33.85235%2C%20-117.88198%5D%2C%20%5B38.475864%2C%20-121.408712%5D%2C%20%5B38.480247%2C%20-105.263925%5D%2C%20%5B37.71868%2C%20-121.662296%5D%2C%20%5B39.248675%2C%20-94.658483%5D%2C%20%5B37.576295%2C%20-79.645983%5D%2C%20%5B35.43792%2C%20-80.86841%5D%2C%20%5B25.901415%2C%20-80.19483100000002%5D%2C%20%5B40.045585%2C%20-74.226753%5D%2C%20%5B25.881168%2C%20-80.242938%5D%2C%20%5B29.72677%2C%20-95.45989%5D%2C%20%5B25.808285%2C%20-80.26554300000002%5D%2C%20%5B33.169552%2C%20-117.219081%5D%2C%20%5B34.852634%2C%20-120.524343%5D%2C%20%5B38.694433%2C%20-121.36368%5D%2C%20%5B35.103957%2C%20-110.998121%5D%2C%20%5B41.279652%2C%20-123.838153%5D%2C%20%5B41.546162%2C%20-72.10909699999998%5D%2C%20%5B36.281722%2C%20-120.300615%5D%2C%20%5B34.156698%2C%20-118.403799%5D%2C%20%5B32.710517%2C%20-117.084965%5D%2C%20%5B34.000219%2C%20-117.352602%5D%2C%20%5B36.071457%2C%20-86.63569%5D%2C%20%5B33.4626%2C%20-112.13169%5D%2C%20%5B25.714654%2C%20-80.41241600000002%5D%2C%20%5B43.671878%2C%20-93.286256%5D%2C%20%5B32.713283000000004%2C%20-96.756409%5D%2C%20%5B38.376791%2C%20-122.513173%5D%2C%20%5B37.54262%2C%20-77.37195%5D%2C%20%5B43.094502%2C%20-75.215188%5D%2C%20%5B41.6845%2C%20-87.66234%5D%2C%20%5B33.892987%2C%20-118.273976%5D%2C%20%5B35.300713%2C%20-80.920239%5D%2C%20%5B32.295979%2C%20-95.278802%5D%2C%20%5B34.238178999999995%2C%20-118.635107%5D%2C%20%5B34.072282%2C%20-117.942864%5D%2C%20%5B41.18836%2C%20-111.983547%5D%2C%20%5B43.50552%2C%20-70.48194699999998%5D%2C%20%5B33.876381%2C%20-118.102337%5D%2C%20%5B33.165066%2C%20-87.548898%5D%2C%20%5B30.188338%2C%20-85.74762700000002%5D%2C%20%5B34.071661%2C%20-118.134358%5D%2C%20%5B34.083895%2C%20-117.69302%5D%2C%20%5B38.149887%2C%20-122.451236%5D%2C%20%5B33.465524%2C%20-112.038198%5D%2C%20%5B38.731044%2C%20-120.749047%5D%2C%20%5B34.036476%2C%20-117.28373899999998%5D%2C%20%5B33.902503%2C%20-118.260385%5D%2C%20%5B40.480097%2C%20-74.403121%5D%2C%20%5B43.18125%2C%20-77.5085%5D%2C%20%5B45.696026%2C%20-121.453493%5D%2C%20%5B39.6179%2C%20-104.89806000000002%5D%2C%20%5B33.18945%2C%20-117.361739%5D%2C%20%5B42.45993%2C%20-84.92184%5D%2C%20%5B33.923537%2C%20-118.104174%5D%2C%20%5B42.215065%2C%20-124.374015%5D%2C%20%5B45.52301%2C%20-122.66543%5D%2C%20%5B44.952031%2C%20-93.065925%5D%2C%20%5B37.196316%2C%20-93.262127%5D%2C%20%5B39.02609%2C%20-84.56631%5D%2C%20%5B38.957107%2C%20-122.728252%5D%2C%20%5B28.498874%2C%20-81.30619399999998%5D%2C%20%5B40.447057%2C%20-74.268726%5D%2C%20%5B40.92012%2C%20-73.77779%5D%2C%20%5B35.042709%2C%20-85.300249%5D%2C%20%5B27.446092%2C%20-82.530243%5D%2C%20%5B44.949114%2C%20-95.391342%5D%2C%20%5B38.58502%2C%20-121.18461299999998%5D%2C%20%5B34.087404%2C%20-117.655068%5D%2C%20%5B39.29975%2C%20-76.53041%5D%2C%20%5B25.700661%2C%20-80.380507%5D%2C%20%5B37.967107%2C%20-122.344194%5D%2C%20%5B33.778249%2C%20-117.860072%5D%2C%20%5B34.182194%2C%20-117.273356%5D%2C%20%5B33.990255%2C%20-117.918699%5D%2C%20%5B28.1574%2C%20-81.80771%5D%2C%20%5B44.301829%2C%20-94.423749%5D%2C%20%5B44.968146%2C%20-93.341249%5D%2C%20%5B39.93027%2C%20-86.14827199999998%5D%2C%20%5B37.49847000000001%2C%20-77.54049%5D%2C%20%5B25.925966%2C%20-80.159375%5D%2C%20%5B33.597846000000004%2C%20-117.67641%5D%2C%20%5B33.814383%2C%20-118.171037%5D%2C%20%5B45.54224%2C%20-122.495748%5D%2C%20%5B32.6175%2C%20-96.692065%5D%2C%20%5B40.04381%2C%20-75.00289000000002%5D%2C%20%5B37.686605%2C%20-122.130107%5D%2C%20%5B43.08987%2C%20-122.286533%5D%2C%20%5B33.734140000000004%2C%20-84.23092%5D%2C%20%5B40.61715%2C%20-75.50359%5D%2C%20%5B45.69392%2C%20-121.3218%5D%2C%20%5B33.902969%2C%20-118.251117%5D%2C%20%5B41.010306%2C%20-111.936836%5D%2C%20%5B42.03564%2C%20-88.26037%5D%2C%20%5B43.703523%2C%20-124.105118%5D%2C%20%5B44.777439%2C%20-123.229204%5D%2C%20%5B44.933425%2C%20-84.673666%5D%2C%20%5B25.94017%2C%20-80.306747%5D%2C%20%5B33.753284%2C%20-118.291257%5D%2C%20%5B43.21623%2C%20-77.426109%5D%2C%20%5B45.890074%2C%20-95.509954%5D%2C%20%5B38.582275%2C%20-121.462523%5D%2C%20%5B28.524336%2C%20-81.324238%5D%2C%20%5B33.384626000000004%2C%20-117.250772%5D%2C%20%5B40.679075%2C%20-111.901787%5D%2C%20%5B27.486781%2C%20-82.546635%5D%2C%20%5B39.32437%2C%20-77.359811%5D%2C%20%5B25.928281%2C%20-80.212372%5D%2C%20%5B37.216091%2C%20-77.38357099999998%5D%2C%20%5B38.524882%2C%20-121.466513%5D%2C%20%5B38.28669%2C%20-85.64497%5D%2C%20%5B44.95164000000001%2C%20-93.160531%5D%2C%20%5B40.390774%2C%20-123.124433%5D%2C%20%5B40.184206%2C%20-122.176471%5D%2C%20%5B40.73926%2C%20-74.0633%5D%2C%20%5B30.28863%2C%20-81.988917%5D%2C%20%5B38.1876%2C%20-85.72654%5D%2C%20%5B34.903876000000004%2C%20-82.192063%5D%2C%20%5B37.23875%2C%20-93.2749%5D%2C%20%5B25.646949%2C%20-80.33279%5D%2C%20%5B26.34537000000001%2C%20-80.11799%5D%2C%20%5B34.942544%2C%20-80.91020999999998%5D%2C%20%5B45.075997%2C%20-93.332601%5D%2C%20%5B36.60223%2C%20-120.58228%5D%2C%20%5B45.332519%2C%20-118.070903%5D%2C%20%5B38.934898%2C%20-121.093001%5D%2C%20%5B38.412917%2C%20-121.484808%5D%2C%20%5B37.71122%2C%20-122.16472%5D%2C%20%5B32.260289%2C%20-80.85265799999998%5D%2C%20%5B27.864555%2C%20-82.326553%5D%2C%20%5B37.5187%2C%20-120.88403999999998%5D%2C%20%5B28.448940000000004%2C%20-81.230592%5D%2C%20%5B36.05792%2C%20-83.983661%5D%2C%20%5B29.82857000000001%2C%20-95.38091%5D%2C%20%5B36.828172%2C%20-76.32006700000002%5D%2C%20%5B28.615823%2C%20-81.476116%5D%2C%20%5B37.54935%2C%20-77.43478%5D%2C%20%5B39.414106%2C%20-76.662501%5D%2C%20%5B34.068497%2C%20-117.861088%5D%2C%20%5B47.60593%2C%20-122.32863%5D%2C%20%5B35.154583%2C%20-119.455091%5D%2C%20%5B38.678431%2C%20-121.220987%5D%2C%20%5B35.138065000000005%2C%20-89.868953%5D%2C%20%5B38.022073%2C%20-121.960404%5D%2C%20%5B42.42212%2C%20-123.02712%5D%2C%20%5B35.259698%2C%20-118.92103%5D%2C%20%5B33.413038%2C%20-111.926278%5D%2C%20%5B41.80926%2C%20-87.58744%5D%2C%20%5B42.94675%2C%20-85.67545%5D%2C%20%5B37.866042%2C%20-121.219099%5D%2C%20%5B39.288407%2C%20-78.08565899999998%5D%2C%20%5B34.121559000000005%2C%20-117.696732%5D%2C%20%5B47.61021%2C%20-122.34449%5D%2C%20%5B30.403307%2C%20-86.879713%5D%2C%20%5B35.778842%2C%20-78.706136%5D%2C%20%5B39.075%2C%20-76.94553%5D%2C%20%5B33.929762%2C%20-118.326409%5D%2C%20%5B40.6972%2C%20-73.98183%5D%2C%20%5B34.05501%2C%20-118.25461%5D%2C%20%5B29.46405%2C%20-98.62101%5D%2C%20%5B35.23273%2C%20-80.80793%5D%2C%20%5B41.555882%2C%20-73.055509%5D%2C%20%5B27.440499%2C%20-82.595837%5D%2C%20%5B34.198%2C%20-118.47405%5D%2C%20%5B40.01895800000001%2C%20-76.747733%5D%2C%20%5B33.875495%2C%20-118.104647%5D%2C%20%5B41.11815900000001%2C%20-120.974417%5D%2C%20%5B33.760542%2C%20-78.859385%5D%2C%20%5B40.565927%2C%20-76.207426%5D%2C%20%5B33.963407000000004%2C%20-118.28105%5D%2C%20%5B34.312148%2C%20-117.475066%5D%2C%20%5B40.44195%2C%20-79.95642%5D%2C%20%5B37.64127%2C%20-112.9546%5D%2C%20%5B43.03418%2C%20-76.06295%5D%2C%20%5B40.76229%2C%20-73.7292%5D%2C%20%5B34.229503%2C%20-112.740443%5D%2C%20%5B39.71761%2C%20-105.69641%5D%2C%20%5B37.16022%2C%20-113.43747%5D%2C%20%5B25.927734%2C%20-80.18823499999998%5D%2C%20%5B28.347889%2C%20-81.616989%5D%2C%20%5B47.80255800000001%2C%20-122.225954%5D%2C%20%5B33.806740999999995%2C%20-117.234606%5D%2C%20%5B45.0%2C%20-92.958928%5D%2C%20%5B33.986351%2C%20-117.990918%5D%2C%20%5B39.029379%2C%20-78.267899%5D%2C%20%5B28.048936%2C%20-82.73848100000002%5D%2C%20%5B35.873648%2C%20-81.792546%5D%2C%20%5B32.655445%2C%20-97.321245%5D%2C%20%5B38.941587%2C%20-76.91166700000002%5D%2C%20%5B33.949446%2C%20-118.092255%5D%2C%20%5B28.33928%2C%20-81.61596999999998%5D%2C%20%5B38.64721%2C%20-76.93769%5D%2C%20%5B25.761786%2C%20-80.339448%5D%2C%20%5B30.29493%2C%20-97.71977%5D%2C%20%5B28.595693%2C%20-81.207684%5D%2C%20%5B44.248241%2C%20-121.048146%5D%2C%20%5B36.928471%2C%20-76.288794%5D%2C%20%5B45.11726%2C%20-93.20011%5D%2C%20%5B33.53464%2C%20-112.11225%5D%2C%20%5B38.971912%2C%20-122.831712%5D%2C%20%5B34.003127%2C%20-118.411098%5D%2C%20%5B30.233292%2C%20-85.60712099999998%5D%2C%20%5B33.926%2C%20-84.48739%5D%2C%20%5B38.551229%2C%20-121.409193%5D%2C%20%5B40.541557%2C%20-77.14641400000002%5D%2C%20%5B38.93958%2C%20-94.56433%5D%2C%20%5B34.183435%2C%20-117.141462%5D%2C%20%5B38.7885%2C%20-77.17697700000002%5D%2C%20%5B33.922587%2C%20-118.235031%5D%2C%20%5B25.821447%2C%20-80.248828%5D%2C%20%5B44.737596%2C%20-121.237922%5D%2C%20%5B38.895809%2C%20-77.096409%5D%2C%20%5B36.17472100000001%2C%20-86.614267%5D%2C%20%5B29.7302%2C%20-95.45506%5D%2C%20%5B29.785833%2C%20-95.360785%5D%2C%20%5B34.69004%2C%20-112.445955%5D%2C%20%5B44.274137%2C%20-121.259755%5D%2C%20%5B42.344349%2C%20-83.113512%5D%2C%20%5B40.317408%2C%20-106.521495%5D%2C%20%5B32.913896%2C%20-80.02619%5D%2C%20%5B34.40627%2C%20-117.396479%5D%2C%20%5B35.131313%2C%20-80.710261%5D%2C%20%5B45.63623%2C%20-108.90467%5D%2C%20%5B35.692638%2C%20-81.813007%5D%2C%20%5B29.715861%2C%20-95.416657%5D%2C%20%5B38.16577%2C%20-85.79749%5D%2C%20%5B40.478492%2C%20-123.778678%5D%2C%20%5B37.275978%2C%20-78.118103%5D%2C%20%5B32.749212%2C%20-117.100911%5D%2C%20%5B34.669429%2C%20-118.764642%5D%2C%20%5B33.974723%2C%20-118.234305%5D%2C%20%5B34.036088%2C%20-118.220701%5D%2C%20%5B27.329725%2C%20-82.530998%5D%2C%20%5B35.36620100000001%2C%20-118.914265%5D%2C%20%5B40.904856%2C%20-123.740054%5D%2C%20%5B38.327254%2C%20-122.022453%5D%2C%20%5B25.904828%2C%20-80.349723%5D%2C%20%5B43.04706%2C%20-88.20406%5D%2C%20%5B36.15584000000001%2C%20-86.79590999999998%5D%2C%20%5B38.57943%2C%20-121.52558700000002%5D%2C%20%5B32.814036%2C%20-96.789868%5D%2C%20%5B45.627602%2C%20-121.104552%5D%2C%20%5B33.700289%2C%20-80.915312%5D%2C%20%5B37.50561%2C%20-77.60656%5D%2C%20%5B44.711447%2C%20-118.174685%5D%2C%20%5B32.878029999999995%2C%20-117.169447%5D%2C%20%5B28.537983%2C%20-81.252601%5D%2C%20%5B39.533413%2C%20-122.198254%5D%2C%20%5B47.597881%2C%20-122.302229%5D%2C%20%5B33.945468%2C%20-118.369199%5D%2C%20%5B38.53841%2C%20-90.49556%5D%2C%20%5B37.869204%2C%20-122.193917%5D%2C%20%5B44.054288%2C%20-93.466833%5D%2C%20%5B35.161190999999995%2C%20-89.896561%5D%2C%20%5B42.969557%2C%20-122.397791%5D%2C%20%5B35.11371%2C%20-80.92234%5D%5D%2C%0A%20%20%20%20%20%20%20%20%20%20%20%20%20%20%20%20%7B%22blur%22%3A%2015%2C%20%22maxZoom%22%3A%2018%2C%20%22minOpacity%22%3A%200.5%2C%20%22radius%22%3A%2025%7D%0A%20%20%20%20%20%20%20%20%20%20%20%20%29.addTo%28map_c54bd5f58d4543b49419f20fbfde863c%29%3B%0A%20%20%20%20%20%20%20%20%0A%3C/script%3E onload=\"this.contentDocument.open();this.contentDocument.write(    decodeURIComponent(this.getAttribute('data-html')));this.contentDocument.close();\" allowfullscreen webkitallowfullscreen mozallowfullscreen></iframe></div></div>"
      ],
      "text/plain": [
       "<folium.folium.Map at 0x7f55d8ff0410>"
      ]
     },
     "execution_count": 52,
     "metadata": {},
     "output_type": "execute_result"
    }
   ],
   "source": [
    "map = folium.Map()\n",
    "HeatMap(lat_lng_pairs).add_to(map)\n",
    "map"
   ]
  },
  {
   "cell_type": "markdown",
   "id": "da76d5eb",
   "metadata": {
    "papermill": {
     "duration": 0.081054,
     "end_time": "2022-04-18T18:12:59.179871",
     "exception": false,
     "start_time": "2022-04-18T18:12:59.098817",
     "status": "completed"
    },
    "tags": []
   },
   "source": [
    "# Questions\n",
    "* Are there more accidents in warmer or colder areas?\n",
    "* Which state has the highest number of accidents per capita?\n",
    "* Does new york show up in the data, why its count is not there in the accidents? - Its not in the data set\n",
    "* Which states have the most frequency of accidents\n",
    "* What time of the day are accidents mostly occuring"
   ]
  },
  {
   "cell_type": "markdown",
   "id": "97049734",
   "metadata": {
    "papermill": {
     "duration": 0.079435,
     "end_time": "2022-04-18T18:12:59.340269",
     "exception": false,
     "start_time": "2022-04-18T18:12:59.260834",
     "status": "completed"
    },
    "tags": []
   },
   "source": [
    "# Notes\n",
    "* when working with exponential data it is better to use log scale\n",
    "* we cannot do any plot with time stamp"
   ]
  },
  {
   "cell_type": "markdown",
   "id": "636b15d3",
   "metadata": {
    "papermill": {
     "duration": 0.079445,
     "end_time": "2022-04-18T18:12:59.501156",
     "exception": false,
     "start_time": "2022-04-18T18:12:59.421711",
     "status": "completed"
    },
    "tags": []
   },
   "source": [
    "# Conclusion\n",
    "1. No data for new york\n",
    "1. less than 5% have more than 1000 accidents\n",
    "1. over 1100 countires have only 1 accident"
   ]
  }
 ],
 "metadata": {
  "kernelspec": {
   "display_name": "Python 3",
   "language": "python",
   "name": "python3"
  },
  "language_info": {
   "codemirror_mode": {
    "name": "ipython",
    "version": 3
   },
   "file_extension": ".py",
   "mimetype": "text/x-python",
   "name": "python",
   "nbconvert_exporter": "python",
   "pygments_lexer": "ipython3",
   "version": "3.7.12"
  },
  "papermill": {
   "default_parameters": {},
   "duration": 95.589236,
   "end_time": "2022-04-18T18:13:01.294943",
   "environment_variables": {},
   "exception": null,
   "input_path": "__notebook__.ipynb",
   "output_path": "__notebook__.ipynb",
   "parameters": {},
   "start_time": "2022-04-18T18:11:25.705707",
   "version": "2.3.3"
  }
 },
 "nbformat": 4,
 "nbformat_minor": 5
}
