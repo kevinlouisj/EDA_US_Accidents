{
 "cells": [
  {
   "cell_type": "code",
   "execution_count": 1,
   "id": "daf2bcfc",
   "metadata": {
    "_cell_guid": "b1076dfc-b9ad-4769-8c92-a6c4dae69d19",
    "_uuid": "8f2839f25d086af736a60e9eeb907d3b93b6e0e5",
    "execution": {
     "iopub.execute_input": "2022-04-18T17:17:15.398110Z",
     "iopub.status.busy": "2022-04-18T17:17:15.397158Z",
     "iopub.status.idle": "2022-04-18T17:17:16.688779Z",
     "shell.execute_reply": "2022-04-18T17:17:16.689361Z",
     "shell.execute_reply.started": "2022-04-18T16:51:08.710786Z"
    },
    "papermill": {
     "duration": 1.357293,
     "end_time": "2022-04-18T17:17:16.689637",
     "exception": false,
     "start_time": "2022-04-18T17:17:15.332344",
     "status": "completed"
    },
    "tags": []
   },
   "outputs": [
    {
     "name": "stdout",
     "output_type": "stream",
     "text": [
      "/kaggle/input/us-accidents/US_Accidents_Dec21_updated.csv\n"
     ]
    }
   ],
   "source": [
    "# This Python 3 environment comes with many helpful analytics libraries installed\n",
    "# It is defined by the kaggle/python Docker image: https://github.com/kaggle/docker-python\n",
    "# For example, here's several helpful packages to load\n",
    "\n",
    "import numpy as np # linear algebra\n",
    "import pandas as pd # data processing, CSV file I/O (e.g. pd.read_csv)\n",
    "import seaborn as sns\n",
    "import folium\n",
    "\n",
    "# Input data files are available in the read-only \"../input/\" directory\n",
    "# For example, running this (by clicking run or pressing Shift+Enter) will list all files under the input directory\n",
    "\n",
    "import os\n",
    "for dirname, _, filenames in os.walk('/kaggle/input'):\n",
    "    for filename in filenames:\n",
    "        print(os.path.join(dirname, filename))\n",
    "\n",
    "# You can write up to 20GB to the current directory (/kaggle/working/) that gets preserved as output when you create a version using \"Save & Run All\" \n",
    "# You can also write temporary files to /kaggle/temp/, but they won't be saved outside of the current session"
   ]
  },
  {
   "cell_type": "markdown",
   "id": "45994eb7",
   "metadata": {
    "papermill": {
     "duration": 0.055142,
     "end_time": "2022-04-18T17:17:16.803675",
     "exception": false,
     "start_time": "2022-04-18T17:17:16.748533",
     "status": "completed"
    },
    "tags": []
   },
   "source": [
    "# Data Preparation and Cleaning\n",
    "\n",
    "- Load the dataset using Pandas\n",
    "- Look at some information about the data\n",
    "- Fix any incorrect or missing values\n"
   ]
  },
  {
   "cell_type": "code",
   "execution_count": 2,
   "id": "006a73ee",
   "metadata": {
    "execution": {
     "iopub.execute_input": "2022-04-18T17:17:16.922708Z",
     "iopub.status.busy": "2022-04-18T17:17:16.921976Z",
     "iopub.status.idle": "2022-04-18T17:17:59.329193Z",
     "shell.execute_reply": "2022-04-18T17:17:59.329742Z",
     "shell.execute_reply.started": "2022-04-18T15:54:58.168594Z"
    },
    "papermill": {
     "duration": 42.468955,
     "end_time": "2022-04-18T17:17:59.329919",
     "exception": false,
     "start_time": "2022-04-18T17:17:16.860964",
     "status": "completed"
    },
    "tags": []
   },
   "outputs": [
    {
     "data": {
      "text/html": [
       "<div>\n",
       "<style scoped>\n",
       "    .dataframe tbody tr th:only-of-type {\n",
       "        vertical-align: middle;\n",
       "    }\n",
       "\n",
       "    .dataframe tbody tr th {\n",
       "        vertical-align: top;\n",
       "    }\n",
       "\n",
       "    .dataframe thead th {\n",
       "        text-align: right;\n",
       "    }\n",
       "</style>\n",
       "<table border=\"1\" class=\"dataframe\">\n",
       "  <thead>\n",
       "    <tr style=\"text-align: right;\">\n",
       "      <th></th>\n",
       "      <th>ID</th>\n",
       "      <th>Severity</th>\n",
       "      <th>Start_Time</th>\n",
       "      <th>End_Time</th>\n",
       "      <th>Start_Lat</th>\n",
       "      <th>Start_Lng</th>\n",
       "      <th>End_Lat</th>\n",
       "      <th>End_Lng</th>\n",
       "      <th>Distance(mi)</th>\n",
       "      <th>Description</th>\n",
       "      <th>...</th>\n",
       "      <th>Roundabout</th>\n",
       "      <th>Station</th>\n",
       "      <th>Stop</th>\n",
       "      <th>Traffic_Calming</th>\n",
       "      <th>Traffic_Signal</th>\n",
       "      <th>Turning_Loop</th>\n",
       "      <th>Sunrise_Sunset</th>\n",
       "      <th>Civil_Twilight</th>\n",
       "      <th>Nautical_Twilight</th>\n",
       "      <th>Astronomical_Twilight</th>\n",
       "    </tr>\n",
       "  </thead>\n",
       "  <tbody>\n",
       "    <tr>\n",
       "      <th>0</th>\n",
       "      <td>A-1</td>\n",
       "      <td>3</td>\n",
       "      <td>2016-02-08 00:37:08</td>\n",
       "      <td>2016-02-08 06:37:08</td>\n",
       "      <td>40.108910</td>\n",
       "      <td>-83.092860</td>\n",
       "      <td>40.112060</td>\n",
       "      <td>-83.031870</td>\n",
       "      <td>3.230</td>\n",
       "      <td>Between Sawmill Rd/Exit 20 and OH-315/Olentang...</td>\n",
       "      <td>...</td>\n",
       "      <td>False</td>\n",
       "      <td>False</td>\n",
       "      <td>False</td>\n",
       "      <td>False</td>\n",
       "      <td>False</td>\n",
       "      <td>False</td>\n",
       "      <td>Night</td>\n",
       "      <td>Night</td>\n",
       "      <td>Night</td>\n",
       "      <td>Night</td>\n",
       "    </tr>\n",
       "    <tr>\n",
       "      <th>1</th>\n",
       "      <td>A-2</td>\n",
       "      <td>2</td>\n",
       "      <td>2016-02-08 05:56:20</td>\n",
       "      <td>2016-02-08 11:56:20</td>\n",
       "      <td>39.865420</td>\n",
       "      <td>-84.062800</td>\n",
       "      <td>39.865010</td>\n",
       "      <td>-84.048730</td>\n",
       "      <td>0.747</td>\n",
       "      <td>At OH-4/OH-235/Exit 41 - Accident.</td>\n",
       "      <td>...</td>\n",
       "      <td>False</td>\n",
       "      <td>False</td>\n",
       "      <td>False</td>\n",
       "      <td>False</td>\n",
       "      <td>False</td>\n",
       "      <td>False</td>\n",
       "      <td>Night</td>\n",
       "      <td>Night</td>\n",
       "      <td>Night</td>\n",
       "      <td>Night</td>\n",
       "    </tr>\n",
       "    <tr>\n",
       "      <th>2</th>\n",
       "      <td>A-3</td>\n",
       "      <td>2</td>\n",
       "      <td>2016-02-08 06:15:39</td>\n",
       "      <td>2016-02-08 12:15:39</td>\n",
       "      <td>39.102660</td>\n",
       "      <td>-84.524680</td>\n",
       "      <td>39.102090</td>\n",
       "      <td>-84.523960</td>\n",
       "      <td>0.055</td>\n",
       "      <td>At I-71/US-50/Exit 1 - Accident.</td>\n",
       "      <td>...</td>\n",
       "      <td>False</td>\n",
       "      <td>False</td>\n",
       "      <td>False</td>\n",
       "      <td>False</td>\n",
       "      <td>False</td>\n",
       "      <td>False</td>\n",
       "      <td>Night</td>\n",
       "      <td>Night</td>\n",
       "      <td>Night</td>\n",
       "      <td>Day</td>\n",
       "    </tr>\n",
       "    <tr>\n",
       "      <th>3</th>\n",
       "      <td>A-4</td>\n",
       "      <td>2</td>\n",
       "      <td>2016-02-08 06:51:45</td>\n",
       "      <td>2016-02-08 12:51:45</td>\n",
       "      <td>41.062130</td>\n",
       "      <td>-81.537840</td>\n",
       "      <td>41.062170</td>\n",
       "      <td>-81.535470</td>\n",
       "      <td>0.123</td>\n",
       "      <td>At Dart Ave/Exit 21 - Accident.</td>\n",
       "      <td>...</td>\n",
       "      <td>False</td>\n",
       "      <td>False</td>\n",
       "      <td>False</td>\n",
       "      <td>False</td>\n",
       "      <td>False</td>\n",
       "      <td>False</td>\n",
       "      <td>Night</td>\n",
       "      <td>Night</td>\n",
       "      <td>Day</td>\n",
       "      <td>Day</td>\n",
       "    </tr>\n",
       "    <tr>\n",
       "      <th>4</th>\n",
       "      <td>A-5</td>\n",
       "      <td>3</td>\n",
       "      <td>2016-02-08 07:53:43</td>\n",
       "      <td>2016-02-08 13:53:43</td>\n",
       "      <td>39.172393</td>\n",
       "      <td>-84.492792</td>\n",
       "      <td>39.170476</td>\n",
       "      <td>-84.501798</td>\n",
       "      <td>0.500</td>\n",
       "      <td>At Mitchell Ave/Exit 6 - Accident.</td>\n",
       "      <td>...</td>\n",
       "      <td>False</td>\n",
       "      <td>False</td>\n",
       "      <td>False</td>\n",
       "      <td>False</td>\n",
       "      <td>False</td>\n",
       "      <td>False</td>\n",
       "      <td>Day</td>\n",
       "      <td>Day</td>\n",
       "      <td>Day</td>\n",
       "      <td>Day</td>\n",
       "    </tr>\n",
       "    <tr>\n",
       "      <th>...</th>\n",
       "      <td>...</td>\n",
       "      <td>...</td>\n",
       "      <td>...</td>\n",
       "      <td>...</td>\n",
       "      <td>...</td>\n",
       "      <td>...</td>\n",
       "      <td>...</td>\n",
       "      <td>...</td>\n",
       "      <td>...</td>\n",
       "      <td>...</td>\n",
       "      <td>...</td>\n",
       "      <td>...</td>\n",
       "      <td>...</td>\n",
       "      <td>...</td>\n",
       "      <td>...</td>\n",
       "      <td>...</td>\n",
       "      <td>...</td>\n",
       "      <td>...</td>\n",
       "      <td>...</td>\n",
       "      <td>...</td>\n",
       "      <td>...</td>\n",
       "    </tr>\n",
       "    <tr>\n",
       "      <th>2845337</th>\n",
       "      <td>A-2845338</td>\n",
       "      <td>2</td>\n",
       "      <td>2019-08-23 18:03:25</td>\n",
       "      <td>2019-08-23 18:32:01</td>\n",
       "      <td>34.002480</td>\n",
       "      <td>-117.379360</td>\n",
       "      <td>33.998880</td>\n",
       "      <td>-117.370940</td>\n",
       "      <td>0.543</td>\n",
       "      <td>At Market St - Accident.</td>\n",
       "      <td>...</td>\n",
       "      <td>False</td>\n",
       "      <td>False</td>\n",
       "      <td>False</td>\n",
       "      <td>False</td>\n",
       "      <td>False</td>\n",
       "      <td>False</td>\n",
       "      <td>Day</td>\n",
       "      <td>Day</td>\n",
       "      <td>Day</td>\n",
       "      <td>Day</td>\n",
       "    </tr>\n",
       "    <tr>\n",
       "      <th>2845338</th>\n",
       "      <td>A-2845339</td>\n",
       "      <td>2</td>\n",
       "      <td>2019-08-23 19:11:30</td>\n",
       "      <td>2019-08-23 19:38:23</td>\n",
       "      <td>32.766960</td>\n",
       "      <td>-117.148060</td>\n",
       "      <td>32.765550</td>\n",
       "      <td>-117.153630</td>\n",
       "      <td>0.338</td>\n",
       "      <td>At Camino Del Rio/Mission Center Rd - Accident.</td>\n",
       "      <td>...</td>\n",
       "      <td>False</td>\n",
       "      <td>False</td>\n",
       "      <td>False</td>\n",
       "      <td>False</td>\n",
       "      <td>False</td>\n",
       "      <td>False</td>\n",
       "      <td>Day</td>\n",
       "      <td>Day</td>\n",
       "      <td>Day</td>\n",
       "      <td>Day</td>\n",
       "    </tr>\n",
       "    <tr>\n",
       "      <th>2845339</th>\n",
       "      <td>A-2845340</td>\n",
       "      <td>2</td>\n",
       "      <td>2019-08-23 19:00:21</td>\n",
       "      <td>2019-08-23 19:28:49</td>\n",
       "      <td>33.775450</td>\n",
       "      <td>-117.847790</td>\n",
       "      <td>33.777400</td>\n",
       "      <td>-117.857270</td>\n",
       "      <td>0.561</td>\n",
       "      <td>At Glassell St/Grand Ave - Accident. in the ri...</td>\n",
       "      <td>...</td>\n",
       "      <td>False</td>\n",
       "      <td>False</td>\n",
       "      <td>False</td>\n",
       "      <td>False</td>\n",
       "      <td>False</td>\n",
       "      <td>False</td>\n",
       "      <td>Day</td>\n",
       "      <td>Day</td>\n",
       "      <td>Day</td>\n",
       "      <td>Day</td>\n",
       "    </tr>\n",
       "    <tr>\n",
       "      <th>2845340</th>\n",
       "      <td>A-2845341</td>\n",
       "      <td>2</td>\n",
       "      <td>2019-08-23 19:00:21</td>\n",
       "      <td>2019-08-23 19:29:42</td>\n",
       "      <td>33.992460</td>\n",
       "      <td>-118.403020</td>\n",
       "      <td>33.983110</td>\n",
       "      <td>-118.395650</td>\n",
       "      <td>0.772</td>\n",
       "      <td>At CA-90/Marina Fwy/Jefferson Blvd - Accident.</td>\n",
       "      <td>...</td>\n",
       "      <td>False</td>\n",
       "      <td>False</td>\n",
       "      <td>False</td>\n",
       "      <td>False</td>\n",
       "      <td>False</td>\n",
       "      <td>False</td>\n",
       "      <td>Day</td>\n",
       "      <td>Day</td>\n",
       "      <td>Day</td>\n",
       "      <td>Day</td>\n",
       "    </tr>\n",
       "    <tr>\n",
       "      <th>2845341</th>\n",
       "      <td>A-2845342</td>\n",
       "      <td>2</td>\n",
       "      <td>2019-08-23 18:52:06</td>\n",
       "      <td>2019-08-23 19:21:31</td>\n",
       "      <td>34.133930</td>\n",
       "      <td>-117.230920</td>\n",
       "      <td>34.137360</td>\n",
       "      <td>-117.239340</td>\n",
       "      <td>0.537</td>\n",
       "      <td>At Highland Ave/Arden Ave - Accident.</td>\n",
       "      <td>...</td>\n",
       "      <td>False</td>\n",
       "      <td>False</td>\n",
       "      <td>False</td>\n",
       "      <td>False</td>\n",
       "      <td>False</td>\n",
       "      <td>False</td>\n",
       "      <td>Day</td>\n",
       "      <td>Day</td>\n",
       "      <td>Day</td>\n",
       "      <td>Day</td>\n",
       "    </tr>\n",
       "  </tbody>\n",
       "</table>\n",
       "<p>2845342 rows × 47 columns</p>\n",
       "</div>"
      ],
      "text/plain": [
       "                ID  Severity           Start_Time             End_Time  \\\n",
       "0              A-1         3  2016-02-08 00:37:08  2016-02-08 06:37:08   \n",
       "1              A-2         2  2016-02-08 05:56:20  2016-02-08 11:56:20   \n",
       "2              A-3         2  2016-02-08 06:15:39  2016-02-08 12:15:39   \n",
       "3              A-4         2  2016-02-08 06:51:45  2016-02-08 12:51:45   \n",
       "4              A-5         3  2016-02-08 07:53:43  2016-02-08 13:53:43   \n",
       "...            ...       ...                  ...                  ...   \n",
       "2845337  A-2845338         2  2019-08-23 18:03:25  2019-08-23 18:32:01   \n",
       "2845338  A-2845339         2  2019-08-23 19:11:30  2019-08-23 19:38:23   \n",
       "2845339  A-2845340         2  2019-08-23 19:00:21  2019-08-23 19:28:49   \n",
       "2845340  A-2845341         2  2019-08-23 19:00:21  2019-08-23 19:29:42   \n",
       "2845341  A-2845342         2  2019-08-23 18:52:06  2019-08-23 19:21:31   \n",
       "\n",
       "         Start_Lat   Start_Lng    End_Lat     End_Lng  Distance(mi)  \\\n",
       "0        40.108910  -83.092860  40.112060  -83.031870         3.230   \n",
       "1        39.865420  -84.062800  39.865010  -84.048730         0.747   \n",
       "2        39.102660  -84.524680  39.102090  -84.523960         0.055   \n",
       "3        41.062130  -81.537840  41.062170  -81.535470         0.123   \n",
       "4        39.172393  -84.492792  39.170476  -84.501798         0.500   \n",
       "...            ...         ...        ...         ...           ...   \n",
       "2845337  34.002480 -117.379360  33.998880 -117.370940         0.543   \n",
       "2845338  32.766960 -117.148060  32.765550 -117.153630         0.338   \n",
       "2845339  33.775450 -117.847790  33.777400 -117.857270         0.561   \n",
       "2845340  33.992460 -118.403020  33.983110 -118.395650         0.772   \n",
       "2845341  34.133930 -117.230920  34.137360 -117.239340         0.537   \n",
       "\n",
       "                                               Description  ...  Roundabout  \\\n",
       "0        Between Sawmill Rd/Exit 20 and OH-315/Olentang...  ...       False   \n",
       "1                       At OH-4/OH-235/Exit 41 - Accident.  ...       False   \n",
       "2                         At I-71/US-50/Exit 1 - Accident.  ...       False   \n",
       "3                          At Dart Ave/Exit 21 - Accident.  ...       False   \n",
       "4                       At Mitchell Ave/Exit 6 - Accident.  ...       False   \n",
       "...                                                    ...  ...         ...   \n",
       "2845337                           At Market St - Accident.  ...       False   \n",
       "2845338    At Camino Del Rio/Mission Center Rd - Accident.  ...       False   \n",
       "2845339  At Glassell St/Grand Ave - Accident. in the ri...  ...       False   \n",
       "2845340     At CA-90/Marina Fwy/Jefferson Blvd - Accident.  ...       False   \n",
       "2845341              At Highland Ave/Arden Ave - Accident.  ...       False   \n",
       "\n",
       "        Station   Stop Traffic_Calming Traffic_Signal Turning_Loop  \\\n",
       "0         False  False           False          False        False   \n",
       "1         False  False           False          False        False   \n",
       "2         False  False           False          False        False   \n",
       "3         False  False           False          False        False   \n",
       "4         False  False           False          False        False   \n",
       "...         ...    ...             ...            ...          ...   \n",
       "2845337   False  False           False          False        False   \n",
       "2845338   False  False           False          False        False   \n",
       "2845339   False  False           False          False        False   \n",
       "2845340   False  False           False          False        False   \n",
       "2845341   False  False           False          False        False   \n",
       "\n",
       "        Sunrise_Sunset Civil_Twilight Nautical_Twilight Astronomical_Twilight  \n",
       "0                Night          Night             Night                 Night  \n",
       "1                Night          Night             Night                 Night  \n",
       "2                Night          Night             Night                   Day  \n",
       "3                Night          Night               Day                   Day  \n",
       "4                  Day            Day               Day                   Day  \n",
       "...                ...            ...               ...                   ...  \n",
       "2845337            Day            Day               Day                   Day  \n",
       "2845338            Day            Day               Day                   Day  \n",
       "2845339            Day            Day               Day                   Day  \n",
       "2845340            Day            Day               Day                   Day  \n",
       "2845341            Day            Day               Day                   Day  \n",
       "\n",
       "[2845342 rows x 47 columns]"
      ]
     },
     "execution_count": 2,
     "metadata": {},
     "output_type": "execute_result"
    }
   ],
   "source": [
    "data_set = pd.read_csv(\"/kaggle/input/us-accidents/US_Accidents_Dec21_updated.csv\")\n",
    "data_set"
   ]
  },
  {
   "cell_type": "code",
   "execution_count": 3,
   "id": "d58e3828",
   "metadata": {
    "execution": {
     "iopub.execute_input": "2022-04-18T17:17:59.446911Z",
     "iopub.status.busy": "2022-04-18T17:17:59.446238Z",
     "iopub.status.idle": "2022-04-18T17:17:59.451943Z",
     "shell.execute_reply": "2022-04-18T17:17:59.452490Z",
     "shell.execute_reply.started": "2022-04-18T15:56:10.856359Z"
    },
    "papermill": {
     "duration": 0.066473,
     "end_time": "2022-04-18T17:17:59.452712",
     "exception": false,
     "start_time": "2022-04-18T17:17:59.386239",
     "status": "completed"
    },
    "tags": []
   },
   "outputs": [
    {
     "data": {
      "text/plain": [
       "Index(['ID', 'Severity', 'Start_Time', 'End_Time', 'Start_Lat', 'Start_Lng',\n",
       "       'End_Lat', 'End_Lng', 'Distance(mi)', 'Description', 'Number', 'Street',\n",
       "       'Side', 'City', 'County', 'State', 'Zipcode', 'Country', 'Timezone',\n",
       "       'Airport_Code', 'Weather_Timestamp', 'Temperature(F)', 'Wind_Chill(F)',\n",
       "       'Humidity(%)', 'Pressure(in)', 'Visibility(mi)', 'Wind_Direction',\n",
       "       'Wind_Speed(mph)', 'Precipitation(in)', 'Weather_Condition', 'Amenity',\n",
       "       'Bump', 'Crossing', 'Give_Way', 'Junction', 'No_Exit', 'Railway',\n",
       "       'Roundabout', 'Station', 'Stop', 'Traffic_Calming', 'Traffic_Signal',\n",
       "       'Turning_Loop', 'Sunrise_Sunset', 'Civil_Twilight', 'Nautical_Twilight',\n",
       "       'Astronomical_Twilight'],\n",
       "      dtype='object')"
      ]
     },
     "execution_count": 3,
     "metadata": {},
     "output_type": "execute_result"
    }
   ],
   "source": [
    "data_set.columns"
   ]
  },
  {
   "cell_type": "code",
   "execution_count": 4,
   "id": "695215df",
   "metadata": {
    "execution": {
     "iopub.execute_input": "2022-04-18T17:17:59.572415Z",
     "iopub.status.busy": "2022-04-18T17:17:59.571530Z",
     "iopub.status.idle": "2022-04-18T17:17:59.577434Z",
     "shell.execute_reply": "2022-04-18T17:17:59.576945Z",
     "shell.execute_reply.started": "2022-04-18T15:56:10.867995Z"
    },
    "papermill": {
     "duration": 0.065781,
     "end_time": "2022-04-18T17:17:59.577577",
     "exception": false,
     "start_time": "2022-04-18T17:17:59.511796",
     "status": "completed"
    },
    "tags": []
   },
   "outputs": [
    {
     "data": {
      "text/plain": [
       "2845342"
      ]
     },
     "execution_count": 4,
     "metadata": {},
     "output_type": "execute_result"
    }
   ],
   "source": [
    "len(data_set)"
   ]
  },
  {
   "cell_type": "code",
   "execution_count": 5,
   "id": "bace8007",
   "metadata": {
    "execution": {
     "iopub.execute_input": "2022-04-18T17:17:59.695372Z",
     "iopub.status.busy": "2022-04-18T17:17:59.694767Z",
     "iopub.status.idle": "2022-04-18T17:17:59.699491Z",
     "shell.execute_reply": "2022-04-18T17:17:59.700109Z",
     "shell.execute_reply.started": "2022-04-18T15:56:10.881879Z"
    },
    "papermill": {
     "duration": 0.065279,
     "end_time": "2022-04-18T17:17:59.700290",
     "exception": false,
     "start_time": "2022-04-18T17:17:59.635011",
     "status": "completed"
    },
    "tags": []
   },
   "outputs": [
    {
     "data": {
      "text/plain": [
       "47"
      ]
     },
     "execution_count": 5,
     "metadata": {},
     "output_type": "execute_result"
    }
   ],
   "source": [
    "len(data_set.columns)"
   ]
  },
  {
   "cell_type": "code",
   "execution_count": 6,
   "id": "b1e8dd63",
   "metadata": {
    "execution": {
     "iopub.execute_input": "2022-04-18T17:17:59.819082Z",
     "iopub.status.busy": "2022-04-18T17:17:59.818463Z",
     "iopub.status.idle": "2022-04-18T17:17:59.839713Z",
     "shell.execute_reply": "2022-04-18T17:17:59.840601Z",
     "shell.execute_reply.started": "2022-04-18T15:56:10.894841Z"
    },
    "papermill": {
     "duration": 0.083097,
     "end_time": "2022-04-18T17:17:59.840975",
     "exception": false,
     "start_time": "2022-04-18T17:17:59.757878",
     "status": "completed"
    },
    "tags": []
   },
   "outputs": [
    {
     "name": "stdout",
     "output_type": "stream",
     "text": [
      "<class 'pandas.core.frame.DataFrame'>\n",
      "RangeIndex: 2845342 entries, 0 to 2845341\n",
      "Data columns (total 47 columns):\n",
      " #   Column                 Dtype  \n",
      "---  ------                 -----  \n",
      " 0   ID                     object \n",
      " 1   Severity               int64  \n",
      " 2   Start_Time             object \n",
      " 3   End_Time               object \n",
      " 4   Start_Lat              float64\n",
      " 5   Start_Lng              float64\n",
      " 6   End_Lat                float64\n",
      " 7   End_Lng                float64\n",
      " 8   Distance(mi)           float64\n",
      " 9   Description            object \n",
      " 10  Number                 float64\n",
      " 11  Street                 object \n",
      " 12  Side                   object \n",
      " 13  City                   object \n",
      " 14  County                 object \n",
      " 15  State                  object \n",
      " 16  Zipcode                object \n",
      " 17  Country                object \n",
      " 18  Timezone               object \n",
      " 19  Airport_Code           object \n",
      " 20  Weather_Timestamp      object \n",
      " 21  Temperature(F)         float64\n",
      " 22  Wind_Chill(F)          float64\n",
      " 23  Humidity(%)            float64\n",
      " 24  Pressure(in)           float64\n",
      " 25  Visibility(mi)         float64\n",
      " 26  Wind_Direction         object \n",
      " 27  Wind_Speed(mph)        float64\n",
      " 28  Precipitation(in)      float64\n",
      " 29  Weather_Condition      object \n",
      " 30  Amenity                bool   \n",
      " 31  Bump                   bool   \n",
      " 32  Crossing               bool   \n",
      " 33  Give_Way               bool   \n",
      " 34  Junction               bool   \n",
      " 35  No_Exit                bool   \n",
      " 36  Railway                bool   \n",
      " 37  Roundabout             bool   \n",
      " 38  Station                bool   \n",
      " 39  Stop                   bool   \n",
      " 40  Traffic_Calming        bool   \n",
      " 41  Traffic_Signal         bool   \n",
      " 42  Turning_Loop           bool   \n",
      " 43  Sunrise_Sunset         object \n",
      " 44  Civil_Twilight         object \n",
      " 45  Nautical_Twilight      object \n",
      " 46  Astronomical_Twilight  object \n",
      "dtypes: bool(13), float64(13), int64(1), object(20)\n",
      "memory usage: 773.4+ MB\n"
     ]
    }
   ],
   "source": [
    "data_set.info()"
   ]
  },
  {
   "cell_type": "code",
   "execution_count": 7,
   "id": "ecb8f97d",
   "metadata": {
    "execution": {
     "iopub.execute_input": "2022-04-18T17:17:59.964873Z",
     "iopub.status.busy": "2022-04-18T17:17:59.963619Z",
     "iopub.status.idle": "2022-04-18T17:17:59.990176Z",
     "shell.execute_reply": "2022-04-18T17:17:59.990773Z",
     "shell.execute_reply.started": "2022-04-18T15:56:10.933419Z"
    },
    "papermill": {
     "duration": 0.090833,
     "end_time": "2022-04-18T17:17:59.990956",
     "exception": false,
     "start_time": "2022-04-18T17:17:59.900123",
     "status": "completed"
    },
    "tags": []
   },
   "outputs": [
    {
     "data": {
      "text/html": [
       "<div>\n",
       "<style scoped>\n",
       "    .dataframe tbody tr th:only-of-type {\n",
       "        vertical-align: middle;\n",
       "    }\n",
       "\n",
       "    .dataframe tbody tr th {\n",
       "        vertical-align: top;\n",
       "    }\n",
       "\n",
       "    .dataframe thead th {\n",
       "        text-align: right;\n",
       "    }\n",
       "</style>\n",
       "<table border=\"1\" class=\"dataframe\">\n",
       "  <thead>\n",
       "    <tr style=\"text-align: right;\">\n",
       "      <th></th>\n",
       "      <th>ID</th>\n",
       "      <th>Severity</th>\n",
       "      <th>Start_Time</th>\n",
       "      <th>End_Time</th>\n",
       "      <th>Start_Lat</th>\n",
       "      <th>Start_Lng</th>\n",
       "      <th>End_Lat</th>\n",
       "      <th>End_Lng</th>\n",
       "      <th>Distance(mi)</th>\n",
       "      <th>Description</th>\n",
       "      <th>...</th>\n",
       "      <th>Roundabout</th>\n",
       "      <th>Station</th>\n",
       "      <th>Stop</th>\n",
       "      <th>Traffic_Calming</th>\n",
       "      <th>Traffic_Signal</th>\n",
       "      <th>Turning_Loop</th>\n",
       "      <th>Sunrise_Sunset</th>\n",
       "      <th>Civil_Twilight</th>\n",
       "      <th>Nautical_Twilight</th>\n",
       "      <th>Astronomical_Twilight</th>\n",
       "    </tr>\n",
       "  </thead>\n",
       "  <tbody>\n",
       "    <tr>\n",
       "      <th>0</th>\n",
       "      <td>A-1</td>\n",
       "      <td>3</td>\n",
       "      <td>2016-02-08 00:37:08</td>\n",
       "      <td>2016-02-08 06:37:08</td>\n",
       "      <td>40.108910</td>\n",
       "      <td>-83.092860</td>\n",
       "      <td>40.112060</td>\n",
       "      <td>-83.031870</td>\n",
       "      <td>3.230</td>\n",
       "      <td>Between Sawmill Rd/Exit 20 and OH-315/Olentang...</td>\n",
       "      <td>...</td>\n",
       "      <td>False</td>\n",
       "      <td>False</td>\n",
       "      <td>False</td>\n",
       "      <td>False</td>\n",
       "      <td>False</td>\n",
       "      <td>False</td>\n",
       "      <td>Night</td>\n",
       "      <td>Night</td>\n",
       "      <td>Night</td>\n",
       "      <td>Night</td>\n",
       "    </tr>\n",
       "    <tr>\n",
       "      <th>1</th>\n",
       "      <td>A-2</td>\n",
       "      <td>2</td>\n",
       "      <td>2016-02-08 05:56:20</td>\n",
       "      <td>2016-02-08 11:56:20</td>\n",
       "      <td>39.865420</td>\n",
       "      <td>-84.062800</td>\n",
       "      <td>39.865010</td>\n",
       "      <td>-84.048730</td>\n",
       "      <td>0.747</td>\n",
       "      <td>At OH-4/OH-235/Exit 41 - Accident.</td>\n",
       "      <td>...</td>\n",
       "      <td>False</td>\n",
       "      <td>False</td>\n",
       "      <td>False</td>\n",
       "      <td>False</td>\n",
       "      <td>False</td>\n",
       "      <td>False</td>\n",
       "      <td>Night</td>\n",
       "      <td>Night</td>\n",
       "      <td>Night</td>\n",
       "      <td>Night</td>\n",
       "    </tr>\n",
       "    <tr>\n",
       "      <th>2</th>\n",
       "      <td>A-3</td>\n",
       "      <td>2</td>\n",
       "      <td>2016-02-08 06:15:39</td>\n",
       "      <td>2016-02-08 12:15:39</td>\n",
       "      <td>39.102660</td>\n",
       "      <td>-84.524680</td>\n",
       "      <td>39.102090</td>\n",
       "      <td>-84.523960</td>\n",
       "      <td>0.055</td>\n",
       "      <td>At I-71/US-50/Exit 1 - Accident.</td>\n",
       "      <td>...</td>\n",
       "      <td>False</td>\n",
       "      <td>False</td>\n",
       "      <td>False</td>\n",
       "      <td>False</td>\n",
       "      <td>False</td>\n",
       "      <td>False</td>\n",
       "      <td>Night</td>\n",
       "      <td>Night</td>\n",
       "      <td>Night</td>\n",
       "      <td>Day</td>\n",
       "    </tr>\n",
       "    <tr>\n",
       "      <th>3</th>\n",
       "      <td>A-4</td>\n",
       "      <td>2</td>\n",
       "      <td>2016-02-08 06:51:45</td>\n",
       "      <td>2016-02-08 12:51:45</td>\n",
       "      <td>41.062130</td>\n",
       "      <td>-81.537840</td>\n",
       "      <td>41.062170</td>\n",
       "      <td>-81.535470</td>\n",
       "      <td>0.123</td>\n",
       "      <td>At Dart Ave/Exit 21 - Accident.</td>\n",
       "      <td>...</td>\n",
       "      <td>False</td>\n",
       "      <td>False</td>\n",
       "      <td>False</td>\n",
       "      <td>False</td>\n",
       "      <td>False</td>\n",
       "      <td>False</td>\n",
       "      <td>Night</td>\n",
       "      <td>Night</td>\n",
       "      <td>Day</td>\n",
       "      <td>Day</td>\n",
       "    </tr>\n",
       "    <tr>\n",
       "      <th>4</th>\n",
       "      <td>A-5</td>\n",
       "      <td>3</td>\n",
       "      <td>2016-02-08 07:53:43</td>\n",
       "      <td>2016-02-08 13:53:43</td>\n",
       "      <td>39.172393</td>\n",
       "      <td>-84.492792</td>\n",
       "      <td>39.170476</td>\n",
       "      <td>-84.501798</td>\n",
       "      <td>0.500</td>\n",
       "      <td>At Mitchell Ave/Exit 6 - Accident.</td>\n",
       "      <td>...</td>\n",
       "      <td>False</td>\n",
       "      <td>False</td>\n",
       "      <td>False</td>\n",
       "      <td>False</td>\n",
       "      <td>False</td>\n",
       "      <td>False</td>\n",
       "      <td>Day</td>\n",
       "      <td>Day</td>\n",
       "      <td>Day</td>\n",
       "      <td>Day</td>\n",
       "    </tr>\n",
       "  </tbody>\n",
       "</table>\n",
       "<p>5 rows × 47 columns</p>\n",
       "</div>"
      ],
      "text/plain": [
       "    ID  Severity           Start_Time             End_Time  Start_Lat  \\\n",
       "0  A-1         3  2016-02-08 00:37:08  2016-02-08 06:37:08  40.108910   \n",
       "1  A-2         2  2016-02-08 05:56:20  2016-02-08 11:56:20  39.865420   \n",
       "2  A-3         2  2016-02-08 06:15:39  2016-02-08 12:15:39  39.102660   \n",
       "3  A-4         2  2016-02-08 06:51:45  2016-02-08 12:51:45  41.062130   \n",
       "4  A-5         3  2016-02-08 07:53:43  2016-02-08 13:53:43  39.172393   \n",
       "\n",
       "   Start_Lng    End_Lat    End_Lng  Distance(mi)  \\\n",
       "0 -83.092860  40.112060 -83.031870         3.230   \n",
       "1 -84.062800  39.865010 -84.048730         0.747   \n",
       "2 -84.524680  39.102090 -84.523960         0.055   \n",
       "3 -81.537840  41.062170 -81.535470         0.123   \n",
       "4 -84.492792  39.170476 -84.501798         0.500   \n",
       "\n",
       "                                         Description  ...  Roundabout Station  \\\n",
       "0  Between Sawmill Rd/Exit 20 and OH-315/Olentang...  ...       False   False   \n",
       "1                 At OH-4/OH-235/Exit 41 - Accident.  ...       False   False   \n",
       "2                   At I-71/US-50/Exit 1 - Accident.  ...       False   False   \n",
       "3                    At Dart Ave/Exit 21 - Accident.  ...       False   False   \n",
       "4                 At Mitchell Ave/Exit 6 - Accident.  ...       False   False   \n",
       "\n",
       "    Stop Traffic_Calming Traffic_Signal Turning_Loop Sunrise_Sunset  \\\n",
       "0  False           False          False        False          Night   \n",
       "1  False           False          False        False          Night   \n",
       "2  False           False          False        False          Night   \n",
       "3  False           False          False        False          Night   \n",
       "4  False           False          False        False            Day   \n",
       "\n",
       "  Civil_Twilight Nautical_Twilight Astronomical_Twilight  \n",
       "0          Night             Night                 Night  \n",
       "1          Night             Night                 Night  \n",
       "2          Night             Night                   Day  \n",
       "3          Night               Day                   Day  \n",
       "4            Day               Day                   Day  \n",
       "\n",
       "[5 rows x 47 columns]"
      ]
     },
     "execution_count": 7,
     "metadata": {},
     "output_type": "execute_result"
    }
   ],
   "source": [
    "data_set.head()"
   ]
  },
  {
   "cell_type": "code",
   "execution_count": 8,
   "id": "87782518",
   "metadata": {
    "execution": {
     "iopub.execute_input": "2022-04-18T17:18:00.127162Z",
     "iopub.status.busy": "2022-04-18T17:18:00.126218Z",
     "iopub.status.idle": "2022-04-18T17:18:00.151343Z",
     "shell.execute_reply": "2022-04-18T17:18:00.151965Z",
     "shell.execute_reply.started": "2022-04-18T15:56:10.964020Z"
    },
    "papermill": {
     "duration": 0.087764,
     "end_time": "2022-04-18T17:18:00.152132",
     "exception": false,
     "start_time": "2022-04-18T17:18:00.064368",
     "status": "completed"
    },
    "tags": []
   },
   "outputs": [
    {
     "data": {
      "text/html": [
       "<div>\n",
       "<style scoped>\n",
       "    .dataframe tbody tr th:only-of-type {\n",
       "        vertical-align: middle;\n",
       "    }\n",
       "\n",
       "    .dataframe tbody tr th {\n",
       "        vertical-align: top;\n",
       "    }\n",
       "\n",
       "    .dataframe thead th {\n",
       "        text-align: right;\n",
       "    }\n",
       "</style>\n",
       "<table border=\"1\" class=\"dataframe\">\n",
       "  <thead>\n",
       "    <tr style=\"text-align: right;\">\n",
       "      <th></th>\n",
       "      <th>ID</th>\n",
       "      <th>Severity</th>\n",
       "      <th>Start_Time</th>\n",
       "      <th>End_Time</th>\n",
       "      <th>Start_Lat</th>\n",
       "      <th>Start_Lng</th>\n",
       "      <th>End_Lat</th>\n",
       "      <th>End_Lng</th>\n",
       "      <th>Distance(mi)</th>\n",
       "      <th>Description</th>\n",
       "      <th>...</th>\n",
       "      <th>Roundabout</th>\n",
       "      <th>Station</th>\n",
       "      <th>Stop</th>\n",
       "      <th>Traffic_Calming</th>\n",
       "      <th>Traffic_Signal</th>\n",
       "      <th>Turning_Loop</th>\n",
       "      <th>Sunrise_Sunset</th>\n",
       "      <th>Civil_Twilight</th>\n",
       "      <th>Nautical_Twilight</th>\n",
       "      <th>Astronomical_Twilight</th>\n",
       "    </tr>\n",
       "  </thead>\n",
       "  <tbody>\n",
       "    <tr>\n",
       "      <th>2845337</th>\n",
       "      <td>A-2845338</td>\n",
       "      <td>2</td>\n",
       "      <td>2019-08-23 18:03:25</td>\n",
       "      <td>2019-08-23 18:32:01</td>\n",
       "      <td>34.00248</td>\n",
       "      <td>-117.37936</td>\n",
       "      <td>33.99888</td>\n",
       "      <td>-117.37094</td>\n",
       "      <td>0.543</td>\n",
       "      <td>At Market St - Accident.</td>\n",
       "      <td>...</td>\n",
       "      <td>False</td>\n",
       "      <td>False</td>\n",
       "      <td>False</td>\n",
       "      <td>False</td>\n",
       "      <td>False</td>\n",
       "      <td>False</td>\n",
       "      <td>Day</td>\n",
       "      <td>Day</td>\n",
       "      <td>Day</td>\n",
       "      <td>Day</td>\n",
       "    </tr>\n",
       "    <tr>\n",
       "      <th>2845338</th>\n",
       "      <td>A-2845339</td>\n",
       "      <td>2</td>\n",
       "      <td>2019-08-23 19:11:30</td>\n",
       "      <td>2019-08-23 19:38:23</td>\n",
       "      <td>32.76696</td>\n",
       "      <td>-117.14806</td>\n",
       "      <td>32.76555</td>\n",
       "      <td>-117.15363</td>\n",
       "      <td>0.338</td>\n",
       "      <td>At Camino Del Rio/Mission Center Rd - Accident.</td>\n",
       "      <td>...</td>\n",
       "      <td>False</td>\n",
       "      <td>False</td>\n",
       "      <td>False</td>\n",
       "      <td>False</td>\n",
       "      <td>False</td>\n",
       "      <td>False</td>\n",
       "      <td>Day</td>\n",
       "      <td>Day</td>\n",
       "      <td>Day</td>\n",
       "      <td>Day</td>\n",
       "    </tr>\n",
       "    <tr>\n",
       "      <th>2845339</th>\n",
       "      <td>A-2845340</td>\n",
       "      <td>2</td>\n",
       "      <td>2019-08-23 19:00:21</td>\n",
       "      <td>2019-08-23 19:28:49</td>\n",
       "      <td>33.77545</td>\n",
       "      <td>-117.84779</td>\n",
       "      <td>33.77740</td>\n",
       "      <td>-117.85727</td>\n",
       "      <td>0.561</td>\n",
       "      <td>At Glassell St/Grand Ave - Accident. in the ri...</td>\n",
       "      <td>...</td>\n",
       "      <td>False</td>\n",
       "      <td>False</td>\n",
       "      <td>False</td>\n",
       "      <td>False</td>\n",
       "      <td>False</td>\n",
       "      <td>False</td>\n",
       "      <td>Day</td>\n",
       "      <td>Day</td>\n",
       "      <td>Day</td>\n",
       "      <td>Day</td>\n",
       "    </tr>\n",
       "    <tr>\n",
       "      <th>2845340</th>\n",
       "      <td>A-2845341</td>\n",
       "      <td>2</td>\n",
       "      <td>2019-08-23 19:00:21</td>\n",
       "      <td>2019-08-23 19:29:42</td>\n",
       "      <td>33.99246</td>\n",
       "      <td>-118.40302</td>\n",
       "      <td>33.98311</td>\n",
       "      <td>-118.39565</td>\n",
       "      <td>0.772</td>\n",
       "      <td>At CA-90/Marina Fwy/Jefferson Blvd - Accident.</td>\n",
       "      <td>...</td>\n",
       "      <td>False</td>\n",
       "      <td>False</td>\n",
       "      <td>False</td>\n",
       "      <td>False</td>\n",
       "      <td>False</td>\n",
       "      <td>False</td>\n",
       "      <td>Day</td>\n",
       "      <td>Day</td>\n",
       "      <td>Day</td>\n",
       "      <td>Day</td>\n",
       "    </tr>\n",
       "    <tr>\n",
       "      <th>2845341</th>\n",
       "      <td>A-2845342</td>\n",
       "      <td>2</td>\n",
       "      <td>2019-08-23 18:52:06</td>\n",
       "      <td>2019-08-23 19:21:31</td>\n",
       "      <td>34.13393</td>\n",
       "      <td>-117.23092</td>\n",
       "      <td>34.13736</td>\n",
       "      <td>-117.23934</td>\n",
       "      <td>0.537</td>\n",
       "      <td>At Highland Ave/Arden Ave - Accident.</td>\n",
       "      <td>...</td>\n",
       "      <td>False</td>\n",
       "      <td>False</td>\n",
       "      <td>False</td>\n",
       "      <td>False</td>\n",
       "      <td>False</td>\n",
       "      <td>False</td>\n",
       "      <td>Day</td>\n",
       "      <td>Day</td>\n",
       "      <td>Day</td>\n",
       "      <td>Day</td>\n",
       "    </tr>\n",
       "  </tbody>\n",
       "</table>\n",
       "<p>5 rows × 47 columns</p>\n",
       "</div>"
      ],
      "text/plain": [
       "                ID  Severity           Start_Time             End_Time  \\\n",
       "2845337  A-2845338         2  2019-08-23 18:03:25  2019-08-23 18:32:01   \n",
       "2845338  A-2845339         2  2019-08-23 19:11:30  2019-08-23 19:38:23   \n",
       "2845339  A-2845340         2  2019-08-23 19:00:21  2019-08-23 19:28:49   \n",
       "2845340  A-2845341         2  2019-08-23 19:00:21  2019-08-23 19:29:42   \n",
       "2845341  A-2845342         2  2019-08-23 18:52:06  2019-08-23 19:21:31   \n",
       "\n",
       "         Start_Lat  Start_Lng   End_Lat    End_Lng  Distance(mi)  \\\n",
       "2845337   34.00248 -117.37936  33.99888 -117.37094         0.543   \n",
       "2845338   32.76696 -117.14806  32.76555 -117.15363         0.338   \n",
       "2845339   33.77545 -117.84779  33.77740 -117.85727         0.561   \n",
       "2845340   33.99246 -118.40302  33.98311 -118.39565         0.772   \n",
       "2845341   34.13393 -117.23092  34.13736 -117.23934         0.537   \n",
       "\n",
       "                                               Description  ...  Roundabout  \\\n",
       "2845337                           At Market St - Accident.  ...       False   \n",
       "2845338    At Camino Del Rio/Mission Center Rd - Accident.  ...       False   \n",
       "2845339  At Glassell St/Grand Ave - Accident. in the ri...  ...       False   \n",
       "2845340     At CA-90/Marina Fwy/Jefferson Blvd - Accident.  ...       False   \n",
       "2845341              At Highland Ave/Arden Ave - Accident.  ...       False   \n",
       "\n",
       "        Station   Stop Traffic_Calming Traffic_Signal Turning_Loop  \\\n",
       "2845337   False  False           False          False        False   \n",
       "2845338   False  False           False          False        False   \n",
       "2845339   False  False           False          False        False   \n",
       "2845340   False  False           False          False        False   \n",
       "2845341   False  False           False          False        False   \n",
       "\n",
       "        Sunrise_Sunset Civil_Twilight Nautical_Twilight Astronomical_Twilight  \n",
       "2845337            Day            Day               Day                   Day  \n",
       "2845338            Day            Day               Day                   Day  \n",
       "2845339            Day            Day               Day                   Day  \n",
       "2845340            Day            Day               Day                   Day  \n",
       "2845341            Day            Day               Day                   Day  \n",
       "\n",
       "[5 rows x 47 columns]"
      ]
     },
     "execution_count": 8,
     "metadata": {},
     "output_type": "execute_result"
    }
   ],
   "source": [
    "data_set.tail()"
   ]
  },
  {
   "cell_type": "code",
   "execution_count": 9,
   "id": "910af75b",
   "metadata": {
    "execution": {
     "iopub.execute_input": "2022-04-18T17:18:00.275560Z",
     "iopub.status.busy": "2022-04-18T17:18:00.274624Z",
     "iopub.status.idle": "2022-04-18T17:18:01.774674Z",
     "shell.execute_reply": "2022-04-18T17:18:01.775209Z",
     "shell.execute_reply.started": "2022-04-18T15:56:10.996107Z"
    },
    "papermill": {
     "duration": 1.56365,
     "end_time": "2022-04-18T17:18:01.775376",
     "exception": false,
     "start_time": "2022-04-18T17:18:00.211726",
     "status": "completed"
    },
    "tags": []
   },
   "outputs": [
    {
     "data": {
      "text/html": [
       "<div>\n",
       "<style scoped>\n",
       "    .dataframe tbody tr th:only-of-type {\n",
       "        vertical-align: middle;\n",
       "    }\n",
       "\n",
       "    .dataframe tbody tr th {\n",
       "        vertical-align: top;\n",
       "    }\n",
       "\n",
       "    .dataframe thead th {\n",
       "        text-align: right;\n",
       "    }\n",
       "</style>\n",
       "<table border=\"1\" class=\"dataframe\">\n",
       "  <thead>\n",
       "    <tr style=\"text-align: right;\">\n",
       "      <th></th>\n",
       "      <th>Severity</th>\n",
       "      <th>Start_Lat</th>\n",
       "      <th>Start_Lng</th>\n",
       "      <th>End_Lat</th>\n",
       "      <th>End_Lng</th>\n",
       "      <th>Distance(mi)</th>\n",
       "      <th>Number</th>\n",
       "      <th>Temperature(F)</th>\n",
       "      <th>Wind_Chill(F)</th>\n",
       "      <th>Humidity(%)</th>\n",
       "      <th>Pressure(in)</th>\n",
       "      <th>Visibility(mi)</th>\n",
       "      <th>Wind_Speed(mph)</th>\n",
       "      <th>Precipitation(in)</th>\n",
       "    </tr>\n",
       "  </thead>\n",
       "  <tbody>\n",
       "    <tr>\n",
       "      <th>count</th>\n",
       "      <td>2.845342e+06</td>\n",
       "      <td>2.845342e+06</td>\n",
       "      <td>2.845342e+06</td>\n",
       "      <td>2.845342e+06</td>\n",
       "      <td>2.845342e+06</td>\n",
       "      <td>2.845342e+06</td>\n",
       "      <td>1.101431e+06</td>\n",
       "      <td>2.776068e+06</td>\n",
       "      <td>2.375699e+06</td>\n",
       "      <td>2.772250e+06</td>\n",
       "      <td>2.786142e+06</td>\n",
       "      <td>2.774796e+06</td>\n",
       "      <td>2.687398e+06</td>\n",
       "      <td>2.295884e+06</td>\n",
       "    </tr>\n",
       "    <tr>\n",
       "      <th>mean</th>\n",
       "      <td>2.137572e+00</td>\n",
       "      <td>3.624520e+01</td>\n",
       "      <td>-9.711463e+01</td>\n",
       "      <td>3.624532e+01</td>\n",
       "      <td>-9.711439e+01</td>\n",
       "      <td>7.026779e-01</td>\n",
       "      <td>8.089408e+03</td>\n",
       "      <td>6.179356e+01</td>\n",
       "      <td>5.965823e+01</td>\n",
       "      <td>6.436545e+01</td>\n",
       "      <td>2.947234e+01</td>\n",
       "      <td>9.099391e+00</td>\n",
       "      <td>7.395044e+00</td>\n",
       "      <td>7.016940e-03</td>\n",
       "    </tr>\n",
       "    <tr>\n",
       "      <th>std</th>\n",
       "      <td>4.787216e-01</td>\n",
       "      <td>5.363797e+00</td>\n",
       "      <td>1.831782e+01</td>\n",
       "      <td>5.363873e+00</td>\n",
       "      <td>1.831763e+01</td>\n",
       "      <td>1.560361e+00</td>\n",
       "      <td>1.836009e+04</td>\n",
       "      <td>1.862263e+01</td>\n",
       "      <td>2.116097e+01</td>\n",
       "      <td>2.287457e+01</td>\n",
       "      <td>1.045286e+00</td>\n",
       "      <td>2.717546e+00</td>\n",
       "      <td>5.527454e+00</td>\n",
       "      <td>9.348831e-02</td>\n",
       "    </tr>\n",
       "    <tr>\n",
       "      <th>min</th>\n",
       "      <td>1.000000e+00</td>\n",
       "      <td>2.456603e+01</td>\n",
       "      <td>-1.245481e+02</td>\n",
       "      <td>2.456601e+01</td>\n",
       "      <td>-1.245457e+02</td>\n",
       "      <td>0.000000e+00</td>\n",
       "      <td>0.000000e+00</td>\n",
       "      <td>-8.900000e+01</td>\n",
       "      <td>-8.900000e+01</td>\n",
       "      <td>1.000000e+00</td>\n",
       "      <td>0.000000e+00</td>\n",
       "      <td>0.000000e+00</td>\n",
       "      <td>0.000000e+00</td>\n",
       "      <td>0.000000e+00</td>\n",
       "    </tr>\n",
       "    <tr>\n",
       "      <th>25%</th>\n",
       "      <td>2.000000e+00</td>\n",
       "      <td>3.344517e+01</td>\n",
       "      <td>-1.180331e+02</td>\n",
       "      <td>3.344628e+01</td>\n",
       "      <td>-1.180333e+02</td>\n",
       "      <td>5.200000e-02</td>\n",
       "      <td>1.270000e+03</td>\n",
       "      <td>5.000000e+01</td>\n",
       "      <td>4.600000e+01</td>\n",
       "      <td>4.800000e+01</td>\n",
       "      <td>2.931000e+01</td>\n",
       "      <td>1.000000e+01</td>\n",
       "      <td>3.500000e+00</td>\n",
       "      <td>0.000000e+00</td>\n",
       "    </tr>\n",
       "    <tr>\n",
       "      <th>50%</th>\n",
       "      <td>2.000000e+00</td>\n",
       "      <td>3.609861e+01</td>\n",
       "      <td>-9.241808e+01</td>\n",
       "      <td>3.609799e+01</td>\n",
       "      <td>-9.241772e+01</td>\n",
       "      <td>2.440000e-01</td>\n",
       "      <td>4.007000e+03</td>\n",
       "      <td>6.400000e+01</td>\n",
       "      <td>6.300000e+01</td>\n",
       "      <td>6.700000e+01</td>\n",
       "      <td>2.982000e+01</td>\n",
       "      <td>1.000000e+01</td>\n",
       "      <td>7.000000e+00</td>\n",
       "      <td>0.000000e+00</td>\n",
       "    </tr>\n",
       "    <tr>\n",
       "      <th>75%</th>\n",
       "      <td>2.000000e+00</td>\n",
       "      <td>4.016024e+01</td>\n",
       "      <td>-8.037243e+01</td>\n",
       "      <td>4.016105e+01</td>\n",
       "      <td>-8.037338e+01</td>\n",
       "      <td>7.640000e-01</td>\n",
       "      <td>9.567000e+03</td>\n",
       "      <td>7.600000e+01</td>\n",
       "      <td>7.600000e+01</td>\n",
       "      <td>8.300000e+01</td>\n",
       "      <td>3.001000e+01</td>\n",
       "      <td>1.000000e+01</td>\n",
       "      <td>1.000000e+01</td>\n",
       "      <td>0.000000e+00</td>\n",
       "    </tr>\n",
       "    <tr>\n",
       "      <th>max</th>\n",
       "      <td>4.000000e+00</td>\n",
       "      <td>4.900058e+01</td>\n",
       "      <td>-6.711317e+01</td>\n",
       "      <td>4.907500e+01</td>\n",
       "      <td>-6.710924e+01</td>\n",
       "      <td>1.551860e+02</td>\n",
       "      <td>9.999997e+06</td>\n",
       "      <td>1.960000e+02</td>\n",
       "      <td>1.960000e+02</td>\n",
       "      <td>1.000000e+02</td>\n",
       "      <td>5.890000e+01</td>\n",
       "      <td>1.400000e+02</td>\n",
       "      <td>1.087000e+03</td>\n",
       "      <td>2.400000e+01</td>\n",
       "    </tr>\n",
       "  </tbody>\n",
       "</table>\n",
       "</div>"
      ],
      "text/plain": [
       "           Severity     Start_Lat     Start_Lng       End_Lat       End_Lng  \\\n",
       "count  2.845342e+06  2.845342e+06  2.845342e+06  2.845342e+06  2.845342e+06   \n",
       "mean   2.137572e+00  3.624520e+01 -9.711463e+01  3.624532e+01 -9.711439e+01   \n",
       "std    4.787216e-01  5.363797e+00  1.831782e+01  5.363873e+00  1.831763e+01   \n",
       "min    1.000000e+00  2.456603e+01 -1.245481e+02  2.456601e+01 -1.245457e+02   \n",
       "25%    2.000000e+00  3.344517e+01 -1.180331e+02  3.344628e+01 -1.180333e+02   \n",
       "50%    2.000000e+00  3.609861e+01 -9.241808e+01  3.609799e+01 -9.241772e+01   \n",
       "75%    2.000000e+00  4.016024e+01 -8.037243e+01  4.016105e+01 -8.037338e+01   \n",
       "max    4.000000e+00  4.900058e+01 -6.711317e+01  4.907500e+01 -6.710924e+01   \n",
       "\n",
       "       Distance(mi)        Number  Temperature(F)  Wind_Chill(F)  \\\n",
       "count  2.845342e+06  1.101431e+06    2.776068e+06   2.375699e+06   \n",
       "mean   7.026779e-01  8.089408e+03    6.179356e+01   5.965823e+01   \n",
       "std    1.560361e+00  1.836009e+04    1.862263e+01   2.116097e+01   \n",
       "min    0.000000e+00  0.000000e+00   -8.900000e+01  -8.900000e+01   \n",
       "25%    5.200000e-02  1.270000e+03    5.000000e+01   4.600000e+01   \n",
       "50%    2.440000e-01  4.007000e+03    6.400000e+01   6.300000e+01   \n",
       "75%    7.640000e-01  9.567000e+03    7.600000e+01   7.600000e+01   \n",
       "max    1.551860e+02  9.999997e+06    1.960000e+02   1.960000e+02   \n",
       "\n",
       "        Humidity(%)  Pressure(in)  Visibility(mi)  Wind_Speed(mph)  \\\n",
       "count  2.772250e+06  2.786142e+06    2.774796e+06     2.687398e+06   \n",
       "mean   6.436545e+01  2.947234e+01    9.099391e+00     7.395044e+00   \n",
       "std    2.287457e+01  1.045286e+00    2.717546e+00     5.527454e+00   \n",
       "min    1.000000e+00  0.000000e+00    0.000000e+00     0.000000e+00   \n",
       "25%    4.800000e+01  2.931000e+01    1.000000e+01     3.500000e+00   \n",
       "50%    6.700000e+01  2.982000e+01    1.000000e+01     7.000000e+00   \n",
       "75%    8.300000e+01  3.001000e+01    1.000000e+01     1.000000e+01   \n",
       "max    1.000000e+02  5.890000e+01    1.400000e+02     1.087000e+03   \n",
       "\n",
       "       Precipitation(in)  \n",
       "count       2.295884e+06  \n",
       "mean        7.016940e-03  \n",
       "std         9.348831e-02  \n",
       "min         0.000000e+00  \n",
       "25%         0.000000e+00  \n",
       "50%         0.000000e+00  \n",
       "75%         0.000000e+00  \n",
       "max         2.400000e+01  "
      ]
     },
     "execution_count": 9,
     "metadata": {},
     "output_type": "execute_result"
    }
   ],
   "source": [
    "data_set.describe()"
   ]
  },
  {
   "cell_type": "code",
   "execution_count": 10,
   "id": "5d9abd39",
   "metadata": {
    "execution": {
     "iopub.execute_input": "2022-04-18T17:18:01.903404Z",
     "iopub.status.busy": "2022-04-18T17:18:01.902342Z",
     "iopub.status.idle": "2022-04-18T17:18:02.017374Z",
     "shell.execute_reply": "2022-04-18T17:18:02.017858Z",
     "shell.execute_reply.started": "2022-04-18T15:56:12.690038Z"
    },
    "papermill": {
     "duration": 0.182086,
     "end_time": "2022-04-18T17:18:02.018037",
     "exception": false,
     "start_time": "2022-04-18T17:18:01.835951",
     "status": "completed"
    },
    "tags": []
   },
   "outputs": [
    {
     "data": {
      "text/plain": [
       "14"
      ]
     },
     "execution_count": 10,
     "metadata": {},
     "output_type": "execute_result"
    }
   ],
   "source": [
    "numerics = ['int16', 'int32', 'int64', 'float16', 'float32', 'float64']\n",
    "numeric_ds = data_set.select_dtypes(include=numerics)\n",
    "len(numeric_ds.columns)"
   ]
  },
  {
   "cell_type": "code",
   "execution_count": 11,
   "id": "b197ee10",
   "metadata": {
    "execution": {
     "iopub.execute_input": "2022-04-18T17:18:02.148695Z",
     "iopub.status.busy": "2022-04-18T17:18:02.147562Z",
     "iopub.status.idle": "2022-04-18T17:18:02.746448Z",
     "shell.execute_reply": "2022-04-18T17:18:02.745918Z",
     "shell.execute_reply.started": "2022-04-18T15:56:12.878065Z"
    },
    "papermill": {
     "duration": 0.6673,
     "end_time": "2022-04-18T17:18:02.746588",
     "exception": false,
     "start_time": "2022-04-18T17:18:02.079288",
     "status": "completed"
    },
    "tags": []
   },
   "outputs": [
    {
     "data": {
      "text/plain": [
       "33"
      ]
     },
     "execution_count": 11,
     "metadata": {},
     "output_type": "execute_result"
    }
   ],
   "source": [
    "numerics = ['int16', 'int32', 'int64', 'float16', 'float32', 'float64']\n",
    "numeric_ds = data_set.select_dtypes(exclude=numerics)\n",
    "len(numeric_ds.columns)"
   ]
  },
  {
   "cell_type": "markdown",
   "id": "0061b0bb",
   "metadata": {
    "papermill": {
     "duration": 0.061961,
     "end_time": "2022-04-18T17:18:02.870053",
     "exception": false,
     "start_time": "2022-04-18T17:18:02.808092",
     "status": "completed"
    },
    "tags": []
   },
   "source": [
    "Percentage of missing values per column"
   ]
  },
  {
   "cell_type": "code",
   "execution_count": 12,
   "id": "932a9d8f",
   "metadata": {
    "execution": {
     "iopub.execute_input": "2022-04-18T17:18:02.999774Z",
     "iopub.status.busy": "2022-04-18T17:18:02.999041Z",
     "iopub.status.idle": "2022-04-18T17:18:09.129004Z",
     "shell.execute_reply": "2022-04-18T17:18:09.128044Z",
     "shell.execute_reply.started": "2022-04-18T15:56:13.561676Z"
    },
    "papermill": {
     "duration": 6.197037,
     "end_time": "2022-04-18T17:18:09.129167",
     "exception": false,
     "start_time": "2022-04-18T17:18:02.932130",
     "status": "completed"
    },
    "tags": []
   },
   "outputs": [
    {
     "data": {
      "text/plain": [
       "Number                   1743911\n",
       "Precipitation(in)         549458\n",
       "Wind_Chill(F)             469643\n",
       "Wind_Speed(mph)           157944\n",
       "Wind_Direction             73775\n",
       "Humidity(%)                73092\n",
       "Weather_Condition          70636\n",
       "Visibility(mi)             70546\n",
       "Temperature(F)             69274\n",
       "Pressure(in)               59200\n",
       "Weather_Timestamp          50736\n",
       "Airport_Code                9549\n",
       "Timezone                    3659\n",
       "Nautical_Twilight           2867\n",
       "Civil_Twilight              2867\n",
       "Sunrise_Sunset              2867\n",
       "Astronomical_Twilight       2867\n",
       "Zipcode                     1319\n",
       "City                         137\n",
       "Street                         2\n",
       "Country                        0\n",
       "Junction                       0\n",
       "Start_Time                     0\n",
       "End_Time                       0\n",
       "Start_Lat                      0\n",
       "Turning_Loop                   0\n",
       "Traffic_Signal                 0\n",
       "Traffic_Calming                0\n",
       "Stop                           0\n",
       "Station                        0\n",
       "Roundabout                     0\n",
       "Railway                        0\n",
       "No_Exit                        0\n",
       "Crossing                       0\n",
       "Give_Way                       0\n",
       "Bump                           0\n",
       "Amenity                        0\n",
       "Start_Lng                      0\n",
       "End_Lat                        0\n",
       "End_Lng                        0\n",
       "Distance(mi)                   0\n",
       "Description                    0\n",
       "Severity                       0\n",
       "Side                           0\n",
       "County                         0\n",
       "State                          0\n",
       "ID                             0\n",
       "dtype: int64"
      ]
     },
     "execution_count": 12,
     "metadata": {},
     "output_type": "execute_result"
    }
   ],
   "source": [
    "data_set.isna().sum().sort_values(ascending=False)"
   ]
  },
  {
   "cell_type": "code",
   "execution_count": 13,
   "id": "08fc2c06",
   "metadata": {
    "execution": {
     "iopub.execute_input": "2022-04-18T17:18:09.258298Z",
     "iopub.status.busy": "2022-04-18T17:18:09.257308Z",
     "iopub.status.idle": "2022-04-18T17:18:15.413858Z",
     "shell.execute_reply": "2022-04-18T17:18:15.413197Z",
     "shell.execute_reply.started": "2022-04-18T15:56:19.850681Z"
    },
    "papermill": {
     "duration": 6.221681,
     "end_time": "2022-04-18T17:18:15.413998",
     "exception": false,
     "start_time": "2022-04-18T17:18:09.192317",
     "status": "completed"
    },
    "tags": []
   },
   "outputs": [
    {
     "data": {
      "text/plain": [
       "Number                   6.129003e-01\n",
       "Precipitation(in)        1.931079e-01\n",
       "Wind_Chill(F)            1.650568e-01\n",
       "Wind_Speed(mph)          5.550967e-02\n",
       "Wind_Direction           2.592834e-02\n",
       "Humidity(%)              2.568830e-02\n",
       "Weather_Condition        2.482514e-02\n",
       "Visibility(mi)           2.479350e-02\n",
       "Temperature(F)           2.434646e-02\n",
       "Pressure(in)             2.080593e-02\n",
       "Weather_Timestamp        1.783125e-02\n",
       "Airport_Code             3.356011e-03\n",
       "Timezone                 1.285961e-03\n",
       "Nautical_Twilight        1.007612e-03\n",
       "Civil_Twilight           1.007612e-03\n",
       "Sunrise_Sunset           1.007612e-03\n",
       "Astronomical_Twilight    1.007612e-03\n",
       "Zipcode                  4.635647e-04\n",
       "City                     4.814887e-05\n",
       "Street                   7.029032e-07\n",
       "Country                  0.000000e+00\n",
       "Junction                 0.000000e+00\n",
       "Start_Time               0.000000e+00\n",
       "End_Time                 0.000000e+00\n",
       "Start_Lat                0.000000e+00\n",
       "Turning_Loop             0.000000e+00\n",
       "Traffic_Signal           0.000000e+00\n",
       "Traffic_Calming          0.000000e+00\n",
       "Stop                     0.000000e+00\n",
       "Station                  0.000000e+00\n",
       "Roundabout               0.000000e+00\n",
       "Railway                  0.000000e+00\n",
       "No_Exit                  0.000000e+00\n",
       "Crossing                 0.000000e+00\n",
       "Give_Way                 0.000000e+00\n",
       "Bump                     0.000000e+00\n",
       "Amenity                  0.000000e+00\n",
       "Start_Lng                0.000000e+00\n",
       "End_Lat                  0.000000e+00\n",
       "End_Lng                  0.000000e+00\n",
       "Distance(mi)             0.000000e+00\n",
       "Description              0.000000e+00\n",
       "Severity                 0.000000e+00\n",
       "Side                     0.000000e+00\n",
       "County                   0.000000e+00\n",
       "State                    0.000000e+00\n",
       "ID                       0.000000e+00\n",
       "dtype: float64"
      ]
     },
     "execution_count": 13,
     "metadata": {},
     "output_type": "execute_result"
    }
   ],
   "source": [
    "missing_percentages = data_set.isna().sum().sort_values(ascending=False)/len(data_set)\n",
    "missing_percentages"
   ]
  },
  {
   "cell_type": "code",
   "execution_count": 14,
   "id": "ad5e576f",
   "metadata": {
    "execution": {
     "iopub.execute_input": "2022-04-18T17:18:15.545480Z",
     "iopub.status.busy": "2022-04-18T17:18:15.544832Z",
     "iopub.status.idle": "2022-04-18T17:18:15.548354Z",
     "shell.execute_reply": "2022-04-18T17:18:15.548909Z",
     "shell.execute_reply.started": "2022-04-18T15:56:26.143964Z"
    },
    "papermill": {
     "duration": 0.073044,
     "end_time": "2022-04-18T17:18:15.549084",
     "exception": false,
     "start_time": "2022-04-18T17:18:15.476040",
     "status": "completed"
    },
    "tags": []
   },
   "outputs": [
    {
     "data": {
      "text/plain": [
       "Number                   6.129003e-01\n",
       "Precipitation(in)        1.931079e-01\n",
       "Wind_Chill(F)            1.650568e-01\n",
       "Wind_Speed(mph)          5.550967e-02\n",
       "Wind_Direction           2.592834e-02\n",
       "Humidity(%)              2.568830e-02\n",
       "Weather_Condition        2.482514e-02\n",
       "Visibility(mi)           2.479350e-02\n",
       "Temperature(F)           2.434646e-02\n",
       "Pressure(in)             2.080593e-02\n",
       "Weather_Timestamp        1.783125e-02\n",
       "Airport_Code             3.356011e-03\n",
       "Timezone                 1.285961e-03\n",
       "Nautical_Twilight        1.007612e-03\n",
       "Civil_Twilight           1.007612e-03\n",
       "Sunrise_Sunset           1.007612e-03\n",
       "Astronomical_Twilight    1.007612e-03\n",
       "Zipcode                  4.635647e-04\n",
       "City                     4.814887e-05\n",
       "Street                   7.029032e-07\n",
       "dtype: float64"
      ]
     },
     "execution_count": 14,
     "metadata": {},
     "output_type": "execute_result"
    }
   ],
   "source": [
    "missing_percentages[missing_percentages !=0]"
   ]
  },
  {
   "cell_type": "code",
   "execution_count": 15,
   "id": "9ab4f648",
   "metadata": {
    "execution": {
     "iopub.execute_input": "2022-04-18T17:18:15.685191Z",
     "iopub.status.busy": "2022-04-18T17:18:15.684412Z",
     "iopub.status.idle": "2022-04-18T17:18:16.016374Z",
     "shell.execute_reply": "2022-04-18T17:18:16.015731Z",
     "shell.execute_reply.started": "2022-04-18T15:56:26.159574Z"
    },
    "papermill": {
     "duration": 0.401536,
     "end_time": "2022-04-18T17:18:16.016522",
     "exception": false,
     "start_time": "2022-04-18T17:18:15.614986",
     "status": "completed"
    },
    "tags": []
   },
   "outputs": [
    {
     "data": {
      "text/plain": [
       "<AxesSubplot:>"
      ]
     },
     "execution_count": 15,
     "metadata": {},
     "output_type": "execute_result"
    },
    {
     "data": {
      "image/png": "[encoded data removed]",
      "text/plain": [
       "<Figure size 432x288 with 1 Axes>"
      ]
     },
     "metadata": {
      "needs_background": "light"
     },
     "output_type": "display_data"
    }
   ],
   "source": [
    "missing_percentages[missing_percentages !=0].plot(kind='barh')"
   ]
  },
  {
   "cell_type": "markdown",
   "id": "d42c144b",
   "metadata": {
    "papermill": {
     "duration": 0.063836,
     "end_time": "2022-04-18T17:18:16.146436",
     "exception": false,
     "start_time": "2022-04-18T17:18:16.082600",
     "status": "completed"
    },
    "tags": []
   },
   "source": [
    "# Exploratory Analysis and Visualization\n",
    "* City\n",
    "* Start time\n",
    "* Start lat, start long\n",
    "* Temperature\n",
    "* Weather condition"
   ]
  },
  {
   "cell_type": "code",
   "execution_count": 16,
   "id": "4e111b42",
   "metadata": {
    "execution": {
     "iopub.execute_input": "2022-04-18T17:18:16.283240Z",
     "iopub.status.busy": "2022-04-18T17:18:16.282060Z",
     "iopub.status.idle": "2022-04-18T17:18:16.285744Z",
     "shell.execute_reply": "2022-04-18T17:18:16.286246Z",
     "shell.execute_reply.started": "2022-04-18T15:56:26.583026Z"
    },
    "papermill": {
     "duration": 0.07456,
     "end_time": "2022-04-18T17:18:16.286410",
     "exception": false,
     "start_time": "2022-04-18T17:18:16.211850",
     "status": "completed"
    },
    "tags": []
   },
   "outputs": [
    {
     "data": {
      "text/plain": [
       "Index(['ID', 'Severity', 'Start_Time', 'End_Time', 'Start_Lat', 'Start_Lng',\n",
       "       'End_Lat', 'End_Lng', 'Distance(mi)', 'Description', 'Number', 'Street',\n",
       "       'Side', 'City', 'County', 'State', 'Zipcode', 'Country', 'Timezone',\n",
       "       'Airport_Code', 'Weather_Timestamp', 'Temperature(F)', 'Wind_Chill(F)',\n",
       "       'Humidity(%)', 'Pressure(in)', 'Visibility(mi)', 'Wind_Direction',\n",
       "       'Wind_Speed(mph)', 'Precipitation(in)', 'Weather_Condition', 'Amenity',\n",
       "       'Bump', 'Crossing', 'Give_Way', 'Junction', 'No_Exit', 'Railway',\n",
       "       'Roundabout', 'Station', 'Stop', 'Traffic_Calming', 'Traffic_Signal',\n",
       "       'Turning_Loop', 'Sunrise_Sunset', 'Civil_Twilight', 'Nautical_Twilight',\n",
       "       'Astronomical_Twilight'],\n",
       "      dtype='object')"
      ]
     },
     "execution_count": 16,
     "metadata": {},
     "output_type": "execute_result"
    }
   ],
   "source": [
    "data_set.columns"
   ]
  },
  {
   "cell_type": "markdown",
   "id": "cc6d660c",
   "metadata": {
    "papermill": {
     "duration": 0.065279,
     "end_time": "2022-04-18T17:18:16.418056",
     "exception": false,
     "start_time": "2022-04-18T17:18:16.352777",
     "status": "completed"
    },
    "tags": []
   },
   "source": [
    "# Cities"
   ]
  },
  {
   "cell_type": "code",
   "execution_count": 17,
   "id": "89ef1c72",
   "metadata": {
    "execution": {
     "iopub.execute_input": "2022-04-18T17:18:16.551233Z",
     "iopub.status.busy": "2022-04-18T17:18:16.550243Z",
     "iopub.status.idle": "2022-04-18T17:18:16.925301Z",
     "shell.execute_reply": "2022-04-18T17:18:16.925860Z",
     "shell.execute_reply.started": "2022-04-18T15:56:26.592675Z"
    },
    "papermill": {
     "duration": 0.443588,
     "end_time": "2022-04-18T17:18:16.926044",
     "exception": false,
     "start_time": "2022-04-18T17:18:16.482456",
     "status": "completed"
    },
    "tags": []
   },
   "outputs": [
    {
     "data": {
      "text/plain": [
       "11682"
      ]
     },
     "execution_count": 17,
     "metadata": {},
     "output_type": "execute_result"
    }
   ],
   "source": [
    "cities = data_set.City.unique()\n",
    "len(cities)"
   ]
  },
  {
   "cell_type": "code",
   "execution_count": 18,
   "id": "0a99a232",
   "metadata": {
    "execution": {
     "iopub.execute_input": "2022-04-18T17:18:17.059539Z",
     "iopub.status.busy": "2022-04-18T17:18:17.058588Z",
     "iopub.status.idle": "2022-04-18T17:18:17.568475Z",
     "shell.execute_reply": "2022-04-18T17:18:17.567949Z",
     "shell.execute_reply.started": "2022-04-18T15:56:27.015883Z"
    },
    "papermill": {
     "duration": 0.578014,
     "end_time": "2022-04-18T17:18:17.568620",
     "exception": false,
     "start_time": "2022-04-18T17:18:16.990606",
     "status": "completed"
    },
    "tags": []
   },
   "outputs": [
    {
     "data": {
      "text/plain": [
       "Miami                           106966\n",
       "Los Angeles                      68956\n",
       "Orlando                          54691\n",
       "Dallas                           41979\n",
       "Houston                          39448\n",
       "                                 ...  \n",
       "De Graff                             1\n",
       "Township 9                           1\n",
       "Elida                                1\n",
       "Old Tappan                           1\n",
       "American Fork-Pleasant Grove         1\n",
       "Name: City, Length: 11681, dtype: int64"
      ]
     },
     "execution_count": 18,
     "metadata": {},
     "output_type": "execute_result"
    }
   ],
   "source": [
    "cities_by_accident = data_set.City.value_counts().sort_values(ascending=False)\n",
    "cities_by_accident"
   ]
  },
  {
   "cell_type": "code",
   "execution_count": 19,
   "id": "7d44f272",
   "metadata": {
    "execution": {
     "iopub.execute_input": "2022-04-18T17:18:17.708403Z",
     "iopub.status.busy": "2022-04-18T17:18:17.707739Z",
     "iopub.status.idle": "2022-04-18T17:18:17.710486Z",
     "shell.execute_reply": "2022-04-18T17:18:17.711051Z",
     "shell.execute_reply.started": "2022-04-18T15:56:27.612525Z"
    },
    "papermill": {
     "duration": 0.076229,
     "end_time": "2022-04-18T17:18:17.711239",
     "exception": false,
     "start_time": "2022-04-18T17:18:17.635010",
     "status": "completed"
    },
    "tags": []
   },
   "outputs": [
    {
     "data": {
      "text/plain": [
       "Miami              106966\n",
       "Los Angeles         68956\n",
       "Orlando             54691\n",
       "Dallas              41979\n",
       "Houston             39448\n",
       "Charlotte           33152\n",
       "Sacramento          32559\n",
       "San Diego           26627\n",
       "Raleigh             22840\n",
       "Minneapolis         22768\n",
       "Portland            20944\n",
       "Nashville           20267\n",
       "Austin              18301\n",
       "Baton Rouge         18182\n",
       "Phoenix             17143\n",
       "Saint Paul          16869\n",
       "New Orleans         16251\n",
       "Atlanta             15622\n",
       "Jacksonville        14967\n",
       "Richmond            14349\n",
       "Tucson              13799\n",
       "San Jose            13377\n",
       "Riverside           13310\n",
       "Kansas City         13298\n",
       "Bakersfield         12044\n",
       "San Bernardino      11249\n",
       "Chicago             11188\n",
       "Tampa               10984\n",
       "Salt Lake City      10709\n",
       "Ontario             10538\n",
       "Anaheim             10502\n",
       "Hialeah             10398\n",
       "Fort Lauderdale     10345\n",
       "Oakland             10051\n",
       "Columbia             9885\n",
       "Corona               9763\n",
       "Washington           9624\n",
       "Bronx                9453\n",
       "Rochester            9335\n",
       "Chattanooga          9205\n",
       "Fresno               9025\n",
       "Long Beach           8898\n",
       "Seattle              8896\n",
       "Indianapolis         8328\n",
       "Denver               7960\n",
       "Philadelphia         7555\n",
       "Springfield          7543\n",
       "Greenville           7361\n",
       "Detroit              7344\n",
       "Whittier             7184\n",
       "Name: City, dtype: int64"
      ]
     },
     "execution_count": 19,
     "metadata": {},
     "output_type": "execute_result"
    }
   ],
   "source": [
    "cities_by_accident[:50]"
   ]
  },
  {
   "cell_type": "code",
   "execution_count": 20,
   "id": "d8e93775",
   "metadata": {
    "execution": {
     "iopub.execute_input": "2022-04-18T17:18:17.846787Z",
     "iopub.status.busy": "2022-04-18T17:18:17.846094Z",
     "iopub.status.idle": "2022-04-18T17:18:17.850249Z",
     "shell.execute_reply": "2022-04-18T17:18:17.850775Z",
     "shell.execute_reply.started": "2022-04-18T15:56:27.625791Z"
    },
    "papermill": {
     "duration": 0.074153,
     "end_time": "2022-04-18T17:18:17.850937",
     "exception": false,
     "start_time": "2022-04-18T17:18:17.776784",
     "status": "completed"
    },
    "tags": []
   },
   "outputs": [
    {
     "data": {
      "text/plain": [
       "False"
      ]
     },
     "execution_count": 20,
     "metadata": {},
     "output_type": "execute_result"
    }
   ],
   "source": [
    "'New york' in data_set.City"
   ]
  },
  {
   "cell_type": "code",
   "execution_count": 21,
   "id": "a287d9ae",
   "metadata": {
    "execution": {
     "iopub.execute_input": "2022-04-18T17:18:17.990385Z",
     "iopub.status.busy": "2022-04-18T17:18:17.987630Z",
     "iopub.status.idle": "2022-04-18T17:18:17.993183Z",
     "shell.execute_reply": "2022-04-18T17:18:17.993659Z",
     "shell.execute_reply.started": "2022-04-18T15:56:27.638359Z"
    },
    "papermill": {
     "duration": 0.075973,
     "end_time": "2022-04-18T17:18:17.993831",
     "exception": false,
     "start_time": "2022-04-18T17:18:17.917858",
     "status": "completed"
    },
    "tags": []
   },
   "outputs": [
    {
     "data": {
      "text/plain": [
       "False"
      ]
     },
     "execution_count": 21,
     "metadata": {},
     "output_type": "execute_result"
    }
   ],
   "source": [
    "'NY' in data_set.State"
   ]
  },
  {
   "cell_type": "code",
   "execution_count": 22,
   "id": "78c875c6",
   "metadata": {
    "execution": {
     "iopub.execute_input": "2022-04-18T17:18:18.153804Z",
     "iopub.status.busy": "2022-04-18T17:18:18.135891Z",
     "iopub.status.idle": "2022-04-18T17:18:18.426323Z",
     "shell.execute_reply": "2022-04-18T17:18:18.425656Z",
     "shell.execute_reply.started": "2022-04-18T15:56:27.655203Z"
    },
    "papermill": {
     "duration": 0.364304,
     "end_time": "2022-04-18T17:18:18.426470",
     "exception": false,
     "start_time": "2022-04-18T17:18:18.062166",
     "status": "completed"
    },
    "tags": []
   },
   "outputs": [
    {
     "data": {
      "text/plain": [
       "<AxesSubplot:>"
      ]
     },
     "execution_count": 22,
     "metadata": {},
     "output_type": "execute_result"
    },
    {
     "data": {
      "image/png": "[encoded data removed]",
      "text/plain": [
       "<Figure size 432x288 with 1 Axes>"
      ]
     },
     "metadata": {
      "needs_background": "light"
     },
     "output_type": "display_data"
    }
   ],
   "source": [
    "cities_by_accident[:20].plot(kind='barh')"
   ]
  },
  {
   "cell_type": "code",
   "execution_count": 23,
   "id": "8cab7aca",
   "metadata": {
    "execution": {
     "iopub.execute_input": "2022-04-18T17:18:18.567079Z",
     "iopub.status.busy": "2022-04-18T17:18:18.566414Z",
     "iopub.status.idle": "2022-04-18T17:18:18.569809Z",
     "shell.execute_reply": "2022-04-18T17:18:18.570357Z",
     "shell.execute_reply.started": "2022-04-18T15:56:27.976157Z"
    },
    "papermill": {
     "duration": 0.074995,
     "end_time": "2022-04-18T17:18:18.570528",
     "exception": false,
     "start_time": "2022-04-18T17:18:18.495533",
     "status": "completed"
    },
    "tags": []
   },
   "outputs": [],
   "source": [
    "sns.set_style(\"darkgrid\")"
   ]
  },
  {
   "cell_type": "code",
   "execution_count": 24,
   "id": "4b9206a3",
   "metadata": {
    "execution": {
     "iopub.execute_input": "2022-04-18T17:18:18.710657Z",
     "iopub.status.busy": "2022-04-18T17:18:18.710052Z",
     "iopub.status.idle": "2022-04-18T17:18:19.178386Z",
     "shell.execute_reply": "2022-04-18T17:18:19.178869Z",
     "shell.execute_reply.started": "2022-04-18T15:56:27.984432Z"
    },
    "papermill": {
     "duration": 0.539769,
     "end_time": "2022-04-18T17:18:19.179052",
     "exception": false,
     "start_time": "2022-04-18T17:18:18.639283",
     "status": "completed"
    },
    "tags": []
   },
   "outputs": [
    {
     "name": "stderr",
     "output_type": "stream",
     "text": [
      "/opt/conda/lib/python3.7/site-packages/seaborn/distributions.py:2619: FutureWarning: `distplot` is a deprecated function and will be removed in a future version. Please adapt your code to use either `displot` (a figure-level function with similar flexibility) or `histplot` (an axes-level function for histograms).\n",
      "  warnings.warn(msg, FutureWarning)\n"
     ]
    },
    {
     "data": {
      "text/plain": [
       "<AxesSubplot:xlabel='City', ylabel='Density'>"
      ]
     },
     "execution_count": 24,
     "metadata": {},
     "output_type": "execute_result"
    },
    {
     "data": {
      "image/png": "[encoded data removed]",
      "text/plain": [
       "<Figure size 432x288 with 1 Axes>"
      ]
     },
     "metadata": {},
     "output_type": "display_data"
    }
   ],
   "source": [
    "sns.distplot(cities_by_accident)"
   ]
  },
  {
   "cell_type": "code",
   "execution_count": 25,
   "id": "dc38f266",
   "metadata": {
    "execution": {
     "iopub.execute_input": "2022-04-18T17:18:19.325614Z",
     "iopub.status.busy": "2022-04-18T17:18:19.324608Z",
     "iopub.status.idle": "2022-04-18T17:18:19.327447Z",
     "shell.execute_reply": "2022-04-18T17:18:19.326957Z",
     "shell.execute_reply.started": "2022-04-18T15:56:28.525320Z"
    },
    "papermill": {
     "duration": 0.078848,
     "end_time": "2022-04-18T17:18:19.327585",
     "exception": false,
     "start_time": "2022-04-18T17:18:19.248737",
     "status": "completed"
    },
    "tags": []
   },
   "outputs": [],
   "source": [
    "high_accident_cities = cities_by_accident[cities_by_accident > 1000]\n",
    "low_accident_cities = cities_by_accident[cities_by_accident < 1000]"
   ]
  },
  {
   "cell_type": "code",
   "execution_count": 26,
   "id": "92ae4e56",
   "metadata": {
    "execution": {
     "iopub.execute_input": "2022-04-18T17:18:19.473155Z",
     "iopub.status.busy": "2022-04-18T17:18:19.472236Z",
     "iopub.status.idle": "2022-04-18T17:18:19.476161Z",
     "shell.execute_reply": "2022-04-18T17:18:19.475518Z",
     "shell.execute_reply.started": "2022-04-18T15:56:28.535070Z"
    },
    "papermill": {
     "duration": 0.079172,
     "end_time": "2022-04-18T17:18:19.476300",
     "exception": false,
     "start_time": "2022-04-18T17:18:19.397128",
     "status": "completed"
    },
    "tags": []
   },
   "outputs": [
    {
     "data": {
      "text/plain": [
       "0.042290899751733585"
      ]
     },
     "execution_count": 26,
     "metadata": {},
     "output_type": "execute_result"
    }
   ],
   "source": [
    "len(high_accident_cities)/len(cities_by_accident)"
   ]
  },
  {
   "cell_type": "code",
   "execution_count": 27,
   "id": "6fbfd73a",
   "metadata": {
    "execution": {
     "iopub.execute_input": "2022-04-18T17:18:19.622182Z",
     "iopub.status.busy": "2022-04-18T17:18:19.621479Z",
     "iopub.status.idle": "2022-04-18T17:18:19.624053Z",
     "shell.execute_reply": "2022-04-18T17:18:19.624533Z",
     "shell.execute_reply.started": "2022-04-18T15:56:28.550513Z"
    },
    "papermill": {
     "duration": 0.078203,
     "end_time": "2022-04-18T17:18:19.624719",
     "exception": false,
     "start_time": "2022-04-18T17:18:19.546516",
     "status": "completed"
    },
    "tags": []
   },
   "outputs": [
    {
     "data": {
      "text/plain": [
       "11185"
      ]
     },
     "execution_count": 27,
     "metadata": {},
     "output_type": "execute_result"
    }
   ],
   "source": [
    "len(low_accident_cities)"
   ]
  },
  {
   "cell_type": "code",
   "execution_count": 28,
   "id": "33f326dc",
   "metadata": {
    "execution": {
     "iopub.execute_input": "2022-04-18T17:18:19.769906Z",
     "iopub.status.busy": "2022-04-18T17:18:19.769247Z",
     "iopub.status.idle": "2022-04-18T17:18:20.151769Z",
     "shell.execute_reply": "2022-04-18T17:18:20.152223Z",
     "shell.execute_reply.started": "2022-04-18T15:56:28.570994Z"
    },
    "papermill": {
     "duration": 0.456814,
     "end_time": "2022-04-18T17:18:20.152397",
     "exception": false,
     "start_time": "2022-04-18T17:18:19.695583",
     "status": "completed"
    },
    "tags": []
   },
   "outputs": [
    {
     "name": "stderr",
     "output_type": "stream",
     "text": [
      "/opt/conda/lib/python3.7/site-packages/seaborn/distributions.py:2619: FutureWarning: `distplot` is a deprecated function and will be removed in a future version. Please adapt your code to use either `displot` (a figure-level function with similar flexibility) or `histplot` (an axes-level function for histograms).\n",
      "  warnings.warn(msg, FutureWarning)\n"
     ]
    },
    {
     "data": {
      "text/plain": [
       "<AxesSubplot:xlabel='City', ylabel='Density'>"
      ]
     },
     "execution_count": 28,
     "metadata": {},
     "output_type": "execute_result"
    },
    {
     "data": {
      "image/png": "[encoded data removed]",
      "text/plain": [
       "<Figure size 432x288 with 1 Axes>"
      ]
     },
     "metadata": {},
     "output_type": "display_data"
    }
   ],
   "source": [
    "sns.distplot(high_accident_cities)"
   ]
  },
  {
   "cell_type": "code",
   "execution_count": 29,
   "id": "46aae292",
   "metadata": {
    "execution": {
     "iopub.execute_input": "2022-04-18T17:18:20.300408Z",
     "iopub.status.busy": "2022-04-18T17:18:20.299809Z",
     "iopub.status.idle": "2022-04-18T17:18:20.742746Z",
     "shell.execute_reply": "2022-04-18T17:18:20.743221Z",
     "shell.execute_reply.started": "2022-04-18T15:56:28.990802Z"
    },
    "papermill": {
     "duration": 0.517794,
     "end_time": "2022-04-18T17:18:20.743384",
     "exception": false,
     "start_time": "2022-04-18T17:18:20.225590",
     "status": "completed"
    },
    "tags": []
   },
   "outputs": [
    {
     "name": "stderr",
     "output_type": "stream",
     "text": [
      "/opt/conda/lib/python3.7/site-packages/seaborn/distributions.py:2619: FutureWarning: `distplot` is a deprecated function and will be removed in a future version. Please adapt your code to use either `displot` (a figure-level function with similar flexibility) or `histplot` (an axes-level function for histograms).\n",
      "  warnings.warn(msg, FutureWarning)\n"
     ]
    },
    {
     "data": {
      "text/plain": [
       "<AxesSubplot:xlabel='City', ylabel='Density'>"
      ]
     },
     "execution_count": 29,
     "metadata": {},
     "output_type": "execute_result"
    },
    {
     "data": {
      "image/png": "[encoded data removed]",
      "text/plain": [
       "<Figure size 432x288 with 1 Axes>"
      ]
     },
     "metadata": {},
     "output_type": "display_data"
    }
   ],
   "source": [
    "sns.distplot(low_accident_cities)"
   ]
  },
  {
   "cell_type": "code",
   "execution_count": 30,
   "id": "ce2842b8",
   "metadata": {
    "execution": {
     "iopub.execute_input": "2022-04-18T17:18:20.894854Z",
     "iopub.status.busy": "2022-04-18T17:18:20.894183Z",
     "iopub.status.idle": "2022-04-18T17:18:22.468824Z",
     "shell.execute_reply": "2022-04-18T17:18:22.469385Z",
     "shell.execute_reply.started": "2022-04-18T15:56:29.493759Z"
    },
    "papermill": {
     "duration": 1.651847,
     "end_time": "2022-04-18T17:18:22.469645",
     "exception": false,
     "start_time": "2022-04-18T17:18:20.817798",
     "status": "completed"
    },
    "tags": []
   },
   "outputs": [
    {
     "data": {
      "text/plain": [
       "<AxesSubplot:xlabel='City', ylabel='Count'>"
      ]
     },
     "execution_count": 30,
     "metadata": {},
     "output_type": "execute_result"
    },
    {
     "data": {
      "image/png": "[encoded data removed]",
      "text/plain": [
       "<Figure size 432x288 with 1 Axes>"
      ]
     },
     "metadata": {},
     "output_type": "display_data"
    }
   ],
   "source": [
    "sns.histplot(cities_by_accident, log_scale=True)"
   ]
  },
  {
   "cell_type": "code",
   "execution_count": 31,
   "id": "b691fcd9",
   "metadata": {
    "execution": {
     "iopub.execute_input": "2022-04-18T17:18:22.654234Z",
     "iopub.status.busy": "2022-04-18T17:18:22.653398Z",
     "iopub.status.idle": "2022-04-18T17:18:22.661691Z",
     "shell.execute_reply": "2022-04-18T17:18:22.662295Z",
     "shell.execute_reply.started": "2022-04-18T15:56:31.233778Z"
    },
    "papermill": {
     "duration": 0.100409,
     "end_time": "2022-04-18T17:18:22.662500",
     "exception": false,
     "start_time": "2022-04-18T17:18:22.562091",
     "status": "completed"
    },
    "tags": []
   },
   "outputs": [
    {
     "data": {
      "text/plain": [
       "Wyandotte                       1\n",
       "Ponca                           1\n",
       "Cedar                           1\n",
       "Inchelium                       1\n",
       "Gerlach                         1\n",
       "                               ..\n",
       "De Graff                        1\n",
       "Township 9                      1\n",
       "Elida                           1\n",
       "Old Tappan                      1\n",
       "American Fork-Pleasant Grove    1\n",
       "Name: City, Length: 1110, dtype: int64"
      ]
     },
     "execution_count": 31,
     "metadata": {},
     "output_type": "execute_result"
    }
   ],
   "source": [
    "cities_by_accident[cities_by_accident == 1]"
   ]
  },
  {
   "cell_type": "markdown",
   "id": "378935f3",
   "metadata": {
    "papermill": {
     "duration": 0.091119,
     "end_time": "2022-04-18T17:18:22.843705",
     "exception": false,
     "start_time": "2022-04-18T17:18:22.752586",
     "status": "completed"
    },
    "tags": []
   },
   "source": [
    "# Start Time"
   ]
  },
  {
   "cell_type": "code",
   "execution_count": 32,
   "id": "d910c811",
   "metadata": {
    "execution": {
     "iopub.execute_input": "2022-04-18T17:18:23.024291Z",
     "iopub.status.busy": "2022-04-18T17:18:23.023514Z",
     "iopub.status.idle": "2022-04-18T17:18:23.029576Z",
     "shell.execute_reply": "2022-04-18T17:18:23.030255Z",
     "shell.execute_reply.started": "2022-04-18T15:56:31.246619Z"
    },
    "papermill": {
     "duration": 0.097488,
     "end_time": "2022-04-18T17:18:23.030448",
     "exception": false,
     "start_time": "2022-04-18T17:18:22.932960",
     "status": "completed"
    },
    "tags": []
   },
   "outputs": [
    {
     "data": {
      "text/plain": [
       "0          2016-02-08 00:37:08\n",
       "1          2016-02-08 05:56:20\n",
       "2          2016-02-08 06:15:39\n",
       "3          2016-02-08 06:51:45\n",
       "4          2016-02-08 07:53:43\n",
       "                  ...         \n",
       "2845337    2019-08-23 18:03:25\n",
       "2845338    2019-08-23 19:11:30\n",
       "2845339    2019-08-23 19:00:21\n",
       "2845340    2019-08-23 19:00:21\n",
       "2845341    2019-08-23 18:52:06\n",
       "Name: Start_Time, Length: 2845342, dtype: object"
      ]
     },
     "execution_count": 32,
     "metadata": {},
     "output_type": "execute_result"
    }
   ],
   "source": [
    "data_set.Start_Time"
   ]
  },
  {
   "cell_type": "code",
   "execution_count": 33,
   "id": "b38664c7",
   "metadata": {
    "execution": {
     "iopub.execute_input": "2022-04-18T17:18:23.217559Z",
     "iopub.status.busy": "2022-04-18T17:18:23.216106Z",
     "iopub.status.idle": "2022-04-18T17:18:26.123026Z",
     "shell.execute_reply": "2022-04-18T17:18:26.123616Z",
     "shell.execute_reply.started": "2022-04-18T15:56:31.263685Z"
    },
    "papermill": {
     "duration": 3.001668,
     "end_time": "2022-04-18T17:18:26.123867",
     "exception": false,
     "start_time": "2022-04-18T17:18:23.122199",
     "status": "completed"
    },
    "tags": []
   },
   "outputs": [],
   "source": [
    "#to convert to date time formaṭ\n",
    "data_set.Start_Time = pd.to_datetime(data_set.Start_Time)"
   ]
  },
  {
   "cell_type": "code",
   "execution_count": 34,
   "id": "b2ecc6c5",
   "metadata": {
    "execution": {
     "iopub.execute_input": "2022-04-18T17:18:26.298164Z",
     "iopub.status.busy": "2022-04-18T17:18:26.297512Z",
     "iopub.status.idle": "2022-04-18T17:18:26.300510Z",
     "shell.execute_reply": "2022-04-18T17:18:26.299934Z",
     "shell.execute_reply.started": "2022-04-18T15:56:33.326800Z"
    },
    "papermill": {
     "duration": 0.094325,
     "end_time": "2022-04-18T17:18:26.300638",
     "exception": false,
     "start_time": "2022-04-18T17:18:26.206313",
     "status": "completed"
    },
    "tags": []
   },
   "outputs": [
    {
     "data": {
      "text/plain": [
       "Timestamp('2016-02-08 00:37:08')"
      ]
     },
     "execution_count": 34,
     "metadata": {},
     "output_type": "execute_result"
    }
   ],
   "source": [
    "data_set.Start_Time[0]"
   ]
  },
  {
   "cell_type": "code",
   "execution_count": 35,
   "id": "801f4ea2",
   "metadata": {
    "execution": {
     "iopub.execute_input": "2022-04-18T17:18:26.460074Z",
     "iopub.status.busy": "2022-04-18T17:18:26.457252Z",
     "iopub.status.idle": "2022-04-18T17:18:26.463024Z",
     "shell.execute_reply": "2022-04-18T17:18:26.463667Z",
     "shell.execute_reply.started": "2022-04-18T15:56:33.339189Z"
    },
    "papermill": {
     "duration": 0.086417,
     "end_time": "2022-04-18T17:18:26.463855",
     "exception": false,
     "start_time": "2022-04-18T17:18:26.377438",
     "status": "completed"
    },
    "tags": []
   },
   "outputs": [
    {
     "data": {
      "text/plain": [
       "5"
      ]
     },
     "execution_count": 35,
     "metadata": {},
     "output_type": "execute_result"
    }
   ],
   "source": [
    "data_set.Start_Time[1].hour\n",
    "#we cannot use this data to obtain hours for the entire column "
   ]
  },
  {
   "cell_type": "code",
   "execution_count": 36,
   "id": "9e79986e",
   "metadata": {
    "execution": {
     "iopub.execute_input": "2022-04-18T17:18:26.623895Z",
     "iopub.status.busy": "2022-04-18T17:18:26.623242Z",
     "iopub.status.idle": "2022-04-18T17:18:27.319141Z",
     "shell.execute_reply": "2022-04-18T17:18:27.319917Z",
     "shell.execute_reply.started": "2022-04-18T15:56:33.352467Z"
    },
    "papermill": {
     "duration": 0.776674,
     "end_time": "2022-04-18T17:18:27.320195",
     "exception": false,
     "start_time": "2022-04-18T17:18:26.543521",
     "status": "completed"
    },
    "tags": []
   },
   "outputs": [
    {
     "name": "stderr",
     "output_type": "stream",
     "text": [
      "/opt/conda/lib/python3.7/site-packages/seaborn/distributions.py:2619: FutureWarning: `distplot` is a deprecated function and will be removed in a future version. Please adapt your code to use either `displot` (a figure-level function with similar flexibility) or `histplot` (an axes-level function for histograms).\n",
      "  warnings.warn(msg, FutureWarning)\n"
     ]
    },
    {
     "data": {
      "text/plain": [
       "<AxesSubplot:xlabel='Start_Time'>"
      ]
     },
     "execution_count": 36,
     "metadata": {},
     "output_type": "execute_result"
    },
    {
     "data": {
      "image/png": "[encoded data removed]",
      "text/plain": [
       "<Figure size 432x288 with 1 Axes>"
      ]
     },
     "metadata": {},
     "output_type": "display_data"
    }
   ],
   "source": [
    "sns.distplot(data_set.Start_Time.dt.hour, bins=24, kde=False, norm_hist=True)"
   ]
  },
  {
   "cell_type": "markdown",
   "id": "96c0b827",
   "metadata": {
    "papermill": {
     "duration": 0.08698,
     "end_time": "2022-04-18T17:18:27.503820",
     "exception": false,
     "start_time": "2022-04-18T17:18:27.416840",
     "status": "completed"
    },
    "tags": []
   },
   "source": [
    "Hight percentage of accidents occur between 4pm to 5pm "
   ]
  },
  {
   "cell_type": "code",
   "execution_count": 37,
   "id": "d3f052df",
   "metadata": {
    "execution": {
     "iopub.execute_input": "2022-04-18T17:18:27.679500Z",
     "iopub.status.busy": "2022-04-18T17:18:27.678811Z",
     "iopub.status.idle": "2022-04-18T17:18:28.420578Z",
     "shell.execute_reply": "2022-04-18T17:18:28.421345Z",
     "shell.execute_reply.started": "2022-04-18T15:56:34.106859Z"
    },
    "papermill": {
     "duration": 0.836509,
     "end_time": "2022-04-18T17:18:28.421857",
     "exception": false,
     "start_time": "2022-04-18T17:18:27.585348",
     "status": "completed"
    },
    "tags": []
   },
   "outputs": [
    {
     "data": {
      "text/plain": [
       "<AxesSubplot:xlabel='Start_Time'>"
      ]
     },
     "execution_count": 37,
     "metadata": {},
     "output_type": "execute_result"
    },
    {
     "data": {
      "image/png": "[encoded data removed]",
      "text/plain": [
       "<Figure size 432x288 with 1 Axes>"
      ]
     },
     "metadata": {},
     "output_type": "display_data"
    }
   ],
   "source": [
    "sns.distplot(data_set.Start_Time.dt.dayofweek, bins=7, kde=False, norm_hist=True)"
   ]
  },
  {
   "cell_type": "markdown",
   "id": "54109b07",
   "metadata": {
    "papermill": {
     "duration": 0.081974,
     "end_time": "2022-04-18T17:18:28.594275",
     "exception": false,
     "start_time": "2022-04-18T17:18:28.512301",
     "status": "completed"
    },
    "tags": []
   },
   "source": [
    "Is distribution of accident by hour the same on weekends as on weekdays"
   ]
  },
  {
   "cell_type": "code",
   "execution_count": 38,
   "id": "c78fdbd2",
   "metadata": {
    "execution": {
     "iopub.execute_input": "2022-04-18T17:18:28.779133Z",
     "iopub.status.busy": "2022-04-18T17:18:28.778365Z",
     "iopub.status.idle": "2022-04-18T17:18:29.484841Z",
     "shell.execute_reply": "2022-04-18T17:18:29.485605Z",
     "shell.execute_reply.started": "2022-04-18T15:56:34.845097Z"
    },
    "papermill": {
     "duration": 0.796418,
     "end_time": "2022-04-18T17:18:29.485858",
     "exception": false,
     "start_time": "2022-04-18T17:18:28.689440",
     "status": "completed"
    },
    "tags": []
   },
   "outputs": [
    {
     "data": {
      "text/plain": [
       "<AxesSubplot:xlabel='Start_Time'>"
      ]
     },
     "execution_count": 38,
     "metadata": {},
     "output_type": "execute_result"
    },
    {
     "data": {
      "image/png": "[encoded data removed]",
      "text/plain": [
       "<Figure size 432x288 with 1 Axes>"
      ]
     },
     "metadata": {},
     "output_type": "display_data"
    }
   ],
   "source": [
    "sunday_start_time = data_set.Start_Time[data_set.Start_Time.dt.dayofweek == 6]\n",
    "sns.distplot(sunday_start_time.dt.hour, bins=24, kde=False, norm_hist=True)"
   ]
  },
  {
   "cell_type": "code",
   "execution_count": 39,
   "id": "cd550304",
   "metadata": {
    "execution": {
     "iopub.execute_input": "2022-04-18T17:18:29.738054Z",
     "iopub.status.busy": "2022-04-18T17:18:29.735803Z",
     "iopub.status.idle": "2022-04-18T17:18:30.449046Z",
     "shell.execute_reply": "2022-04-18T17:18:30.449541Z",
     "shell.execute_reply.started": "2022-04-18T15:56:35.561440Z"
    },
    "papermill": {
     "duration": 0.839437,
     "end_time": "2022-04-18T17:18:30.449751",
     "exception": false,
     "start_time": "2022-04-18T17:18:29.610314",
     "status": "completed"
    },
    "tags": []
   },
   "outputs": [
    {
     "data": {
      "text/plain": [
       "<AxesSubplot:xlabel='Start_Time'>"
      ]
     },
     "execution_count": 39,
     "metadata": {},
     "output_type": "execute_result"
    },
    {
     "data": {
      "image/png": "[encoded data removed]",
      "text/plain": [
       "<Figure size 432x288 with 1 Axes>"
      ]
     },
     "metadata": {},
     "output_type": "display_data"
    }
   ],
   "source": [
    "monday_start_time = data_set.Start_Time[data_set.Start_Time.dt.dayofweek == 0]\n",
    "sns.distplot(monday_start_time.dt.hour, bins=24, kde=False, norm_hist=True)"
   ]
  },
  {
   "cell_type": "code",
   "execution_count": 40,
   "id": "eb5c7c27",
   "metadata": {
    "execution": {
     "iopub.execute_input": "2022-04-18T17:18:30.619552Z",
     "iopub.status.busy": "2022-04-18T17:18:30.618854Z",
     "iopub.status.idle": "2022-04-18T17:18:31.299055Z",
     "shell.execute_reply": "2022-04-18T17:18:31.298307Z",
     "shell.execute_reply.started": "2022-04-18T15:56:36.305790Z"
    },
    "papermill": {
     "duration": 0.766807,
     "end_time": "2022-04-18T17:18:31.299208",
     "exception": false,
     "start_time": "2022-04-18T17:18:30.532401",
     "status": "completed"
    },
    "tags": []
   },
   "outputs": [
    {
     "data": {
      "text/plain": [
       "<AxesSubplot:xlabel='Start_Time'>"
      ]
     },
     "execution_count": 40,
     "metadata": {},
     "output_type": "execute_result"
    },
    {
     "data": {
      "image/png": "[encoded data removed]",
      "text/plain": [
       "<Figure size 432x288 with 1 Axes>"
      ]
     },
     "metadata": {},
     "output_type": "display_data"
    }
   ],
   "source": [
    "sns.distplot(data_set.Start_Time.dt.month, bins=12, kde=False, norm_hist=True)"
   ]
  },
  {
   "cell_type": "markdown",
   "id": "0cf58d6c",
   "metadata": {
    "papermill": {
     "duration": 0.083753,
     "end_time": "2022-04-18T17:18:31.468188",
     "exception": false,
     "start_time": "2022-04-18T17:18:31.384435",
     "status": "completed"
    },
    "tags": []
   },
   "source": [
    "Data for the year 2016 and 2019"
   ]
  },
  {
   "cell_type": "code",
   "execution_count": 41,
   "id": "e14684c0",
   "metadata": {
    "execution": {
     "iopub.execute_input": "2022-04-18T17:18:31.643026Z",
     "iopub.status.busy": "2022-04-18T17:18:31.642342Z",
     "iopub.status.idle": "2022-04-18T17:18:31.939996Z",
     "shell.execute_reply": "2022-04-18T17:18:31.940522Z",
     "shell.execute_reply.started": "2022-04-18T16:06:27.037004Z"
    },
    "papermill": {
     "duration": 0.387311,
     "end_time": "2022-04-18T17:18:31.940713",
     "exception": false,
     "start_time": "2022-04-18T17:18:31.553402",
     "status": "completed"
    },
    "tags": []
   },
   "outputs": [
    {
     "data": {
      "text/plain": [
       "0          2016\n",
       "1          2016\n",
       "2          2016\n",
       "3          2016\n",
       "4          2016\n",
       "           ... \n",
       "2845337    2019\n",
       "2845338    2019\n",
       "2845339    2019\n",
       "2845340    2019\n",
       "2845341    2019\n",
       "Name: Start_Time, Length: 2845342, dtype: int64"
      ]
     },
     "execution_count": 41,
     "metadata": {},
     "output_type": "execute_result"
    }
   ],
   "source": [
    "data_set.Start_Time.dt.year"
   ]
  },
  {
   "cell_type": "code",
   "execution_count": 42,
   "id": "14c1c289",
   "metadata": {
    "execution": {
     "iopub.execute_input": "2022-04-18T17:18:32.119996Z",
     "iopub.status.busy": "2022-04-18T17:18:32.119351Z",
     "iopub.status.idle": "2022-04-18T17:18:32.729202Z",
     "shell.execute_reply": "2022-04-18T17:18:32.728471Z",
     "shell.execute_reply.started": "2022-04-18T16:11:38.594134Z"
    },
    "papermill": {
     "duration": 0.697758,
     "end_time": "2022-04-18T17:18:32.729347",
     "exception": false,
     "start_time": "2022-04-18T17:18:32.031589",
     "status": "completed"
    },
    "tags": []
   },
   "outputs": [
    {
     "data": {
      "text/plain": [
       "<AxesSubplot:xlabel='Start_Time'>"
      ]
     },
     "execution_count": 42,
     "metadata": {},
     "output_type": "execute_result"
    },
    {
     "data": {
      "image/png": "[encoded data removed]",
      "text/plain": [
       "<Figure size 432x288 with 1 Axes>"
      ]
     },
     "metadata": {},
     "output_type": "display_data"
    }
   ],
   "source": [
    "data_set_2016 = data_set.Start_Time[data_set.Start_Time.dt.year == 2016]\n",
    "sns.distplot(data_set_2016.dt.month, bins=12, kde=False, norm_hist=True)"
   ]
  },
  {
   "cell_type": "code",
   "execution_count": 43,
   "id": "62027d96",
   "metadata": {
    "execution": {
     "iopub.execute_input": "2022-04-18T17:18:32.908619Z",
     "iopub.status.busy": "2022-04-18T17:18:32.907939Z",
     "iopub.status.idle": "2022-04-18T17:18:33.547932Z",
     "shell.execute_reply": "2022-04-18T17:18:33.547212Z",
     "shell.execute_reply.started": "2022-04-18T16:11:02.899799Z"
    },
    "papermill": {
     "duration": 0.729532,
     "end_time": "2022-04-18T17:18:33.548082",
     "exception": false,
     "start_time": "2022-04-18T17:18:32.818550",
     "status": "completed"
    },
    "tags": []
   },
   "outputs": [
    {
     "data": {
      "text/plain": [
       "<AxesSubplot:xlabel='Start_Time'>"
      ]
     },
     "execution_count": 43,
     "metadata": {},
     "output_type": "execute_result"
    },
    {
     "data": {
      "image/png": "[encoded data removed]",
      "text/plain": [
       "<Figure size 432x288 with 1 Axes>"
      ]
     },
     "metadata": {},
     "output_type": "display_data"
    }
   ],
   "source": [
    "data_set_2019 = data_set.Start_Time[data_set.Start_Time.dt.year == 2019]\n",
    "sns.distplot(data_set_2019.dt.month, bins=12, kde=False, norm_hist=True)"
   ]
  },
  {
   "cell_type": "markdown",
   "id": "04e4736d",
   "metadata": {
    "papermill": {
     "duration": 0.08761,
     "end_time": "2022-04-18T17:18:33.724792",
     "exception": false,
     "start_time": "2022-04-18T17:18:33.637182",
     "status": "completed"
    },
    "tags": []
   },
   "source": [
    "We can see that the data provided might not be complete during 2016\n"
   ]
  },
  {
   "cell_type": "markdown",
   "id": "e9ee99f2",
   "metadata": {
    "papermill": {
     "duration": 0.086533,
     "end_time": "2022-04-18T17:18:33.900649",
     "exception": false,
     "start_time": "2022-04-18T17:18:33.814116",
     "status": "completed"
    },
    "tags": []
   },
   "source": [
    "# Start lattitude and longitude"
   ]
  },
  {
   "cell_type": "code",
   "execution_count": 44,
   "id": "14565c34",
   "metadata": {
    "execution": {
     "iopub.execute_input": "2022-04-18T17:18:34.086292Z",
     "iopub.status.busy": "2022-04-18T17:18:34.085532Z",
     "iopub.status.idle": "2022-04-18T17:18:34.090967Z",
     "shell.execute_reply": "2022-04-18T17:18:34.091579Z",
     "shell.execute_reply.started": "2022-04-18T16:37:10.875253Z"
    },
    "papermill": {
     "duration": 0.100371,
     "end_time": "2022-04-18T17:18:34.091772",
     "exception": false,
     "start_time": "2022-04-18T17:18:33.991401",
     "status": "completed"
    },
    "tags": []
   },
   "outputs": [
    {
     "data": {
      "text/plain": [
       "0          40.108910\n",
       "1          39.865420\n",
       "2          39.102660\n",
       "3          41.062130\n",
       "4          39.172393\n",
       "             ...    \n",
       "2845337    34.002480\n",
       "2845338    32.766960\n",
       "2845339    33.775450\n",
       "2845340    33.992460\n",
       "2845341    34.133930\n",
       "Name: Start_Lat, Length: 2845342, dtype: float64"
      ]
     },
     "execution_count": 44,
     "metadata": {},
     "output_type": "execute_result"
    }
   ],
   "source": [
    "data_set.Start_Lat"
   ]
  },
  {
   "cell_type": "code",
   "execution_count": 45,
   "id": "7a091482",
   "metadata": {
    "execution": {
     "iopub.execute_input": "2022-04-18T17:18:34.272135Z",
     "iopub.status.busy": "2022-04-18T17:18:34.271507Z",
     "iopub.status.idle": "2022-04-18T17:18:34.279016Z",
     "shell.execute_reply": "2022-04-18T17:18:34.279537Z",
     "shell.execute_reply.started": "2022-04-18T16:37:47.591819Z"
    },
    "papermill": {
     "duration": 0.099421,
     "end_time": "2022-04-18T17:18:34.279730",
     "exception": false,
     "start_time": "2022-04-18T17:18:34.180309",
     "status": "completed"
    },
    "tags": []
   },
   "outputs": [
    {
     "data": {
      "text/plain": [
       "0          -83.092860\n",
       "1          -84.062800\n",
       "2          -84.524680\n",
       "3          -81.537840\n",
       "4          -84.492792\n",
       "              ...    \n",
       "2845337   -117.379360\n",
       "2845338   -117.148060\n",
       "2845339   -117.847790\n",
       "2845340   -118.403020\n",
       "2845341   -117.230920\n",
       "Name: Start_Lng, Length: 2845342, dtype: float64"
      ]
     },
     "execution_count": 45,
     "metadata": {},
     "output_type": "execute_result"
    }
   ],
   "source": [
    "data_set.Start_Lng"
   ]
  },
  {
   "cell_type": "code",
   "execution_count": 46,
   "id": "d147507a",
   "metadata": {
    "execution": {
     "iopub.execute_input": "2022-04-18T17:18:34.462812Z",
     "iopub.status.busy": "2022-04-18T17:18:34.462116Z",
     "iopub.status.idle": "2022-04-18T17:18:44.590158Z",
     "shell.execute_reply": "2022-04-18T17:18:44.589445Z",
     "shell.execute_reply.started": "2022-04-18T16:39:32.048139Z"
    },
    "papermill": {
     "duration": 10.222067,
     "end_time": "2022-04-18T17:18:44.590304",
     "exception": false,
     "start_time": "2022-04-18T17:18:34.368237",
     "status": "completed"
    },
    "tags": []
   },
   "outputs": [
    {
     "data": {
      "text/plain": [
       "<AxesSubplot:xlabel='Start_Lng', ylabel='Start_Lat'>"
      ]
     },
     "execution_count": 46,
     "metadata": {},
     "output_type": "execute_result"
    },
    {
     "data": {
      "image/png": "[encoded data removed]",
      "text/plain": [
       "<Figure size 432x288 with 1 Axes>"
      ]
     },
     "metadata": {},
     "output_type": "display_data"
    }
   ],
   "source": [
    "sns.scatterplot(x=data_set.Start_Lng, y=data_set.Start_Lat)"
   ]
  },
  {
   "cell_type": "markdown",
   "id": "9e92807a",
   "metadata": {
    "papermill": {
     "duration": 0.095263,
     "end_time": "2022-04-18T17:18:44.786146",
     "exception": false,
     "start_time": "2022-04-18T17:18:44.690883",
     "status": "completed"
    },
    "tags": []
   },
   "source": [
    "Reducing point size"
   ]
  },
  {
   "cell_type": "code",
   "execution_count": 47,
   "id": "a8ec6432",
   "metadata": {
    "execution": {
     "iopub.execute_input": "2022-04-18T17:18:44.977110Z",
     "iopub.status.busy": "2022-04-18T17:18:44.973161Z",
     "iopub.status.idle": "2022-04-18T17:18:56.711394Z",
     "shell.execute_reply": "2022-04-18T17:18:56.711923Z",
     "shell.execute_reply.started": "2022-04-18T16:43:56.437829Z"
    },
    "papermill": {
     "duration": 11.834306,
     "end_time": "2022-04-18T17:18:56.712105",
     "exception": false,
     "start_time": "2022-04-18T17:18:44.877799",
     "status": "completed"
    },
    "tags": []
   },
   "outputs": [
    {
     "data": {
      "text/plain": [
       "<AxesSubplot:xlabel='Start_Lng', ylabel='Start_Lat'>"
      ]
     },
     "execution_count": 47,
     "metadata": {},
     "output_type": "execute_result"
    },
    {
     "data": {
      "image/png": "[encoded data removed]",
      "text/plain": [
       "<Figure size 432x288 with 1 Axes>"
      ]
     },
     "metadata": {},
     "output_type": "display_data"
    }
   ],
   "source": [
    "sample_data_set = data_set.sample(int(0.1*len(data_set)))\n",
    "sns.scatterplot(x=sample_data_set.Start_Lng, y=sample_data_set.Start_Lat, size = 0.001)"
   ]
  },
  {
   "cell_type": "code",
   "execution_count": 48,
   "id": "30d13bf3",
   "metadata": {
    "execution": {
     "iopub.execute_input": "2022-04-18T17:18:56.912086Z",
     "iopub.status.busy": "2022-04-18T17:18:56.911248Z",
     "iopub.status.idle": "2022-04-18T17:18:56.915296Z",
     "shell.execute_reply": "2022-04-18T17:18:56.914678Z",
     "shell.execute_reply.started": "2022-04-18T16:56:24.329526Z"
    },
    "papermill": {
     "duration": 0.106629,
     "end_time": "2022-04-18T17:18:56.915436",
     "exception": false,
     "start_time": "2022-04-18T17:18:56.808807",
     "status": "completed"
    },
    "tags": []
   },
   "outputs": [
    {
     "data": {
      "text/plain": [
       "(40.10891, -83.09286)"
      ]
     },
     "execution_count": 48,
     "metadata": {},
     "output_type": "execute_result"
    }
   ],
   "source": [
    "lat, lng = data_set.Start_Lat[0], data_set.Start_Lng[0]\n",
    "lat, lng"
   ]
  },
  {
   "cell_type": "markdown",
   "id": "dca91e12",
   "metadata": {
    "papermill": {
     "duration": 0.097136,
     "end_time": "2022-04-18T17:18:57.119673",
     "exception": false,
     "start_time": "2022-04-18T17:18:57.022537",
     "status": "completed"
    },
    "tags": []
   },
   "source": [
    "# Questions\n",
    "* Are there more accidents in warmer or colder areas?\n",
    "* Which state has the highest number of accidents per capita?\n",
    "* Does new york show up in the data, why its count is not there in the accidents? - Its not in the data set\n",
    "* Which states have the most frequency of accidents\n",
    "* What time of the day are accidents mostly occuring"
   ]
  },
  {
   "cell_type": "markdown",
   "id": "9eb9c769",
   "metadata": {
    "papermill": {
     "duration": 0.096881,
     "end_time": "2022-04-18T17:18:57.312868",
     "exception": false,
     "start_time": "2022-04-18T17:18:57.215987",
     "status": "completed"
    },
    "tags": []
   },
   "source": [
    "# Notes\n",
    "* when working with exponential data it is better to use log scale\n",
    "* we cannot do any plot with time stamp"
   ]
  },
  {
   "cell_type": "markdown",
   "id": "c7c2c5e6",
   "metadata": {
    "papermill": {
     "duration": 0.096156,
     "end_time": "2022-04-18T17:18:57.505617",
     "exception": false,
     "start_time": "2022-04-18T17:18:57.409461",
     "status": "completed"
    },
    "tags": []
   },
   "source": [
    "# Conclusion\n",
    "1. No data for new york\n",
    "1. less than 5% have more than 1000 accidents\n",
    "1. over 1100 countires have only 1 accident"
   ]
  }
 ],
 "metadata": {
  "kernelspec": {
   "display_name": "Python 3",
   "language": "python",
   "name": "python3"
  },
  "language_info": {
   "codemirror_mode": {
    "name": "ipython",
    "version": 3
   },
   "file_extension": ".py",
   "mimetype": "text/x-python",
   "name": "python",
   "nbconvert_exporter": "python",
   "pygments_lexer": "ipython3",
   "version": "3.7.12"
  },
  "papermill": {
   "default_parameters": {},
   "duration": 114.331874,
   "end_time": "2022-04-18T17:18:59.819497",
   "environment_variables": {},
   "exception": null,
   "input_path": "__notebook__.ipynb",
   "output_path": "__notebook__.ipynb",
   "parameters": {},
   "start_time": "2022-04-18T17:17:05.487623",
   "version": "2.3.3"
  }
 },
 "nbformat": 4,
 "nbformat_minor": 5
}
