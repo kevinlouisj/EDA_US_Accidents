{
 "cells": [
  {
   "cell_type": "code",
   "execution_count": 1,
   "id": "8b5a24ac",
   "metadata": {
    "_cell_guid": "b1076dfc-b9ad-4769-8c92-a6c4dae69d19",
    "_uuid": "8f2839f25d086af736a60e9eeb907d3b93b6e0e5",
    "execution": {
     "iopub.execute_input": "2022-04-02T10:06:19.109536Z",
     "iopub.status.busy": "2022-04-02T10:06:19.108114Z",
     "iopub.status.idle": "2022-04-02T10:06:20.391319Z",
     "shell.execute_reply": "2022-04-02T10:06:20.391974Z",
     "shell.execute_reply.started": "2022-04-02T09:03:16.688448Z"
    },
    "papermill": {
     "duration": 1.333936,
     "end_time": "2022-04-02T10:06:20.392334",
     "exception": false,
     "start_time": "2022-04-02T10:06:19.058398",
     "status": "completed"
    },
    "tags": []
   },
   "outputs": [
    {
     "name": "stdout",
     "output_type": "stream",
     "text": [
      "/kaggle/input/us-accidents/US_Accidents_Dec21_updated.csv\n"
     ]
    }
   ],
   "source": [
    "# This Python 3 environment comes with many helpful analytics libraries installed\n",
    "# It is defined by the kaggle/python Docker image: https://github.com/kaggle/docker-python\n",
    "# For example, here's several helpful packages to load\n",
    "\n",
    "import numpy as np # linear algebra\n",
    "import pandas as pd # data processing, CSV file I/O (e.g. pd.read_csv)\n",
    "import seaborn as sns\n",
    "\n",
    "# Input data files are available in the read-only \"../input/\" directory\n",
    "# For example, running this (by clicking run or pressing Shift+Enter) will list all files under the input directory\n",
    "\n",
    "import os\n",
    "for dirname, _, filenames in os.walk('/kaggle/input'):\n",
    "    for filename in filenames:\n",
    "        print(os.path.join(dirname, filename))\n",
    "\n",
    "# You can write up to 20GB to the current directory (/kaggle/working/) that gets preserved as output when you create a version using \"Save & Run All\" \n",
    "# You can also write temporary files to /kaggle/temp/, but they won't be saved outside of the current session"
   ]
  },
  {
   "cell_type": "markdown",
   "id": "a9ccc1ca",
   "metadata": {
    "papermill": {
     "duration": 0.043047,
     "end_time": "2022-04-02T10:06:20.479695",
     "exception": false,
     "start_time": "2022-04-02T10:06:20.436648",
     "status": "completed"
    },
    "tags": []
   },
   "source": [
    "# Data Preparation and Cleaning\n",
    "\n",
    "- Load the dataset using Pandas\n",
    "- Look at some information about the data\n",
    "- Fix any incorrect or missing values\n"
   ]
  },
  {
   "cell_type": "code",
   "execution_count": 2,
   "id": "e16f7c2c",
   "metadata": {
    "execution": {
     "iopub.execute_input": "2022-04-02T10:06:20.570027Z",
     "iopub.status.busy": "2022-04-02T10:06:20.569203Z",
     "iopub.status.idle": "2022-04-02T10:07:14.117113Z",
     "shell.execute_reply": "2022-04-02T10:07:14.117732Z",
     "shell.execute_reply.started": "2022-04-02T09:03:17.903629Z"
    },
    "papermill": {
     "duration": 53.595254,
     "end_time": "2022-04-02T10:07:14.117930",
     "exception": false,
     "start_time": "2022-04-02T10:06:20.522676",
     "status": "completed"
    },
    "tags": []
   },
   "outputs": [
    {
     "data": {
      "text/html": [
       "<div>\n",
       "<style scoped>\n",
       "    .dataframe tbody tr th:only-of-type {\n",
       "        vertical-align: middle;\n",
       "    }\n",
       "\n",
       "    .dataframe tbody tr th {\n",
       "        vertical-align: top;\n",
       "    }\n",
       "\n",
       "    .dataframe thead th {\n",
       "        text-align: right;\n",
       "    }\n",
       "</style>\n",
       "<table border=\"1\" class=\"dataframe\">\n",
       "  <thead>\n",
       "    <tr style=\"text-align: right;\">\n",
       "      <th></th>\n",
       "      <th>ID</th>\n",
       "      <th>Severity</th>\n",
       "      <th>Start_Time</th>\n",
       "      <th>End_Time</th>\n",
       "      <th>Start_Lat</th>\n",
       "      <th>Start_Lng</th>\n",
       "      <th>End_Lat</th>\n",
       "      <th>End_Lng</th>\n",
       "      <th>Distance(mi)</th>\n",
       "      <th>Description</th>\n",
       "      <th>...</th>\n",
       "      <th>Roundabout</th>\n",
       "      <th>Station</th>\n",
       "      <th>Stop</th>\n",
       "      <th>Traffic_Calming</th>\n",
       "      <th>Traffic_Signal</th>\n",
       "      <th>Turning_Loop</th>\n",
       "      <th>Sunrise_Sunset</th>\n",
       "      <th>Civil_Twilight</th>\n",
       "      <th>Nautical_Twilight</th>\n",
       "      <th>Astronomical_Twilight</th>\n",
       "    </tr>\n",
       "  </thead>\n",
       "  <tbody>\n",
       "    <tr>\n",
       "      <th>0</th>\n",
       "      <td>A-1</td>\n",
       "      <td>3</td>\n",
       "      <td>2016-02-08 00:37:08</td>\n",
       "      <td>2016-02-08 06:37:08</td>\n",
       "      <td>40.108910</td>\n",
       "      <td>-83.092860</td>\n",
       "      <td>40.112060</td>\n",
       "      <td>-83.031870</td>\n",
       "      <td>3.230</td>\n",
       "      <td>Between Sawmill Rd/Exit 20 and OH-315/Olentang...</td>\n",
       "      <td>...</td>\n",
       "      <td>False</td>\n",
       "      <td>False</td>\n",
       "      <td>False</td>\n",
       "      <td>False</td>\n",
       "      <td>False</td>\n",
       "      <td>False</td>\n",
       "      <td>Night</td>\n",
       "      <td>Night</td>\n",
       "      <td>Night</td>\n",
       "      <td>Night</td>\n",
       "    </tr>\n",
       "    <tr>\n",
       "      <th>1</th>\n",
       "      <td>A-2</td>\n",
       "      <td>2</td>\n",
       "      <td>2016-02-08 05:56:20</td>\n",
       "      <td>2016-02-08 11:56:20</td>\n",
       "      <td>39.865420</td>\n",
       "      <td>-84.062800</td>\n",
       "      <td>39.865010</td>\n",
       "      <td>-84.048730</td>\n",
       "      <td>0.747</td>\n",
       "      <td>At OH-4/OH-235/Exit 41 - Accident.</td>\n",
       "      <td>...</td>\n",
       "      <td>False</td>\n",
       "      <td>False</td>\n",
       "      <td>False</td>\n",
       "      <td>False</td>\n",
       "      <td>False</td>\n",
       "      <td>False</td>\n",
       "      <td>Night</td>\n",
       "      <td>Night</td>\n",
       "      <td>Night</td>\n",
       "      <td>Night</td>\n",
       "    </tr>\n",
       "    <tr>\n",
       "      <th>2</th>\n",
       "      <td>A-3</td>\n",
       "      <td>2</td>\n",
       "      <td>2016-02-08 06:15:39</td>\n",
       "      <td>2016-02-08 12:15:39</td>\n",
       "      <td>39.102660</td>\n",
       "      <td>-84.524680</td>\n",
       "      <td>39.102090</td>\n",
       "      <td>-84.523960</td>\n",
       "      <td>0.055</td>\n",
       "      <td>At I-71/US-50/Exit 1 - Accident.</td>\n",
       "      <td>...</td>\n",
       "      <td>False</td>\n",
       "      <td>False</td>\n",
       "      <td>False</td>\n",
       "      <td>False</td>\n",
       "      <td>False</td>\n",
       "      <td>False</td>\n",
       "      <td>Night</td>\n",
       "      <td>Night</td>\n",
       "      <td>Night</td>\n",
       "      <td>Day</td>\n",
       "    </tr>\n",
       "    <tr>\n",
       "      <th>3</th>\n",
       "      <td>A-4</td>\n",
       "      <td>2</td>\n",
       "      <td>2016-02-08 06:51:45</td>\n",
       "      <td>2016-02-08 12:51:45</td>\n",
       "      <td>41.062130</td>\n",
       "      <td>-81.537840</td>\n",
       "      <td>41.062170</td>\n",
       "      <td>-81.535470</td>\n",
       "      <td>0.123</td>\n",
       "      <td>At Dart Ave/Exit 21 - Accident.</td>\n",
       "      <td>...</td>\n",
       "      <td>False</td>\n",
       "      <td>False</td>\n",
       "      <td>False</td>\n",
       "      <td>False</td>\n",
       "      <td>False</td>\n",
       "      <td>False</td>\n",
       "      <td>Night</td>\n",
       "      <td>Night</td>\n",
       "      <td>Day</td>\n",
       "      <td>Day</td>\n",
       "    </tr>\n",
       "    <tr>\n",
       "      <th>4</th>\n",
       "      <td>A-5</td>\n",
       "      <td>3</td>\n",
       "      <td>2016-02-08 07:53:43</td>\n",
       "      <td>2016-02-08 13:53:43</td>\n",
       "      <td>39.172393</td>\n",
       "      <td>-84.492792</td>\n",
       "      <td>39.170476</td>\n",
       "      <td>-84.501798</td>\n",
       "      <td>0.500</td>\n",
       "      <td>At Mitchell Ave/Exit 6 - Accident.</td>\n",
       "      <td>...</td>\n",
       "      <td>False</td>\n",
       "      <td>False</td>\n",
       "      <td>False</td>\n",
       "      <td>False</td>\n",
       "      <td>False</td>\n",
       "      <td>False</td>\n",
       "      <td>Day</td>\n",
       "      <td>Day</td>\n",
       "      <td>Day</td>\n",
       "      <td>Day</td>\n",
       "    </tr>\n",
       "    <tr>\n",
       "      <th>...</th>\n",
       "      <td>...</td>\n",
       "      <td>...</td>\n",
       "      <td>...</td>\n",
       "      <td>...</td>\n",
       "      <td>...</td>\n",
       "      <td>...</td>\n",
       "      <td>...</td>\n",
       "      <td>...</td>\n",
       "      <td>...</td>\n",
       "      <td>...</td>\n",
       "      <td>...</td>\n",
       "      <td>...</td>\n",
       "      <td>...</td>\n",
       "      <td>...</td>\n",
       "      <td>...</td>\n",
       "      <td>...</td>\n",
       "      <td>...</td>\n",
       "      <td>...</td>\n",
       "      <td>...</td>\n",
       "      <td>...</td>\n",
       "      <td>...</td>\n",
       "    </tr>\n",
       "    <tr>\n",
       "      <th>2845337</th>\n",
       "      <td>A-2845338</td>\n",
       "      <td>2</td>\n",
       "      <td>2019-08-23 18:03:25</td>\n",
       "      <td>2019-08-23 18:32:01</td>\n",
       "      <td>34.002480</td>\n",
       "      <td>-117.379360</td>\n",
       "      <td>33.998880</td>\n",
       "      <td>-117.370940</td>\n",
       "      <td>0.543</td>\n",
       "      <td>At Market St - Accident.</td>\n",
       "      <td>...</td>\n",
       "      <td>False</td>\n",
       "      <td>False</td>\n",
       "      <td>False</td>\n",
       "      <td>False</td>\n",
       "      <td>False</td>\n",
       "      <td>False</td>\n",
       "      <td>Day</td>\n",
       "      <td>Day</td>\n",
       "      <td>Day</td>\n",
       "      <td>Day</td>\n",
       "    </tr>\n",
       "    <tr>\n",
       "      <th>2845338</th>\n",
       "      <td>A-2845339</td>\n",
       "      <td>2</td>\n",
       "      <td>2019-08-23 19:11:30</td>\n",
       "      <td>2019-08-23 19:38:23</td>\n",
       "      <td>32.766960</td>\n",
       "      <td>-117.148060</td>\n",
       "      <td>32.765550</td>\n",
       "      <td>-117.153630</td>\n",
       "      <td>0.338</td>\n",
       "      <td>At Camino Del Rio/Mission Center Rd - Accident.</td>\n",
       "      <td>...</td>\n",
       "      <td>False</td>\n",
       "      <td>False</td>\n",
       "      <td>False</td>\n",
       "      <td>False</td>\n",
       "      <td>False</td>\n",
       "      <td>False</td>\n",
       "      <td>Day</td>\n",
       "      <td>Day</td>\n",
       "      <td>Day</td>\n",
       "      <td>Day</td>\n",
       "    </tr>\n",
       "    <tr>\n",
       "      <th>2845339</th>\n",
       "      <td>A-2845340</td>\n",
       "      <td>2</td>\n",
       "      <td>2019-08-23 19:00:21</td>\n",
       "      <td>2019-08-23 19:28:49</td>\n",
       "      <td>33.775450</td>\n",
       "      <td>-117.847790</td>\n",
       "      <td>33.777400</td>\n",
       "      <td>-117.857270</td>\n",
       "      <td>0.561</td>\n",
       "      <td>At Glassell St/Grand Ave - Accident. in the ri...</td>\n",
       "      <td>...</td>\n",
       "      <td>False</td>\n",
       "      <td>False</td>\n",
       "      <td>False</td>\n",
       "      <td>False</td>\n",
       "      <td>False</td>\n",
       "      <td>False</td>\n",
       "      <td>Day</td>\n",
       "      <td>Day</td>\n",
       "      <td>Day</td>\n",
       "      <td>Day</td>\n",
       "    </tr>\n",
       "    <tr>\n",
       "      <th>2845340</th>\n",
       "      <td>A-2845341</td>\n",
       "      <td>2</td>\n",
       "      <td>2019-08-23 19:00:21</td>\n",
       "      <td>2019-08-23 19:29:42</td>\n",
       "      <td>33.992460</td>\n",
       "      <td>-118.403020</td>\n",
       "      <td>33.983110</td>\n",
       "      <td>-118.395650</td>\n",
       "      <td>0.772</td>\n",
       "      <td>At CA-90/Marina Fwy/Jefferson Blvd - Accident.</td>\n",
       "      <td>...</td>\n",
       "      <td>False</td>\n",
       "      <td>False</td>\n",
       "      <td>False</td>\n",
       "      <td>False</td>\n",
       "      <td>False</td>\n",
       "      <td>False</td>\n",
       "      <td>Day</td>\n",
       "      <td>Day</td>\n",
       "      <td>Day</td>\n",
       "      <td>Day</td>\n",
       "    </tr>\n",
       "    <tr>\n",
       "      <th>2845341</th>\n",
       "      <td>A-2845342</td>\n",
       "      <td>2</td>\n",
       "      <td>2019-08-23 18:52:06</td>\n",
       "      <td>2019-08-23 19:21:31</td>\n",
       "      <td>34.133930</td>\n",
       "      <td>-117.230920</td>\n",
       "      <td>34.137360</td>\n",
       "      <td>-117.239340</td>\n",
       "      <td>0.537</td>\n",
       "      <td>At Highland Ave/Arden Ave - Accident.</td>\n",
       "      <td>...</td>\n",
       "      <td>False</td>\n",
       "      <td>False</td>\n",
       "      <td>False</td>\n",
       "      <td>False</td>\n",
       "      <td>False</td>\n",
       "      <td>False</td>\n",
       "      <td>Day</td>\n",
       "      <td>Day</td>\n",
       "      <td>Day</td>\n",
       "      <td>Day</td>\n",
       "    </tr>\n",
       "  </tbody>\n",
       "</table>\n",
       "<p>2845342 rows × 47 columns</p>\n",
       "</div>"
      ],
      "text/plain": [
       "                ID  Severity           Start_Time             End_Time  \\\n",
       "0              A-1         3  2016-02-08 00:37:08  2016-02-08 06:37:08   \n",
       "1              A-2         2  2016-02-08 05:56:20  2016-02-08 11:56:20   \n",
       "2              A-3         2  2016-02-08 06:15:39  2016-02-08 12:15:39   \n",
       "3              A-4         2  2016-02-08 06:51:45  2016-02-08 12:51:45   \n",
       "4              A-5         3  2016-02-08 07:53:43  2016-02-08 13:53:43   \n",
       "...            ...       ...                  ...                  ...   \n",
       "2845337  A-2845338         2  2019-08-23 18:03:25  2019-08-23 18:32:01   \n",
       "2845338  A-2845339         2  2019-08-23 19:11:30  2019-08-23 19:38:23   \n",
       "2845339  A-2845340         2  2019-08-23 19:00:21  2019-08-23 19:28:49   \n",
       "2845340  A-2845341         2  2019-08-23 19:00:21  2019-08-23 19:29:42   \n",
       "2845341  A-2845342         2  2019-08-23 18:52:06  2019-08-23 19:21:31   \n",
       "\n",
       "         Start_Lat   Start_Lng    End_Lat     End_Lng  Distance(mi)  \\\n",
       "0        40.108910  -83.092860  40.112060  -83.031870         3.230   \n",
       "1        39.865420  -84.062800  39.865010  -84.048730         0.747   \n",
       "2        39.102660  -84.524680  39.102090  -84.523960         0.055   \n",
       "3        41.062130  -81.537840  41.062170  -81.535470         0.123   \n",
       "4        39.172393  -84.492792  39.170476  -84.501798         0.500   \n",
       "...            ...         ...        ...         ...           ...   \n",
       "2845337  34.002480 -117.379360  33.998880 -117.370940         0.543   \n",
       "2845338  32.766960 -117.148060  32.765550 -117.153630         0.338   \n",
       "2845339  33.775450 -117.847790  33.777400 -117.857270         0.561   \n",
       "2845340  33.992460 -118.403020  33.983110 -118.395650         0.772   \n",
       "2845341  34.133930 -117.230920  34.137360 -117.239340         0.537   \n",
       "\n",
       "                                               Description  ...  Roundabout  \\\n",
       "0        Between Sawmill Rd/Exit 20 and OH-315/Olentang...  ...       False   \n",
       "1                       At OH-4/OH-235/Exit 41 - Accident.  ...       False   \n",
       "2                         At I-71/US-50/Exit 1 - Accident.  ...       False   \n",
       "3                          At Dart Ave/Exit 21 - Accident.  ...       False   \n",
       "4                       At Mitchell Ave/Exit 6 - Accident.  ...       False   \n",
       "...                                                    ...  ...         ...   \n",
       "2845337                           At Market St - Accident.  ...       False   \n",
       "2845338    At Camino Del Rio/Mission Center Rd - Accident.  ...       False   \n",
       "2845339  At Glassell St/Grand Ave - Accident. in the ri...  ...       False   \n",
       "2845340     At CA-90/Marina Fwy/Jefferson Blvd - Accident.  ...       False   \n",
       "2845341              At Highland Ave/Arden Ave - Accident.  ...       False   \n",
       "\n",
       "        Station   Stop Traffic_Calming Traffic_Signal Turning_Loop  \\\n",
       "0         False  False           False          False        False   \n",
       "1         False  False           False          False        False   \n",
       "2         False  False           False          False        False   \n",
       "3         False  False           False          False        False   \n",
       "4         False  False           False          False        False   \n",
       "...         ...    ...             ...            ...          ...   \n",
       "2845337   False  False           False          False        False   \n",
       "2845338   False  False           False          False        False   \n",
       "2845339   False  False           False          False        False   \n",
       "2845340   False  False           False          False        False   \n",
       "2845341   False  False           False          False        False   \n",
       "\n",
       "        Sunrise_Sunset Civil_Twilight Nautical_Twilight Astronomical_Twilight  \n",
       "0                Night          Night             Night                 Night  \n",
       "1                Night          Night             Night                 Night  \n",
       "2                Night          Night             Night                   Day  \n",
       "3                Night          Night               Day                   Day  \n",
       "4                  Day            Day               Day                   Day  \n",
       "...                ...            ...               ...                   ...  \n",
       "2845337            Day            Day               Day                   Day  \n",
       "2845338            Day            Day               Day                   Day  \n",
       "2845339            Day            Day               Day                   Day  \n",
       "2845340            Day            Day               Day                   Day  \n",
       "2845341            Day            Day               Day                   Day  \n",
       "\n",
       "[2845342 rows x 47 columns]"
      ]
     },
     "execution_count": 2,
     "metadata": {},
     "output_type": "execute_result"
    }
   ],
   "source": [
    "data_set = pd.read_csv(\"/kaggle/input/us-accidents/US_Accidents_Dec21_updated.csv\")\n",
    "data_set"
   ]
  },
  {
   "cell_type": "code",
   "execution_count": 3,
   "id": "dc1172c5",
   "metadata": {
    "execution": {
     "iopub.execute_input": "2022-04-02T10:07:14.214448Z",
     "iopub.status.busy": "2022-04-02T10:07:14.213432Z",
     "iopub.status.idle": "2022-04-02T10:07:14.218542Z",
     "shell.execute_reply": "2022-04-02T10:07:14.217977Z",
     "shell.execute_reply.started": "2022-04-02T09:04:04.748938Z"
    },
    "papermill": {
     "duration": 0.056496,
     "end_time": "2022-04-02T10:07:14.218717",
     "exception": false,
     "start_time": "2022-04-02T10:07:14.162221",
     "status": "completed"
    },
    "tags": []
   },
   "outputs": [
    {
     "data": {
      "text/plain": [
       "Index(['ID', 'Severity', 'Start_Time', 'End_Time', 'Start_Lat', 'Start_Lng',\n",
       "       'End_Lat', 'End_Lng', 'Distance(mi)', 'Description', 'Number', 'Street',\n",
       "       'Side', 'City', 'County', 'State', 'Zipcode', 'Country', 'Timezone',\n",
       "       'Airport_Code', 'Weather_Timestamp', 'Temperature(F)', 'Wind_Chill(F)',\n",
       "       'Humidity(%)', 'Pressure(in)', 'Visibility(mi)', 'Wind_Direction',\n",
       "       'Wind_Speed(mph)', 'Precipitation(in)', 'Weather_Condition', 'Amenity',\n",
       "       'Bump', 'Crossing', 'Give_Way', 'Junction', 'No_Exit', 'Railway',\n",
       "       'Roundabout', 'Station', 'Stop', 'Traffic_Calming', 'Traffic_Signal',\n",
       "       'Turning_Loop', 'Sunrise_Sunset', 'Civil_Twilight', 'Nautical_Twilight',\n",
       "       'Astronomical_Twilight'],\n",
       "      dtype='object')"
      ]
     },
     "execution_count": 3,
     "metadata": {},
     "output_type": "execute_result"
    }
   ],
   "source": [
    "data_set.columns"
   ]
  },
  {
   "cell_type": "code",
   "execution_count": 4,
   "id": "527801e3",
   "metadata": {
    "execution": {
     "iopub.execute_input": "2022-04-02T10:07:14.309725Z",
     "iopub.status.busy": "2022-04-02T10:07:14.308924Z",
     "iopub.status.idle": "2022-04-02T10:07:14.315384Z",
     "shell.execute_reply": "2022-04-02T10:07:14.314696Z",
     "shell.execute_reply.started": "2022-04-02T09:04:04.757459Z"
    },
    "papermill": {
     "duration": 0.053415,
     "end_time": "2022-04-02T10:07:14.315555",
     "exception": false,
     "start_time": "2022-04-02T10:07:14.262140",
     "status": "completed"
    },
    "tags": []
   },
   "outputs": [
    {
     "data": {
      "text/plain": [
       "2845342"
      ]
     },
     "execution_count": 4,
     "metadata": {},
     "output_type": "execute_result"
    }
   ],
   "source": [
    "len(data_set)"
   ]
  },
  {
   "cell_type": "code",
   "execution_count": 5,
   "id": "1b5ee548",
   "metadata": {
    "execution": {
     "iopub.execute_input": "2022-04-02T10:07:14.413851Z",
     "iopub.status.busy": "2022-04-02T10:07:14.412831Z",
     "iopub.status.idle": "2022-04-02T10:07:14.416014Z",
     "shell.execute_reply": "2022-04-02T10:07:14.416665Z",
     "shell.execute_reply.started": "2022-04-02T09:04:04.771949Z"
    },
    "papermill": {
     "duration": 0.056704,
     "end_time": "2022-04-02T10:07:14.416862",
     "exception": false,
     "start_time": "2022-04-02T10:07:14.360158",
     "status": "completed"
    },
    "tags": []
   },
   "outputs": [
    {
     "data": {
      "text/plain": [
       "47"
      ]
     },
     "execution_count": 5,
     "metadata": {},
     "output_type": "execute_result"
    }
   ],
   "source": [
    "len(data_set.columns)"
   ]
  },
  {
   "cell_type": "code",
   "execution_count": 6,
   "id": "0e7beb39",
   "metadata": {
    "execution": {
     "iopub.execute_input": "2022-04-02T10:07:14.511683Z",
     "iopub.status.busy": "2022-04-02T10:07:14.510875Z",
     "iopub.status.idle": "2022-04-02T10:07:14.537373Z",
     "shell.execute_reply": "2022-04-02T10:07:14.538261Z",
     "shell.execute_reply.started": "2022-04-02T09:04:04.786221Z"
    },
    "papermill": {
     "duration": 0.074783,
     "end_time": "2022-04-02T10:07:14.538528",
     "exception": false,
     "start_time": "2022-04-02T10:07:14.463745",
     "status": "completed"
    },
    "tags": []
   },
   "outputs": [
    {
     "name": "stdout",
     "output_type": "stream",
     "text": [
      "<class 'pandas.core.frame.DataFrame'>\n",
      "RangeIndex: 2845342 entries, 0 to 2845341\n",
      "Data columns (total 47 columns):\n",
      " #   Column                 Dtype  \n",
      "---  ------                 -----  \n",
      " 0   ID                     object \n",
      " 1   Severity               int64  \n",
      " 2   Start_Time             object \n",
      " 3   End_Time               object \n",
      " 4   Start_Lat              float64\n",
      " 5   Start_Lng              float64\n",
      " 6   End_Lat                float64\n",
      " 7   End_Lng                float64\n",
      " 8   Distance(mi)           float64\n",
      " 9   Description            object \n",
      " 10  Number                 float64\n",
      " 11  Street                 object \n",
      " 12  Side                   object \n",
      " 13  City                   object \n",
      " 14  County                 object \n",
      " 15  State                  object \n",
      " 16  Zipcode                object \n",
      " 17  Country                object \n",
      " 18  Timezone               object \n",
      " 19  Airport_Code           object \n",
      " 20  Weather_Timestamp      object \n",
      " 21  Temperature(F)         float64\n",
      " 22  Wind_Chill(F)          float64\n",
      " 23  Humidity(%)            float64\n",
      " 24  Pressure(in)           float64\n",
      " 25  Visibility(mi)         float64\n",
      " 26  Wind_Direction         object \n",
      " 27  Wind_Speed(mph)        float64\n",
      " 28  Precipitation(in)      float64\n",
      " 29  Weather_Condition      object \n",
      " 30  Amenity                bool   \n",
      " 31  Bump                   bool   \n",
      " 32  Crossing               bool   \n",
      " 33  Give_Way               bool   \n",
      " 34  Junction               bool   \n",
      " 35  No_Exit                bool   \n",
      " 36  Railway                bool   \n",
      " 37  Roundabout             bool   \n",
      " 38  Station                bool   \n",
      " 39  Stop                   bool   \n",
      " 40  Traffic_Calming        bool   \n",
      " 41  Traffic_Signal         bool   \n",
      " 42  Turning_Loop           bool   \n",
      " 43  Sunrise_Sunset         object \n",
      " 44  Civil_Twilight         object \n",
      " 45  Nautical_Twilight      object \n",
      " 46  Astronomical_Twilight  object \n",
      "dtypes: bool(13), float64(13), int64(1), object(20)\n",
      "memory usage: 773.4+ MB\n"
     ]
    }
   ],
   "source": [
    "data_set.info()"
   ]
  },
  {
   "cell_type": "code",
   "execution_count": 7,
   "id": "74dc3e59",
   "metadata": {
    "execution": {
     "iopub.execute_input": "2022-04-02T10:07:14.634525Z",
     "iopub.status.busy": "2022-04-02T10:07:14.633837Z",
     "iopub.status.idle": "2022-04-02T10:07:14.657740Z",
     "shell.execute_reply": "2022-04-02T10:07:14.658332Z",
     "shell.execute_reply.started": "2022-04-02T09:04:04.817353Z"
    },
    "papermill": {
     "duration": 0.072129,
     "end_time": "2022-04-02T10:07:14.658537",
     "exception": false,
     "start_time": "2022-04-02T10:07:14.586408",
     "status": "completed"
    },
    "tags": []
   },
   "outputs": [
    {
     "data": {
      "text/html": [
       "<div>\n",
       "<style scoped>\n",
       "    .dataframe tbody tr th:only-of-type {\n",
       "        vertical-align: middle;\n",
       "    }\n",
       "\n",
       "    .dataframe tbody tr th {\n",
       "        vertical-align: top;\n",
       "    }\n",
       "\n",
       "    .dataframe thead th {\n",
       "        text-align: right;\n",
       "    }\n",
       "</style>\n",
       "<table border=\"1\" class=\"dataframe\">\n",
       "  <thead>\n",
       "    <tr style=\"text-align: right;\">\n",
       "      <th></th>\n",
       "      <th>ID</th>\n",
       "      <th>Severity</th>\n",
       "      <th>Start_Time</th>\n",
       "      <th>End_Time</th>\n",
       "      <th>Start_Lat</th>\n",
       "      <th>Start_Lng</th>\n",
       "      <th>End_Lat</th>\n",
       "      <th>End_Lng</th>\n",
       "      <th>Distance(mi)</th>\n",
       "      <th>Description</th>\n",
       "      <th>...</th>\n",
       "      <th>Roundabout</th>\n",
       "      <th>Station</th>\n",
       "      <th>Stop</th>\n",
       "      <th>Traffic_Calming</th>\n",
       "      <th>Traffic_Signal</th>\n",
       "      <th>Turning_Loop</th>\n",
       "      <th>Sunrise_Sunset</th>\n",
       "      <th>Civil_Twilight</th>\n",
       "      <th>Nautical_Twilight</th>\n",
       "      <th>Astronomical_Twilight</th>\n",
       "    </tr>\n",
       "  </thead>\n",
       "  <tbody>\n",
       "    <tr>\n",
       "      <th>0</th>\n",
       "      <td>A-1</td>\n",
       "      <td>3</td>\n",
       "      <td>2016-02-08 00:37:08</td>\n",
       "      <td>2016-02-08 06:37:08</td>\n",
       "      <td>40.108910</td>\n",
       "      <td>-83.092860</td>\n",
       "      <td>40.112060</td>\n",
       "      <td>-83.031870</td>\n",
       "      <td>3.230</td>\n",
       "      <td>Between Sawmill Rd/Exit 20 and OH-315/Olentang...</td>\n",
       "      <td>...</td>\n",
       "      <td>False</td>\n",
       "      <td>False</td>\n",
       "      <td>False</td>\n",
       "      <td>False</td>\n",
       "      <td>False</td>\n",
       "      <td>False</td>\n",
       "      <td>Night</td>\n",
       "      <td>Night</td>\n",
       "      <td>Night</td>\n",
       "      <td>Night</td>\n",
       "    </tr>\n",
       "    <tr>\n",
       "      <th>1</th>\n",
       "      <td>A-2</td>\n",
       "      <td>2</td>\n",
       "      <td>2016-02-08 05:56:20</td>\n",
       "      <td>2016-02-08 11:56:20</td>\n",
       "      <td>39.865420</td>\n",
       "      <td>-84.062800</td>\n",
       "      <td>39.865010</td>\n",
       "      <td>-84.048730</td>\n",
       "      <td>0.747</td>\n",
       "      <td>At OH-4/OH-235/Exit 41 - Accident.</td>\n",
       "      <td>...</td>\n",
       "      <td>False</td>\n",
       "      <td>False</td>\n",
       "      <td>False</td>\n",
       "      <td>False</td>\n",
       "      <td>False</td>\n",
       "      <td>False</td>\n",
       "      <td>Night</td>\n",
       "      <td>Night</td>\n",
       "      <td>Night</td>\n",
       "      <td>Night</td>\n",
       "    </tr>\n",
       "    <tr>\n",
       "      <th>2</th>\n",
       "      <td>A-3</td>\n",
       "      <td>2</td>\n",
       "      <td>2016-02-08 06:15:39</td>\n",
       "      <td>2016-02-08 12:15:39</td>\n",
       "      <td>39.102660</td>\n",
       "      <td>-84.524680</td>\n",
       "      <td>39.102090</td>\n",
       "      <td>-84.523960</td>\n",
       "      <td>0.055</td>\n",
       "      <td>At I-71/US-50/Exit 1 - Accident.</td>\n",
       "      <td>...</td>\n",
       "      <td>False</td>\n",
       "      <td>False</td>\n",
       "      <td>False</td>\n",
       "      <td>False</td>\n",
       "      <td>False</td>\n",
       "      <td>False</td>\n",
       "      <td>Night</td>\n",
       "      <td>Night</td>\n",
       "      <td>Night</td>\n",
       "      <td>Day</td>\n",
       "    </tr>\n",
       "    <tr>\n",
       "      <th>3</th>\n",
       "      <td>A-4</td>\n",
       "      <td>2</td>\n",
       "      <td>2016-02-08 06:51:45</td>\n",
       "      <td>2016-02-08 12:51:45</td>\n",
       "      <td>41.062130</td>\n",
       "      <td>-81.537840</td>\n",
       "      <td>41.062170</td>\n",
       "      <td>-81.535470</td>\n",
       "      <td>0.123</td>\n",
       "      <td>At Dart Ave/Exit 21 - Accident.</td>\n",
       "      <td>...</td>\n",
       "      <td>False</td>\n",
       "      <td>False</td>\n",
       "      <td>False</td>\n",
       "      <td>False</td>\n",
       "      <td>False</td>\n",
       "      <td>False</td>\n",
       "      <td>Night</td>\n",
       "      <td>Night</td>\n",
       "      <td>Day</td>\n",
       "      <td>Day</td>\n",
       "    </tr>\n",
       "    <tr>\n",
       "      <th>4</th>\n",
       "      <td>A-5</td>\n",
       "      <td>3</td>\n",
       "      <td>2016-02-08 07:53:43</td>\n",
       "      <td>2016-02-08 13:53:43</td>\n",
       "      <td>39.172393</td>\n",
       "      <td>-84.492792</td>\n",
       "      <td>39.170476</td>\n",
       "      <td>-84.501798</td>\n",
       "      <td>0.500</td>\n",
       "      <td>At Mitchell Ave/Exit 6 - Accident.</td>\n",
       "      <td>...</td>\n",
       "      <td>False</td>\n",
       "      <td>False</td>\n",
       "      <td>False</td>\n",
       "      <td>False</td>\n",
       "      <td>False</td>\n",
       "      <td>False</td>\n",
       "      <td>Day</td>\n",
       "      <td>Day</td>\n",
       "      <td>Day</td>\n",
       "      <td>Day</td>\n",
       "    </tr>\n",
       "  </tbody>\n",
       "</table>\n",
       "<p>5 rows × 47 columns</p>\n",
       "</div>"
      ],
      "text/plain": [
       "    ID  Severity           Start_Time             End_Time  Start_Lat  \\\n",
       "0  A-1         3  2016-02-08 00:37:08  2016-02-08 06:37:08  40.108910   \n",
       "1  A-2         2  2016-02-08 05:56:20  2016-02-08 11:56:20  39.865420   \n",
       "2  A-3         2  2016-02-08 06:15:39  2016-02-08 12:15:39  39.102660   \n",
       "3  A-4         2  2016-02-08 06:51:45  2016-02-08 12:51:45  41.062130   \n",
       "4  A-5         3  2016-02-08 07:53:43  2016-02-08 13:53:43  39.172393   \n",
       "\n",
       "   Start_Lng    End_Lat    End_Lng  Distance(mi)  \\\n",
       "0 -83.092860  40.112060 -83.031870         3.230   \n",
       "1 -84.062800  39.865010 -84.048730         0.747   \n",
       "2 -84.524680  39.102090 -84.523960         0.055   \n",
       "3 -81.537840  41.062170 -81.535470         0.123   \n",
       "4 -84.492792  39.170476 -84.501798         0.500   \n",
       "\n",
       "                                         Description  ...  Roundabout Station  \\\n",
       "0  Between Sawmill Rd/Exit 20 and OH-315/Olentang...  ...       False   False   \n",
       "1                 At OH-4/OH-235/Exit 41 - Accident.  ...       False   False   \n",
       "2                   At I-71/US-50/Exit 1 - Accident.  ...       False   False   \n",
       "3                    At Dart Ave/Exit 21 - Accident.  ...       False   False   \n",
       "4                 At Mitchell Ave/Exit 6 - Accident.  ...       False   False   \n",
       "\n",
       "    Stop Traffic_Calming Traffic_Signal Turning_Loop Sunrise_Sunset  \\\n",
       "0  False           False          False        False          Night   \n",
       "1  False           False          False        False          Night   \n",
       "2  False           False          False        False          Night   \n",
       "3  False           False          False        False          Night   \n",
       "4  False           False          False        False            Day   \n",
       "\n",
       "  Civil_Twilight Nautical_Twilight Astronomical_Twilight  \n",
       "0          Night             Night                 Night  \n",
       "1          Night             Night                 Night  \n",
       "2          Night             Night                   Day  \n",
       "3          Night               Day                   Day  \n",
       "4            Day               Day                   Day  \n",
       "\n",
       "[5 rows x 47 columns]"
      ]
     },
     "execution_count": 7,
     "metadata": {},
     "output_type": "execute_result"
    }
   ],
   "source": [
    "data_set.head()"
   ]
  },
  {
   "cell_type": "code",
   "execution_count": 8,
   "id": "7be9088a",
   "metadata": {
    "execution": {
     "iopub.execute_input": "2022-04-02T10:07:14.754924Z",
     "iopub.status.busy": "2022-04-02T10:07:14.754053Z",
     "iopub.status.idle": "2022-04-02T10:07:14.782873Z",
     "shell.execute_reply": "2022-04-02T10:07:14.783406Z",
     "shell.execute_reply.started": "2022-04-02T09:04:04.850415Z"
    },
    "papermill": {
     "duration": 0.079156,
     "end_time": "2022-04-02T10:07:14.783619",
     "exception": false,
     "start_time": "2022-04-02T10:07:14.704463",
     "status": "completed"
    },
    "tags": []
   },
   "outputs": [
    {
     "data": {
      "text/html": [
       "<div>\n",
       "<style scoped>\n",
       "    .dataframe tbody tr th:only-of-type {\n",
       "        vertical-align: middle;\n",
       "    }\n",
       "\n",
       "    .dataframe tbody tr th {\n",
       "        vertical-align: top;\n",
       "    }\n",
       "\n",
       "    .dataframe thead th {\n",
       "        text-align: right;\n",
       "    }\n",
       "</style>\n",
       "<table border=\"1\" class=\"dataframe\">\n",
       "  <thead>\n",
       "    <tr style=\"text-align: right;\">\n",
       "      <th></th>\n",
       "      <th>ID</th>\n",
       "      <th>Severity</th>\n",
       "      <th>Start_Time</th>\n",
       "      <th>End_Time</th>\n",
       "      <th>Start_Lat</th>\n",
       "      <th>Start_Lng</th>\n",
       "      <th>End_Lat</th>\n",
       "      <th>End_Lng</th>\n",
       "      <th>Distance(mi)</th>\n",
       "      <th>Description</th>\n",
       "      <th>...</th>\n",
       "      <th>Roundabout</th>\n",
       "      <th>Station</th>\n",
       "      <th>Stop</th>\n",
       "      <th>Traffic_Calming</th>\n",
       "      <th>Traffic_Signal</th>\n",
       "      <th>Turning_Loop</th>\n",
       "      <th>Sunrise_Sunset</th>\n",
       "      <th>Civil_Twilight</th>\n",
       "      <th>Nautical_Twilight</th>\n",
       "      <th>Astronomical_Twilight</th>\n",
       "    </tr>\n",
       "  </thead>\n",
       "  <tbody>\n",
       "    <tr>\n",
       "      <th>2845337</th>\n",
       "      <td>A-2845338</td>\n",
       "      <td>2</td>\n",
       "      <td>2019-08-23 18:03:25</td>\n",
       "      <td>2019-08-23 18:32:01</td>\n",
       "      <td>34.00248</td>\n",
       "      <td>-117.37936</td>\n",
       "      <td>33.99888</td>\n",
       "      <td>-117.37094</td>\n",
       "      <td>0.543</td>\n",
       "      <td>At Market St - Accident.</td>\n",
       "      <td>...</td>\n",
       "      <td>False</td>\n",
       "      <td>False</td>\n",
       "      <td>False</td>\n",
       "      <td>False</td>\n",
       "      <td>False</td>\n",
       "      <td>False</td>\n",
       "      <td>Day</td>\n",
       "      <td>Day</td>\n",
       "      <td>Day</td>\n",
       "      <td>Day</td>\n",
       "    </tr>\n",
       "    <tr>\n",
       "      <th>2845338</th>\n",
       "      <td>A-2845339</td>\n",
       "      <td>2</td>\n",
       "      <td>2019-08-23 19:11:30</td>\n",
       "      <td>2019-08-23 19:38:23</td>\n",
       "      <td>32.76696</td>\n",
       "      <td>-117.14806</td>\n",
       "      <td>32.76555</td>\n",
       "      <td>-117.15363</td>\n",
       "      <td>0.338</td>\n",
       "      <td>At Camino Del Rio/Mission Center Rd - Accident.</td>\n",
       "      <td>...</td>\n",
       "      <td>False</td>\n",
       "      <td>False</td>\n",
       "      <td>False</td>\n",
       "      <td>False</td>\n",
       "      <td>False</td>\n",
       "      <td>False</td>\n",
       "      <td>Day</td>\n",
       "      <td>Day</td>\n",
       "      <td>Day</td>\n",
       "      <td>Day</td>\n",
       "    </tr>\n",
       "    <tr>\n",
       "      <th>2845339</th>\n",
       "      <td>A-2845340</td>\n",
       "      <td>2</td>\n",
       "      <td>2019-08-23 19:00:21</td>\n",
       "      <td>2019-08-23 19:28:49</td>\n",
       "      <td>33.77545</td>\n",
       "      <td>-117.84779</td>\n",
       "      <td>33.77740</td>\n",
       "      <td>-117.85727</td>\n",
       "      <td>0.561</td>\n",
       "      <td>At Glassell St/Grand Ave - Accident. in the ri...</td>\n",
       "      <td>...</td>\n",
       "      <td>False</td>\n",
       "      <td>False</td>\n",
       "      <td>False</td>\n",
       "      <td>False</td>\n",
       "      <td>False</td>\n",
       "      <td>False</td>\n",
       "      <td>Day</td>\n",
       "      <td>Day</td>\n",
       "      <td>Day</td>\n",
       "      <td>Day</td>\n",
       "    </tr>\n",
       "    <tr>\n",
       "      <th>2845340</th>\n",
       "      <td>A-2845341</td>\n",
       "      <td>2</td>\n",
       "      <td>2019-08-23 19:00:21</td>\n",
       "      <td>2019-08-23 19:29:42</td>\n",
       "      <td>33.99246</td>\n",
       "      <td>-118.40302</td>\n",
       "      <td>33.98311</td>\n",
       "      <td>-118.39565</td>\n",
       "      <td>0.772</td>\n",
       "      <td>At CA-90/Marina Fwy/Jefferson Blvd - Accident.</td>\n",
       "      <td>...</td>\n",
       "      <td>False</td>\n",
       "      <td>False</td>\n",
       "      <td>False</td>\n",
       "      <td>False</td>\n",
       "      <td>False</td>\n",
       "      <td>False</td>\n",
       "      <td>Day</td>\n",
       "      <td>Day</td>\n",
       "      <td>Day</td>\n",
       "      <td>Day</td>\n",
       "    </tr>\n",
       "    <tr>\n",
       "      <th>2845341</th>\n",
       "      <td>A-2845342</td>\n",
       "      <td>2</td>\n",
       "      <td>2019-08-23 18:52:06</td>\n",
       "      <td>2019-08-23 19:21:31</td>\n",
       "      <td>34.13393</td>\n",
       "      <td>-117.23092</td>\n",
       "      <td>34.13736</td>\n",
       "      <td>-117.23934</td>\n",
       "      <td>0.537</td>\n",
       "      <td>At Highland Ave/Arden Ave - Accident.</td>\n",
       "      <td>...</td>\n",
       "      <td>False</td>\n",
       "      <td>False</td>\n",
       "      <td>False</td>\n",
       "      <td>False</td>\n",
       "      <td>False</td>\n",
       "      <td>False</td>\n",
       "      <td>Day</td>\n",
       "      <td>Day</td>\n",
       "      <td>Day</td>\n",
       "      <td>Day</td>\n",
       "    </tr>\n",
       "  </tbody>\n",
       "</table>\n",
       "<p>5 rows × 47 columns</p>\n",
       "</div>"
      ],
      "text/plain": [
       "                ID  Severity           Start_Time             End_Time  \\\n",
       "2845337  A-2845338         2  2019-08-23 18:03:25  2019-08-23 18:32:01   \n",
       "2845338  A-2845339         2  2019-08-23 19:11:30  2019-08-23 19:38:23   \n",
       "2845339  A-2845340         2  2019-08-23 19:00:21  2019-08-23 19:28:49   \n",
       "2845340  A-2845341         2  2019-08-23 19:00:21  2019-08-23 19:29:42   \n",
       "2845341  A-2845342         2  2019-08-23 18:52:06  2019-08-23 19:21:31   \n",
       "\n",
       "         Start_Lat  Start_Lng   End_Lat    End_Lng  Distance(mi)  \\\n",
       "2845337   34.00248 -117.37936  33.99888 -117.37094         0.543   \n",
       "2845338   32.76696 -117.14806  32.76555 -117.15363         0.338   \n",
       "2845339   33.77545 -117.84779  33.77740 -117.85727         0.561   \n",
       "2845340   33.99246 -118.40302  33.98311 -118.39565         0.772   \n",
       "2845341   34.13393 -117.23092  34.13736 -117.23934         0.537   \n",
       "\n",
       "                                               Description  ...  Roundabout  \\\n",
       "2845337                           At Market St - Accident.  ...       False   \n",
       "2845338    At Camino Del Rio/Mission Center Rd - Accident.  ...       False   \n",
       "2845339  At Glassell St/Grand Ave - Accident. in the ri...  ...       False   \n",
       "2845340     At CA-90/Marina Fwy/Jefferson Blvd - Accident.  ...       False   \n",
       "2845341              At Highland Ave/Arden Ave - Accident.  ...       False   \n",
       "\n",
       "        Station   Stop Traffic_Calming Traffic_Signal Turning_Loop  \\\n",
       "2845337   False  False           False          False        False   \n",
       "2845338   False  False           False          False        False   \n",
       "2845339   False  False           False          False        False   \n",
       "2845340   False  False           False          False        False   \n",
       "2845341   False  False           False          False        False   \n",
       "\n",
       "        Sunrise_Sunset Civil_Twilight Nautical_Twilight Astronomical_Twilight  \n",
       "2845337            Day            Day               Day                   Day  \n",
       "2845338            Day            Day               Day                   Day  \n",
       "2845339            Day            Day               Day                   Day  \n",
       "2845340            Day            Day               Day                   Day  \n",
       "2845341            Day            Day               Day                   Day  \n",
       "\n",
       "[5 rows x 47 columns]"
      ]
     },
     "execution_count": 8,
     "metadata": {},
     "output_type": "execute_result"
    }
   ],
   "source": [
    "data_set.tail()"
   ]
  },
  {
   "cell_type": "code",
   "execution_count": 9,
   "id": "b03446c0",
   "metadata": {
    "execution": {
     "iopub.execute_input": "2022-04-02T10:07:14.886179Z",
     "iopub.status.busy": "2022-04-02T10:07:14.885174Z",
     "iopub.status.idle": "2022-04-02T10:07:16.469220Z",
     "shell.execute_reply": "2022-04-02T10:07:16.468562Z",
     "shell.execute_reply.started": "2022-04-02T09:04:04.884823Z"
    },
    "papermill": {
     "duration": 1.637162,
     "end_time": "2022-04-02T10:07:16.469361",
     "exception": false,
     "start_time": "2022-04-02T10:07:14.832199",
     "status": "completed"
    },
    "tags": []
   },
   "outputs": [
    {
     "data": {
      "text/html": [
       "<div>\n",
       "<style scoped>\n",
       "    .dataframe tbody tr th:only-of-type {\n",
       "        vertical-align: middle;\n",
       "    }\n",
       "\n",
       "    .dataframe tbody tr th {\n",
       "        vertical-align: top;\n",
       "    }\n",
       "\n",
       "    .dataframe thead th {\n",
       "        text-align: right;\n",
       "    }\n",
       "</style>\n",
       "<table border=\"1\" class=\"dataframe\">\n",
       "  <thead>\n",
       "    <tr style=\"text-align: right;\">\n",
       "      <th></th>\n",
       "      <th>Severity</th>\n",
       "      <th>Start_Lat</th>\n",
       "      <th>Start_Lng</th>\n",
       "      <th>End_Lat</th>\n",
       "      <th>End_Lng</th>\n",
       "      <th>Distance(mi)</th>\n",
       "      <th>Number</th>\n",
       "      <th>Temperature(F)</th>\n",
       "      <th>Wind_Chill(F)</th>\n",
       "      <th>Humidity(%)</th>\n",
       "      <th>Pressure(in)</th>\n",
       "      <th>Visibility(mi)</th>\n",
       "      <th>Wind_Speed(mph)</th>\n",
       "      <th>Precipitation(in)</th>\n",
       "    </tr>\n",
       "  </thead>\n",
       "  <tbody>\n",
       "    <tr>\n",
       "      <th>count</th>\n",
       "      <td>2.845342e+06</td>\n",
       "      <td>2.845342e+06</td>\n",
       "      <td>2.845342e+06</td>\n",
       "      <td>2.845342e+06</td>\n",
       "      <td>2.845342e+06</td>\n",
       "      <td>2.845342e+06</td>\n",
       "      <td>1.101431e+06</td>\n",
       "      <td>2.776068e+06</td>\n",
       "      <td>2.375699e+06</td>\n",
       "      <td>2.772250e+06</td>\n",
       "      <td>2.786142e+06</td>\n",
       "      <td>2.774796e+06</td>\n",
       "      <td>2.687398e+06</td>\n",
       "      <td>2.295884e+06</td>\n",
       "    </tr>\n",
       "    <tr>\n",
       "      <th>mean</th>\n",
       "      <td>2.137572e+00</td>\n",
       "      <td>3.624520e+01</td>\n",
       "      <td>-9.711463e+01</td>\n",
       "      <td>3.624532e+01</td>\n",
       "      <td>-9.711439e+01</td>\n",
       "      <td>7.026779e-01</td>\n",
       "      <td>8.089408e+03</td>\n",
       "      <td>6.179356e+01</td>\n",
       "      <td>5.965823e+01</td>\n",
       "      <td>6.436545e+01</td>\n",
       "      <td>2.947234e+01</td>\n",
       "      <td>9.099391e+00</td>\n",
       "      <td>7.395044e+00</td>\n",
       "      <td>7.016940e-03</td>\n",
       "    </tr>\n",
       "    <tr>\n",
       "      <th>std</th>\n",
       "      <td>4.787216e-01</td>\n",
       "      <td>5.363797e+00</td>\n",
       "      <td>1.831782e+01</td>\n",
       "      <td>5.363873e+00</td>\n",
       "      <td>1.831763e+01</td>\n",
       "      <td>1.560361e+00</td>\n",
       "      <td>1.836009e+04</td>\n",
       "      <td>1.862263e+01</td>\n",
       "      <td>2.116097e+01</td>\n",
       "      <td>2.287457e+01</td>\n",
       "      <td>1.045286e+00</td>\n",
       "      <td>2.717546e+00</td>\n",
       "      <td>5.527454e+00</td>\n",
       "      <td>9.348831e-02</td>\n",
       "    </tr>\n",
       "    <tr>\n",
       "      <th>min</th>\n",
       "      <td>1.000000e+00</td>\n",
       "      <td>2.456603e+01</td>\n",
       "      <td>-1.245481e+02</td>\n",
       "      <td>2.456601e+01</td>\n",
       "      <td>-1.245457e+02</td>\n",
       "      <td>0.000000e+00</td>\n",
       "      <td>0.000000e+00</td>\n",
       "      <td>-8.900000e+01</td>\n",
       "      <td>-8.900000e+01</td>\n",
       "      <td>1.000000e+00</td>\n",
       "      <td>0.000000e+00</td>\n",
       "      <td>0.000000e+00</td>\n",
       "      <td>0.000000e+00</td>\n",
       "      <td>0.000000e+00</td>\n",
       "    </tr>\n",
       "    <tr>\n",
       "      <th>25%</th>\n",
       "      <td>2.000000e+00</td>\n",
       "      <td>3.344517e+01</td>\n",
       "      <td>-1.180331e+02</td>\n",
       "      <td>3.344628e+01</td>\n",
       "      <td>-1.180333e+02</td>\n",
       "      <td>5.200000e-02</td>\n",
       "      <td>1.270000e+03</td>\n",
       "      <td>5.000000e+01</td>\n",
       "      <td>4.600000e+01</td>\n",
       "      <td>4.800000e+01</td>\n",
       "      <td>2.931000e+01</td>\n",
       "      <td>1.000000e+01</td>\n",
       "      <td>3.500000e+00</td>\n",
       "      <td>0.000000e+00</td>\n",
       "    </tr>\n",
       "    <tr>\n",
       "      <th>50%</th>\n",
       "      <td>2.000000e+00</td>\n",
       "      <td>3.609861e+01</td>\n",
       "      <td>-9.241808e+01</td>\n",
       "      <td>3.609799e+01</td>\n",
       "      <td>-9.241772e+01</td>\n",
       "      <td>2.440000e-01</td>\n",
       "      <td>4.007000e+03</td>\n",
       "      <td>6.400000e+01</td>\n",
       "      <td>6.300000e+01</td>\n",
       "      <td>6.700000e+01</td>\n",
       "      <td>2.982000e+01</td>\n",
       "      <td>1.000000e+01</td>\n",
       "      <td>7.000000e+00</td>\n",
       "      <td>0.000000e+00</td>\n",
       "    </tr>\n",
       "    <tr>\n",
       "      <th>75%</th>\n",
       "      <td>2.000000e+00</td>\n",
       "      <td>4.016024e+01</td>\n",
       "      <td>-8.037243e+01</td>\n",
       "      <td>4.016105e+01</td>\n",
       "      <td>-8.037338e+01</td>\n",
       "      <td>7.640000e-01</td>\n",
       "      <td>9.567000e+03</td>\n",
       "      <td>7.600000e+01</td>\n",
       "      <td>7.600000e+01</td>\n",
       "      <td>8.300000e+01</td>\n",
       "      <td>3.001000e+01</td>\n",
       "      <td>1.000000e+01</td>\n",
       "      <td>1.000000e+01</td>\n",
       "      <td>0.000000e+00</td>\n",
       "    </tr>\n",
       "    <tr>\n",
       "      <th>max</th>\n",
       "      <td>4.000000e+00</td>\n",
       "      <td>4.900058e+01</td>\n",
       "      <td>-6.711317e+01</td>\n",
       "      <td>4.907500e+01</td>\n",
       "      <td>-6.710924e+01</td>\n",
       "      <td>1.551860e+02</td>\n",
       "      <td>9.999997e+06</td>\n",
       "      <td>1.960000e+02</td>\n",
       "      <td>1.960000e+02</td>\n",
       "      <td>1.000000e+02</td>\n",
       "      <td>5.890000e+01</td>\n",
       "      <td>1.400000e+02</td>\n",
       "      <td>1.087000e+03</td>\n",
       "      <td>2.400000e+01</td>\n",
       "    </tr>\n",
       "  </tbody>\n",
       "</table>\n",
       "</div>"
      ],
      "text/plain": [
       "           Severity     Start_Lat     Start_Lng       End_Lat       End_Lng  \\\n",
       "count  2.845342e+06  2.845342e+06  2.845342e+06  2.845342e+06  2.845342e+06   \n",
       "mean   2.137572e+00  3.624520e+01 -9.711463e+01  3.624532e+01 -9.711439e+01   \n",
       "std    4.787216e-01  5.363797e+00  1.831782e+01  5.363873e+00  1.831763e+01   \n",
       "min    1.000000e+00  2.456603e+01 -1.245481e+02  2.456601e+01 -1.245457e+02   \n",
       "25%    2.000000e+00  3.344517e+01 -1.180331e+02  3.344628e+01 -1.180333e+02   \n",
       "50%    2.000000e+00  3.609861e+01 -9.241808e+01  3.609799e+01 -9.241772e+01   \n",
       "75%    2.000000e+00  4.016024e+01 -8.037243e+01  4.016105e+01 -8.037338e+01   \n",
       "max    4.000000e+00  4.900058e+01 -6.711317e+01  4.907500e+01 -6.710924e+01   \n",
       "\n",
       "       Distance(mi)        Number  Temperature(F)  Wind_Chill(F)  \\\n",
       "count  2.845342e+06  1.101431e+06    2.776068e+06   2.375699e+06   \n",
       "mean   7.026779e-01  8.089408e+03    6.179356e+01   5.965823e+01   \n",
       "std    1.560361e+00  1.836009e+04    1.862263e+01   2.116097e+01   \n",
       "min    0.000000e+00  0.000000e+00   -8.900000e+01  -8.900000e+01   \n",
       "25%    5.200000e-02  1.270000e+03    5.000000e+01   4.600000e+01   \n",
       "50%    2.440000e-01  4.007000e+03    6.400000e+01   6.300000e+01   \n",
       "75%    7.640000e-01  9.567000e+03    7.600000e+01   7.600000e+01   \n",
       "max    1.551860e+02  9.999997e+06    1.960000e+02   1.960000e+02   \n",
       "\n",
       "        Humidity(%)  Pressure(in)  Visibility(mi)  Wind_Speed(mph)  \\\n",
       "count  2.772250e+06  2.786142e+06    2.774796e+06     2.687398e+06   \n",
       "mean   6.436545e+01  2.947234e+01    9.099391e+00     7.395044e+00   \n",
       "std    2.287457e+01  1.045286e+00    2.717546e+00     5.527454e+00   \n",
       "min    1.000000e+00  0.000000e+00    0.000000e+00     0.000000e+00   \n",
       "25%    4.800000e+01  2.931000e+01    1.000000e+01     3.500000e+00   \n",
       "50%    6.700000e+01  2.982000e+01    1.000000e+01     7.000000e+00   \n",
       "75%    8.300000e+01  3.001000e+01    1.000000e+01     1.000000e+01   \n",
       "max    1.000000e+02  5.890000e+01    1.400000e+02     1.087000e+03   \n",
       "\n",
       "       Precipitation(in)  \n",
       "count       2.295884e+06  \n",
       "mean        7.016940e-03  \n",
       "std         9.348831e-02  \n",
       "min         0.000000e+00  \n",
       "25%         0.000000e+00  \n",
       "50%         0.000000e+00  \n",
       "75%         0.000000e+00  \n",
       "max         2.400000e+01  "
      ]
     },
     "execution_count": 9,
     "metadata": {},
     "output_type": "execute_result"
    }
   ],
   "source": [
    "data_set.describe()"
   ]
  },
  {
   "cell_type": "code",
   "execution_count": 10,
   "id": "f165c1ec",
   "metadata": {
    "execution": {
     "iopub.execute_input": "2022-04-02T10:07:16.582879Z",
     "iopub.status.busy": "2022-04-02T10:07:16.582129Z",
     "iopub.status.idle": "2022-04-02T10:07:16.692054Z",
     "shell.execute_reply": "2022-04-02T10:07:16.691403Z",
     "shell.execute_reply.started": "2022-04-02T09:04:06.534024Z"
    },
    "papermill": {
     "duration": 0.175145,
     "end_time": "2022-04-02T10:07:16.692218",
     "exception": false,
     "start_time": "2022-04-02T10:07:16.517073",
     "status": "completed"
    },
    "tags": []
   },
   "outputs": [
    {
     "data": {
      "text/plain": [
       "14"
      ]
     },
     "execution_count": 10,
     "metadata": {},
     "output_type": "execute_result"
    }
   ],
   "source": [
    "numerics = ['int16', 'int32', 'int64', 'float16', 'float32', 'float64']\n",
    "numeric_ds = data_set.select_dtypes(include=numerics)\n",
    "len(numeric_ds.columns)"
   ]
  },
  {
   "cell_type": "code",
   "execution_count": 11,
   "id": "0f9eb6fd",
   "metadata": {
    "execution": {
     "iopub.execute_input": "2022-04-02T10:07:16.791376Z",
     "iopub.status.busy": "2022-04-02T10:07:16.790627Z",
     "iopub.status.idle": "2022-04-02T10:07:17.420541Z",
     "shell.execute_reply": "2022-04-02T10:07:17.419841Z",
     "shell.execute_reply.started": "2022-04-02T09:04:06.713541Z"
    },
    "papermill": {
     "duration": 0.681131,
     "end_time": "2022-04-02T10:07:17.420708",
     "exception": false,
     "start_time": "2022-04-02T10:07:16.739577",
     "status": "completed"
    },
    "tags": []
   },
   "outputs": [
    {
     "data": {
      "text/plain": [
       "33"
      ]
     },
     "execution_count": 11,
     "metadata": {},
     "output_type": "execute_result"
    }
   ],
   "source": [
    "numerics = ['int16', 'int32', 'int64', 'float16', 'float32', 'float64']\n",
    "numeric_ds = data_set.select_dtypes(exclude=numerics)\n",
    "len(numeric_ds.columns)"
   ]
  },
  {
   "cell_type": "markdown",
   "id": "e091e370",
   "metadata": {
    "papermill": {
     "duration": 0.049424,
     "end_time": "2022-04-02T10:07:17.518746",
     "exception": false,
     "start_time": "2022-04-02T10:07:17.469322",
     "status": "completed"
    },
    "tags": []
   },
   "source": [
    "Percentage of missing values per column"
   ]
  },
  {
   "cell_type": "code",
   "execution_count": 12,
   "id": "bf6441ee",
   "metadata": {
    "execution": {
     "iopub.execute_input": "2022-04-02T10:07:17.620134Z",
     "iopub.status.busy": "2022-04-02T10:07:17.619421Z",
     "iopub.status.idle": "2022-04-02T10:07:23.984947Z",
     "shell.execute_reply": "2022-04-02T10:07:23.984235Z",
     "shell.execute_reply.started": "2022-04-02T09:04:07.419713Z"
    },
    "papermill": {
     "duration": 6.417096,
     "end_time": "2022-04-02T10:07:23.985138",
     "exception": false,
     "start_time": "2022-04-02T10:07:17.568042",
     "status": "completed"
    },
    "tags": []
   },
   "outputs": [
    {
     "data": {
      "text/plain": [
       "Number                   1743911\n",
       "Precipitation(in)         549458\n",
       "Wind_Chill(F)             469643\n",
       "Wind_Speed(mph)           157944\n",
       "Wind_Direction             73775\n",
       "Humidity(%)                73092\n",
       "Weather_Condition          70636\n",
       "Visibility(mi)             70546\n",
       "Temperature(F)             69274\n",
       "Pressure(in)               59200\n",
       "Weather_Timestamp          50736\n",
       "Airport_Code                9549\n",
       "Timezone                    3659\n",
       "Nautical_Twilight           2867\n",
       "Civil_Twilight              2867\n",
       "Sunrise_Sunset              2867\n",
       "Astronomical_Twilight       2867\n",
       "Zipcode                     1319\n",
       "City                         137\n",
       "Street                         2\n",
       "Country                        0\n",
       "Junction                       0\n",
       "Start_Time                     0\n",
       "End_Time                       0\n",
       "Start_Lat                      0\n",
       "Turning_Loop                   0\n",
       "Traffic_Signal                 0\n",
       "Traffic_Calming                0\n",
       "Stop                           0\n",
       "Station                        0\n",
       "Roundabout                     0\n",
       "Railway                        0\n",
       "No_Exit                        0\n",
       "Crossing                       0\n",
       "Give_Way                       0\n",
       "Bump                           0\n",
       "Amenity                        0\n",
       "Start_Lng                      0\n",
       "End_Lat                        0\n",
       "End_Lng                        0\n",
       "Distance(mi)                   0\n",
       "Description                    0\n",
       "Severity                       0\n",
       "Side                           0\n",
       "County                         0\n",
       "State                          0\n",
       "ID                             0\n",
       "dtype: int64"
      ]
     },
     "execution_count": 12,
     "metadata": {},
     "output_type": "execute_result"
    }
   ],
   "source": [
    "data_set.isna().sum().sort_values(ascending=False)"
   ]
  },
  {
   "cell_type": "code",
   "execution_count": 13,
   "id": "6a57ea23",
   "metadata": {
    "execution": {
     "iopub.execute_input": "2022-04-02T10:07:24.102140Z",
     "iopub.status.busy": "2022-04-02T10:07:24.101003Z",
     "iopub.status.idle": "2022-04-02T10:07:30.502249Z",
     "shell.execute_reply": "2022-04-02T10:07:30.502822Z",
     "shell.execute_reply.started": "2022-04-02T09:04:13.949802Z"
    },
    "papermill": {
     "duration": 6.462389,
     "end_time": "2022-04-02T10:07:30.503033",
     "exception": false,
     "start_time": "2022-04-02T10:07:24.040644",
     "status": "completed"
    },
    "tags": []
   },
   "outputs": [
    {
     "data": {
      "text/plain": [
       "Number                   6.129003e-01\n",
       "Precipitation(in)        1.931079e-01\n",
       "Wind_Chill(F)            1.650568e-01\n",
       "Wind_Speed(mph)          5.550967e-02\n",
       "Wind_Direction           2.592834e-02\n",
       "Humidity(%)              2.568830e-02\n",
       "Weather_Condition        2.482514e-02\n",
       "Visibility(mi)           2.479350e-02\n",
       "Temperature(F)           2.434646e-02\n",
       "Pressure(in)             2.080593e-02\n",
       "Weather_Timestamp        1.783125e-02\n",
       "Airport_Code             3.356011e-03\n",
       "Timezone                 1.285961e-03\n",
       "Nautical_Twilight        1.007612e-03\n",
       "Civil_Twilight           1.007612e-03\n",
       "Sunrise_Sunset           1.007612e-03\n",
       "Astronomical_Twilight    1.007612e-03\n",
       "Zipcode                  4.635647e-04\n",
       "City                     4.814887e-05\n",
       "Street                   7.029032e-07\n",
       "Country                  0.000000e+00\n",
       "Junction                 0.000000e+00\n",
       "Start_Time               0.000000e+00\n",
       "End_Time                 0.000000e+00\n",
       "Start_Lat                0.000000e+00\n",
       "Turning_Loop             0.000000e+00\n",
       "Traffic_Signal           0.000000e+00\n",
       "Traffic_Calming          0.000000e+00\n",
       "Stop                     0.000000e+00\n",
       "Station                  0.000000e+00\n",
       "Roundabout               0.000000e+00\n",
       "Railway                  0.000000e+00\n",
       "No_Exit                  0.000000e+00\n",
       "Crossing                 0.000000e+00\n",
       "Give_Way                 0.000000e+00\n",
       "Bump                     0.000000e+00\n",
       "Amenity                  0.000000e+00\n",
       "Start_Lng                0.000000e+00\n",
       "End_Lat                  0.000000e+00\n",
       "End_Lng                  0.000000e+00\n",
       "Distance(mi)             0.000000e+00\n",
       "Description              0.000000e+00\n",
       "Severity                 0.000000e+00\n",
       "Side                     0.000000e+00\n",
       "County                   0.000000e+00\n",
       "State                    0.000000e+00\n",
       "ID                       0.000000e+00\n",
       "dtype: float64"
      ]
     },
     "execution_count": 13,
     "metadata": {},
     "output_type": "execute_result"
    }
   ],
   "source": [
    "missing_percentages = data_set.isna().sum().sort_values(ascending=False)/len(data_set)\n",
    "missing_percentages"
   ]
  },
  {
   "cell_type": "code",
   "execution_count": 14,
   "id": "deda50bd",
   "metadata": {
    "execution": {
     "iopub.execute_input": "2022-04-02T10:07:30.608678Z",
     "iopub.status.busy": "2022-04-02T10:07:30.607972Z",
     "iopub.status.idle": "2022-04-02T10:07:30.615148Z",
     "shell.execute_reply": "2022-04-02T10:07:30.615783Z",
     "shell.execute_reply.started": "2022-04-02T09:04:20.283948Z"
    },
    "papermill": {
     "duration": 0.061248,
     "end_time": "2022-04-02T10:07:30.615992",
     "exception": false,
     "start_time": "2022-04-02T10:07:30.554744",
     "status": "completed"
    },
    "tags": []
   },
   "outputs": [
    {
     "data": {
      "text/plain": [
       "Number                   6.129003e-01\n",
       "Precipitation(in)        1.931079e-01\n",
       "Wind_Chill(F)            1.650568e-01\n",
       "Wind_Speed(mph)          5.550967e-02\n",
       "Wind_Direction           2.592834e-02\n",
       "Humidity(%)              2.568830e-02\n",
       "Weather_Condition        2.482514e-02\n",
       "Visibility(mi)           2.479350e-02\n",
       "Temperature(F)           2.434646e-02\n",
       "Pressure(in)             2.080593e-02\n",
       "Weather_Timestamp        1.783125e-02\n",
       "Airport_Code             3.356011e-03\n",
       "Timezone                 1.285961e-03\n",
       "Nautical_Twilight        1.007612e-03\n",
       "Civil_Twilight           1.007612e-03\n",
       "Sunrise_Sunset           1.007612e-03\n",
       "Astronomical_Twilight    1.007612e-03\n",
       "Zipcode                  4.635647e-04\n",
       "City                     4.814887e-05\n",
       "Street                   7.029032e-07\n",
       "dtype: float64"
      ]
     },
     "execution_count": 14,
     "metadata": {},
     "output_type": "execute_result"
    }
   ],
   "source": [
    "missing_percentages[missing_percentages !=0]"
   ]
  },
  {
   "cell_type": "code",
   "execution_count": 15,
   "id": "0d1f7591",
   "metadata": {
    "execution": {
     "iopub.execute_input": "2022-04-02T10:07:30.721710Z",
     "iopub.status.busy": "2022-04-02T10:07:30.720970Z",
     "iopub.status.idle": "2022-04-02T10:07:31.097171Z",
     "shell.execute_reply": "2022-04-02T10:07:31.096394Z",
     "shell.execute_reply.started": "2022-04-02T09:04:20.296310Z"
    },
    "papermill": {
     "duration": 0.429718,
     "end_time": "2022-04-02T10:07:31.097342",
     "exception": false,
     "start_time": "2022-04-02T10:07:30.667624",
     "status": "completed"
    },
    "tags": []
   },
   "outputs": [
    {
     "data": {
      "text/plain": [
       "<AxesSubplot:>"
      ]
     },
     "execution_count": 15,
     "metadata": {},
     "output_type": "execute_result"
    },
    {
     "data": {
      "image/png": "[encoded data removed]",
      "text/plain": [
       "<Figure size 432x288 with 1 Axes>"
      ]
     },
     "metadata": {
      "needs_background": "light"
     },
     "output_type": "display_data"
    }
   ],
   "source": [
    "missing_percentages[missing_percentages !=0].plot(kind='barh')"
   ]
  },
  {
   "cell_type": "markdown",
   "id": "4185a34b",
   "metadata": {
    "papermill": {
     "duration": 0.055608,
     "end_time": "2022-04-02T10:07:31.206341",
     "exception": false,
     "start_time": "2022-04-02T10:07:31.150733",
     "status": "completed"
    },
    "tags": []
   },
   "source": [
    "# Exploratory Analysis and Visualization\n",
    "* City\n",
    "* Start time\n",
    "* Start lat, start long\n",
    "* Temperature\n",
    "* Weather condition"
   ]
  },
  {
   "cell_type": "code",
   "execution_count": 16,
   "id": "e873f192",
   "metadata": {
    "execution": {
     "iopub.execute_input": "2022-04-02T10:07:31.325184Z",
     "iopub.status.busy": "2022-04-02T10:07:31.324466Z",
     "iopub.status.idle": "2022-04-02T10:07:31.327100Z",
     "shell.execute_reply": "2022-04-02T10:07:31.327706Z",
     "shell.execute_reply.started": "2022-04-02T09:04:20.707272Z"
    },
    "papermill": {
     "duration": 0.067287,
     "end_time": "2022-04-02T10:07:31.327886",
     "exception": false,
     "start_time": "2022-04-02T10:07:31.260599",
     "status": "completed"
    },
    "tags": []
   },
   "outputs": [
    {
     "data": {
      "text/plain": [
       "Index(['ID', 'Severity', 'Start_Time', 'End_Time', 'Start_Lat', 'Start_Lng',\n",
       "       'End_Lat', 'End_Lng', 'Distance(mi)', 'Description', 'Number', 'Street',\n",
       "       'Side', 'City', 'County', 'State', 'Zipcode', 'Country', 'Timezone',\n",
       "       'Airport_Code', 'Weather_Timestamp', 'Temperature(F)', 'Wind_Chill(F)',\n",
       "       'Humidity(%)', 'Pressure(in)', 'Visibility(mi)', 'Wind_Direction',\n",
       "       'Wind_Speed(mph)', 'Precipitation(in)', 'Weather_Condition', 'Amenity',\n",
       "       'Bump', 'Crossing', 'Give_Way', 'Junction', 'No_Exit', 'Railway',\n",
       "       'Roundabout', 'Station', 'Stop', 'Traffic_Calming', 'Traffic_Signal',\n",
       "       'Turning_Loop', 'Sunrise_Sunset', 'Civil_Twilight', 'Nautical_Twilight',\n",
       "       'Astronomical_Twilight'],\n",
       "      dtype='object')"
      ]
     },
     "execution_count": 16,
     "metadata": {},
     "output_type": "execute_result"
    }
   ],
   "source": [
    "data_set.columns"
   ]
  },
  {
   "cell_type": "markdown",
   "id": "b596830e",
   "metadata": {
    "papermill": {
     "duration": 0.061378,
     "end_time": "2022-04-02T10:07:31.440924",
     "exception": false,
     "start_time": "2022-04-02T10:07:31.379546",
     "status": "completed"
    },
    "tags": []
   },
   "source": [
    "# Cities"
   ]
  },
  {
   "cell_type": "code",
   "execution_count": 17,
   "id": "d24107af",
   "metadata": {
    "execution": {
     "iopub.execute_input": "2022-04-02T10:07:31.568839Z",
     "iopub.status.busy": "2022-04-02T10:07:31.568086Z",
     "iopub.status.idle": "2022-04-02T10:07:31.970604Z",
     "shell.execute_reply": "2022-04-02T10:07:31.971168Z",
     "shell.execute_reply.started": "2022-04-02T09:04:20.717722Z"
    },
    "papermill": {
     "duration": 0.458243,
     "end_time": "2022-04-02T10:07:31.971384",
     "exception": false,
     "start_time": "2022-04-02T10:07:31.513141",
     "status": "completed"
    },
    "tags": []
   },
   "outputs": [
    {
     "data": {
      "text/plain": [
       "11682"
      ]
     },
     "execution_count": 17,
     "metadata": {},
     "output_type": "execute_result"
    }
   ],
   "source": [
    "cities = data_set.City.unique()\n",
    "len(cities)"
   ]
  },
  {
   "cell_type": "code",
   "execution_count": 18,
   "id": "9a8784fb",
   "metadata": {
    "execution": {
     "iopub.execute_input": "2022-04-02T10:07:32.084071Z",
     "iopub.status.busy": "2022-04-02T10:07:32.083301Z",
     "iopub.status.idle": "2022-04-02T10:07:32.653698Z",
     "shell.execute_reply": "2022-04-02T10:07:32.654173Z",
     "shell.execute_reply.started": "2022-04-02T09:04:21.122024Z"
    },
    "papermill": {
     "duration": 0.629148,
     "end_time": "2022-04-02T10:07:32.654361",
     "exception": false,
     "start_time": "2022-04-02T10:07:32.025213",
     "status": "completed"
    },
    "tags": []
   },
   "outputs": [
    {
     "data": {
      "text/plain": [
       "Miami                           106966\n",
       "Los Angeles                      68956\n",
       "Orlando                          54691\n",
       "Dallas                           41979\n",
       "Houston                          39448\n",
       "                                 ...  \n",
       "De Graff                             1\n",
       "Township 9                           1\n",
       "Elida                                1\n",
       "Old Tappan                           1\n",
       "American Fork-Pleasant Grove         1\n",
       "Name: City, Length: 11681, dtype: int64"
      ]
     },
     "execution_count": 18,
     "metadata": {},
     "output_type": "execute_result"
    }
   ],
   "source": [
    "cities_by_accident = data_set.City.value_counts().sort_values(ascending=False)\n",
    "cities_by_accident"
   ]
  },
  {
   "cell_type": "code",
   "execution_count": 19,
   "id": "9e56e9da",
   "metadata": {
    "execution": {
     "iopub.execute_input": "2022-04-02T10:07:32.764903Z",
     "iopub.status.busy": "2022-04-02T10:07:32.764191Z",
     "iopub.status.idle": "2022-04-02T10:07:32.772367Z",
     "shell.execute_reply": "2022-04-02T10:07:32.772896Z",
     "shell.execute_reply.started": "2022-04-02T09:04:21.680676Z"
    },
    "papermill": {
     "duration": 0.06352,
     "end_time": "2022-04-02T10:07:32.773081",
     "exception": false,
     "start_time": "2022-04-02T10:07:32.709561",
     "status": "completed"
    },
    "tags": []
   },
   "outputs": [
    {
     "data": {
      "text/plain": [
       "Miami              106966\n",
       "Los Angeles         68956\n",
       "Orlando             54691\n",
       "Dallas              41979\n",
       "Houston             39448\n",
       "Charlotte           33152\n",
       "Sacramento          32559\n",
       "San Diego           26627\n",
       "Raleigh             22840\n",
       "Minneapolis         22768\n",
       "Portland            20944\n",
       "Nashville           20267\n",
       "Austin              18301\n",
       "Baton Rouge         18182\n",
       "Phoenix             17143\n",
       "Saint Paul          16869\n",
       "New Orleans         16251\n",
       "Atlanta             15622\n",
       "Jacksonville        14967\n",
       "Richmond            14349\n",
       "Tucson              13799\n",
       "San Jose            13377\n",
       "Riverside           13310\n",
       "Kansas City         13298\n",
       "Bakersfield         12044\n",
       "San Bernardino      11249\n",
       "Chicago             11188\n",
       "Tampa               10984\n",
       "Salt Lake City      10709\n",
       "Ontario             10538\n",
       "Anaheim             10502\n",
       "Hialeah             10398\n",
       "Fort Lauderdale     10345\n",
       "Oakland             10051\n",
       "Columbia             9885\n",
       "Corona               9763\n",
       "Washington           9624\n",
       "Bronx                9453\n",
       "Rochester            9335\n",
       "Chattanooga          9205\n",
       "Fresno               9025\n",
       "Long Beach           8898\n",
       "Seattle              8896\n",
       "Indianapolis         8328\n",
       "Denver               7960\n",
       "Philadelphia         7555\n",
       "Springfield          7543\n",
       "Greenville           7361\n",
       "Detroit              7344\n",
       "Whittier             7184\n",
       "Name: City, dtype: int64"
      ]
     },
     "execution_count": 19,
     "metadata": {},
     "output_type": "execute_result"
    }
   ],
   "source": [
    "cities_by_accident[:50]"
   ]
  },
  {
   "cell_type": "code",
   "execution_count": 20,
   "id": "8eb07e3c",
   "metadata": {
    "execution": {
     "iopub.execute_input": "2022-04-02T10:07:32.888683Z",
     "iopub.status.busy": "2022-04-02T10:07:32.888011Z",
     "iopub.status.idle": "2022-04-02T10:07:32.891338Z",
     "shell.execute_reply": "2022-04-02T10:07:32.891903Z",
     "shell.execute_reply.started": "2022-04-02T09:04:21.692055Z"
    },
    "papermill": {
     "duration": 0.063784,
     "end_time": "2022-04-02T10:07:32.892087",
     "exception": false,
     "start_time": "2022-04-02T10:07:32.828303",
     "status": "completed"
    },
    "tags": []
   },
   "outputs": [
    {
     "data": {
      "text/plain": [
       "False"
      ]
     },
     "execution_count": 20,
     "metadata": {},
     "output_type": "execute_result"
    }
   ],
   "source": [
    "'New york' in data_set.City"
   ]
  },
  {
   "cell_type": "code",
   "execution_count": 21,
   "id": "f1709ed7",
   "metadata": {
    "execution": {
     "iopub.execute_input": "2022-04-02T10:07:33.002480Z",
     "iopub.status.busy": "2022-04-02T10:07:33.001820Z",
     "iopub.status.idle": "2022-04-02T10:07:33.006827Z",
     "shell.execute_reply": "2022-04-02T10:07:33.007311Z",
     "shell.execute_reply.started": "2022-04-02T09:04:21.707962Z"
    },
    "papermill": {
     "duration": 0.061878,
     "end_time": "2022-04-02T10:07:33.007516",
     "exception": false,
     "start_time": "2022-04-02T10:07:32.945638",
     "status": "completed"
    },
    "tags": []
   },
   "outputs": [
    {
     "data": {
      "text/plain": [
       "False"
      ]
     },
     "execution_count": 21,
     "metadata": {},
     "output_type": "execute_result"
    }
   ],
   "source": [
    "'NY' in data_set.State"
   ]
  },
  {
   "cell_type": "code",
   "execution_count": 22,
   "id": "bb5f7674",
   "metadata": {
    "execution": {
     "iopub.execute_input": "2022-04-02T10:07:33.122196Z",
     "iopub.status.busy": "2022-04-02T10:07:33.121478Z",
     "iopub.status.idle": "2022-04-02T10:07:33.431387Z",
     "shell.execute_reply": "2022-04-02T10:07:33.431941Z",
     "shell.execute_reply.started": "2022-04-02T09:04:21.722024Z"
    },
    "papermill": {
     "duration": 0.370964,
     "end_time": "2022-04-02T10:07:33.432140",
     "exception": false,
     "start_time": "2022-04-02T10:07:33.061176",
     "status": "completed"
    },
    "tags": []
   },
   "outputs": [
    {
     "data": {
      "text/plain": [
       "<AxesSubplot:>"
      ]
     },
     "execution_count": 22,
     "metadata": {},
     "output_type": "execute_result"
    },
    {
     "data": {
      "image/png": "[encoded data removed]",
      "text/plain": [
       "<Figure size 432x288 with 1 Axes>"
      ]
     },
     "metadata": {
      "needs_background": "light"
     },
     "output_type": "display_data"
    }
   ],
   "source": [
    "cities_by_accident[:20].plot(kind='barh')"
   ]
  },
  {
   "cell_type": "code",
   "execution_count": 23,
   "id": "f5a8212f",
   "metadata": {
    "execution": {
     "iopub.execute_input": "2022-04-02T10:07:33.545452Z",
     "iopub.status.busy": "2022-04-02T10:07:33.544788Z",
     "iopub.status.idle": "2022-04-02T10:07:33.548777Z",
     "shell.execute_reply": "2022-04-02T10:07:33.549309Z",
     "shell.execute_reply.started": "2022-04-02T09:04:22.043074Z"
    },
    "papermill": {
     "duration": 0.061789,
     "end_time": "2022-04-02T10:07:33.549488",
     "exception": false,
     "start_time": "2022-04-02T10:07:33.487699",
     "status": "completed"
    },
    "tags": []
   },
   "outputs": [],
   "source": [
    "sns.set_style(\"darkgrid\")"
   ]
  },
  {
   "cell_type": "code",
   "execution_count": 24,
   "id": "117881aa",
   "metadata": {
    "execution": {
     "iopub.execute_input": "2022-04-02T10:07:33.665018Z",
     "iopub.status.busy": "2022-04-02T10:07:33.664304Z",
     "iopub.status.idle": "2022-04-02T10:07:34.187694Z",
     "shell.execute_reply": "2022-04-02T10:07:34.187005Z",
     "shell.execute_reply.started": "2022-04-02T09:04:22.051189Z"
    },
    "papermill": {
     "duration": 0.582058,
     "end_time": "2022-04-02T10:07:34.187841",
     "exception": false,
     "start_time": "2022-04-02T10:07:33.605783",
     "status": "completed"
    },
    "tags": []
   },
   "outputs": [
    {
     "name": "stderr",
     "output_type": "stream",
     "text": [
      "/opt/conda/lib/python3.7/site-packages/seaborn/distributions.py:2619: FutureWarning: `distplot` is a deprecated function and will be removed in a future version. Please adapt your code to use either `displot` (a figure-level function with similar flexibility) or `histplot` (an axes-level function for histograms).\n",
      "  warnings.warn(msg, FutureWarning)\n"
     ]
    },
    {
     "data": {
      "text/plain": [
       "<AxesSubplot:xlabel='City', ylabel='Density'>"
      ]
     },
     "execution_count": 24,
     "metadata": {},
     "output_type": "execute_result"
    },
    {
     "data": {
      "image/png": "[encoded data removed]",
      "text/plain": [
       "<Figure size 432x288 with 1 Axes>"
      ]
     },
     "metadata": {},
     "output_type": "display_data"
    }
   ],
   "source": [
    "sns.distplot(cities_by_accident)"
   ]
  },
  {
   "cell_type": "code",
   "execution_count": 25,
   "id": "5c88a307",
   "metadata": {
    "execution": {
     "iopub.execute_input": "2022-04-02T10:07:34.304895Z",
     "iopub.status.busy": "2022-04-02T10:07:34.303760Z",
     "iopub.status.idle": "2022-04-02T10:07:34.309824Z",
     "shell.execute_reply": "2022-04-02T10:07:34.310419Z",
     "shell.execute_reply.started": "2022-04-02T09:04:22.560558Z"
    },
    "papermill": {
     "duration": 0.066729,
     "end_time": "2022-04-02T10:07:34.310621",
     "exception": false,
     "start_time": "2022-04-02T10:07:34.243892",
     "status": "completed"
    },
    "tags": []
   },
   "outputs": [],
   "source": [
    "high_accident_cities = cities_by_accident[cities_by_accident > 1000]\n",
    "low_accident_cities = cities_by_accident[cities_by_accident < 1000]"
   ]
  },
  {
   "cell_type": "code",
   "execution_count": 26,
   "id": "430f2e47",
   "metadata": {
    "execution": {
     "iopub.execute_input": "2022-04-02T10:07:34.435754Z",
     "iopub.status.busy": "2022-04-02T10:07:34.434868Z",
     "iopub.status.idle": "2022-04-02T10:07:34.438631Z",
     "shell.execute_reply": "2022-04-02T10:07:34.439125Z",
     "shell.execute_reply.started": "2022-04-02T09:04:22.569308Z"
    },
    "papermill": {
     "duration": 0.069856,
     "end_time": "2022-04-02T10:07:34.439303",
     "exception": false,
     "start_time": "2022-04-02T10:07:34.369447",
     "status": "completed"
    },
    "tags": []
   },
   "outputs": [
    {
     "data": {
      "text/plain": [
       "0.042290899751733585"
      ]
     },
     "execution_count": 26,
     "metadata": {},
     "output_type": "execute_result"
    }
   ],
   "source": [
    "len(high_accident_cities)/len(cities_by_accident)"
   ]
  },
  {
   "cell_type": "code",
   "execution_count": 27,
   "id": "90a6cb98",
   "metadata": {
    "execution": {
     "iopub.execute_input": "2022-04-02T10:07:34.558699Z",
     "iopub.status.busy": "2022-04-02T10:07:34.555236Z",
     "iopub.status.idle": "2022-04-02T10:07:34.561912Z",
     "shell.execute_reply": "2022-04-02T10:07:34.562485Z",
     "shell.execute_reply.started": "2022-04-02T09:04:22.582684Z"
    },
    "papermill": {
     "duration": 0.066405,
     "end_time": "2022-04-02T10:07:34.562686",
     "exception": false,
     "start_time": "2022-04-02T10:07:34.496281",
     "status": "completed"
    },
    "tags": []
   },
   "outputs": [
    {
     "data": {
      "text/plain": [
       "11185"
      ]
     },
     "execution_count": 27,
     "metadata": {},
     "output_type": "execute_result"
    }
   ],
   "source": [
    "len(low_accident_cities)"
   ]
  },
  {
   "cell_type": "code",
   "execution_count": 28,
   "id": "bc9b9664",
   "metadata": {
    "execution": {
     "iopub.execute_input": "2022-04-02T10:07:34.684023Z",
     "iopub.status.busy": "2022-04-02T10:07:34.683297Z",
     "iopub.status.idle": "2022-04-02T10:07:35.094337Z",
     "shell.execute_reply": "2022-04-02T10:07:35.094886Z",
     "shell.execute_reply.started": "2022-04-02T09:04:22.598458Z"
    },
    "papermill": {
     "duration": 0.474278,
     "end_time": "2022-04-02T10:07:35.095092",
     "exception": false,
     "start_time": "2022-04-02T10:07:34.620814",
     "status": "completed"
    },
    "tags": []
   },
   "outputs": [
    {
     "name": "stderr",
     "output_type": "stream",
     "text": [
      "/opt/conda/lib/python3.7/site-packages/seaborn/distributions.py:2619: FutureWarning: `distplot` is a deprecated function and will be removed in a future version. Please adapt your code to use either `displot` (a figure-level function with similar flexibility) or `histplot` (an axes-level function for histograms).\n",
      "  warnings.warn(msg, FutureWarning)\n"
     ]
    },
    {
     "data": {
      "text/plain": [
       "<AxesSubplot:xlabel='City', ylabel='Density'>"
      ]
     },
     "execution_count": 28,
     "metadata": {},
     "output_type": "execute_result"
    },
    {
     "data": {
      "image/png": "[encoded data removed]",
      "text/plain": [
       "<Figure size 432x288 with 1 Axes>"
      ]
     },
     "metadata": {},
     "output_type": "display_data"
    }
   ],
   "source": [
    "sns.distplot(high_accident_cities)"
   ]
  },
  {
   "cell_type": "code",
   "execution_count": 29,
   "id": "e46f9709",
   "metadata": {
    "execution": {
     "iopub.execute_input": "2022-04-02T10:07:35.220874Z",
     "iopub.status.busy": "2022-04-02T10:07:35.219785Z",
     "iopub.status.idle": "2022-04-02T10:07:35.692954Z",
     "shell.execute_reply": "2022-04-02T10:07:35.693644Z",
     "shell.execute_reply.started": "2022-04-02T09:04:23.003837Z"
    },
    "papermill": {
     "duration": 0.537459,
     "end_time": "2022-04-02T10:07:35.693841",
     "exception": false,
     "start_time": "2022-04-02T10:07:35.156382",
     "status": "completed"
    },
    "tags": []
   },
   "outputs": [
    {
     "name": "stderr",
     "output_type": "stream",
     "text": [
      "/opt/conda/lib/python3.7/site-packages/seaborn/distributions.py:2619: FutureWarning: `distplot` is a deprecated function and will be removed in a future version. Please adapt your code to use either `displot` (a figure-level function with similar flexibility) or `histplot` (an axes-level function for histograms).\n",
      "  warnings.warn(msg, FutureWarning)\n"
     ]
    },
    {
     "data": {
      "text/plain": [
       "<AxesSubplot:xlabel='City', ylabel='Density'>"
      ]
     },
     "execution_count": 29,
     "metadata": {},
     "output_type": "execute_result"
    },
    {
     "data": {
      "image/png": "[encoded data removed]",
      "text/plain": [
       "<Figure size 432x288 with 1 Axes>"
      ]
     },
     "metadata": {},
     "output_type": "display_data"
    }
   ],
   "source": [
    "sns.distplot(low_accident_cities)"
   ]
  },
  {
   "cell_type": "code",
   "execution_count": 30,
   "id": "8ec96edd",
   "metadata": {
    "execution": {
     "iopub.execute_input": "2022-04-02T10:07:35.822215Z",
     "iopub.status.busy": "2022-04-02T10:07:35.821151Z",
     "iopub.status.idle": "2022-04-02T10:07:37.393179Z",
     "shell.execute_reply": "2022-04-02T10:07:37.392598Z",
     "shell.execute_reply.started": "2022-04-02T09:04:23.501033Z"
    },
    "papermill": {
     "duration": 1.637754,
     "end_time": "2022-04-02T10:07:37.393328",
     "exception": false,
     "start_time": "2022-04-02T10:07:35.755574",
     "status": "completed"
    },
    "tags": []
   },
   "outputs": [
    {
     "data": {
      "text/plain": [
       "<AxesSubplot:xlabel='City', ylabel='Count'>"
      ]
     },
     "execution_count": 30,
     "metadata": {},
     "output_type": "execute_result"
    },
    {
     "data": {
      "image/png": "[encoded data removed]",
      "text/plain": [
       "<Figure size 432x288 with 1 Axes>"
      ]
     },
     "metadata": {},
     "output_type": "display_data"
    }
   ],
   "source": [
    "sns.histplot(cities_by_accident, log_scale=True)"
   ]
  },
  {
   "cell_type": "code",
   "execution_count": 31,
   "id": "d168fbeb",
   "metadata": {
    "execution": {
     "iopub.execute_input": "2022-04-02T10:07:37.531948Z",
     "iopub.status.busy": "2022-04-02T10:07:37.530945Z",
     "iopub.status.idle": "2022-04-02T10:07:37.534547Z",
     "shell.execute_reply": "2022-04-02T10:07:37.535072Z",
     "shell.execute_reply.started": "2022-04-02T09:04:25.067769Z"
    },
    "papermill": {
     "duration": 0.078788,
     "end_time": "2022-04-02T10:07:37.535255",
     "exception": false,
     "start_time": "2022-04-02T10:07:37.456467",
     "status": "completed"
    },
    "tags": []
   },
   "outputs": [
    {
     "data": {
      "text/plain": [
       "Wyandotte                       1\n",
       "Ponca                           1\n",
       "Cedar                           1\n",
       "Inchelium                       1\n",
       "Gerlach                         1\n",
       "                               ..\n",
       "De Graff                        1\n",
       "Township 9                      1\n",
       "Elida                           1\n",
       "Old Tappan                      1\n",
       "American Fork-Pleasant Grove    1\n",
       "Name: City, Length: 1110, dtype: int64"
      ]
     },
     "execution_count": 31,
     "metadata": {},
     "output_type": "execute_result"
    }
   ],
   "source": [
    "cities_by_accident[cities_by_accident == 1]"
   ]
  },
  {
   "cell_type": "markdown",
   "id": "21c14609",
   "metadata": {
    "papermill": {
     "duration": 0.063669,
     "end_time": "2022-04-02T10:07:37.664643",
     "exception": false,
     "start_time": "2022-04-02T10:07:37.600974",
     "status": "completed"
    },
    "tags": []
   },
   "source": [
    "# Start Time"
   ]
  },
  {
   "cell_type": "code",
   "execution_count": 32,
   "id": "36b4394f",
   "metadata": {
    "execution": {
     "iopub.execute_input": "2022-04-02T10:07:37.797688Z",
     "iopub.status.busy": "2022-04-02T10:07:37.796689Z",
     "iopub.status.idle": "2022-04-02T10:07:37.804206Z",
     "shell.execute_reply": "2022-04-02T10:07:37.804816Z",
     "shell.execute_reply.started": "2022-04-02T09:04:25.078679Z"
    },
    "papermill": {
     "duration": 0.075138,
     "end_time": "2022-04-02T10:07:37.805000",
     "exception": false,
     "start_time": "2022-04-02T10:07:37.729862",
     "status": "completed"
    },
    "tags": []
   },
   "outputs": [
    {
     "data": {
      "text/plain": [
       "0          2016-02-08 00:37:08\n",
       "1          2016-02-08 05:56:20\n",
       "2          2016-02-08 06:15:39\n",
       "3          2016-02-08 06:51:45\n",
       "4          2016-02-08 07:53:43\n",
       "                  ...         \n",
       "2845337    2019-08-23 18:03:25\n",
       "2845338    2019-08-23 19:11:30\n",
       "2845339    2019-08-23 19:00:21\n",
       "2845340    2019-08-23 19:00:21\n",
       "2845341    2019-08-23 18:52:06\n",
       "Name: Start_Time, Length: 2845342, dtype: object"
      ]
     },
     "execution_count": 32,
     "metadata": {},
     "output_type": "execute_result"
    }
   ],
   "source": [
    "data_set.Start_Time"
   ]
  },
  {
   "cell_type": "code",
   "execution_count": 33,
   "id": "147147a2",
   "metadata": {
    "execution": {
     "iopub.execute_input": "2022-04-02T10:07:37.942573Z",
     "iopub.status.busy": "2022-04-02T10:07:37.941372Z",
     "iopub.status.idle": "2022-04-02T10:07:39.762433Z",
     "shell.execute_reply": "2022-04-02T10:07:39.761662Z",
     "shell.execute_reply.started": "2022-04-02T09:18:56.208948Z"
    },
    "papermill": {
     "duration": 1.892156,
     "end_time": "2022-04-02T10:07:39.762615",
     "exception": false,
     "start_time": "2022-04-02T10:07:37.870459",
     "status": "completed"
    },
    "tags": []
   },
   "outputs": [],
   "source": [
    "#to convert to date time formaṭ\n",
    "data_set.Start_Time = pd.to_datetime(data_set.Start_Time)"
   ]
  },
  {
   "cell_type": "code",
   "execution_count": 34,
   "id": "b59afaa5",
   "metadata": {
    "execution": {
     "iopub.execute_input": "2022-04-02T10:07:39.902541Z",
     "iopub.status.busy": "2022-04-02T10:07:39.901677Z",
     "iopub.status.idle": "2022-04-02T10:07:39.905848Z",
     "shell.execute_reply": "2022-04-02T10:07:39.905237Z",
     "shell.execute_reply.started": "2022-04-02T09:19:01.497361Z"
    },
    "papermill": {
     "duration": 0.079182,
     "end_time": "2022-04-02T10:07:39.906006",
     "exception": false,
     "start_time": "2022-04-02T10:07:39.826824",
     "status": "completed"
    },
    "tags": []
   },
   "outputs": [
    {
     "data": {
      "text/plain": [
       "Timestamp('2016-02-08 00:37:08')"
      ]
     },
     "execution_count": 34,
     "metadata": {},
     "output_type": "execute_result"
    }
   ],
   "source": [
    "data_set.Start_Time[0]"
   ]
  },
  {
   "cell_type": "code",
   "execution_count": 35,
   "id": "f1fdb3e5",
   "metadata": {
    "execution": {
     "iopub.execute_input": "2022-04-02T10:07:40.041992Z",
     "iopub.status.busy": "2022-04-02T10:07:40.040872Z",
     "iopub.status.idle": "2022-04-02T10:07:40.046735Z",
     "shell.execute_reply": "2022-04-02T10:07:40.046111Z",
     "shell.execute_reply.started": "2022-04-02T09:19:05.361174Z"
    },
    "papermill": {
     "duration": 0.076567,
     "end_time": "2022-04-02T10:07:40.046889",
     "exception": false,
     "start_time": "2022-04-02T10:07:39.970322",
     "status": "completed"
    },
    "tags": []
   },
   "outputs": [
    {
     "data": {
      "text/plain": [
       "5"
      ]
     },
     "execution_count": 35,
     "metadata": {},
     "output_type": "execute_result"
    }
   ],
   "source": [
    "data_set.Start_Time[1].hour\n",
    "#we cannot use this data to obtain hours for the entire column "
   ]
  },
  {
   "cell_type": "code",
   "execution_count": 36,
   "id": "b37b111c",
   "metadata": {
    "execution": {
     "iopub.execute_input": "2022-04-02T10:07:40.184717Z",
     "iopub.status.busy": "2022-04-02T10:07:40.183966Z",
     "iopub.status.idle": "2022-04-02T10:07:40.845439Z",
     "shell.execute_reply": "2022-04-02T10:07:40.846136Z",
     "shell.execute_reply.started": "2022-04-02T09:19:11.543657Z"
    },
    "papermill": {
     "duration": 0.732447,
     "end_time": "2022-04-02T10:07:40.846323",
     "exception": false,
     "start_time": "2022-04-02T10:07:40.113876",
     "status": "completed"
    },
    "tags": []
   },
   "outputs": [
    {
     "name": "stderr",
     "output_type": "stream",
     "text": [
      "/opt/conda/lib/python3.7/site-packages/seaborn/distributions.py:2619: FutureWarning: `distplot` is a deprecated function and will be removed in a future version. Please adapt your code to use either `displot` (a figure-level function with similar flexibility) or `histplot` (an axes-level function for histograms).\n",
      "  warnings.warn(msg, FutureWarning)\n"
     ]
    },
    {
     "data": {
      "text/plain": [
       "<AxesSubplot:xlabel='Start_Time'>"
      ]
     },
     "execution_count": 36,
     "metadata": {},
     "output_type": "execute_result"
    },
    {
     "data": {
      "image/png": "[encoded data removed]",
      "text/plain": [
       "<Figure size 432x288 with 1 Axes>"
      ]
     },
     "metadata": {},
     "output_type": "display_data"
    }
   ],
   "source": [
    "sns.distplot(data_set.Start_Time.dt.hour, bins=24, kde=False, norm_hist=True)"
   ]
  },
  {
   "cell_type": "markdown",
   "id": "f62378b8",
   "metadata": {
    "papermill": {
     "duration": 0.070085,
     "end_time": "2022-04-02T10:07:40.984999",
     "exception": false,
     "start_time": "2022-04-02T10:07:40.914914",
     "status": "completed"
    },
    "tags": []
   },
   "source": [
    "Hight percentage of accidents occur between 4pm to 5pm "
   ]
  },
  {
   "cell_type": "markdown",
   "id": "2285a904",
   "metadata": {
    "papermill": {
     "duration": 0.070031,
     "end_time": "2022-04-02T10:07:41.122882",
     "exception": false,
     "start_time": "2022-04-02T10:07:41.052851",
     "status": "completed"
    },
    "tags": []
   },
   "source": [
    "# Questions\n",
    "* Are there more accidents in warmer or colder areas?\n",
    "* Which state has the highest number of accidents per capita?\n",
    "* Does new york show up in the data, why its count is not there in the accidents? - Its not in the data set\n",
    "* Which states have the most frequency of accidents\n",
    "* What time of the day are accidents mostly occuring"
   ]
  },
  {
   "cell_type": "markdown",
   "id": "c8f3998f",
   "metadata": {
    "papermill": {
     "duration": 0.067836,
     "end_time": "2022-04-02T10:07:41.257318",
     "exception": false,
     "start_time": "2022-04-02T10:07:41.189482",
     "status": "completed"
    },
    "tags": []
   },
   "source": [
    "# Notes\n",
    "* when working with exponential data it is better to use log scale\n",
    "* we cannot do any plot with time stamp"
   ]
  },
  {
   "cell_type": "markdown",
   "id": "0d143d59",
   "metadata": {
    "papermill": {
     "duration": 0.069353,
     "end_time": "2022-04-02T10:07:41.393441",
     "exception": false,
     "start_time": "2022-04-02T10:07:41.324088",
     "status": "completed"
    },
    "tags": []
   },
   "source": [
    "# Conclusion\n",
    "1. No data for new york\n",
    "1. less than 5% have more than 1000 accidents\n",
    "1. over 1100 countires have only 1 accident"
   ]
  }
 ],
 "metadata": {
  "kernelspec": {
   "display_name": "Python 3",
   "language": "python",
   "name": "python3"
  },
  "language_info": {
   "codemirror_mode": {
    "name": "ipython",
    "version": 3
   },
   "file_extension": ".py",
   "mimetype": "text/x-python",
   "name": "python",
   "nbconvert_exporter": "python",
   "pygments_lexer": "ipython3",
   "version": "3.7.12"
  },
  "papermill": {
   "default_parameters": {},
   "duration": 96.424477,
   "end_time": "2022-04-02T10:07:43.482614",
   "environment_variables": {},
   "exception": null,
   "input_path": "__notebook__.ipynb",
   "output_path": "__notebook__.ipynb",
   "parameters": {},
   "start_time": "2022-04-02T10:06:07.058137",
   "version": "2.3.3"
  }
 },
 "nbformat": 4,
 "nbformat_minor": 5
}
