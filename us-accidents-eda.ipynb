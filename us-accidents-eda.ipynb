{
 "cells": [
  {
   "cell_type": "code",
   "execution_count": 1,
   "id": "1a05a875",
   "metadata": {
    "_cell_guid": "b1076dfc-b9ad-4769-8c92-a6c4dae69d19",
    "_uuid": "8f2839f25d086af736a60e9eeb907d3b93b6e0e5",
    "execution": {
     "iopub.execute_input": "2022-04-05T19:12:40.849091Z",
     "iopub.status.busy": "2022-04-05T19:12:40.847244Z",
     "iopub.status.idle": "2022-04-05T19:12:41.931486Z",
     "shell.execute_reply": "2022-04-05T19:12:41.930502Z",
     "shell.execute_reply.started": "2022-04-05T17:11:59.231511Z"
    },
    "papermill": {
     "duration": 1.135113,
     "end_time": "2022-04-05T19:12:41.931650",
     "exception": false,
     "start_time": "2022-04-05T19:12:40.796537",
     "status": "completed"
    },
    "tags": []
   },
   "outputs": [
    {
     "name": "stdout",
     "output_type": "stream",
     "text": [
      "/kaggle/input/us-accidents/US_Accidents_Dec21_updated.csv\n"
     ]
    }
   ],
   "source": [
    "# This Python 3 environment comes with many helpful analytics libraries installed\n",
    "# It is defined by the kaggle/python Docker image: https://github.com/kaggle/docker-python\n",
    "# For example, here's several helpful packages to load\n",
    "\n",
    "import numpy as np # linear algebra\n",
    "import pandas as pd # data processing, CSV file I/O (e.g. pd.read_csv)\n",
    "import seaborn as sns\n",
    "\n",
    "# Input data files are available in the read-only \"../input/\" directory\n",
    "# For example, running this (by clicking run or pressing Shift+Enter) will list all files under the input directory\n",
    "\n",
    "import os\n",
    "for dirname, _, filenames in os.walk('/kaggle/input'):\n",
    "    for filename in filenames:\n",
    "        print(os.path.join(dirname, filename))\n",
    "\n",
    "# You can write up to 20GB to the current directory (/kaggle/working/) that gets preserved as output when you create a version using \"Save & Run All\" \n",
    "# You can also write temporary files to /kaggle/temp/, but they won't be saved outside of the current session"
   ]
  },
  {
   "cell_type": "markdown",
   "id": "b8267230",
   "metadata": {
    "papermill": {
     "duration": 0.044547,
     "end_time": "2022-04-05T19:12:42.024682",
     "exception": false,
     "start_time": "2022-04-05T19:12:41.980135",
     "status": "completed"
    },
    "tags": []
   },
   "source": [
    "# Data Preparation and Cleaning\n",
    "\n",
    "- Load the dataset using Pandas\n",
    "- Look at some information about the data\n",
    "- Fix any incorrect or missing values\n"
   ]
  },
  {
   "cell_type": "code",
   "execution_count": 2,
   "id": "964c5d7f",
   "metadata": {
    "execution": {
     "iopub.execute_input": "2022-04-05T19:12:42.120387Z",
     "iopub.status.busy": "2022-04-05T19:12:42.119721Z",
     "iopub.status.idle": "2022-04-05T19:13:25.001354Z",
     "shell.execute_reply": "2022-04-05T19:13:25.001923Z",
     "shell.execute_reply.started": "2022-04-05T17:12:00.376679Z"
    },
    "papermill": {
     "duration": 42.930884,
     "end_time": "2022-04-05T19:13:25.002148",
     "exception": false,
     "start_time": "2022-04-05T19:12:42.071264",
     "status": "completed"
    },
    "tags": []
   },
   "outputs": [
    {
     "data": {
      "text/html": [
       "<div>\n",
       "<style scoped>\n",
       "    .dataframe tbody tr th:only-of-type {\n",
       "        vertical-align: middle;\n",
       "    }\n",
       "\n",
       "    .dataframe tbody tr th {\n",
       "        vertical-align: top;\n",
       "    }\n",
       "\n",
       "    .dataframe thead th {\n",
       "        text-align: right;\n",
       "    }\n",
       "</style>\n",
       "<table border=\"1\" class=\"dataframe\">\n",
       "  <thead>\n",
       "    <tr style=\"text-align: right;\">\n",
       "      <th></th>\n",
       "      <th>ID</th>\n",
       "      <th>Severity</th>\n",
       "      <th>Start_Time</th>\n",
       "      <th>End_Time</th>\n",
       "      <th>Start_Lat</th>\n",
       "      <th>Start_Lng</th>\n",
       "      <th>End_Lat</th>\n",
       "      <th>End_Lng</th>\n",
       "      <th>Distance(mi)</th>\n",
       "      <th>Description</th>\n",
       "      <th>...</th>\n",
       "      <th>Roundabout</th>\n",
       "      <th>Station</th>\n",
       "      <th>Stop</th>\n",
       "      <th>Traffic_Calming</th>\n",
       "      <th>Traffic_Signal</th>\n",
       "      <th>Turning_Loop</th>\n",
       "      <th>Sunrise_Sunset</th>\n",
       "      <th>Civil_Twilight</th>\n",
       "      <th>Nautical_Twilight</th>\n",
       "      <th>Astronomical_Twilight</th>\n",
       "    </tr>\n",
       "  </thead>\n",
       "  <tbody>\n",
       "    <tr>\n",
       "      <th>0</th>\n",
       "      <td>A-1</td>\n",
       "      <td>3</td>\n",
       "      <td>2016-02-08 00:37:08</td>\n",
       "      <td>2016-02-08 06:37:08</td>\n",
       "      <td>40.108910</td>\n",
       "      <td>-83.092860</td>\n",
       "      <td>40.112060</td>\n",
       "      <td>-83.031870</td>\n",
       "      <td>3.230</td>\n",
       "      <td>Between Sawmill Rd/Exit 20 and OH-315/Olentang...</td>\n",
       "      <td>...</td>\n",
       "      <td>False</td>\n",
       "      <td>False</td>\n",
       "      <td>False</td>\n",
       "      <td>False</td>\n",
       "      <td>False</td>\n",
       "      <td>False</td>\n",
       "      <td>Night</td>\n",
       "      <td>Night</td>\n",
       "      <td>Night</td>\n",
       "      <td>Night</td>\n",
       "    </tr>\n",
       "    <tr>\n",
       "      <th>1</th>\n",
       "      <td>A-2</td>\n",
       "      <td>2</td>\n",
       "      <td>2016-02-08 05:56:20</td>\n",
       "      <td>2016-02-08 11:56:20</td>\n",
       "      <td>39.865420</td>\n",
       "      <td>-84.062800</td>\n",
       "      <td>39.865010</td>\n",
       "      <td>-84.048730</td>\n",
       "      <td>0.747</td>\n",
       "      <td>At OH-4/OH-235/Exit 41 - Accident.</td>\n",
       "      <td>...</td>\n",
       "      <td>False</td>\n",
       "      <td>False</td>\n",
       "      <td>False</td>\n",
       "      <td>False</td>\n",
       "      <td>False</td>\n",
       "      <td>False</td>\n",
       "      <td>Night</td>\n",
       "      <td>Night</td>\n",
       "      <td>Night</td>\n",
       "      <td>Night</td>\n",
       "    </tr>\n",
       "    <tr>\n",
       "      <th>2</th>\n",
       "      <td>A-3</td>\n",
       "      <td>2</td>\n",
       "      <td>2016-02-08 06:15:39</td>\n",
       "      <td>2016-02-08 12:15:39</td>\n",
       "      <td>39.102660</td>\n",
       "      <td>-84.524680</td>\n",
       "      <td>39.102090</td>\n",
       "      <td>-84.523960</td>\n",
       "      <td>0.055</td>\n",
       "      <td>At I-71/US-50/Exit 1 - Accident.</td>\n",
       "      <td>...</td>\n",
       "      <td>False</td>\n",
       "      <td>False</td>\n",
       "      <td>False</td>\n",
       "      <td>False</td>\n",
       "      <td>False</td>\n",
       "      <td>False</td>\n",
       "      <td>Night</td>\n",
       "      <td>Night</td>\n",
       "      <td>Night</td>\n",
       "      <td>Day</td>\n",
       "    </tr>\n",
       "    <tr>\n",
       "      <th>3</th>\n",
       "      <td>A-4</td>\n",
       "      <td>2</td>\n",
       "      <td>2016-02-08 06:51:45</td>\n",
       "      <td>2016-02-08 12:51:45</td>\n",
       "      <td>41.062130</td>\n",
       "      <td>-81.537840</td>\n",
       "      <td>41.062170</td>\n",
       "      <td>-81.535470</td>\n",
       "      <td>0.123</td>\n",
       "      <td>At Dart Ave/Exit 21 - Accident.</td>\n",
       "      <td>...</td>\n",
       "      <td>False</td>\n",
       "      <td>False</td>\n",
       "      <td>False</td>\n",
       "      <td>False</td>\n",
       "      <td>False</td>\n",
       "      <td>False</td>\n",
       "      <td>Night</td>\n",
       "      <td>Night</td>\n",
       "      <td>Day</td>\n",
       "      <td>Day</td>\n",
       "    </tr>\n",
       "    <tr>\n",
       "      <th>4</th>\n",
       "      <td>A-5</td>\n",
       "      <td>3</td>\n",
       "      <td>2016-02-08 07:53:43</td>\n",
       "      <td>2016-02-08 13:53:43</td>\n",
       "      <td>39.172393</td>\n",
       "      <td>-84.492792</td>\n",
       "      <td>39.170476</td>\n",
       "      <td>-84.501798</td>\n",
       "      <td>0.500</td>\n",
       "      <td>At Mitchell Ave/Exit 6 - Accident.</td>\n",
       "      <td>...</td>\n",
       "      <td>False</td>\n",
       "      <td>False</td>\n",
       "      <td>False</td>\n",
       "      <td>False</td>\n",
       "      <td>False</td>\n",
       "      <td>False</td>\n",
       "      <td>Day</td>\n",
       "      <td>Day</td>\n",
       "      <td>Day</td>\n",
       "      <td>Day</td>\n",
       "    </tr>\n",
       "    <tr>\n",
       "      <th>...</th>\n",
       "      <td>...</td>\n",
       "      <td>...</td>\n",
       "      <td>...</td>\n",
       "      <td>...</td>\n",
       "      <td>...</td>\n",
       "      <td>...</td>\n",
       "      <td>...</td>\n",
       "      <td>...</td>\n",
       "      <td>...</td>\n",
       "      <td>...</td>\n",
       "      <td>...</td>\n",
       "      <td>...</td>\n",
       "      <td>...</td>\n",
       "      <td>...</td>\n",
       "      <td>...</td>\n",
       "      <td>...</td>\n",
       "      <td>...</td>\n",
       "      <td>...</td>\n",
       "      <td>...</td>\n",
       "      <td>...</td>\n",
       "      <td>...</td>\n",
       "    </tr>\n",
       "    <tr>\n",
       "      <th>2845337</th>\n",
       "      <td>A-2845338</td>\n",
       "      <td>2</td>\n",
       "      <td>2019-08-23 18:03:25</td>\n",
       "      <td>2019-08-23 18:32:01</td>\n",
       "      <td>34.002480</td>\n",
       "      <td>-117.379360</td>\n",
       "      <td>33.998880</td>\n",
       "      <td>-117.370940</td>\n",
       "      <td>0.543</td>\n",
       "      <td>At Market St - Accident.</td>\n",
       "      <td>...</td>\n",
       "      <td>False</td>\n",
       "      <td>False</td>\n",
       "      <td>False</td>\n",
       "      <td>False</td>\n",
       "      <td>False</td>\n",
       "      <td>False</td>\n",
       "      <td>Day</td>\n",
       "      <td>Day</td>\n",
       "      <td>Day</td>\n",
       "      <td>Day</td>\n",
       "    </tr>\n",
       "    <tr>\n",
       "      <th>2845338</th>\n",
       "      <td>A-2845339</td>\n",
       "      <td>2</td>\n",
       "      <td>2019-08-23 19:11:30</td>\n",
       "      <td>2019-08-23 19:38:23</td>\n",
       "      <td>32.766960</td>\n",
       "      <td>-117.148060</td>\n",
       "      <td>32.765550</td>\n",
       "      <td>-117.153630</td>\n",
       "      <td>0.338</td>\n",
       "      <td>At Camino Del Rio/Mission Center Rd - Accident.</td>\n",
       "      <td>...</td>\n",
       "      <td>False</td>\n",
       "      <td>False</td>\n",
       "      <td>False</td>\n",
       "      <td>False</td>\n",
       "      <td>False</td>\n",
       "      <td>False</td>\n",
       "      <td>Day</td>\n",
       "      <td>Day</td>\n",
       "      <td>Day</td>\n",
       "      <td>Day</td>\n",
       "    </tr>\n",
       "    <tr>\n",
       "      <th>2845339</th>\n",
       "      <td>A-2845340</td>\n",
       "      <td>2</td>\n",
       "      <td>2019-08-23 19:00:21</td>\n",
       "      <td>2019-08-23 19:28:49</td>\n",
       "      <td>33.775450</td>\n",
       "      <td>-117.847790</td>\n",
       "      <td>33.777400</td>\n",
       "      <td>-117.857270</td>\n",
       "      <td>0.561</td>\n",
       "      <td>At Glassell St/Grand Ave - Accident. in the ri...</td>\n",
       "      <td>...</td>\n",
       "      <td>False</td>\n",
       "      <td>False</td>\n",
       "      <td>False</td>\n",
       "      <td>False</td>\n",
       "      <td>False</td>\n",
       "      <td>False</td>\n",
       "      <td>Day</td>\n",
       "      <td>Day</td>\n",
       "      <td>Day</td>\n",
       "      <td>Day</td>\n",
       "    </tr>\n",
       "    <tr>\n",
       "      <th>2845340</th>\n",
       "      <td>A-2845341</td>\n",
       "      <td>2</td>\n",
       "      <td>2019-08-23 19:00:21</td>\n",
       "      <td>2019-08-23 19:29:42</td>\n",
       "      <td>33.992460</td>\n",
       "      <td>-118.403020</td>\n",
       "      <td>33.983110</td>\n",
       "      <td>-118.395650</td>\n",
       "      <td>0.772</td>\n",
       "      <td>At CA-90/Marina Fwy/Jefferson Blvd - Accident.</td>\n",
       "      <td>...</td>\n",
       "      <td>False</td>\n",
       "      <td>False</td>\n",
       "      <td>False</td>\n",
       "      <td>False</td>\n",
       "      <td>False</td>\n",
       "      <td>False</td>\n",
       "      <td>Day</td>\n",
       "      <td>Day</td>\n",
       "      <td>Day</td>\n",
       "      <td>Day</td>\n",
       "    </tr>\n",
       "    <tr>\n",
       "      <th>2845341</th>\n",
       "      <td>A-2845342</td>\n",
       "      <td>2</td>\n",
       "      <td>2019-08-23 18:52:06</td>\n",
       "      <td>2019-08-23 19:21:31</td>\n",
       "      <td>34.133930</td>\n",
       "      <td>-117.230920</td>\n",
       "      <td>34.137360</td>\n",
       "      <td>-117.239340</td>\n",
       "      <td>0.537</td>\n",
       "      <td>At Highland Ave/Arden Ave - Accident.</td>\n",
       "      <td>...</td>\n",
       "      <td>False</td>\n",
       "      <td>False</td>\n",
       "      <td>False</td>\n",
       "      <td>False</td>\n",
       "      <td>False</td>\n",
       "      <td>False</td>\n",
       "      <td>Day</td>\n",
       "      <td>Day</td>\n",
       "      <td>Day</td>\n",
       "      <td>Day</td>\n",
       "    </tr>\n",
       "  </tbody>\n",
       "</table>\n",
       "<p>2845342 rows × 47 columns</p>\n",
       "</div>"
      ],
      "text/plain": [
       "                ID  Severity           Start_Time             End_Time  \\\n",
       "0              A-1         3  2016-02-08 00:37:08  2016-02-08 06:37:08   \n",
       "1              A-2         2  2016-02-08 05:56:20  2016-02-08 11:56:20   \n",
       "2              A-3         2  2016-02-08 06:15:39  2016-02-08 12:15:39   \n",
       "3              A-4         2  2016-02-08 06:51:45  2016-02-08 12:51:45   \n",
       "4              A-5         3  2016-02-08 07:53:43  2016-02-08 13:53:43   \n",
       "...            ...       ...                  ...                  ...   \n",
       "2845337  A-2845338         2  2019-08-23 18:03:25  2019-08-23 18:32:01   \n",
       "2845338  A-2845339         2  2019-08-23 19:11:30  2019-08-23 19:38:23   \n",
       "2845339  A-2845340         2  2019-08-23 19:00:21  2019-08-23 19:28:49   \n",
       "2845340  A-2845341         2  2019-08-23 19:00:21  2019-08-23 19:29:42   \n",
       "2845341  A-2845342         2  2019-08-23 18:52:06  2019-08-23 19:21:31   \n",
       "\n",
       "         Start_Lat   Start_Lng    End_Lat     End_Lng  Distance(mi)  \\\n",
       "0        40.108910  -83.092860  40.112060  -83.031870         3.230   \n",
       "1        39.865420  -84.062800  39.865010  -84.048730         0.747   \n",
       "2        39.102660  -84.524680  39.102090  -84.523960         0.055   \n",
       "3        41.062130  -81.537840  41.062170  -81.535470         0.123   \n",
       "4        39.172393  -84.492792  39.170476  -84.501798         0.500   \n",
       "...            ...         ...        ...         ...           ...   \n",
       "2845337  34.002480 -117.379360  33.998880 -117.370940         0.543   \n",
       "2845338  32.766960 -117.148060  32.765550 -117.153630         0.338   \n",
       "2845339  33.775450 -117.847790  33.777400 -117.857270         0.561   \n",
       "2845340  33.992460 -118.403020  33.983110 -118.395650         0.772   \n",
       "2845341  34.133930 -117.230920  34.137360 -117.239340         0.537   \n",
       "\n",
       "                                               Description  ...  Roundabout  \\\n",
       "0        Between Sawmill Rd/Exit 20 and OH-315/Olentang...  ...       False   \n",
       "1                       At OH-4/OH-235/Exit 41 - Accident.  ...       False   \n",
       "2                         At I-71/US-50/Exit 1 - Accident.  ...       False   \n",
       "3                          At Dart Ave/Exit 21 - Accident.  ...       False   \n",
       "4                       At Mitchell Ave/Exit 6 - Accident.  ...       False   \n",
       "...                                                    ...  ...         ...   \n",
       "2845337                           At Market St - Accident.  ...       False   \n",
       "2845338    At Camino Del Rio/Mission Center Rd - Accident.  ...       False   \n",
       "2845339  At Glassell St/Grand Ave - Accident. in the ri...  ...       False   \n",
       "2845340     At CA-90/Marina Fwy/Jefferson Blvd - Accident.  ...       False   \n",
       "2845341              At Highland Ave/Arden Ave - Accident.  ...       False   \n",
       "\n",
       "        Station   Stop Traffic_Calming Traffic_Signal Turning_Loop  \\\n",
       "0         False  False           False          False        False   \n",
       "1         False  False           False          False        False   \n",
       "2         False  False           False          False        False   \n",
       "3         False  False           False          False        False   \n",
       "4         False  False           False          False        False   \n",
       "...         ...    ...             ...            ...          ...   \n",
       "2845337   False  False           False          False        False   \n",
       "2845338   False  False           False          False        False   \n",
       "2845339   False  False           False          False        False   \n",
       "2845340   False  False           False          False        False   \n",
       "2845341   False  False           False          False        False   \n",
       "\n",
       "        Sunrise_Sunset Civil_Twilight Nautical_Twilight Astronomical_Twilight  \n",
       "0                Night          Night             Night                 Night  \n",
       "1                Night          Night             Night                 Night  \n",
       "2                Night          Night             Night                   Day  \n",
       "3                Night          Night               Day                   Day  \n",
       "4                  Day            Day               Day                   Day  \n",
       "...                ...            ...               ...                   ...  \n",
       "2845337            Day            Day               Day                   Day  \n",
       "2845338            Day            Day               Day                   Day  \n",
       "2845339            Day            Day               Day                   Day  \n",
       "2845340            Day            Day               Day                   Day  \n",
       "2845341            Day            Day               Day                   Day  \n",
       "\n",
       "[2845342 rows x 47 columns]"
      ]
     },
     "execution_count": 2,
     "metadata": {},
     "output_type": "execute_result"
    }
   ],
   "source": [
    "data_set = pd.read_csv(\"/kaggle/input/us-accidents/US_Accidents_Dec21_updated.csv\")\n",
    "data_set"
   ]
  },
  {
   "cell_type": "code",
   "execution_count": 3,
   "id": "02027991",
   "metadata": {
    "execution": {
     "iopub.execute_input": "2022-04-05T19:13:25.167854Z",
     "iopub.status.busy": "2022-04-05T19:13:25.167124Z",
     "iopub.status.idle": "2022-04-05T19:13:25.172568Z",
     "shell.execute_reply": "2022-04-05T19:13:25.173201Z",
     "shell.execute_reply.started": "2022-04-05T17:12:43.377878Z"
    },
    "papermill": {
     "duration": 0.092651,
     "end_time": "2022-04-05T19:13:25.173371",
     "exception": false,
     "start_time": "2022-04-05T19:13:25.080720",
     "status": "completed"
    },
    "tags": []
   },
   "outputs": [
    {
     "data": {
      "text/plain": [
       "Index(['ID', 'Severity', 'Start_Time', 'End_Time', 'Start_Lat', 'Start_Lng',\n",
       "       'End_Lat', 'End_Lng', 'Distance(mi)', 'Description', 'Number', 'Street',\n",
       "       'Side', 'City', 'County', 'State', 'Zipcode', 'Country', 'Timezone',\n",
       "       'Airport_Code', 'Weather_Timestamp', 'Temperature(F)', 'Wind_Chill(F)',\n",
       "       'Humidity(%)', 'Pressure(in)', 'Visibility(mi)', 'Wind_Direction',\n",
       "       'Wind_Speed(mph)', 'Precipitation(in)', 'Weather_Condition', 'Amenity',\n",
       "       'Bump', 'Crossing', 'Give_Way', 'Junction', 'No_Exit', 'Railway',\n",
       "       'Roundabout', 'Station', 'Stop', 'Traffic_Calming', 'Traffic_Signal',\n",
       "       'Turning_Loop', 'Sunrise_Sunset', 'Civil_Twilight', 'Nautical_Twilight',\n",
       "       'Astronomical_Twilight'],\n",
       "      dtype='object')"
      ]
     },
     "execution_count": 3,
     "metadata": {},
     "output_type": "execute_result"
    }
   ],
   "source": [
    "data_set.columns"
   ]
  },
  {
   "cell_type": "code",
   "execution_count": 4,
   "id": "85b75362",
   "metadata": {
    "execution": {
     "iopub.execute_input": "2022-04-05T19:13:25.285208Z",
     "iopub.status.busy": "2022-04-05T19:13:25.283814Z",
     "iopub.status.idle": "2022-04-05T19:13:25.292287Z",
     "shell.execute_reply": "2022-04-05T19:13:25.292823Z",
     "shell.execute_reply.started": "2022-04-05T17:12:43.389684Z"
    },
    "papermill": {
     "duration": 0.066023,
     "end_time": "2022-04-05T19:13:25.292998",
     "exception": false,
     "start_time": "2022-04-05T19:13:25.226975",
     "status": "completed"
    },
    "tags": []
   },
   "outputs": [
    {
     "data": {
      "text/plain": [
       "2845342"
      ]
     },
     "execution_count": 4,
     "metadata": {},
     "output_type": "execute_result"
    }
   ],
   "source": [
    "len(data_set)"
   ]
  },
  {
   "cell_type": "code",
   "execution_count": 5,
   "id": "bfc3ba08",
   "metadata": {
    "execution": {
     "iopub.execute_input": "2022-04-05T19:13:25.406913Z",
     "iopub.status.busy": "2022-04-05T19:13:25.405939Z",
     "iopub.status.idle": "2022-04-05T19:13:25.410997Z",
     "shell.execute_reply": "2022-04-05T19:13:25.410337Z",
     "shell.execute_reply.started": "2022-04-05T17:12:43.401533Z"
    },
    "papermill": {
     "duration": 0.063926,
     "end_time": "2022-04-05T19:13:25.411168",
     "exception": false,
     "start_time": "2022-04-05T19:13:25.347242",
     "status": "completed"
    },
    "tags": []
   },
   "outputs": [
    {
     "data": {
      "text/plain": [
       "47"
      ]
     },
     "execution_count": 5,
     "metadata": {},
     "output_type": "execute_result"
    }
   ],
   "source": [
    "len(data_set.columns)"
   ]
  },
  {
   "cell_type": "code",
   "execution_count": 6,
   "id": "b65c8d38",
   "metadata": {
    "execution": {
     "iopub.execute_input": "2022-04-05T19:13:25.531874Z",
     "iopub.status.busy": "2022-04-05T19:13:25.531085Z",
     "iopub.status.idle": "2022-04-05T19:13:25.549726Z",
     "shell.execute_reply": "2022-04-05T19:13:25.548811Z",
     "shell.execute_reply.started": "2022-04-05T17:12:43.413440Z"
    },
    "papermill": {
     "duration": 0.084541,
     "end_time": "2022-04-05T19:13:25.549915",
     "exception": false,
     "start_time": "2022-04-05T19:13:25.465374",
     "status": "completed"
    },
    "tags": []
   },
   "outputs": [
    {
     "name": "stdout",
     "output_type": "stream",
     "text": [
      "<class 'pandas.core.frame.DataFrame'>\n",
      "RangeIndex: 2845342 entries, 0 to 2845341\n",
      "Data columns (total 47 columns):\n",
      " #   Column                 Dtype  \n",
      "---  ------                 -----  \n",
      " 0   ID                     object \n",
      " 1   Severity               int64  \n",
      " 2   Start_Time             object \n",
      " 3   End_Time               object \n",
      " 4   Start_Lat              float64\n",
      " 5   Start_Lng              float64\n",
      " 6   End_Lat                float64\n",
      " 7   End_Lng                float64\n",
      " 8   Distance(mi)           float64\n",
      " 9   Description            object \n",
      " 10  Number                 float64\n",
      " 11  Street                 object \n",
      " 12  Side                   object \n",
      " 13  City                   object \n",
      " 14  County                 object \n",
      " 15  State                  object \n",
      " 16  Zipcode                object \n",
      " 17  Country                object \n",
      " 18  Timezone               object \n",
      " 19  Airport_Code           object \n",
      " 20  Weather_Timestamp      object \n",
      " 21  Temperature(F)         float64\n",
      " 22  Wind_Chill(F)          float64\n",
      " 23  Humidity(%)            float64\n",
      " 24  Pressure(in)           float64\n",
      " 25  Visibility(mi)         float64\n",
      " 26  Wind_Direction         object \n",
      " 27  Wind_Speed(mph)        float64\n",
      " 28  Precipitation(in)      float64\n",
      " 29  Weather_Condition      object \n",
      " 30  Amenity                bool   \n",
      " 31  Bump                   bool   \n",
      " 32  Crossing               bool   \n",
      " 33  Give_Way               bool   \n",
      " 34  Junction               bool   \n",
      " 35  No_Exit                bool   \n",
      " 36  Railway                bool   \n",
      " 37  Roundabout             bool   \n",
      " 38  Station                bool   \n",
      " 39  Stop                   bool   \n",
      " 40  Traffic_Calming        bool   \n",
      " 41  Traffic_Signal         bool   \n",
      " 42  Turning_Loop           bool   \n",
      " 43  Sunrise_Sunset         object \n",
      " 44  Civil_Twilight         object \n",
      " 45  Nautical_Twilight      object \n",
      " 46  Astronomical_Twilight  object \n",
      "dtypes: bool(13), float64(13), int64(1), object(20)\n",
      "memory usage: 773.4+ MB\n"
     ]
    }
   ],
   "source": [
    "data_set.info()"
   ]
  },
  {
   "cell_type": "code",
   "execution_count": 7,
   "id": "3914d599",
   "metadata": {
    "execution": {
     "iopub.execute_input": "2022-04-05T19:13:25.651242Z",
     "iopub.status.busy": "2022-04-05T19:13:25.650601Z",
     "iopub.status.idle": "2022-04-05T19:13:25.677944Z",
     "shell.execute_reply": "2022-04-05T19:13:25.678464Z",
     "shell.execute_reply.started": "2022-04-05T17:12:43.448368Z"
    },
    "papermill": {
     "duration": 0.079937,
     "end_time": "2022-04-05T19:13:25.678633",
     "exception": false,
     "start_time": "2022-04-05T19:13:25.598696",
     "status": "completed"
    },
    "tags": []
   },
   "outputs": [
    {
     "data": {
      "text/html": [
       "<div>\n",
       "<style scoped>\n",
       "    .dataframe tbody tr th:only-of-type {\n",
       "        vertical-align: middle;\n",
       "    }\n",
       "\n",
       "    .dataframe tbody tr th {\n",
       "        vertical-align: top;\n",
       "    }\n",
       "\n",
       "    .dataframe thead th {\n",
       "        text-align: right;\n",
       "    }\n",
       "</style>\n",
       "<table border=\"1\" class=\"dataframe\">\n",
       "  <thead>\n",
       "    <tr style=\"text-align: right;\">\n",
       "      <th></th>\n",
       "      <th>ID</th>\n",
       "      <th>Severity</th>\n",
       "      <th>Start_Time</th>\n",
       "      <th>End_Time</th>\n",
       "      <th>Start_Lat</th>\n",
       "      <th>Start_Lng</th>\n",
       "      <th>End_Lat</th>\n",
       "      <th>End_Lng</th>\n",
       "      <th>Distance(mi)</th>\n",
       "      <th>Description</th>\n",
       "      <th>...</th>\n",
       "      <th>Roundabout</th>\n",
       "      <th>Station</th>\n",
       "      <th>Stop</th>\n",
       "      <th>Traffic_Calming</th>\n",
       "      <th>Traffic_Signal</th>\n",
       "      <th>Turning_Loop</th>\n",
       "      <th>Sunrise_Sunset</th>\n",
       "      <th>Civil_Twilight</th>\n",
       "      <th>Nautical_Twilight</th>\n",
       "      <th>Astronomical_Twilight</th>\n",
       "    </tr>\n",
       "  </thead>\n",
       "  <tbody>\n",
       "    <tr>\n",
       "      <th>0</th>\n",
       "      <td>A-1</td>\n",
       "      <td>3</td>\n",
       "      <td>2016-02-08 00:37:08</td>\n",
       "      <td>2016-02-08 06:37:08</td>\n",
       "      <td>40.108910</td>\n",
       "      <td>-83.092860</td>\n",
       "      <td>40.112060</td>\n",
       "      <td>-83.031870</td>\n",
       "      <td>3.230</td>\n",
       "      <td>Between Sawmill Rd/Exit 20 and OH-315/Olentang...</td>\n",
       "      <td>...</td>\n",
       "      <td>False</td>\n",
       "      <td>False</td>\n",
       "      <td>False</td>\n",
       "      <td>False</td>\n",
       "      <td>False</td>\n",
       "      <td>False</td>\n",
       "      <td>Night</td>\n",
       "      <td>Night</td>\n",
       "      <td>Night</td>\n",
       "      <td>Night</td>\n",
       "    </tr>\n",
       "    <tr>\n",
       "      <th>1</th>\n",
       "      <td>A-2</td>\n",
       "      <td>2</td>\n",
       "      <td>2016-02-08 05:56:20</td>\n",
       "      <td>2016-02-08 11:56:20</td>\n",
       "      <td>39.865420</td>\n",
       "      <td>-84.062800</td>\n",
       "      <td>39.865010</td>\n",
       "      <td>-84.048730</td>\n",
       "      <td>0.747</td>\n",
       "      <td>At OH-4/OH-235/Exit 41 - Accident.</td>\n",
       "      <td>...</td>\n",
       "      <td>False</td>\n",
       "      <td>False</td>\n",
       "      <td>False</td>\n",
       "      <td>False</td>\n",
       "      <td>False</td>\n",
       "      <td>False</td>\n",
       "      <td>Night</td>\n",
       "      <td>Night</td>\n",
       "      <td>Night</td>\n",
       "      <td>Night</td>\n",
       "    </tr>\n",
       "    <tr>\n",
       "      <th>2</th>\n",
       "      <td>A-3</td>\n",
       "      <td>2</td>\n",
       "      <td>2016-02-08 06:15:39</td>\n",
       "      <td>2016-02-08 12:15:39</td>\n",
       "      <td>39.102660</td>\n",
       "      <td>-84.524680</td>\n",
       "      <td>39.102090</td>\n",
       "      <td>-84.523960</td>\n",
       "      <td>0.055</td>\n",
       "      <td>At I-71/US-50/Exit 1 - Accident.</td>\n",
       "      <td>...</td>\n",
       "      <td>False</td>\n",
       "      <td>False</td>\n",
       "      <td>False</td>\n",
       "      <td>False</td>\n",
       "      <td>False</td>\n",
       "      <td>False</td>\n",
       "      <td>Night</td>\n",
       "      <td>Night</td>\n",
       "      <td>Night</td>\n",
       "      <td>Day</td>\n",
       "    </tr>\n",
       "    <tr>\n",
       "      <th>3</th>\n",
       "      <td>A-4</td>\n",
       "      <td>2</td>\n",
       "      <td>2016-02-08 06:51:45</td>\n",
       "      <td>2016-02-08 12:51:45</td>\n",
       "      <td>41.062130</td>\n",
       "      <td>-81.537840</td>\n",
       "      <td>41.062170</td>\n",
       "      <td>-81.535470</td>\n",
       "      <td>0.123</td>\n",
       "      <td>At Dart Ave/Exit 21 - Accident.</td>\n",
       "      <td>...</td>\n",
       "      <td>False</td>\n",
       "      <td>False</td>\n",
       "      <td>False</td>\n",
       "      <td>False</td>\n",
       "      <td>False</td>\n",
       "      <td>False</td>\n",
       "      <td>Night</td>\n",
       "      <td>Night</td>\n",
       "      <td>Day</td>\n",
       "      <td>Day</td>\n",
       "    </tr>\n",
       "    <tr>\n",
       "      <th>4</th>\n",
       "      <td>A-5</td>\n",
       "      <td>3</td>\n",
       "      <td>2016-02-08 07:53:43</td>\n",
       "      <td>2016-02-08 13:53:43</td>\n",
       "      <td>39.172393</td>\n",
       "      <td>-84.492792</td>\n",
       "      <td>39.170476</td>\n",
       "      <td>-84.501798</td>\n",
       "      <td>0.500</td>\n",
       "      <td>At Mitchell Ave/Exit 6 - Accident.</td>\n",
       "      <td>...</td>\n",
       "      <td>False</td>\n",
       "      <td>False</td>\n",
       "      <td>False</td>\n",
       "      <td>False</td>\n",
       "      <td>False</td>\n",
       "      <td>False</td>\n",
       "      <td>Day</td>\n",
       "      <td>Day</td>\n",
       "      <td>Day</td>\n",
       "      <td>Day</td>\n",
       "    </tr>\n",
       "  </tbody>\n",
       "</table>\n",
       "<p>5 rows × 47 columns</p>\n",
       "</div>"
      ],
      "text/plain": [
       "    ID  Severity           Start_Time             End_Time  Start_Lat  \\\n",
       "0  A-1         3  2016-02-08 00:37:08  2016-02-08 06:37:08  40.108910   \n",
       "1  A-2         2  2016-02-08 05:56:20  2016-02-08 11:56:20  39.865420   \n",
       "2  A-3         2  2016-02-08 06:15:39  2016-02-08 12:15:39  39.102660   \n",
       "3  A-4         2  2016-02-08 06:51:45  2016-02-08 12:51:45  41.062130   \n",
       "4  A-5         3  2016-02-08 07:53:43  2016-02-08 13:53:43  39.172393   \n",
       "\n",
       "   Start_Lng    End_Lat    End_Lng  Distance(mi)  \\\n",
       "0 -83.092860  40.112060 -83.031870         3.230   \n",
       "1 -84.062800  39.865010 -84.048730         0.747   \n",
       "2 -84.524680  39.102090 -84.523960         0.055   \n",
       "3 -81.537840  41.062170 -81.535470         0.123   \n",
       "4 -84.492792  39.170476 -84.501798         0.500   \n",
       "\n",
       "                                         Description  ...  Roundabout Station  \\\n",
       "0  Between Sawmill Rd/Exit 20 and OH-315/Olentang...  ...       False   False   \n",
       "1                 At OH-4/OH-235/Exit 41 - Accident.  ...       False   False   \n",
       "2                   At I-71/US-50/Exit 1 - Accident.  ...       False   False   \n",
       "3                    At Dart Ave/Exit 21 - Accident.  ...       False   False   \n",
       "4                 At Mitchell Ave/Exit 6 - Accident.  ...       False   False   \n",
       "\n",
       "    Stop Traffic_Calming Traffic_Signal Turning_Loop Sunrise_Sunset  \\\n",
       "0  False           False          False        False          Night   \n",
       "1  False           False          False        False          Night   \n",
       "2  False           False          False        False          Night   \n",
       "3  False           False          False        False          Night   \n",
       "4  False           False          False        False            Day   \n",
       "\n",
       "  Civil_Twilight Nautical_Twilight Astronomical_Twilight  \n",
       "0          Night             Night                 Night  \n",
       "1          Night             Night                 Night  \n",
       "2          Night             Night                   Day  \n",
       "3          Night               Day                   Day  \n",
       "4            Day               Day                   Day  \n",
       "\n",
       "[5 rows x 47 columns]"
      ]
     },
     "execution_count": 7,
     "metadata": {},
     "output_type": "execute_result"
    }
   ],
   "source": [
    "data_set.head()"
   ]
  },
  {
   "cell_type": "code",
   "execution_count": 8,
   "id": "5b2dd0db",
   "metadata": {
    "execution": {
     "iopub.execute_input": "2022-04-05T19:13:25.785102Z",
     "iopub.status.busy": "2022-04-05T19:13:25.784448Z",
     "iopub.status.idle": "2022-04-05T19:13:25.810675Z",
     "shell.execute_reply": "2022-04-05T19:13:25.811172Z",
     "shell.execute_reply.started": "2022-04-05T17:12:43.478925Z"
    },
    "papermill": {
     "duration": 0.082291,
     "end_time": "2022-04-05T19:13:25.811338",
     "exception": false,
     "start_time": "2022-04-05T19:13:25.729047",
     "status": "completed"
    },
    "tags": []
   },
   "outputs": [
    {
     "data": {
      "text/html": [
       "<div>\n",
       "<style scoped>\n",
       "    .dataframe tbody tr th:only-of-type {\n",
       "        vertical-align: middle;\n",
       "    }\n",
       "\n",
       "    .dataframe tbody tr th {\n",
       "        vertical-align: top;\n",
       "    }\n",
       "\n",
       "    .dataframe thead th {\n",
       "        text-align: right;\n",
       "    }\n",
       "</style>\n",
       "<table border=\"1\" class=\"dataframe\">\n",
       "  <thead>\n",
       "    <tr style=\"text-align: right;\">\n",
       "      <th></th>\n",
       "      <th>ID</th>\n",
       "      <th>Severity</th>\n",
       "      <th>Start_Time</th>\n",
       "      <th>End_Time</th>\n",
       "      <th>Start_Lat</th>\n",
       "      <th>Start_Lng</th>\n",
       "      <th>End_Lat</th>\n",
       "      <th>End_Lng</th>\n",
       "      <th>Distance(mi)</th>\n",
       "      <th>Description</th>\n",
       "      <th>...</th>\n",
       "      <th>Roundabout</th>\n",
       "      <th>Station</th>\n",
       "      <th>Stop</th>\n",
       "      <th>Traffic_Calming</th>\n",
       "      <th>Traffic_Signal</th>\n",
       "      <th>Turning_Loop</th>\n",
       "      <th>Sunrise_Sunset</th>\n",
       "      <th>Civil_Twilight</th>\n",
       "      <th>Nautical_Twilight</th>\n",
       "      <th>Astronomical_Twilight</th>\n",
       "    </tr>\n",
       "  </thead>\n",
       "  <tbody>\n",
       "    <tr>\n",
       "      <th>2845337</th>\n",
       "      <td>A-2845338</td>\n",
       "      <td>2</td>\n",
       "      <td>2019-08-23 18:03:25</td>\n",
       "      <td>2019-08-23 18:32:01</td>\n",
       "      <td>34.00248</td>\n",
       "      <td>-117.37936</td>\n",
       "      <td>33.99888</td>\n",
       "      <td>-117.37094</td>\n",
       "      <td>0.543</td>\n",
       "      <td>At Market St - Accident.</td>\n",
       "      <td>...</td>\n",
       "      <td>False</td>\n",
       "      <td>False</td>\n",
       "      <td>False</td>\n",
       "      <td>False</td>\n",
       "      <td>False</td>\n",
       "      <td>False</td>\n",
       "      <td>Day</td>\n",
       "      <td>Day</td>\n",
       "      <td>Day</td>\n",
       "      <td>Day</td>\n",
       "    </tr>\n",
       "    <tr>\n",
       "      <th>2845338</th>\n",
       "      <td>A-2845339</td>\n",
       "      <td>2</td>\n",
       "      <td>2019-08-23 19:11:30</td>\n",
       "      <td>2019-08-23 19:38:23</td>\n",
       "      <td>32.76696</td>\n",
       "      <td>-117.14806</td>\n",
       "      <td>32.76555</td>\n",
       "      <td>-117.15363</td>\n",
       "      <td>0.338</td>\n",
       "      <td>At Camino Del Rio/Mission Center Rd - Accident.</td>\n",
       "      <td>...</td>\n",
       "      <td>False</td>\n",
       "      <td>False</td>\n",
       "      <td>False</td>\n",
       "      <td>False</td>\n",
       "      <td>False</td>\n",
       "      <td>False</td>\n",
       "      <td>Day</td>\n",
       "      <td>Day</td>\n",
       "      <td>Day</td>\n",
       "      <td>Day</td>\n",
       "    </tr>\n",
       "    <tr>\n",
       "      <th>2845339</th>\n",
       "      <td>A-2845340</td>\n",
       "      <td>2</td>\n",
       "      <td>2019-08-23 19:00:21</td>\n",
       "      <td>2019-08-23 19:28:49</td>\n",
       "      <td>33.77545</td>\n",
       "      <td>-117.84779</td>\n",
       "      <td>33.77740</td>\n",
       "      <td>-117.85727</td>\n",
       "      <td>0.561</td>\n",
       "      <td>At Glassell St/Grand Ave - Accident. in the ri...</td>\n",
       "      <td>...</td>\n",
       "      <td>False</td>\n",
       "      <td>False</td>\n",
       "      <td>False</td>\n",
       "      <td>False</td>\n",
       "      <td>False</td>\n",
       "      <td>False</td>\n",
       "      <td>Day</td>\n",
       "      <td>Day</td>\n",
       "      <td>Day</td>\n",
       "      <td>Day</td>\n",
       "    </tr>\n",
       "    <tr>\n",
       "      <th>2845340</th>\n",
       "      <td>A-2845341</td>\n",
       "      <td>2</td>\n",
       "      <td>2019-08-23 19:00:21</td>\n",
       "      <td>2019-08-23 19:29:42</td>\n",
       "      <td>33.99246</td>\n",
       "      <td>-118.40302</td>\n",
       "      <td>33.98311</td>\n",
       "      <td>-118.39565</td>\n",
       "      <td>0.772</td>\n",
       "      <td>At CA-90/Marina Fwy/Jefferson Blvd - Accident.</td>\n",
       "      <td>...</td>\n",
       "      <td>False</td>\n",
       "      <td>False</td>\n",
       "      <td>False</td>\n",
       "      <td>False</td>\n",
       "      <td>False</td>\n",
       "      <td>False</td>\n",
       "      <td>Day</td>\n",
       "      <td>Day</td>\n",
       "      <td>Day</td>\n",
       "      <td>Day</td>\n",
       "    </tr>\n",
       "    <tr>\n",
       "      <th>2845341</th>\n",
       "      <td>A-2845342</td>\n",
       "      <td>2</td>\n",
       "      <td>2019-08-23 18:52:06</td>\n",
       "      <td>2019-08-23 19:21:31</td>\n",
       "      <td>34.13393</td>\n",
       "      <td>-117.23092</td>\n",
       "      <td>34.13736</td>\n",
       "      <td>-117.23934</td>\n",
       "      <td>0.537</td>\n",
       "      <td>At Highland Ave/Arden Ave - Accident.</td>\n",
       "      <td>...</td>\n",
       "      <td>False</td>\n",
       "      <td>False</td>\n",
       "      <td>False</td>\n",
       "      <td>False</td>\n",
       "      <td>False</td>\n",
       "      <td>False</td>\n",
       "      <td>Day</td>\n",
       "      <td>Day</td>\n",
       "      <td>Day</td>\n",
       "      <td>Day</td>\n",
       "    </tr>\n",
       "  </tbody>\n",
       "</table>\n",
       "<p>5 rows × 47 columns</p>\n",
       "</div>"
      ],
      "text/plain": [
       "                ID  Severity           Start_Time             End_Time  \\\n",
       "2845337  A-2845338         2  2019-08-23 18:03:25  2019-08-23 18:32:01   \n",
       "2845338  A-2845339         2  2019-08-23 19:11:30  2019-08-23 19:38:23   \n",
       "2845339  A-2845340         2  2019-08-23 19:00:21  2019-08-23 19:28:49   \n",
       "2845340  A-2845341         2  2019-08-23 19:00:21  2019-08-23 19:29:42   \n",
       "2845341  A-2845342         2  2019-08-23 18:52:06  2019-08-23 19:21:31   \n",
       "\n",
       "         Start_Lat  Start_Lng   End_Lat    End_Lng  Distance(mi)  \\\n",
       "2845337   34.00248 -117.37936  33.99888 -117.37094         0.543   \n",
       "2845338   32.76696 -117.14806  32.76555 -117.15363         0.338   \n",
       "2845339   33.77545 -117.84779  33.77740 -117.85727         0.561   \n",
       "2845340   33.99246 -118.40302  33.98311 -118.39565         0.772   \n",
       "2845341   34.13393 -117.23092  34.13736 -117.23934         0.537   \n",
       "\n",
       "                                               Description  ...  Roundabout  \\\n",
       "2845337                           At Market St - Accident.  ...       False   \n",
       "2845338    At Camino Del Rio/Mission Center Rd - Accident.  ...       False   \n",
       "2845339  At Glassell St/Grand Ave - Accident. in the ri...  ...       False   \n",
       "2845340     At CA-90/Marina Fwy/Jefferson Blvd - Accident.  ...       False   \n",
       "2845341              At Highland Ave/Arden Ave - Accident.  ...       False   \n",
       "\n",
       "        Station   Stop Traffic_Calming Traffic_Signal Turning_Loop  \\\n",
       "2845337   False  False           False          False        False   \n",
       "2845338   False  False           False          False        False   \n",
       "2845339   False  False           False          False        False   \n",
       "2845340   False  False           False          False        False   \n",
       "2845341   False  False           False          False        False   \n",
       "\n",
       "        Sunrise_Sunset Civil_Twilight Nautical_Twilight Astronomical_Twilight  \n",
       "2845337            Day            Day               Day                   Day  \n",
       "2845338            Day            Day               Day                   Day  \n",
       "2845339            Day            Day               Day                   Day  \n",
       "2845340            Day            Day               Day                   Day  \n",
       "2845341            Day            Day               Day                   Day  \n",
       "\n",
       "[5 rows x 47 columns]"
      ]
     },
     "execution_count": 8,
     "metadata": {},
     "output_type": "execute_result"
    }
   ],
   "source": [
    "data_set.tail()"
   ]
  },
  {
   "cell_type": "code",
   "execution_count": 9,
   "id": "c349cadd",
   "metadata": {
    "execution": {
     "iopub.execute_input": "2022-04-05T19:13:26.078945Z",
     "iopub.status.busy": "2022-04-05T19:13:26.077962Z",
     "iopub.status.idle": "2022-04-05T19:13:27.469999Z",
     "shell.execute_reply": "2022-04-05T19:13:27.469457Z",
     "shell.execute_reply.started": "2022-04-05T17:12:43.516681Z"
    },
    "papermill": {
     "duration": 1.601081,
     "end_time": "2022-04-05T19:13:27.470150",
     "exception": false,
     "start_time": "2022-04-05T19:13:25.869069",
     "status": "completed"
    },
    "tags": []
   },
   "outputs": [
    {
     "data": {
      "text/html": [
       "<div>\n",
       "<style scoped>\n",
       "    .dataframe tbody tr th:only-of-type {\n",
       "        vertical-align: middle;\n",
       "    }\n",
       "\n",
       "    .dataframe tbody tr th {\n",
       "        vertical-align: top;\n",
       "    }\n",
       "\n",
       "    .dataframe thead th {\n",
       "        text-align: right;\n",
       "    }\n",
       "</style>\n",
       "<table border=\"1\" class=\"dataframe\">\n",
       "  <thead>\n",
       "    <tr style=\"text-align: right;\">\n",
       "      <th></th>\n",
       "      <th>Severity</th>\n",
       "      <th>Start_Lat</th>\n",
       "      <th>Start_Lng</th>\n",
       "      <th>End_Lat</th>\n",
       "      <th>End_Lng</th>\n",
       "      <th>Distance(mi)</th>\n",
       "      <th>Number</th>\n",
       "      <th>Temperature(F)</th>\n",
       "      <th>Wind_Chill(F)</th>\n",
       "      <th>Humidity(%)</th>\n",
       "      <th>Pressure(in)</th>\n",
       "      <th>Visibility(mi)</th>\n",
       "      <th>Wind_Speed(mph)</th>\n",
       "      <th>Precipitation(in)</th>\n",
       "    </tr>\n",
       "  </thead>\n",
       "  <tbody>\n",
       "    <tr>\n",
       "      <th>count</th>\n",
       "      <td>2.845342e+06</td>\n",
       "      <td>2.845342e+06</td>\n",
       "      <td>2.845342e+06</td>\n",
       "      <td>2.845342e+06</td>\n",
       "      <td>2.845342e+06</td>\n",
       "      <td>2.845342e+06</td>\n",
       "      <td>1.101431e+06</td>\n",
       "      <td>2.776068e+06</td>\n",
       "      <td>2.375699e+06</td>\n",
       "      <td>2.772250e+06</td>\n",
       "      <td>2.786142e+06</td>\n",
       "      <td>2.774796e+06</td>\n",
       "      <td>2.687398e+06</td>\n",
       "      <td>2.295884e+06</td>\n",
       "    </tr>\n",
       "    <tr>\n",
       "      <th>mean</th>\n",
       "      <td>2.137572e+00</td>\n",
       "      <td>3.624520e+01</td>\n",
       "      <td>-9.711463e+01</td>\n",
       "      <td>3.624532e+01</td>\n",
       "      <td>-9.711439e+01</td>\n",
       "      <td>7.026779e-01</td>\n",
       "      <td>8.089408e+03</td>\n",
       "      <td>6.179356e+01</td>\n",
       "      <td>5.965823e+01</td>\n",
       "      <td>6.436545e+01</td>\n",
       "      <td>2.947234e+01</td>\n",
       "      <td>9.099391e+00</td>\n",
       "      <td>7.395044e+00</td>\n",
       "      <td>7.016940e-03</td>\n",
       "    </tr>\n",
       "    <tr>\n",
       "      <th>std</th>\n",
       "      <td>4.787216e-01</td>\n",
       "      <td>5.363797e+00</td>\n",
       "      <td>1.831782e+01</td>\n",
       "      <td>5.363873e+00</td>\n",
       "      <td>1.831763e+01</td>\n",
       "      <td>1.560361e+00</td>\n",
       "      <td>1.836009e+04</td>\n",
       "      <td>1.862263e+01</td>\n",
       "      <td>2.116097e+01</td>\n",
       "      <td>2.287457e+01</td>\n",
       "      <td>1.045286e+00</td>\n",
       "      <td>2.717546e+00</td>\n",
       "      <td>5.527454e+00</td>\n",
       "      <td>9.348831e-02</td>\n",
       "    </tr>\n",
       "    <tr>\n",
       "      <th>min</th>\n",
       "      <td>1.000000e+00</td>\n",
       "      <td>2.456603e+01</td>\n",
       "      <td>-1.245481e+02</td>\n",
       "      <td>2.456601e+01</td>\n",
       "      <td>-1.245457e+02</td>\n",
       "      <td>0.000000e+00</td>\n",
       "      <td>0.000000e+00</td>\n",
       "      <td>-8.900000e+01</td>\n",
       "      <td>-8.900000e+01</td>\n",
       "      <td>1.000000e+00</td>\n",
       "      <td>0.000000e+00</td>\n",
       "      <td>0.000000e+00</td>\n",
       "      <td>0.000000e+00</td>\n",
       "      <td>0.000000e+00</td>\n",
       "    </tr>\n",
       "    <tr>\n",
       "      <th>25%</th>\n",
       "      <td>2.000000e+00</td>\n",
       "      <td>3.344517e+01</td>\n",
       "      <td>-1.180331e+02</td>\n",
       "      <td>3.344628e+01</td>\n",
       "      <td>-1.180333e+02</td>\n",
       "      <td>5.200000e-02</td>\n",
       "      <td>1.270000e+03</td>\n",
       "      <td>5.000000e+01</td>\n",
       "      <td>4.600000e+01</td>\n",
       "      <td>4.800000e+01</td>\n",
       "      <td>2.931000e+01</td>\n",
       "      <td>1.000000e+01</td>\n",
       "      <td>3.500000e+00</td>\n",
       "      <td>0.000000e+00</td>\n",
       "    </tr>\n",
       "    <tr>\n",
       "      <th>50%</th>\n",
       "      <td>2.000000e+00</td>\n",
       "      <td>3.609861e+01</td>\n",
       "      <td>-9.241808e+01</td>\n",
       "      <td>3.609799e+01</td>\n",
       "      <td>-9.241772e+01</td>\n",
       "      <td>2.440000e-01</td>\n",
       "      <td>4.007000e+03</td>\n",
       "      <td>6.400000e+01</td>\n",
       "      <td>6.300000e+01</td>\n",
       "      <td>6.700000e+01</td>\n",
       "      <td>2.982000e+01</td>\n",
       "      <td>1.000000e+01</td>\n",
       "      <td>7.000000e+00</td>\n",
       "      <td>0.000000e+00</td>\n",
       "    </tr>\n",
       "    <tr>\n",
       "      <th>75%</th>\n",
       "      <td>2.000000e+00</td>\n",
       "      <td>4.016024e+01</td>\n",
       "      <td>-8.037243e+01</td>\n",
       "      <td>4.016105e+01</td>\n",
       "      <td>-8.037338e+01</td>\n",
       "      <td>7.640000e-01</td>\n",
       "      <td>9.567000e+03</td>\n",
       "      <td>7.600000e+01</td>\n",
       "      <td>7.600000e+01</td>\n",
       "      <td>8.300000e+01</td>\n",
       "      <td>3.001000e+01</td>\n",
       "      <td>1.000000e+01</td>\n",
       "      <td>1.000000e+01</td>\n",
       "      <td>0.000000e+00</td>\n",
       "    </tr>\n",
       "    <tr>\n",
       "      <th>max</th>\n",
       "      <td>4.000000e+00</td>\n",
       "      <td>4.900058e+01</td>\n",
       "      <td>-6.711317e+01</td>\n",
       "      <td>4.907500e+01</td>\n",
       "      <td>-6.710924e+01</td>\n",
       "      <td>1.551860e+02</td>\n",
       "      <td>9.999997e+06</td>\n",
       "      <td>1.960000e+02</td>\n",
       "      <td>1.960000e+02</td>\n",
       "      <td>1.000000e+02</td>\n",
       "      <td>5.890000e+01</td>\n",
       "      <td>1.400000e+02</td>\n",
       "      <td>1.087000e+03</td>\n",
       "      <td>2.400000e+01</td>\n",
       "    </tr>\n",
       "  </tbody>\n",
       "</table>\n",
       "</div>"
      ],
      "text/plain": [
       "           Severity     Start_Lat     Start_Lng       End_Lat       End_Lng  \\\n",
       "count  2.845342e+06  2.845342e+06  2.845342e+06  2.845342e+06  2.845342e+06   \n",
       "mean   2.137572e+00  3.624520e+01 -9.711463e+01  3.624532e+01 -9.711439e+01   \n",
       "std    4.787216e-01  5.363797e+00  1.831782e+01  5.363873e+00  1.831763e+01   \n",
       "min    1.000000e+00  2.456603e+01 -1.245481e+02  2.456601e+01 -1.245457e+02   \n",
       "25%    2.000000e+00  3.344517e+01 -1.180331e+02  3.344628e+01 -1.180333e+02   \n",
       "50%    2.000000e+00  3.609861e+01 -9.241808e+01  3.609799e+01 -9.241772e+01   \n",
       "75%    2.000000e+00  4.016024e+01 -8.037243e+01  4.016105e+01 -8.037338e+01   \n",
       "max    4.000000e+00  4.900058e+01 -6.711317e+01  4.907500e+01 -6.710924e+01   \n",
       "\n",
       "       Distance(mi)        Number  Temperature(F)  Wind_Chill(F)  \\\n",
       "count  2.845342e+06  1.101431e+06    2.776068e+06   2.375699e+06   \n",
       "mean   7.026779e-01  8.089408e+03    6.179356e+01   5.965823e+01   \n",
       "std    1.560361e+00  1.836009e+04    1.862263e+01   2.116097e+01   \n",
       "min    0.000000e+00  0.000000e+00   -8.900000e+01  -8.900000e+01   \n",
       "25%    5.200000e-02  1.270000e+03    5.000000e+01   4.600000e+01   \n",
       "50%    2.440000e-01  4.007000e+03    6.400000e+01   6.300000e+01   \n",
       "75%    7.640000e-01  9.567000e+03    7.600000e+01   7.600000e+01   \n",
       "max    1.551860e+02  9.999997e+06    1.960000e+02   1.960000e+02   \n",
       "\n",
       "        Humidity(%)  Pressure(in)  Visibility(mi)  Wind_Speed(mph)  \\\n",
       "count  2.772250e+06  2.786142e+06    2.774796e+06     2.687398e+06   \n",
       "mean   6.436545e+01  2.947234e+01    9.099391e+00     7.395044e+00   \n",
       "std    2.287457e+01  1.045286e+00    2.717546e+00     5.527454e+00   \n",
       "min    1.000000e+00  0.000000e+00    0.000000e+00     0.000000e+00   \n",
       "25%    4.800000e+01  2.931000e+01    1.000000e+01     3.500000e+00   \n",
       "50%    6.700000e+01  2.982000e+01    1.000000e+01     7.000000e+00   \n",
       "75%    8.300000e+01  3.001000e+01    1.000000e+01     1.000000e+01   \n",
       "max    1.000000e+02  5.890000e+01    1.400000e+02     1.087000e+03   \n",
       "\n",
       "       Precipitation(in)  \n",
       "count       2.295884e+06  \n",
       "mean        7.016940e-03  \n",
       "std         9.348831e-02  \n",
       "min         0.000000e+00  \n",
       "25%         0.000000e+00  \n",
       "50%         0.000000e+00  \n",
       "75%         0.000000e+00  \n",
       "max         2.400000e+01  "
      ]
     },
     "execution_count": 9,
     "metadata": {},
     "output_type": "execute_result"
    }
   ],
   "source": [
    "data_set.describe()"
   ]
  },
  {
   "cell_type": "code",
   "execution_count": 10,
   "id": "44157bc7",
   "metadata": {
    "execution": {
     "iopub.execute_input": "2022-04-05T19:13:27.589764Z",
     "iopub.status.busy": "2022-04-05T19:13:27.589004Z",
     "iopub.status.idle": "2022-04-05T19:13:27.729147Z",
     "shell.execute_reply": "2022-04-05T19:13:27.729799Z",
     "shell.execute_reply.started": "2022-04-05T17:12:45.071830Z"
    },
    "papermill": {
     "duration": 0.20109,
     "end_time": "2022-04-05T19:13:27.729974",
     "exception": false,
     "start_time": "2022-04-05T19:13:27.528884",
     "status": "completed"
    },
    "tags": []
   },
   "outputs": [
    {
     "data": {
      "text/plain": [
       "14"
      ]
     },
     "execution_count": 10,
     "metadata": {},
     "output_type": "execute_result"
    }
   ],
   "source": [
    "numerics = ['int16', 'int32', 'int64', 'float16', 'float32', 'float64']\n",
    "numeric_ds = data_set.select_dtypes(include=numerics)\n",
    "len(numeric_ds.columns)"
   ]
  },
  {
   "cell_type": "code",
   "execution_count": 11,
   "id": "1713da89",
   "metadata": {
    "execution": {
     "iopub.execute_input": "2022-04-05T19:13:28.780704Z",
     "iopub.status.busy": "2022-04-05T19:13:27.843517Z",
     "iopub.status.idle": "2022-04-05T19:13:29.336730Z",
     "shell.execute_reply": "2022-04-05T19:13:29.336195Z",
     "shell.execute_reply.started": "2022-04-05T17:12:45.217807Z"
    },
    "papermill": {
     "duration": 1.547453,
     "end_time": "2022-04-05T19:13:29.336873",
     "exception": false,
     "start_time": "2022-04-05T19:13:27.789420",
     "status": "completed"
    },
    "tags": []
   },
   "outputs": [
    {
     "data": {
      "text/plain": [
       "33"
      ]
     },
     "execution_count": 11,
     "metadata": {},
     "output_type": "execute_result"
    }
   ],
   "source": [
    "numerics = ['int16', 'int32', 'int64', 'float16', 'float32', 'float64']\n",
    "numeric_ds = data_set.select_dtypes(exclude=numerics)\n",
    "len(numeric_ds.columns)"
   ]
  },
  {
   "cell_type": "markdown",
   "id": "9d7e696d",
   "metadata": {
    "papermill": {
     "duration": 0.050948,
     "end_time": "2022-04-05T19:13:29.440017",
     "exception": false,
     "start_time": "2022-04-05T19:13:29.389069",
     "status": "completed"
    },
    "tags": []
   },
   "source": [
    "Percentage of missing values per column"
   ]
  },
  {
   "cell_type": "code",
   "execution_count": 12,
   "id": "06e42833",
   "metadata": {
    "execution": {
     "iopub.execute_input": "2022-04-05T19:13:29.546940Z",
     "iopub.status.busy": "2022-04-05T19:13:29.545087Z",
     "iopub.status.idle": "2022-04-05T19:13:36.587345Z",
     "shell.execute_reply": "2022-04-05T19:13:36.587944Z",
     "shell.execute_reply.started": "2022-04-05T17:12:45.938038Z"
    },
    "papermill": {
     "duration": 7.097218,
     "end_time": "2022-04-05T19:13:36.588364",
     "exception": false,
     "start_time": "2022-04-05T19:13:29.491146",
     "status": "completed"
    },
    "tags": []
   },
   "outputs": [
    {
     "data": {
      "text/plain": [
       "Number                   1743911\n",
       "Precipitation(in)         549458\n",
       "Wind_Chill(F)             469643\n",
       "Wind_Speed(mph)           157944\n",
       "Wind_Direction             73775\n",
       "Humidity(%)                73092\n",
       "Weather_Condition          70636\n",
       "Visibility(mi)             70546\n",
       "Temperature(F)             69274\n",
       "Pressure(in)               59200\n",
       "Weather_Timestamp          50736\n",
       "Airport_Code                9549\n",
       "Timezone                    3659\n",
       "Nautical_Twilight           2867\n",
       "Civil_Twilight              2867\n",
       "Sunrise_Sunset              2867\n",
       "Astronomical_Twilight       2867\n",
       "Zipcode                     1319\n",
       "City                         137\n",
       "Street                         2\n",
       "Country                        0\n",
       "Junction                       0\n",
       "Start_Time                     0\n",
       "End_Time                       0\n",
       "Start_Lat                      0\n",
       "Turning_Loop                   0\n",
       "Traffic_Signal                 0\n",
       "Traffic_Calming                0\n",
       "Stop                           0\n",
       "Station                        0\n",
       "Roundabout                     0\n",
       "Railway                        0\n",
       "No_Exit                        0\n",
       "Crossing                       0\n",
       "Give_Way                       0\n",
       "Bump                           0\n",
       "Amenity                        0\n",
       "Start_Lng                      0\n",
       "End_Lat                        0\n",
       "End_Lng                        0\n",
       "Distance(mi)                   0\n",
       "Description                    0\n",
       "Severity                       0\n",
       "Side                           0\n",
       "County                         0\n",
       "State                          0\n",
       "ID                             0\n",
       "dtype: int64"
      ]
     },
     "execution_count": 12,
     "metadata": {},
     "output_type": "execute_result"
    }
   ],
   "source": [
    "data_set.isna().sum().sort_values(ascending=False)"
   ]
  },
  {
   "cell_type": "code",
   "execution_count": 13,
   "id": "779a57e2",
   "metadata": {
    "execution": {
     "iopub.execute_input": "2022-04-05T19:13:36.700457Z",
     "iopub.status.busy": "2022-04-05T19:13:36.699290Z",
     "iopub.status.idle": "2022-04-05T19:13:43.099241Z",
     "shell.execute_reply": "2022-04-05T19:13:43.098482Z",
     "shell.execute_reply.started": "2022-04-05T17:12:51.236019Z"
    },
    "papermill": {
     "duration": 6.457417,
     "end_time": "2022-04-05T19:13:43.099386",
     "exception": false,
     "start_time": "2022-04-05T19:13:36.641969",
     "status": "completed"
    },
    "tags": []
   },
   "outputs": [
    {
     "data": {
      "text/plain": [
       "Number                   6.129003e-01\n",
       "Precipitation(in)        1.931079e-01\n",
       "Wind_Chill(F)            1.650568e-01\n",
       "Wind_Speed(mph)          5.550967e-02\n",
       "Wind_Direction           2.592834e-02\n",
       "Humidity(%)              2.568830e-02\n",
       "Weather_Condition        2.482514e-02\n",
       "Visibility(mi)           2.479350e-02\n",
       "Temperature(F)           2.434646e-02\n",
       "Pressure(in)             2.080593e-02\n",
       "Weather_Timestamp        1.783125e-02\n",
       "Airport_Code             3.356011e-03\n",
       "Timezone                 1.285961e-03\n",
       "Nautical_Twilight        1.007612e-03\n",
       "Civil_Twilight           1.007612e-03\n",
       "Sunrise_Sunset           1.007612e-03\n",
       "Astronomical_Twilight    1.007612e-03\n",
       "Zipcode                  4.635647e-04\n",
       "City                     4.814887e-05\n",
       "Street                   7.029032e-07\n",
       "Country                  0.000000e+00\n",
       "Junction                 0.000000e+00\n",
       "Start_Time               0.000000e+00\n",
       "End_Time                 0.000000e+00\n",
       "Start_Lat                0.000000e+00\n",
       "Turning_Loop             0.000000e+00\n",
       "Traffic_Signal           0.000000e+00\n",
       "Traffic_Calming          0.000000e+00\n",
       "Stop                     0.000000e+00\n",
       "Station                  0.000000e+00\n",
       "Roundabout               0.000000e+00\n",
       "Railway                  0.000000e+00\n",
       "No_Exit                  0.000000e+00\n",
       "Crossing                 0.000000e+00\n",
       "Give_Way                 0.000000e+00\n",
       "Bump                     0.000000e+00\n",
       "Amenity                  0.000000e+00\n",
       "Start_Lng                0.000000e+00\n",
       "End_Lat                  0.000000e+00\n",
       "End_Lng                  0.000000e+00\n",
       "Distance(mi)             0.000000e+00\n",
       "Description              0.000000e+00\n",
       "Severity                 0.000000e+00\n",
       "Side                     0.000000e+00\n",
       "County                   0.000000e+00\n",
       "State                    0.000000e+00\n",
       "ID                       0.000000e+00\n",
       "dtype: float64"
      ]
     },
     "execution_count": 13,
     "metadata": {},
     "output_type": "execute_result"
    }
   ],
   "source": [
    "missing_percentages = data_set.isna().sum().sort_values(ascending=False)/len(data_set)\n",
    "missing_percentages"
   ]
  },
  {
   "cell_type": "code",
   "execution_count": 14,
   "id": "8cfec3bc",
   "metadata": {
    "execution": {
     "iopub.execute_input": "2022-04-05T19:13:43.212015Z",
     "iopub.status.busy": "2022-04-05T19:13:43.211377Z",
     "iopub.status.idle": "2022-04-05T19:13:43.213931Z",
     "shell.execute_reply": "2022-04-05T19:13:43.214411Z",
     "shell.execute_reply.started": "2022-04-05T17:12:56.584263Z"
    },
    "papermill": {
     "duration": 0.063123,
     "end_time": "2022-04-05T19:13:43.214571",
     "exception": false,
     "start_time": "2022-04-05T19:13:43.151448",
     "status": "completed"
    },
    "tags": []
   },
   "outputs": [
    {
     "data": {
      "text/plain": [
       "Number                   6.129003e-01\n",
       "Precipitation(in)        1.931079e-01\n",
       "Wind_Chill(F)            1.650568e-01\n",
       "Wind_Speed(mph)          5.550967e-02\n",
       "Wind_Direction           2.592834e-02\n",
       "Humidity(%)              2.568830e-02\n",
       "Weather_Condition        2.482514e-02\n",
       "Visibility(mi)           2.479350e-02\n",
       "Temperature(F)           2.434646e-02\n",
       "Pressure(in)             2.080593e-02\n",
       "Weather_Timestamp        1.783125e-02\n",
       "Airport_Code             3.356011e-03\n",
       "Timezone                 1.285961e-03\n",
       "Nautical_Twilight        1.007612e-03\n",
       "Civil_Twilight           1.007612e-03\n",
       "Sunrise_Sunset           1.007612e-03\n",
       "Astronomical_Twilight    1.007612e-03\n",
       "Zipcode                  4.635647e-04\n",
       "City                     4.814887e-05\n",
       "Street                   7.029032e-07\n",
       "dtype: float64"
      ]
     },
     "execution_count": 14,
     "metadata": {},
     "output_type": "execute_result"
    }
   ],
   "source": [
    "missing_percentages[missing_percentages !=0]"
   ]
  },
  {
   "cell_type": "code",
   "execution_count": 15,
   "id": "22f05e61",
   "metadata": {
    "execution": {
     "iopub.execute_input": "2022-04-05T19:13:43.321999Z",
     "iopub.status.busy": "2022-04-05T19:13:43.321391Z",
     "iopub.status.idle": "2022-04-05T19:13:43.721478Z",
     "shell.execute_reply": "2022-04-05T19:13:43.721986Z",
     "shell.execute_reply.started": "2022-04-05T17:12:56.596717Z"
    },
    "papermill": {
     "duration": 0.455522,
     "end_time": "2022-04-05T19:13:43.722170",
     "exception": false,
     "start_time": "2022-04-05T19:13:43.266648",
     "status": "completed"
    },
    "tags": []
   },
   "outputs": [
    {
     "data": {
      "text/plain": [
       "<AxesSubplot:>"
      ]
     },
     "execution_count": 15,
     "metadata": {},
     "output_type": "execute_result"
    },
    {
     "data": {
      "image/png": "[encoded data removed]",
      "text/plain": [
       "<Figure size 432x288 with 1 Axes>"
      ]
     },
     "metadata": {
      "needs_background": "light"
     },
     "output_type": "display_data"
    }
   ],
   "source": [
    "missing_percentages[missing_percentages !=0].plot(kind='barh')"
   ]
  },
  {
   "cell_type": "markdown",
   "id": "59caa248",
   "metadata": {
    "papermill": {
     "duration": 0.053587,
     "end_time": "2022-04-05T19:13:43.830913",
     "exception": false,
     "start_time": "2022-04-05T19:13:43.777326",
     "status": "completed"
    },
    "tags": []
   },
   "source": [
    "# Exploratory Analysis and Visualization\n",
    "* City\n",
    "* Start time\n",
    "* Start lat, start long\n",
    "* Temperature\n",
    "* Weather condition"
   ]
  },
  {
   "cell_type": "code",
   "execution_count": 16,
   "id": "7d664317",
   "metadata": {
    "execution": {
     "iopub.execute_input": "2022-04-05T19:13:43.945560Z",
     "iopub.status.busy": "2022-04-05T19:13:43.944735Z",
     "iopub.status.idle": "2022-04-05T19:13:43.948758Z",
     "shell.execute_reply": "2022-04-05T19:13:43.948220Z",
     "shell.execute_reply.started": "2022-04-05T17:12:57.039079Z"
    },
    "papermill": {
     "duration": 0.063918,
     "end_time": "2022-04-05T19:13:43.948897",
     "exception": false,
     "start_time": "2022-04-05T19:13:43.884979",
     "status": "completed"
    },
    "tags": []
   },
   "outputs": [
    {
     "data": {
      "text/plain": [
       "Index(['ID', 'Severity', 'Start_Time', 'End_Time', 'Start_Lat', 'Start_Lng',\n",
       "       'End_Lat', 'End_Lng', 'Distance(mi)', 'Description', 'Number', 'Street',\n",
       "       'Side', 'City', 'County', 'State', 'Zipcode', 'Country', 'Timezone',\n",
       "       'Airport_Code', 'Weather_Timestamp', 'Temperature(F)', 'Wind_Chill(F)',\n",
       "       'Humidity(%)', 'Pressure(in)', 'Visibility(mi)', 'Wind_Direction',\n",
       "       'Wind_Speed(mph)', 'Precipitation(in)', 'Weather_Condition', 'Amenity',\n",
       "       'Bump', 'Crossing', 'Give_Way', 'Junction', 'No_Exit', 'Railway',\n",
       "       'Roundabout', 'Station', 'Stop', 'Traffic_Calming', 'Traffic_Signal',\n",
       "       'Turning_Loop', 'Sunrise_Sunset', 'Civil_Twilight', 'Nautical_Twilight',\n",
       "       'Astronomical_Twilight'],\n",
       "      dtype='object')"
      ]
     },
     "execution_count": 16,
     "metadata": {},
     "output_type": "execute_result"
    }
   ],
   "source": [
    "data_set.columns"
   ]
  },
  {
   "cell_type": "markdown",
   "id": "8210df3e",
   "metadata": {
    "papermill": {
     "duration": 0.053605,
     "end_time": "2022-04-05T19:13:44.057051",
     "exception": false,
     "start_time": "2022-04-05T19:13:44.003446",
     "status": "completed"
    },
    "tags": []
   },
   "source": [
    "# Cities"
   ]
  },
  {
   "cell_type": "code",
   "execution_count": 17,
   "id": "50885595",
   "metadata": {
    "execution": {
     "iopub.execute_input": "2022-04-05T19:13:44.534616Z",
     "iopub.status.busy": "2022-04-05T19:13:44.533938Z",
     "iopub.status.idle": "2022-04-05T19:13:44.537886Z",
     "shell.execute_reply": "2022-04-05T19:13:44.537374Z",
     "shell.execute_reply.started": "2022-04-05T17:12:57.048581Z"
    },
    "papermill": {
     "duration": 0.426508,
     "end_time": "2022-04-05T19:13:44.538038",
     "exception": false,
     "start_time": "2022-04-05T19:13:44.111530",
     "status": "completed"
    },
    "tags": []
   },
   "outputs": [
    {
     "data": {
      "text/plain": [
       "11682"
      ]
     },
     "execution_count": 17,
     "metadata": {},
     "output_type": "execute_result"
    }
   ],
   "source": [
    "cities = data_set.City.unique()\n",
    "len(cities)"
   ]
  },
  {
   "cell_type": "code",
   "execution_count": 18,
   "id": "c01635cb",
   "metadata": {
    "execution": {
     "iopub.execute_input": "2022-04-05T19:13:45.156747Z",
     "iopub.status.busy": "2022-04-05T19:13:44.649130Z",
     "iopub.status.idle": "2022-04-05T19:13:45.166201Z",
     "shell.execute_reply": "2022-04-05T19:13:45.166705Z",
     "shell.execute_reply.started": "2022-04-05T17:12:57.431319Z"
    },
    "papermill": {
     "duration": 0.574686,
     "end_time": "2022-04-05T19:13:45.166879",
     "exception": false,
     "start_time": "2022-04-05T19:13:44.592193",
     "status": "completed"
    },
    "tags": []
   },
   "outputs": [
    {
     "data": {
      "text/plain": [
       "Miami                           106966\n",
       "Los Angeles                      68956\n",
       "Orlando                          54691\n",
       "Dallas                           41979\n",
       "Houston                          39448\n",
       "                                 ...  \n",
       "De Graff                             1\n",
       "Township 9                           1\n",
       "Elida                                1\n",
       "Old Tappan                           1\n",
       "American Fork-Pleasant Grove         1\n",
       "Name: City, Length: 11681, dtype: int64"
      ]
     },
     "execution_count": 18,
     "metadata": {},
     "output_type": "execute_result"
    }
   ],
   "source": [
    "cities_by_accident = data_set.City.value_counts().sort_values(ascending=False)\n",
    "cities_by_accident"
   ]
  },
  {
   "cell_type": "code",
   "execution_count": 19,
   "id": "7b73c462",
   "metadata": {
    "execution": {
     "iopub.execute_input": "2022-04-05T19:13:45.279949Z",
     "iopub.status.busy": "2022-04-05T19:13:45.279355Z",
     "iopub.status.idle": "2022-04-05T19:13:45.286380Z",
     "shell.execute_reply": "2022-04-05T19:13:45.286950Z",
     "shell.execute_reply.started": "2022-04-05T17:12:57.976190Z"
    },
    "papermill": {
     "duration": 0.065245,
     "end_time": "2022-04-05T19:13:45.287131",
     "exception": false,
     "start_time": "2022-04-05T19:13:45.221886",
     "status": "completed"
    },
    "tags": []
   },
   "outputs": [
    {
     "data": {
      "text/plain": [
       "Miami              106966\n",
       "Los Angeles         68956\n",
       "Orlando             54691\n",
       "Dallas              41979\n",
       "Houston             39448\n",
       "Charlotte           33152\n",
       "Sacramento          32559\n",
       "San Diego           26627\n",
       "Raleigh             22840\n",
       "Minneapolis         22768\n",
       "Portland            20944\n",
       "Nashville           20267\n",
       "Austin              18301\n",
       "Baton Rouge         18182\n",
       "Phoenix             17143\n",
       "Saint Paul          16869\n",
       "New Orleans         16251\n",
       "Atlanta             15622\n",
       "Jacksonville        14967\n",
       "Richmond            14349\n",
       "Tucson              13799\n",
       "San Jose            13377\n",
       "Riverside           13310\n",
       "Kansas City         13298\n",
       "Bakersfield         12044\n",
       "San Bernardino      11249\n",
       "Chicago             11188\n",
       "Tampa               10984\n",
       "Salt Lake City      10709\n",
       "Ontario             10538\n",
       "Anaheim             10502\n",
       "Hialeah             10398\n",
       "Fort Lauderdale     10345\n",
       "Oakland             10051\n",
       "Columbia             9885\n",
       "Corona               9763\n",
       "Washington           9624\n",
       "Bronx                9453\n",
       "Rochester            9335\n",
       "Chattanooga          9205\n",
       "Fresno               9025\n",
       "Long Beach           8898\n",
       "Seattle              8896\n",
       "Indianapolis         8328\n",
       "Denver               7960\n",
       "Philadelphia         7555\n",
       "Springfield          7543\n",
       "Greenville           7361\n",
       "Detroit              7344\n",
       "Whittier             7184\n",
       "Name: City, dtype: int64"
      ]
     },
     "execution_count": 19,
     "metadata": {},
     "output_type": "execute_result"
    }
   ],
   "source": [
    "cities_by_accident[:50]"
   ]
  },
  {
   "cell_type": "code",
   "execution_count": 20,
   "id": "f552bbc9",
   "metadata": {
    "execution": {
     "iopub.execute_input": "2022-04-05T19:13:45.400242Z",
     "iopub.status.busy": "2022-04-05T19:13:45.399553Z",
     "iopub.status.idle": "2022-04-05T19:13:45.405516Z",
     "shell.execute_reply": "2022-04-05T19:13:45.405036Z",
     "shell.execute_reply.started": "2022-04-05T17:12:57.986876Z"
    },
    "papermill": {
     "duration": 0.063403,
     "end_time": "2022-04-05T19:13:45.405649",
     "exception": false,
     "start_time": "2022-04-05T19:13:45.342246",
     "status": "completed"
    },
    "tags": []
   },
   "outputs": [
    {
     "data": {
      "text/plain": [
       "False"
      ]
     },
     "execution_count": 20,
     "metadata": {},
     "output_type": "execute_result"
    }
   ],
   "source": [
    "'New york' in data_set.City"
   ]
  },
  {
   "cell_type": "code",
   "execution_count": 21,
   "id": "88256198",
   "metadata": {
    "execution": {
     "iopub.execute_input": "2022-04-05T19:13:45.522461Z",
     "iopub.status.busy": "2022-04-05T19:13:45.521622Z",
     "iopub.status.idle": "2022-04-05T19:13:45.525446Z",
     "shell.execute_reply": "2022-04-05T19:13:45.524909Z",
     "shell.execute_reply.started": "2022-04-05T17:12:58.002993Z"
    },
    "papermill": {
     "duration": 0.064443,
     "end_time": "2022-04-05T19:13:45.525579",
     "exception": false,
     "start_time": "2022-04-05T19:13:45.461136",
     "status": "completed"
    },
    "tags": []
   },
   "outputs": [
    {
     "data": {
      "text/plain": [
       "False"
      ]
     },
     "execution_count": 21,
     "metadata": {},
     "output_type": "execute_result"
    }
   ],
   "source": [
    "'NY' in data_set.State"
   ]
  },
  {
   "cell_type": "code",
   "execution_count": 22,
   "id": "050e38d8",
   "metadata": {
    "execution": {
     "iopub.execute_input": "2022-04-05T19:13:45.645905Z",
     "iopub.status.busy": "2022-04-05T19:13:45.644866Z",
     "iopub.status.idle": "2022-04-05T19:13:45.945271Z",
     "shell.execute_reply": "2022-04-05T19:13:45.944703Z",
     "shell.execute_reply.started": "2022-04-05T17:12:58.017027Z"
    },
    "papermill": {
     "duration": 0.363836,
     "end_time": "2022-04-05T19:13:45.945410",
     "exception": false,
     "start_time": "2022-04-05T19:13:45.581574",
     "status": "completed"
    },
    "tags": []
   },
   "outputs": [
    {
     "data": {
      "text/plain": [
       "<AxesSubplot:>"
      ]
     },
     "execution_count": 22,
     "metadata": {},
     "output_type": "execute_result"
    },
    {
     "data": {
      "image/png": "[encoded data removed]",
      "text/plain": [
       "<Figure size 432x288 with 1 Axes>"
      ]
     },
     "metadata": {
      "needs_background": "light"
     },
     "output_type": "display_data"
    }
   ],
   "source": [
    "cities_by_accident[:20].plot(kind='barh')"
   ]
  },
  {
   "cell_type": "code",
   "execution_count": 23,
   "id": "1d188812",
   "metadata": {
    "execution": {
     "iopub.execute_input": "2022-04-05T19:13:46.069243Z",
     "iopub.status.busy": "2022-04-05T19:13:46.068517Z",
     "iopub.status.idle": "2022-04-05T19:13:46.071338Z",
     "shell.execute_reply": "2022-04-05T19:13:46.070814Z",
     "shell.execute_reply.started": "2022-04-05T17:12:58.390798Z"
    },
    "papermill": {
     "duration": 0.066334,
     "end_time": "2022-04-05T19:13:46.071473",
     "exception": false,
     "start_time": "2022-04-05T19:13:46.005139",
     "status": "completed"
    },
    "tags": []
   },
   "outputs": [],
   "source": [
    "sns.set_style(\"darkgrid\")"
   ]
  },
  {
   "cell_type": "code",
   "execution_count": 24,
   "id": "d7498be3",
   "metadata": {
    "execution": {
     "iopub.execute_input": "2022-04-05T19:13:46.190150Z",
     "iopub.status.busy": "2022-04-05T19:13:46.189497Z",
     "iopub.status.idle": "2022-04-05T19:13:46.675126Z",
     "shell.execute_reply": "2022-04-05T19:13:46.674588Z",
     "shell.execute_reply.started": "2022-04-05T17:12:58.397689Z"
    },
    "papermill": {
     "duration": 0.545989,
     "end_time": "2022-04-05T19:13:46.675282",
     "exception": false,
     "start_time": "2022-04-05T19:13:46.129293",
     "status": "completed"
    },
    "tags": []
   },
   "outputs": [
    {
     "name": "stderr",
     "output_type": "stream",
     "text": [
      "/opt/conda/lib/python3.7/site-packages/seaborn/distributions.py:2619: FutureWarning: `distplot` is a deprecated function and will be removed in a future version. Please adapt your code to use either `displot` (a figure-level function with similar flexibility) or `histplot` (an axes-level function for histograms).\n",
      "  warnings.warn(msg, FutureWarning)\n"
     ]
    },
    {
     "data": {
      "text/plain": [
       "<AxesSubplot:xlabel='City', ylabel='Density'>"
      ]
     },
     "execution_count": 24,
     "metadata": {},
     "output_type": "execute_result"
    },
    {
     "data": {
      "image/png": "[encoded data removed]",
      "text/plain": [
       "<Figure size 432x288 with 1 Axes>"
      ]
     },
     "metadata": {},
     "output_type": "display_data"
    }
   ],
   "source": [
    "sns.distplot(cities_by_accident)"
   ]
  },
  {
   "cell_type": "code",
   "execution_count": 25,
   "id": "a98a53a6",
   "metadata": {
    "execution": {
     "iopub.execute_input": "2022-04-05T19:13:46.799658Z",
     "iopub.status.busy": "2022-04-05T19:13:46.798645Z",
     "iopub.status.idle": "2022-04-05T19:13:46.802355Z",
     "shell.execute_reply": "2022-04-05T19:13:46.802916Z",
     "shell.execute_reply.started": "2022-04-05T17:12:58.969402Z"
    },
    "papermill": {
     "duration": 0.068509,
     "end_time": "2022-04-05T19:13:46.803097",
     "exception": false,
     "start_time": "2022-04-05T19:13:46.734588",
     "status": "completed"
    },
    "tags": []
   },
   "outputs": [],
   "source": [
    "high_accident_cities = cities_by_accident[cities_by_accident > 1000]\n",
    "low_accident_cities = cities_by_accident[cities_by_accident < 1000]"
   ]
  },
  {
   "cell_type": "code",
   "execution_count": 26,
   "id": "460ae498",
   "metadata": {
    "execution": {
     "iopub.execute_input": "2022-04-05T19:13:46.925637Z",
     "iopub.status.busy": "2022-04-05T19:13:46.924634Z",
     "iopub.status.idle": "2022-04-05T19:13:46.930779Z",
     "shell.execute_reply": "2022-04-05T19:13:46.931242Z",
     "shell.execute_reply.started": "2022-04-05T17:12:58.979731Z"
    },
    "papermill": {
     "duration": 0.069226,
     "end_time": "2022-04-05T19:13:46.931408",
     "exception": false,
     "start_time": "2022-04-05T19:13:46.862182",
     "status": "completed"
    },
    "tags": []
   },
   "outputs": [
    {
     "data": {
      "text/plain": [
       "0.042290899751733585"
      ]
     },
     "execution_count": 26,
     "metadata": {},
     "output_type": "execute_result"
    }
   ],
   "source": [
    "len(high_accident_cities)/len(cities_by_accident)"
   ]
  },
  {
   "cell_type": "code",
   "execution_count": 27,
   "id": "89833dfe",
   "metadata": {
    "execution": {
     "iopub.execute_input": "2022-04-05T19:13:47.082316Z",
     "iopub.status.busy": "2022-04-05T19:13:47.080734Z",
     "iopub.status.idle": "2022-04-05T19:13:47.089426Z",
     "shell.execute_reply": "2022-04-05T19:13:47.090489Z",
     "shell.execute_reply.started": "2022-04-05T17:12:58.998271Z"
    },
    "papermill": {
     "duration": 0.088079,
     "end_time": "2022-04-05T19:13:47.090669",
     "exception": false,
     "start_time": "2022-04-05T19:13:47.002590",
     "status": "completed"
    },
    "tags": []
   },
   "outputs": [
    {
     "data": {
      "text/plain": [
       "11185"
      ]
     },
     "execution_count": 27,
     "metadata": {},
     "output_type": "execute_result"
    }
   ],
   "source": [
    "len(low_accident_cities)"
   ]
  },
  {
   "cell_type": "code",
   "execution_count": 28,
   "id": "2ba36edb",
   "metadata": {
    "execution": {
     "iopub.execute_input": "2022-04-05T19:13:47.216974Z",
     "iopub.status.busy": "2022-04-05T19:13:47.216355Z",
     "iopub.status.idle": "2022-04-05T19:13:47.600500Z",
     "shell.execute_reply": "2022-04-05T19:13:47.599869Z",
     "shell.execute_reply.started": "2022-04-05T17:12:59.024833Z"
    },
    "papermill": {
     "duration": 0.44711,
     "end_time": "2022-04-05T19:13:47.600648",
     "exception": false,
     "start_time": "2022-04-05T19:13:47.153538",
     "status": "completed"
    },
    "tags": []
   },
   "outputs": [
    {
     "name": "stderr",
     "output_type": "stream",
     "text": [
      "/opt/conda/lib/python3.7/site-packages/seaborn/distributions.py:2619: FutureWarning: `distplot` is a deprecated function and will be removed in a future version. Please adapt your code to use either `displot` (a figure-level function with similar flexibility) or `histplot` (an axes-level function for histograms).\n",
      "  warnings.warn(msg, FutureWarning)\n"
     ]
    },
    {
     "data": {
      "text/plain": [
       "<AxesSubplot:xlabel='City', ylabel='Density'>"
      ]
     },
     "execution_count": 28,
     "metadata": {},
     "output_type": "execute_result"
    },
    {
     "data": {
      "image/png": "[encoded data removed]",
      "text/plain": [
       "<Figure size 432x288 with 1 Axes>"
      ]
     },
     "metadata": {},
     "output_type": "display_data"
    }
   ],
   "source": [
    "sns.distplot(high_accident_cities)"
   ]
  },
  {
   "cell_type": "code",
   "execution_count": 29,
   "id": "270c1a7d",
   "metadata": {
    "execution": {
     "iopub.execute_input": "2022-04-05T19:13:47.751313Z",
     "iopub.status.busy": "2022-04-05T19:13:47.750557Z",
     "iopub.status.idle": "2022-04-05T19:13:48.206238Z",
     "shell.execute_reply": "2022-04-05T19:13:48.206725Z",
     "shell.execute_reply.started": "2022-04-05T17:12:59.503611Z"
    },
    "papermill": {
     "duration": 0.544106,
     "end_time": "2022-04-05T19:13:48.206890",
     "exception": false,
     "start_time": "2022-04-05T19:13:47.662784",
     "status": "completed"
    },
    "tags": []
   },
   "outputs": [
    {
     "name": "stderr",
     "output_type": "stream",
     "text": [
      "/opt/conda/lib/python3.7/site-packages/seaborn/distributions.py:2619: FutureWarning: `distplot` is a deprecated function and will be removed in a future version. Please adapt your code to use either `displot` (a figure-level function with similar flexibility) or `histplot` (an axes-level function for histograms).\n",
      "  warnings.warn(msg, FutureWarning)\n"
     ]
    },
    {
     "data": {
      "text/plain": [
       "<AxesSubplot:xlabel='City', ylabel='Density'>"
      ]
     },
     "execution_count": 29,
     "metadata": {},
     "output_type": "execute_result"
    },
    {
     "data": {
      "image/png": "[encoded data removed]",
      "text/plain": [
       "<Figure size 432x288 with 1 Axes>"
      ]
     },
     "metadata": {},
     "output_type": "display_data"
    }
   ],
   "source": [
    "sns.distplot(low_accident_cities)"
   ]
  },
  {
   "cell_type": "code",
   "execution_count": 30,
   "id": "c733848a",
   "metadata": {
    "execution": {
     "iopub.execute_input": "2022-04-05T19:13:48.341100Z",
     "iopub.status.busy": "2022-04-05T19:13:48.340114Z",
     "iopub.status.idle": "2022-04-05T19:13:49.933920Z",
     "shell.execute_reply": "2022-04-05T19:13:49.933316Z",
     "shell.execute_reply.started": "2022-04-05T17:13:00.037658Z"
    },
    "papermill": {
     "duration": 1.663805,
     "end_time": "2022-04-05T19:13:49.934098",
     "exception": false,
     "start_time": "2022-04-05T19:13:48.270293",
     "status": "completed"
    },
    "tags": []
   },
   "outputs": [
    {
     "data": {
      "text/plain": [
       "<AxesSubplot:xlabel='City', ylabel='Count'>"
      ]
     },
     "execution_count": 30,
     "metadata": {},
     "output_type": "execute_result"
    },
    {
     "data": {
      "image/png": "[encoded data removed]",
      "text/plain": [
       "<Figure size 432x288 with 1 Axes>"
      ]
     },
     "metadata": {},
     "output_type": "display_data"
    }
   ],
   "source": [
    "sns.histplot(cities_by_accident, log_scale=True)"
   ]
  },
  {
   "cell_type": "code",
   "execution_count": 31,
   "id": "d6ce5ebf",
   "metadata": {
    "execution": {
     "iopub.execute_input": "2022-04-05T19:13:50.069345Z",
     "iopub.status.busy": "2022-04-05T19:13:50.068724Z",
     "iopub.status.idle": "2022-04-05T19:13:50.075314Z",
     "shell.execute_reply": "2022-04-05T19:13:50.075884Z",
     "shell.execute_reply.started": "2022-04-05T17:13:01.882845Z"
    },
    "papermill": {
     "duration": 0.075702,
     "end_time": "2022-04-05T19:13:50.076073",
     "exception": false,
     "start_time": "2022-04-05T19:13:50.000371",
     "status": "completed"
    },
    "tags": []
   },
   "outputs": [
    {
     "data": {
      "text/plain": [
       "Wyandotte                       1\n",
       "Ponca                           1\n",
       "Cedar                           1\n",
       "Inchelium                       1\n",
       "Gerlach                         1\n",
       "                               ..\n",
       "De Graff                        1\n",
       "Township 9                      1\n",
       "Elida                           1\n",
       "Old Tappan                      1\n",
       "American Fork-Pleasant Grove    1\n",
       "Name: City, Length: 1110, dtype: int64"
      ]
     },
     "execution_count": 31,
     "metadata": {},
     "output_type": "execute_result"
    }
   ],
   "source": [
    "cities_by_accident[cities_by_accident == 1]"
   ]
  },
  {
   "cell_type": "markdown",
   "id": "b27b5cf3",
   "metadata": {
    "papermill": {
     "duration": 0.064664,
     "end_time": "2022-04-05T19:13:50.206421",
     "exception": false,
     "start_time": "2022-04-05T19:13:50.141757",
     "status": "completed"
    },
    "tags": []
   },
   "source": [
    "# Start Time"
   ]
  },
  {
   "cell_type": "code",
   "execution_count": 32,
   "id": "d00ed406",
   "metadata": {
    "execution": {
     "iopub.execute_input": "2022-04-05T19:13:50.343885Z",
     "iopub.status.busy": "2022-04-05T19:13:50.339891Z",
     "iopub.status.idle": "2022-04-05T19:13:50.346657Z",
     "shell.execute_reply": "2022-04-05T19:13:50.347268Z",
     "shell.execute_reply.started": "2022-04-05T17:13:01.895162Z"
    },
    "papermill": {
     "duration": 0.076107,
     "end_time": "2022-04-05T19:13:50.347434",
     "exception": false,
     "start_time": "2022-04-05T19:13:50.271327",
     "status": "completed"
    },
    "tags": []
   },
   "outputs": [
    {
     "data": {
      "text/plain": [
       "0          2016-02-08 00:37:08\n",
       "1          2016-02-08 05:56:20\n",
       "2          2016-02-08 06:15:39\n",
       "3          2016-02-08 06:51:45\n",
       "4          2016-02-08 07:53:43\n",
       "                  ...         \n",
       "2845337    2019-08-23 18:03:25\n",
       "2845338    2019-08-23 19:11:30\n",
       "2845339    2019-08-23 19:00:21\n",
       "2845340    2019-08-23 19:00:21\n",
       "2845341    2019-08-23 18:52:06\n",
       "Name: Start_Time, Length: 2845342, dtype: object"
      ]
     },
     "execution_count": 32,
     "metadata": {},
     "output_type": "execute_result"
    }
   ],
   "source": [
    "data_set.Start_Time"
   ]
  },
  {
   "cell_type": "code",
   "execution_count": 33,
   "id": "e3d4a601",
   "metadata": {
    "execution": {
     "iopub.execute_input": "2022-04-05T19:13:50.483888Z",
     "iopub.status.busy": "2022-04-05T19:13:50.482934Z",
     "iopub.status.idle": "2022-04-05T19:13:52.689645Z",
     "shell.execute_reply": "2022-04-05T19:13:52.689060Z",
     "shell.execute_reply.started": "2022-04-05T17:13:01.917782Z"
    },
    "papermill": {
     "duration": 2.275457,
     "end_time": "2022-04-05T19:13:52.689794",
     "exception": false,
     "start_time": "2022-04-05T19:13:50.414337",
     "status": "completed"
    },
    "tags": []
   },
   "outputs": [],
   "source": [
    "#to convert to date time formaṭ\n",
    "data_set.Start_Time = pd.to_datetime(data_set.Start_Time)"
   ]
  },
  {
   "cell_type": "code",
   "execution_count": 34,
   "id": "c6e0e351",
   "metadata": {
    "execution": {
     "iopub.execute_input": "2022-04-05T19:13:52.825848Z",
     "iopub.status.busy": "2022-04-05T19:13:52.825265Z",
     "iopub.status.idle": "2022-04-05T19:13:52.830456Z",
     "shell.execute_reply": "2022-04-05T19:13:52.830916Z",
     "shell.execute_reply.started": "2022-04-05T17:13:03.677093Z"
    },
    "papermill": {
     "duration": 0.074551,
     "end_time": "2022-04-05T19:13:52.831094",
     "exception": false,
     "start_time": "2022-04-05T19:13:52.756543",
     "status": "completed"
    },
    "tags": []
   },
   "outputs": [
    {
     "data": {
      "text/plain": [
       "Timestamp('2016-02-08 00:37:08')"
      ]
     },
     "execution_count": 34,
     "metadata": {},
     "output_type": "execute_result"
    }
   ],
   "source": [
    "data_set.Start_Time[0]"
   ]
  },
  {
   "cell_type": "code",
   "execution_count": 35,
   "id": "db3df0a1",
   "metadata": {
    "execution": {
     "iopub.execute_input": "2022-04-05T19:13:52.966902Z",
     "iopub.status.busy": "2022-04-05T19:13:52.966219Z",
     "iopub.status.idle": "2022-04-05T19:13:52.970524Z",
     "shell.execute_reply": "2022-04-05T19:13:52.971141Z",
     "shell.execute_reply.started": "2022-04-05T17:13:03.688578Z"
    },
    "papermill": {
     "duration": 0.073765,
     "end_time": "2022-04-05T19:13:52.971334",
     "exception": false,
     "start_time": "2022-04-05T19:13:52.897569",
     "status": "completed"
    },
    "tags": []
   },
   "outputs": [
    {
     "data": {
      "text/plain": [
       "5"
      ]
     },
     "execution_count": 35,
     "metadata": {},
     "output_type": "execute_result"
    }
   ],
   "source": [
    "data_set.Start_Time[1].hour\n",
    "#we cannot use this data to obtain hours for the entire column "
   ]
  },
  {
   "cell_type": "code",
   "execution_count": 36,
   "id": "daeda016",
   "metadata": {
    "execution": {
     "iopub.execute_input": "2022-04-05T19:13:53.109163Z",
     "iopub.status.busy": "2022-04-05T19:13:53.108534Z",
     "iopub.status.idle": "2022-04-05T19:13:53.788407Z",
     "shell.execute_reply": "2022-04-05T19:13:53.788958Z",
     "shell.execute_reply.started": "2022-04-05T17:13:03.701961Z"
    },
    "papermill": {
     "duration": 0.749724,
     "end_time": "2022-04-05T19:13:53.789154",
     "exception": false,
     "start_time": "2022-04-05T19:13:53.039430",
     "status": "completed"
    },
    "tags": []
   },
   "outputs": [
    {
     "name": "stderr",
     "output_type": "stream",
     "text": [
      "/opt/conda/lib/python3.7/site-packages/seaborn/distributions.py:2619: FutureWarning: `distplot` is a deprecated function and will be removed in a future version. Please adapt your code to use either `displot` (a figure-level function with similar flexibility) or `histplot` (an axes-level function for histograms).\n",
      "  warnings.warn(msg, FutureWarning)\n"
     ]
    },
    {
     "data": {
      "text/plain": [
       "<AxesSubplot:xlabel='Start_Time'>"
      ]
     },
     "execution_count": 36,
     "metadata": {},
     "output_type": "execute_result"
    },
    {
     "data": {
      "image/png": "[encoded data removed]",
      "text/plain": [
       "<Figure size 432x288 with 1 Axes>"
      ]
     },
     "metadata": {},
     "output_type": "display_data"
    }
   ],
   "source": [
    "sns.distplot(data_set.Start_Time.dt.hour, bins=24, kde=False, norm_hist=True)"
   ]
  },
  {
   "cell_type": "markdown",
   "id": "4ebaf6a6",
   "metadata": {
    "papermill": {
     "duration": 0.069902,
     "end_time": "2022-04-05T19:13:53.927697",
     "exception": false,
     "start_time": "2022-04-05T19:13:53.857795",
     "status": "completed"
    },
    "tags": []
   },
   "source": [
    "Hight percentage of accidents occur between 4pm to 5pm "
   ]
  },
  {
   "cell_type": "code",
   "execution_count": 37,
   "id": "f0377d77",
   "metadata": {
    "execution": {
     "iopub.execute_input": "2022-04-05T19:13:54.068765Z",
     "iopub.status.busy": "2022-04-05T19:13:54.068096Z",
     "iopub.status.idle": "2022-04-05T19:13:54.754989Z",
     "shell.execute_reply": "2022-04-05T19:13:54.754426Z",
     "shell.execute_reply.started": "2022-04-05T17:17:31.514197Z"
    },
    "papermill": {
     "duration": 0.758545,
     "end_time": "2022-04-05T19:13:54.755163",
     "exception": false,
     "start_time": "2022-04-05T19:13:53.996618",
     "status": "completed"
    },
    "tags": []
   },
   "outputs": [
    {
     "data": {
      "text/plain": [
       "<AxesSubplot:xlabel='Start_Time'>"
      ]
     },
     "execution_count": 37,
     "metadata": {},
     "output_type": "execute_result"
    },
    {
     "data": {
      "image/png": "[encoded data removed]",
      "text/plain": [
       "<Figure size 432x288 with 1 Axes>"
      ]
     },
     "metadata": {},
     "output_type": "display_data"
    }
   ],
   "source": [
    "sns.distplot(data_set.Start_Time.dt.dayofweek, bins=7, kde=False, norm_hist=True)"
   ]
  },
  {
   "cell_type": "markdown",
   "id": "f7e978d6",
   "metadata": {
    "papermill": {
     "duration": 0.069339,
     "end_time": "2022-04-05T19:13:54.894346",
     "exception": false,
     "start_time": "2022-04-05T19:13:54.825007",
     "status": "completed"
    },
    "tags": []
   },
   "source": [
    "Is distribution of accident by hour the same on weekends as on weekdays"
   ]
  },
  {
   "cell_type": "code",
   "execution_count": 38,
   "id": "e28e18d4",
   "metadata": {
    "execution": {
     "iopub.execute_input": "2022-04-05T19:13:55.037794Z",
     "iopub.status.busy": "2022-04-05T19:13:55.037150Z",
     "iopub.status.idle": "2022-04-05T19:13:55.668905Z",
     "shell.execute_reply": "2022-04-05T19:13:55.668370Z",
     "shell.execute_reply.started": "2022-04-05T17:27:09.113671Z"
    },
    "papermill": {
     "duration": 0.704858,
     "end_time": "2022-04-05T19:13:55.669064",
     "exception": false,
     "start_time": "2022-04-05T19:13:54.964206",
     "status": "completed"
    },
    "tags": []
   },
   "outputs": [
    {
     "data": {
      "text/plain": [
       "<AxesSubplot:xlabel='Start_Time'>"
      ]
     },
     "execution_count": 38,
     "metadata": {},
     "output_type": "execute_result"
    },
    {
     "data": {
      "image/png": "[encoded data removed]",
      "text/plain": [
       "<Figure size 432x288 with 1 Axes>"
      ]
     },
     "metadata": {},
     "output_type": "display_data"
    }
   ],
   "source": [
    "sunday_start_time = data_set.Start_Time[data_set.Start_Time.dt.dayofweek == 6]\n",
    "sns.distplot(sunday_start_time.dt.hour, bins=24, kde=False, norm_hist=True)"
   ]
  },
  {
   "cell_type": "code",
   "execution_count": 39,
   "id": "3cec5bfc",
   "metadata": {
    "execution": {
     "iopub.execute_input": "2022-04-05T19:13:55.817474Z",
     "iopub.status.busy": "2022-04-05T19:13:55.816625Z",
     "iopub.status.idle": "2022-04-05T19:13:56.510477Z",
     "shell.execute_reply": "2022-04-05T19:13:56.509976Z",
     "shell.execute_reply.started": "2022-04-05T17:27:36.889542Z"
    },
    "papermill": {
     "duration": 0.769712,
     "end_time": "2022-04-05T19:13:56.510615",
     "exception": false,
     "start_time": "2022-04-05T19:13:55.740903",
     "status": "completed"
    },
    "tags": []
   },
   "outputs": [
    {
     "data": {
      "text/plain": [
       "<AxesSubplot:xlabel='Start_Time'>"
      ]
     },
     "execution_count": 39,
     "metadata": {},
     "output_type": "execute_result"
    },
    {
     "data": {
      "image/png": "[encoded data removed]",
      "text/plain": [
       "<Figure size 432x288 with 1 Axes>"
      ]
     },
     "metadata": {},
     "output_type": "display_data"
    }
   ],
   "source": [
    "monday_start_time = data_set.Start_Time[data_set.Start_Time.dt.dayofweek == 0]\n",
    "sns.distplot(monday_start_time.dt.hour, bins=24, kde=False, norm_hist=True)"
   ]
  },
  {
   "cell_type": "code",
   "execution_count": 40,
   "id": "678186f0",
   "metadata": {
    "execution": {
     "iopub.execute_input": "2022-04-05T19:13:56.658307Z",
     "iopub.status.busy": "2022-04-05T19:13:56.657644Z",
     "iopub.status.idle": "2022-04-05T19:13:57.321349Z",
     "shell.execute_reply": "2022-04-05T19:13:57.321860Z",
     "shell.execute_reply.started": "2022-04-05T17:32:18.170631Z"
    },
    "papermill": {
     "duration": 0.739585,
     "end_time": "2022-04-05T19:13:57.322057",
     "exception": false,
     "start_time": "2022-04-05T19:13:56.582472",
     "status": "completed"
    },
    "tags": []
   },
   "outputs": [
    {
     "data": {
      "text/plain": [
       "<AxesSubplot:xlabel='Start_Time'>"
      ]
     },
     "execution_count": 40,
     "metadata": {},
     "output_type": "execute_result"
    },
    {
     "data": {
      "image/png": "[encoded data removed]",
      "text/plain": [
       "<Figure size 432x288 with 1 Axes>"
      ]
     },
     "metadata": {},
     "output_type": "display_data"
    }
   ],
   "source": [
    "sns.distplot(data_set.Start_Time.dt.month, bins=12, kde=False, norm_hist=True)"
   ]
  },
  {
   "cell_type": "markdown",
   "id": "bc3fb1fb",
   "metadata": {
    "papermill": {
     "duration": 0.072853,
     "end_time": "2022-04-05T19:13:57.467941",
     "exception": false,
     "start_time": "2022-04-05T19:13:57.395088",
     "status": "completed"
    },
    "tags": []
   },
   "source": [
    "# Questions\n",
    "* Are there more accidents in warmer or colder areas?\n",
    "* Which state has the highest number of accidents per capita?\n",
    "* Does new york show up in the data, why its count is not there in the accidents? - Its not in the data set\n",
    "* Which states have the most frequency of accidents\n",
    "* What time of the day are accidents mostly occuring"
   ]
  },
  {
   "cell_type": "markdown",
   "id": "19570065",
   "metadata": {
    "papermill": {
     "duration": 0.073092,
     "end_time": "2022-04-05T19:13:57.616918",
     "exception": false,
     "start_time": "2022-04-05T19:13:57.543826",
     "status": "completed"
    },
    "tags": []
   },
   "source": [
    "# Notes\n",
    "* when working with exponential data it is better to use log scale\n",
    "* we cannot do any plot with time stamp"
   ]
  },
  {
   "cell_type": "markdown",
   "id": "7145ff14",
   "metadata": {
    "papermill": {
     "duration": 0.074291,
     "end_time": "2022-04-05T19:13:57.768674",
     "exception": false,
     "start_time": "2022-04-05T19:13:57.694383",
     "status": "completed"
    },
    "tags": []
   },
   "source": [
    "# Conclusion\n",
    "1. No data for new york\n",
    "1. less than 5% have more than 1000 accidents\n",
    "1. over 1100 countires have only 1 accident"
   ]
  }
 ],
 "metadata": {
  "kernelspec": {
   "display_name": "Python 3",
   "language": "python",
   "name": "python3"
  },
  "language_info": {
   "codemirror_mode": {
    "name": "ipython",
    "version": 3
   },
   "file_extension": ".py",
   "mimetype": "text/x-python",
   "name": "python",
   "nbconvert_exporter": "python",
   "pygments_lexer": "ipython3",
   "version": "3.7.12"
  },
  "papermill": {
   "default_parameters": {},
   "duration": 88.87466,
   "end_time": "2022-04-05T19:13:59.858780",
   "environment_variables": {},
   "exception": null,
   "input_path": "__notebook__.ipynb",
   "output_path": "__notebook__.ipynb",
   "parameters": {},
   "start_time": "2022-04-05T19:12:30.984120",
   "version": "2.3.3"
  }
 },
 "nbformat": 4,
 "nbformat_minor": 5
}
